{
 "cells": [
  {
   "cell_type": "code",
   "execution_count": 1,
   "metadata": {},
   "outputs": [],
   "source": [
    "import os\n",
    "import string\n",
    "import datetime\n",
    "import regex as re\n",
    "import pandas as pd\n",
    "import numpy as np\n",
    "from matplotlib import pyplot as plt\n",
    "\n",
    "import plotly.plotly as py\n",
    "import plotly.graph_objs as go\n",
    "\n",
    "plt.style.use('fivethirtyeight')\n",
    "#%matplotlib inline"
   ]
  },
  {
   "cell_type": "code",
   "execution_count": 2,
   "metadata": {},
   "outputs": [],
   "source": [
    "from nltk.corpus import stopwords"
   ]
  },
  {
   "cell_type": "code",
   "execution_count": 3,
   "metadata": {},
   "outputs": [
    {
     "name": "stderr",
     "output_type": "stream",
     "text": [
      "/Users/gcdunn/anaconda3/lib/python3.6/site-packages/IPython/core/interactiveshell.py:2785: DtypeWarning:\n",
      "\n",
      "Columns (30) have mixed types. Specify dtype option on import or set low_memory=False.\n",
      "\n"
     ]
    }
   ],
   "source": [
    "ira_tweets = pd.read_csv('../data/ira_tweets_csv_hashed.csv')"
   ]
  },
  {
   "cell_type": "code",
   "execution_count": 4,
   "metadata": {},
   "outputs": [
    {
     "data": {
      "text/html": [
       "<div>\n",
       "<style scoped>\n",
       "    .dataframe tbody tr th:only-of-type {\n",
       "        vertical-align: middle;\n",
       "    }\n",
       "\n",
       "    .dataframe tbody tr th {\n",
       "        vertical-align: top;\n",
       "    }\n",
       "\n",
       "    .dataframe thead th {\n",
       "        text-align: right;\n",
       "    }\n",
       "</style>\n",
       "<table border=\"1\" class=\"dataframe\">\n",
       "  <thead>\n",
       "    <tr style=\"text-align: right;\">\n",
       "      <th></th>\n",
       "      <th>tweetid</th>\n",
       "      <th>userid</th>\n",
       "      <th>user_display_name</th>\n",
       "      <th>user_screen_name</th>\n",
       "      <th>user_reported_location</th>\n",
       "      <th>user_profile_description</th>\n",
       "      <th>user_profile_url</th>\n",
       "      <th>follower_count</th>\n",
       "      <th>following_count</th>\n",
       "      <th>account_creation_date</th>\n",
       "      <th>...</th>\n",
       "      <th>latitude</th>\n",
       "      <th>longitude</th>\n",
       "      <th>quote_count</th>\n",
       "      <th>reply_count</th>\n",
       "      <th>like_count</th>\n",
       "      <th>retweet_count</th>\n",
       "      <th>hashtags</th>\n",
       "      <th>urls</th>\n",
       "      <th>user_mentions</th>\n",
       "      <th>poll_choices</th>\n",
       "    </tr>\n",
       "  </thead>\n",
       "  <tbody>\n",
       "    <tr>\n",
       "      <th>0</th>\n",
       "      <td>877919995476496385</td>\n",
       "      <td>249064136b1c5cb00a705316ab73dd9b53785748ab757f...</td>\n",
       "      <td>249064136b1c5cb00a705316ab73dd9b53785748ab757f...</td>\n",
       "      <td>249064136b1c5cb00a705316ab73dd9b53785748ab757f...</td>\n",
       "      <td>Москва, Россия</td>\n",
       "      <td>Я примерный семьянин!</td>\n",
       "      <td>NaN</td>\n",
       "      <td>132</td>\n",
       "      <td>120</td>\n",
       "      <td>2013-12-07</td>\n",
       "      <td>...</td>\n",
       "      <td>absent</td>\n",
       "      <td>absent</td>\n",
       "      <td>0.0</td>\n",
       "      <td>0.0</td>\n",
       "      <td>0.0</td>\n",
       "      <td>0.0</td>\n",
       "      <td>[]</td>\n",
       "      <td>[http://ru-open.livejournal.com/374284.html]</td>\n",
       "      <td>[2572896396]</td>\n",
       "      <td>NaN</td>\n",
       "    </tr>\n",
       "    <tr>\n",
       "      <th>1</th>\n",
       "      <td>492388766930444288</td>\n",
       "      <td>0974d5dbee4ca9bd6c3b46d62a5cbdbd5c0d86e196b624...</td>\n",
       "      <td>0974d5dbee4ca9bd6c3b46d62a5cbdbd5c0d86e196b624...</td>\n",
       "      <td>0974d5dbee4ca9bd6c3b46d62a5cbdbd5c0d86e196b624...</td>\n",
       "      <td>Россия</td>\n",
       "      <td>Телефонист .Изучение истории   Игра в любитель...</td>\n",
       "      <td>NaN</td>\n",
       "      <td>74</td>\n",
       "      <td>8</td>\n",
       "      <td>2014-03-15</td>\n",
       "      <td>...</td>\n",
       "      <td>absent</td>\n",
       "      <td>absent</td>\n",
       "      <td>0.0</td>\n",
       "      <td>0.0</td>\n",
       "      <td>0.0</td>\n",
       "      <td>0.0</td>\n",
       "      <td>NaN</td>\n",
       "      <td>[http://pyypilg33.livejournal.com/11069.html]</td>\n",
       "      <td>NaN</td>\n",
       "      <td>NaN</td>\n",
       "    </tr>\n",
       "    <tr>\n",
       "      <th>2</th>\n",
       "      <td>719455077589721089</td>\n",
       "      <td>bda40f262856eee77c48a332e5eb23bc4f1943d600867d...</td>\n",
       "      <td>bda40f262856eee77c48a332e5eb23bc4f1943d600867d...</td>\n",
       "      <td>bda40f262856eee77c48a332e5eb23bc4f1943d600867d...</td>\n",
       "      <td>Рязань</td>\n",
       "      <td>волны так и плещут фиолетовой волной</td>\n",
       "      <td>NaN</td>\n",
       "      <td>165</td>\n",
       "      <td>454</td>\n",
       "      <td>2014-04-29</td>\n",
       "      <td>...</td>\n",
       "      <td>absent</td>\n",
       "      <td>absent</td>\n",
       "      <td>0.0</td>\n",
       "      <td>0.0</td>\n",
       "      <td>0.0</td>\n",
       "      <td>0.0</td>\n",
       "      <td>[]</td>\n",
       "      <td>[https://www.youtube.com/watch?v=9GvpImWxTJc]</td>\n",
       "      <td>[40807205]</td>\n",
       "      <td>NaN</td>\n",
       "    </tr>\n",
       "    <tr>\n",
       "      <th>3</th>\n",
       "      <td>536179342423105537</td>\n",
       "      <td>bda40f262856eee77c48a332e5eb23bc4f1943d600867d...</td>\n",
       "      <td>bda40f262856eee77c48a332e5eb23bc4f1943d600867d...</td>\n",
       "      <td>bda40f262856eee77c48a332e5eb23bc4f1943d600867d...</td>\n",
       "      <td>Рязань</td>\n",
       "      <td>волны так и плещут фиолетовой волной</td>\n",
       "      <td>NaN</td>\n",
       "      <td>165</td>\n",
       "      <td>454</td>\n",
       "      <td>2014-04-29</td>\n",
       "      <td>...</td>\n",
       "      <td>absent</td>\n",
       "      <td>absent</td>\n",
       "      <td>0.0</td>\n",
       "      <td>0.0</td>\n",
       "      <td>0.0</td>\n",
       "      <td>0.0</td>\n",
       "      <td>[STOPNazi]</td>\n",
       "      <td>NaN</td>\n",
       "      <td>NaN</td>\n",
       "      <td>NaN</td>\n",
       "    </tr>\n",
       "    <tr>\n",
       "      <th>4</th>\n",
       "      <td>841410788409630720</td>\n",
       "      <td>a53ed619f1dea6015c7c878bf744b0eefe8f7272dccf34...</td>\n",
       "      <td>a53ed619f1dea6015c7c878bf744b0eefe8f7272dccf34...</td>\n",
       "      <td>a53ed619f1dea6015c7c878bf744b0eefe8f7272dccf34...</td>\n",
       "      <td>NaN</td>\n",
       "      <td>Отвечаю на любой #ВопросПрезиденту</td>\n",
       "      <td>http://t.co/3CVqbMQFbf</td>\n",
       "      <td>4430</td>\n",
       "      <td>4413</td>\n",
       "      <td>2012-02-25</td>\n",
       "      <td>...</td>\n",
       "      <td>absent</td>\n",
       "      <td>absent</td>\n",
       "      <td>0.0</td>\n",
       "      <td>0.0</td>\n",
       "      <td>3.0</td>\n",
       "      <td>4.0</td>\n",
       "      <td>[]</td>\n",
       "      <td>[https://goo.gl/fBp94X]</td>\n",
       "      <td>NaN</td>\n",
       "      <td>NaN</td>\n",
       "    </tr>\n",
       "  </tbody>\n",
       "</table>\n",
       "<p>5 rows × 31 columns</p>\n",
       "</div>"
      ],
      "text/plain": [
       "              tweetid                                             userid  \\\n",
       "0  877919995476496385  249064136b1c5cb00a705316ab73dd9b53785748ab757f...   \n",
       "1  492388766930444288  0974d5dbee4ca9bd6c3b46d62a5cbdbd5c0d86e196b624...   \n",
       "2  719455077589721089  bda40f262856eee77c48a332e5eb23bc4f1943d600867d...   \n",
       "3  536179342423105537  bda40f262856eee77c48a332e5eb23bc4f1943d600867d...   \n",
       "4  841410788409630720  a53ed619f1dea6015c7c878bf744b0eefe8f7272dccf34...   \n",
       "\n",
       "                                   user_display_name  \\\n",
       "0  249064136b1c5cb00a705316ab73dd9b53785748ab757f...   \n",
       "1  0974d5dbee4ca9bd6c3b46d62a5cbdbd5c0d86e196b624...   \n",
       "2  bda40f262856eee77c48a332e5eb23bc4f1943d600867d...   \n",
       "3  bda40f262856eee77c48a332e5eb23bc4f1943d600867d...   \n",
       "4  a53ed619f1dea6015c7c878bf744b0eefe8f7272dccf34...   \n",
       "\n",
       "                                    user_screen_name user_reported_location  \\\n",
       "0  249064136b1c5cb00a705316ab73dd9b53785748ab757f...         Москва, Россия   \n",
       "1  0974d5dbee4ca9bd6c3b46d62a5cbdbd5c0d86e196b624...                 Россия   \n",
       "2  bda40f262856eee77c48a332e5eb23bc4f1943d600867d...                 Рязань   \n",
       "3  bda40f262856eee77c48a332e5eb23bc4f1943d600867d...                 Рязань   \n",
       "4  a53ed619f1dea6015c7c878bf744b0eefe8f7272dccf34...                    NaN   \n",
       "\n",
       "                            user_profile_description        user_profile_url  \\\n",
       "0                              Я примерный семьянин!                     NaN   \n",
       "1  Телефонист .Изучение истории   Игра в любитель...                     NaN   \n",
       "2               волны так и плещут фиолетовой волной                     NaN   \n",
       "3               волны так и плещут фиолетовой волной                     NaN   \n",
       "4                 Отвечаю на любой #ВопросПрезиденту  http://t.co/3CVqbMQFbf   \n",
       "\n",
       "   follower_count  following_count account_creation_date     ...       \\\n",
       "0             132              120            2013-12-07     ...        \n",
       "1              74                8            2014-03-15     ...        \n",
       "2             165              454            2014-04-29     ...        \n",
       "3             165              454            2014-04-29     ...        \n",
       "4            4430             4413            2012-02-25     ...        \n",
       "\n",
       "  latitude longitude quote_count reply_count like_count  retweet_count  \\\n",
       "0   absent    absent         0.0         0.0        0.0            0.0   \n",
       "1   absent    absent         0.0         0.0        0.0            0.0   \n",
       "2   absent    absent         0.0         0.0        0.0            0.0   \n",
       "3   absent    absent         0.0         0.0        0.0            0.0   \n",
       "4   absent    absent         0.0         0.0        3.0            4.0   \n",
       "\n",
       "     hashtags                                           urls  user_mentions  \\\n",
       "0          []   [http://ru-open.livejournal.com/374284.html]   [2572896396]   \n",
       "1         NaN  [http://pyypilg33.livejournal.com/11069.html]            NaN   \n",
       "2          []  [https://www.youtube.com/watch?v=9GvpImWxTJc]     [40807205]   \n",
       "3  [STOPNazi]                                            NaN            NaN   \n",
       "4          []                        [https://goo.gl/fBp94X]            NaN   \n",
       "\n",
       "  poll_choices  \n",
       "0          NaN  \n",
       "1          NaN  \n",
       "2          NaN  \n",
       "3          NaN  \n",
       "4          NaN  \n",
       "\n",
       "[5 rows x 31 columns]"
      ]
     },
     "execution_count": 4,
     "metadata": {},
     "output_type": "execute_result"
    }
   ],
   "source": [
    "ira_tweets.head()"
   ]
  },
  {
   "cell_type": "code",
   "execution_count": 5,
   "metadata": {},
   "outputs": [
    {
     "data": {
      "text/plain": [
       "Index(['tweetid', 'userid', 'user_display_name', 'user_screen_name',\n",
       "       'user_reported_location', 'user_profile_description',\n",
       "       'user_profile_url', 'follower_count', 'following_count',\n",
       "       'account_creation_date', 'account_language', 'tweet_language',\n",
       "       'tweet_text', 'tweet_time', 'tweet_client_name', 'in_reply_to_tweetid',\n",
       "       'in_reply_to_userid', 'quoted_tweet_tweetid', 'is_retweet',\n",
       "       'retweet_userid', 'retweet_tweetid', 'latitude', 'longitude',\n",
       "       'quote_count', 'reply_count', 'like_count', 'retweet_count', 'hashtags',\n",
       "       'urls', 'user_mentions', 'poll_choices'],\n",
       "      dtype='object')"
      ]
     },
     "execution_count": 5,
     "metadata": {},
     "output_type": "execute_result"
    }
   ],
   "source": [
    "ira_tweets.columns"
   ]
  },
  {
   "cell_type": "code",
   "execution_count": 6,
   "metadata": {},
   "outputs": [
    {
     "data": {
      "text/plain": [
       "0          249064136b1c5cb00a705316ab73dd9b53785748ab757f...\n",
       "1          0974d5dbee4ca9bd6c3b46d62a5cbdbd5c0d86e196b624...\n",
       "2          bda40f262856eee77c48a332e5eb23bc4f1943d600867d...\n",
       "3          bda40f262856eee77c48a332e5eb23bc4f1943d600867d...\n",
       "4          a53ed619f1dea6015c7c878bf744b0eefe8f7272dccf34...\n",
       "5          a53ed619f1dea6015c7c878bf744b0eefe8f7272dccf34...\n",
       "6          95b3aba6b9140f5dda993148de174ff57d62f4a6e68e88...\n",
       "7          5744c546bdf9e81ea0aad223c9db4b702ccba7c81d4c11...\n",
       "8          2b0d7525bed1df5119b7956f9be4888b45686172d68006...\n",
       "9          b88fd4fc4b169f0a98eb38d3f5ef72a1eb3f6861cb3e81...\n",
       "10         be1e8e099e93fe0964c1184173f038c7413def3baf38ef...\n",
       "11         be1e8e099e93fe0964c1184173f038c7413def3baf38ef...\n",
       "12         be1e8e099e93fe0964c1184173f038c7413def3baf38ef...\n",
       "13         f9dded769bb2275fc6531c1b4d10cf05272c48806fbd73...\n",
       "14         f9dded769bb2275fc6531c1b4d10cf05272c48806fbd73...\n",
       "15         f9dded769bb2275fc6531c1b4d10cf05272c48806fbd73...\n",
       "16         f9dded769bb2275fc6531c1b4d10cf05272c48806fbd73...\n",
       "17         f9dded769bb2275fc6531c1b4d10cf05272c48806fbd73...\n",
       "18         f9dded769bb2275fc6531c1b4d10cf05272c48806fbd73...\n",
       "19         f9dded769bb2275fc6531c1b4d10cf05272c48806fbd73...\n",
       "20         f9dded769bb2275fc6531c1b4d10cf05272c48806fbd73...\n",
       "21         f9dded769bb2275fc6531c1b4d10cf05272c48806fbd73...\n",
       "22         f9dded769bb2275fc6531c1b4d10cf05272c48806fbd73...\n",
       "23         f9dded769bb2275fc6531c1b4d10cf05272c48806fbd73...\n",
       "24         f9dded769bb2275fc6531c1b4d10cf05272c48806fbd73...\n",
       "25         f9dded769bb2275fc6531c1b4d10cf05272c48806fbd73...\n",
       "26         f9dded769bb2275fc6531c1b4d10cf05272c48806fbd73...\n",
       "27         f9dded769bb2275fc6531c1b4d10cf05272c48806fbd73...\n",
       "28         f9dded769bb2275fc6531c1b4d10cf05272c48806fbd73...\n",
       "29                                        Вестник Волгограда\n",
       "                                 ...                        \n",
       "8768603    fc0d858e0da4e29b99fbbda9b10621cf542777bffe21b4...\n",
       "8768604                                   Phoenix Daily News\n",
       "8768605                                   Phoenix Daily News\n",
       "8768606                                   Phoenix Daily News\n",
       "8768607                                   Phoenix Daily News\n",
       "8768608    8b4206117cd098a3c1ef52d2ee27327165065b24805311...\n",
       "8768609    df9d06b432f91c3c91f87518b9c5bfa8cf95ea82ee9e47...\n",
       "8768610    df9d06b432f91c3c91f87518b9c5bfa8cf95ea82ee9e47...\n",
       "8768611    df9d06b432f91c3c91f87518b9c5bfa8cf95ea82ee9e47...\n",
       "8768612    88e4221545bb0ac4d846d9abbc438a0226639b49b41aa1...\n",
       "8768613    8b4206117cd098a3c1ef52d2ee27327165065b24805311...\n",
       "8768614    8b4206117cd098a3c1ef52d2ee27327165065b24805311...\n",
       "8768615    f65a101b7defc62a45ca4e224d6ad3f0423137bf753178...\n",
       "8768616    bc9439a1f15ac2719486003af87a2f40107da8cccbfe1b...\n",
       "8768617                                        Giselle Evans\n",
       "8768618                                        Giselle Evans\n",
       "8768619                                        Giselle Evans\n",
       "8768620                                        Giselle Evans\n",
       "8768621                                        Giselle Evans\n",
       "8768622    7b308d8a7563a6c864dfd4997bbfd3c009ec0edfb81182...\n",
       "8768623    7b308d8a7563a6c864dfd4997bbfd3c009ec0edfb81182...\n",
       "8768624    7b308d8a7563a6c864dfd4997bbfd3c009ec0edfb81182...\n",
       "8768625    7b308d8a7563a6c864dfd4997bbfd3c009ec0edfb81182...\n",
       "8768626    7b308d8a7563a6c864dfd4997bbfd3c009ec0edfb81182...\n",
       "8768627    7b308d8a7563a6c864dfd4997bbfd3c009ec0edfb81182...\n",
       "8768628    19b7656b5a8a0a37e4654080b0e224a09fcecbbc7d88a1...\n",
       "8768629    19b7656b5a8a0a37e4654080b0e224a09fcecbbc7d88a1...\n",
       "8768630    19b7656b5a8a0a37e4654080b0e224a09fcecbbc7d88a1...\n",
       "8768631    865e6cd16d88a3159b150ea0b87f6900bc5f6c981af5f0...\n",
       "8768632    8940e127d661ddf1bee8ab71e55d5bc64a69da3ac767db...\n",
       "Name: user_display_name, Length: 8768633, dtype: object"
      ]
     },
     "execution_count": 6,
     "metadata": {},
     "output_type": "execute_result"
    }
   ],
   "source": [
    "ira_tweets.user_display_name"
   ]
  },
  {
   "cell_type": "code",
   "execution_count": 7,
   "metadata": {},
   "outputs": [
    {
     "data": {
      "text/plain": [
       "en       4606393\n",
       "ru       3953675\n",
       "de        102657\n",
       "zh-cn      29413\n",
       "id         22966\n",
       "en-gb      21494\n",
       "es         13979\n",
       "it         13105\n",
       "ar          3452\n",
       "fr          1409\n",
       "uk            90\n",
       "Name: account_language, dtype: int64"
      ]
     },
     "execution_count": 7,
     "metadata": {},
     "output_type": "execute_result"
    }
   ],
   "source": [
    "ira_tweets.account_language.value_counts()"
   ]
  },
  {
   "cell_type": "markdown",
   "metadata": {},
   "source": [
    "Only examine tweets in English"
   ]
  },
  {
   "cell_type": "code",
   "execution_count": 133,
   "metadata": {},
   "outputs": [],
   "source": [
    "eng_tweets = ira_tweets[(ira_tweets.account_language == 'en') | (ira_tweets.account_language == 'en-gb')]"
   ]
  },
  {
   "cell_type": "code",
   "execution_count": 134,
   "metadata": {},
   "outputs": [
    {
     "data": {
      "text/plain": [
       "en       4606393\n",
       "en-gb      21494\n",
       "Name: account_language, dtype: int64"
      ]
     },
     "execution_count": 134,
     "metadata": {},
     "output_type": "execute_result"
    }
   ],
   "source": [
    "eng_tweets.account_language.value_counts()"
   ]
  },
  {
   "cell_type": "markdown",
   "metadata": {},
   "source": [
    "Only examine accounts that are not hashed"
   ]
  },
  {
   "cell_type": "code",
   "execution_count": 136,
   "metadata": {},
   "outputs": [],
   "source": [
    "eng_tweets = eng_tweets[eng_tweets.user_screen_name.str.len() <= 15]"
   ]
  },
  {
   "cell_type": "code",
   "execution_count": 137,
   "metadata": {},
   "outputs": [
    {
     "data": {
      "text/plain": [
       "29     NovostiVolga\n",
       "30     NovostiVolga\n",
       "31     NovostiVolga\n",
       "105     Jenn_Abrams\n",
       "106     Jenn_Abrams\n",
       "Name: user_screen_name, dtype: object"
      ]
     },
     "execution_count": 137,
     "metadata": {},
     "output_type": "execute_result"
    }
   ],
   "source": [
    "eng_tweets.user_screen_name.head()"
   ]
  },
  {
   "cell_type": "code",
   "execution_count": 138,
   "metadata": {},
   "outputs": [
    {
     "data": {
      "text/plain": [
       "29     Сергей Горняков провел прием граждан в Урюпинс...\n",
       "30        #волгоград #сталинград https://t.co/RCoCV12FP0\n",
       "31           Красота нашего края https://t.co/4zMKgdCpYp\n",
       "105    #IfAnimalsMadeLaws all parrots would be equal ...\n",
       "106    Mexico City metro now has a penis seat to comb...\n",
       "Name: tweet_text, dtype: object"
      ]
     },
     "execution_count": 138,
     "metadata": {},
     "output_type": "execute_result"
    }
   ],
   "source": [
    "eng_tweets.tweet_text.head()"
   ]
  },
  {
   "cell_type": "markdown",
   "metadata": {},
   "source": [
    "Some of the tweets reported as English language text clearly are not.  We need a better way to sort out tweets in English.  Tweets written in English likely will not contain Cyrillic letters.  They will, however, likely contain English-language stopwords."
   ]
  },
  {
   "cell_type": "code",
   "execution_count": 139,
   "metadata": {},
   "outputs": [],
   "source": [
    "# tweets in English will not contain Cyrillic characters\n",
    "def has_cyrillic(text):\n",
    "    return bool(re.search('[\\u0400-\\u04FF]', text))\n",
    "\n",
    "# tweets in English will contain stop words\n",
    "stop = set(stopwords.words('english'))\n",
    "def has_stopwords(text):\n",
    "    if any(word in stop for word in text): \n",
    "        return 1\n",
    "    else: return 0"
   ]
  },
  {
   "cell_type": "code",
   "execution_count": 140,
   "metadata": {},
   "outputs": [],
   "source": [
    "eng_tweets = eng_tweets[eng_tweets.tweet_text.astype(str).apply(has_cyrillic) == 0]\n",
    "eng_tweets = eng_tweets[eng_tweets.tweet_text.astype(str).apply(has_stopwords) == 1]"
   ]
  },
  {
   "cell_type": "code",
   "execution_count": 141,
   "metadata": {},
   "outputs": [
    {
     "data": {
      "text/plain": [
       "105    #IfAnimalsMadeLaws all parrots would be equal ...\n",
       "106    Mexico City metro now has a penis seat to comb...\n",
       "107    And will replace it with \"Magister\" Because yo...\n",
       "108    Muslims can't even coexist with Muslims Why do...\n",
       "109    @CapLarryDart @Co_Passenger won't stricter gun...\n",
       "Name: tweet_text, dtype: object"
      ]
     },
     "execution_count": 141,
     "metadata": {},
     "output_type": "execute_result"
    }
   ],
   "source": [
    "eng_tweets.tweet_text.head()"
   ]
  },
  {
   "cell_type": "code",
   "execution_count": 142,
   "metadata": {},
   "outputs": [
    {
     "data": {
      "text/plain": [
       "(1179757, 31)"
      ]
     },
     "execution_count": 142,
     "metadata": {},
     "output_type": "execute_result"
    }
   ],
   "source": [
    "eng_tweets.shape"
   ]
  },
  {
   "cell_type": "code",
   "execution_count": 143,
   "metadata": {},
   "outputs": [],
   "source": [
    "eng_tweets.to_csv('../data/all_eng_tweets.csv')"
   ]
  },
  {
   "cell_type": "code",
   "execution_count": 144,
   "metadata": {},
   "outputs": [],
   "source": [
    "eng_tweets['tweet_time'] = pd.to_datetime(eng_tweets['tweet_time'])"
   ]
  },
  {
   "cell_type": "markdown",
   "metadata": {},
   "source": [
    "Remove website links from tweet text"
   ]
  },
  {
   "cell_type": "code",
   "execution_count": 145,
   "metadata": {},
   "outputs": [],
   "source": [
    "eng_tweets['tweet_text'] = eng_tweets.tweet_text.str.replace('https?://[A-Za-z0-9./]+','')"
   ]
  },
  {
   "cell_type": "markdown",
   "metadata": {},
   "source": [
    "Remove hashtags from tweet text.  They are already stored in the column 'hashtags'."
   ]
  },
  {
   "cell_type": "code",
   "execution_count": 146,
   "metadata": {},
   "outputs": [],
   "source": [
    "eng_tweets['tweet_text'] = eng_tweets.tweet_text.str.replace('\\#[A-Za-z0-9./]+','')"
   ]
  },
  {
   "cell_type": "code",
   "execution_count": 147,
   "metadata": {},
   "outputs": [
    {
     "data": {
      "text/plain": [
       "105      all parrots would be equal from the beginning  \n",
       "106    Mexico City metro now has a penis seat to comb...\n",
       "107    And will replace it with \"Magister\" Because yo...\n",
       "108    Muslims can't even coexist with Muslims Why do...\n",
       "109    @CapLarryDart @Co_Passenger won't stricter gun...\n",
       "110            And who will determine what exactly is ? \n",
       "111    They finally admit they just need everything f...\n",
       "112                                       @BBCWorld yeap\n",
       "113    You know that fat girls who believe in  usuall...\n",
       "114                             If you know what I mean \n",
       "115                          Have a nice Tuesday, guys! \n",
       "119                My attitude to feminism in one pic   \n",
       "121                         Britain is the new Russia 😅 \n",
       "122    I've noticed that stupid women usually call th...\n",
       "155    Judge Mike Erwin still keeps his post after ma...\n",
       "156    Getting richer will provide our communities mo...\n",
       "176    Horse pulling carriage in  appears to collapse...\n",
       "181    John Carroll University gets $2.25 million gift  \n",
       "182    Need help filling out the FAFSA? College Goal ...\n",
       "183        Free spring cook book, healthy chocolate bars\n",
       "Name: tweet_text, dtype: object"
      ]
     },
     "execution_count": 147,
     "metadata": {},
     "output_type": "execute_result"
    }
   ],
   "source": [
    "eng_tweets.tweet_text.head(20)"
   ]
  },
  {
   "cell_type": "markdown",
   "metadata": {},
   "source": [
    "Remove @ mentions and RT @ and store them in a separate column"
   ]
  },
  {
   "cell_type": "code",
   "execution_count": 148,
   "metadata": {},
   "outputs": [],
   "source": [
    "eng_tweets['mentions'] = eng_tweets.tweet_text.str.findall('(?<!RT\\s)(@[A-Za-z0-9-_]+)')\n",
    "eng_tweets['retweets'] = eng_tweets.tweet_text.str.findall('(?<=RT\\s)(@[A-Za-z0-9-_]+)')"
   ]
  },
  {
   "cell_type": "markdown",
   "metadata": {},
   "source": [
    "Save a dataframe of just hashtags, just mentions, and just retweeted users"
   ]
  },
  {
   "cell_type": "code",
   "execution_count": 149,
   "metadata": {},
   "outputs": [],
   "source": [
    "#hashtags = pd.Series(eng_tweets.hashtags.dropna())\n",
    "#hashtags = hashtags[hashtags.astype(str) != '[]']\n",
    "#hashtags = hashtags.str.replace('[\\[\\]]', '')\n",
    "\n",
    "\n",
    "#flattened_hashtags = pd.DataFrame(\n",
    "#    [str(hashtag) for hashtags_list in hashtags.values\n",
    "#    for hashtag in hashtags_list.split(',')],\n",
    "#    columns=['hashtag'])\n",
    "\n",
    "#flattened_hashtags.head()\n",
    "#flattened_hashtags.to_csv('../data/all_eng_hashtags.csv')"
   ]
  },
  {
   "cell_type": "code",
   "execution_count": 150,
   "metadata": {},
   "outputs": [],
   "source": [
    "#retweets = eng_tweets.retweets[eng_tweets.retweets.astype(str) != '[]']\n",
    "#retweets = retweets.str.replace('[\\[\\]]', '')\n",
    "\n",
    "\n",
    "#flattened_retweets = pd.DataFrame(\n",
    "#    [str(retweet) for retweet_list in retweets.values\n",
    "#    for retweet in retweet_list.split(',')],\n",
    "#    columns=['retweets'])\n",
    "\n",
    "#flattened_retweets.to_csv('../data/all_eng_retweets.csv')"
   ]
  },
  {
   "cell_type": "code",
   "execution_count": 151,
   "metadata": {},
   "outputs": [],
   "source": [
    "#mentions = eng_tweets.mentions[eng_tweets.mentions.astype(str) != '[]']\n",
    "#mentions = mentions.str.replace('[\\[\\]]', '')\n",
    "\n",
    "\n",
    "#flattened_mentions = pd.DataFrame(\n",
    "#    [str(mention) for mention_list in mentions.values\n",
    "#    for mention in mention_list.str.split(',')],\n",
    "#    columns=['mentions'])\n",
    "\n",
    "#flattened_mentions.to_csv('../data/all_eng_mentions.csv')"
   ]
  },
  {
   "cell_type": "markdown",
   "metadata": {},
   "source": [
    "### Make a document of tweets for each handle"
   ]
  },
  {
   "cell_type": "code",
   "execution_count": 152,
   "metadata": {},
   "outputs": [],
   "source": [
    "#Remove users that only tweeted once?\n",
    "#eng_tweets = eng_tweets[eng_tweets.groupby('user_screen_name')['user_screen_name'].transform('size')>1]"
   ]
  },
  {
   "cell_type": "markdown",
   "metadata": {},
   "source": [
    "Remove retweet preface (RT :)"
   ]
  },
  {
   "cell_type": "code",
   "execution_count": 153,
   "metadata": {},
   "outputs": [],
   "source": [
    "eng_tweets['tweet_text'] = eng_tweets.tweet_text.str.replace('RT', '')"
   ]
  },
  {
   "cell_type": "markdown",
   "metadata": {},
   "source": [
    "Remove punctuation"
   ]
  },
  {
   "cell_type": "code",
   "execution_count": 154,
   "metadata": {},
   "outputs": [],
   "source": [
    "eng_tweets.tweet_text = eng_tweets.tweet_text.apply(lambda x: re.sub('[@.,:;?!-*<>\\'\\\"]', '', str(x)))"
   ]
  },
  {
   "cell_type": "code",
   "execution_count": 155,
   "metadata": {},
   "outputs": [
    {
     "data": {
      "text/html": [
       "<div>\n",
       "<style scoped>\n",
       "    .dataframe tbody tr th:only-of-type {\n",
       "        vertical-align: middle;\n",
       "    }\n",
       "\n",
       "    .dataframe tbody tr th {\n",
       "        vertical-align: top;\n",
       "    }\n",
       "\n",
       "    .dataframe thead th {\n",
       "        text-align: right;\n",
       "    }\n",
       "</style>\n",
       "<table border=\"1\" class=\"dataframe\">\n",
       "  <thead>\n",
       "    <tr style=\"text-align: right;\">\n",
       "      <th></th>\n",
       "      <th>tweetid</th>\n",
       "      <th>userid</th>\n",
       "      <th>user_display_name</th>\n",
       "      <th>user_screen_name</th>\n",
       "      <th>user_reported_location</th>\n",
       "      <th>user_profile_description</th>\n",
       "      <th>user_profile_url</th>\n",
       "      <th>follower_count</th>\n",
       "      <th>following_count</th>\n",
       "      <th>account_creation_date</th>\n",
       "      <th>...</th>\n",
       "      <th>quote_count</th>\n",
       "      <th>reply_count</th>\n",
       "      <th>like_count</th>\n",
       "      <th>retweet_count</th>\n",
       "      <th>hashtags</th>\n",
       "      <th>urls</th>\n",
       "      <th>user_mentions</th>\n",
       "      <th>poll_choices</th>\n",
       "      <th>mentions</th>\n",
       "      <th>retweets</th>\n",
       "    </tr>\n",
       "  </thead>\n",
       "  <tbody>\n",
       "    <tr>\n",
       "      <th>105</th>\n",
       "      <td>626740121648259072</td>\n",
       "      <td>2882331822</td>\n",
       "      <td>Jenna Abrams</td>\n",
       "      <td>Jenn_Abrams</td>\n",
       "      <td>USA</td>\n",
       "      <td>Calm down, I'm not pro-Trump. I am pro-common ...</td>\n",
       "      <td>https://t.co/ZXoG0JPLdf</td>\n",
       "      <td>79152</td>\n",
       "      <td>22607</td>\n",
       "      <td>2014-10-29</td>\n",
       "      <td>...</td>\n",
       "      <td>0.0</td>\n",
       "      <td>0.0</td>\n",
       "      <td>2.0</td>\n",
       "      <td>1.0</td>\n",
       "      <td>[IfAnimalsMadeLaws, EqualityForAll]</td>\n",
       "      <td>[]</td>\n",
       "      <td>NaN</td>\n",
       "      <td>NaN</td>\n",
       "      <td>[]</td>\n",
       "      <td>[]</td>\n",
       "    </tr>\n",
       "    <tr>\n",
       "      <th>106</th>\n",
       "      <td>851098834176487428</td>\n",
       "      <td>2882331822</td>\n",
       "      <td>Jenna Abrams</td>\n",
       "      <td>Jenn_Abrams</td>\n",
       "      <td>USA</td>\n",
       "      <td>Calm down, I'm not pro-Trump. I am pro-common ...</td>\n",
       "      <td>https://t.co/ZXoG0JPLdf</td>\n",
       "      <td>79152</td>\n",
       "      <td>22607</td>\n",
       "      <td>2014-10-29</td>\n",
       "      <td>...</td>\n",
       "      <td>5.0</td>\n",
       "      <td>13.0</td>\n",
       "      <td>12.0</td>\n",
       "      <td>13.0</td>\n",
       "      <td>[]</td>\n",
       "      <td>[]</td>\n",
       "      <td>NaN</td>\n",
       "      <td>NaN</td>\n",
       "      <td>[]</td>\n",
       "      <td>[]</td>\n",
       "    </tr>\n",
       "    <tr>\n",
       "      <th>107</th>\n",
       "      <td>851825187267989505</td>\n",
       "      <td>2882331822</td>\n",
       "      <td>Jenna Abrams</td>\n",
       "      <td>Jenn_Abrams</td>\n",
       "      <td>USA</td>\n",
       "      <td>Calm down, I'm not pro-Trump. I am pro-common ...</td>\n",
       "      <td>https://t.co/ZXoG0JPLdf</td>\n",
       "      <td>79152</td>\n",
       "      <td>22607</td>\n",
       "      <td>2014-10-29</td>\n",
       "      <td>...</td>\n",
       "      <td>1.0</td>\n",
       "      <td>5.0</td>\n",
       "      <td>14.0</td>\n",
       "      <td>7.0</td>\n",
       "      <td>[]</td>\n",
       "      <td>[]</td>\n",
       "      <td>NaN</td>\n",
       "      <td>NaN</td>\n",
       "      <td>[]</td>\n",
       "      <td>[]</td>\n",
       "    </tr>\n",
       "    <tr>\n",
       "      <th>108</th>\n",
       "      <td>681897201761697792</td>\n",
       "      <td>2882331822</td>\n",
       "      <td>Jenna Abrams</td>\n",
       "      <td>Jenn_Abrams</td>\n",
       "      <td>USA</td>\n",
       "      <td>Calm down, I'm not pro-Trump. I am pro-common ...</td>\n",
       "      <td>https://t.co/ZXoG0JPLdf</td>\n",
       "      <td>79152</td>\n",
       "      <td>22607</td>\n",
       "      <td>2014-10-29</td>\n",
       "      <td>...</td>\n",
       "      <td>0.0</td>\n",
       "      <td>100.0</td>\n",
       "      <td>550.0</td>\n",
       "      <td>610.0</td>\n",
       "      <td>[]</td>\n",
       "      <td>[]</td>\n",
       "      <td>NaN</td>\n",
       "      <td>NaN</td>\n",
       "      <td>[]</td>\n",
       "      <td>[]</td>\n",
       "    </tr>\n",
       "    <tr>\n",
       "      <th>109</th>\n",
       "      <td>662532293613875201</td>\n",
       "      <td>2882331822</td>\n",
       "      <td>Jenna Abrams</td>\n",
       "      <td>Jenn_Abrams</td>\n",
       "      <td>USA</td>\n",
       "      <td>Calm down, I'm not pro-Trump. I am pro-common ...</td>\n",
       "      <td>https://t.co/ZXoG0JPLdf</td>\n",
       "      <td>79152</td>\n",
       "      <td>22607</td>\n",
       "      <td>2014-10-29</td>\n",
       "      <td>...</td>\n",
       "      <td>0.0</td>\n",
       "      <td>0.0</td>\n",
       "      <td>1.0</td>\n",
       "      <td>0.0</td>\n",
       "      <td>[]</td>\n",
       "      <td>[]</td>\n",
       "      <td>[3296320187, 164332083]</td>\n",
       "      <td>NaN</td>\n",
       "      <td>[@CapLarryDart, @Co_Passenger]</td>\n",
       "      <td>[]</td>\n",
       "    </tr>\n",
       "  </tbody>\n",
       "</table>\n",
       "<p>5 rows × 33 columns</p>\n",
       "</div>"
      ],
      "text/plain": [
       "                tweetid      userid user_display_name user_screen_name  \\\n",
       "105  626740121648259072  2882331822      Jenna Abrams      Jenn_Abrams   \n",
       "106  851098834176487428  2882331822      Jenna Abrams      Jenn_Abrams   \n",
       "107  851825187267989505  2882331822      Jenna Abrams      Jenn_Abrams   \n",
       "108  681897201761697792  2882331822      Jenna Abrams      Jenn_Abrams   \n",
       "109  662532293613875201  2882331822      Jenna Abrams      Jenn_Abrams   \n",
       "\n",
       "    user_reported_location                           user_profile_description  \\\n",
       "105                    USA  Calm down, I'm not pro-Trump. I am pro-common ...   \n",
       "106                    USA  Calm down, I'm not pro-Trump. I am pro-common ...   \n",
       "107                    USA  Calm down, I'm not pro-Trump. I am pro-common ...   \n",
       "108                    USA  Calm down, I'm not pro-Trump. I am pro-common ...   \n",
       "109                    USA  Calm down, I'm not pro-Trump. I am pro-common ...   \n",
       "\n",
       "            user_profile_url  follower_count  following_count  \\\n",
       "105  https://t.co/ZXoG0JPLdf           79152            22607   \n",
       "106  https://t.co/ZXoG0JPLdf           79152            22607   \n",
       "107  https://t.co/ZXoG0JPLdf           79152            22607   \n",
       "108  https://t.co/ZXoG0JPLdf           79152            22607   \n",
       "109  https://t.co/ZXoG0JPLdf           79152            22607   \n",
       "\n",
       "    account_creation_date   ...    quote_count reply_count like_count  \\\n",
       "105            2014-10-29   ...            0.0         0.0        2.0   \n",
       "106            2014-10-29   ...            5.0        13.0       12.0   \n",
       "107            2014-10-29   ...            1.0         5.0       14.0   \n",
       "108            2014-10-29   ...            0.0       100.0      550.0   \n",
       "109            2014-10-29   ...            0.0         0.0        1.0   \n",
       "\n",
       "    retweet_count                             hashtags  urls  \\\n",
       "105           1.0  [IfAnimalsMadeLaws, EqualityForAll]    []   \n",
       "106          13.0                                   []    []   \n",
       "107           7.0                                   []    []   \n",
       "108         610.0                                   []    []   \n",
       "109           0.0                                   []    []   \n",
       "\n",
       "               user_mentions  poll_choices                        mentions  \\\n",
       "105                      NaN           NaN                              []   \n",
       "106                      NaN           NaN                              []   \n",
       "107                      NaN           NaN                              []   \n",
       "108                      NaN           NaN                              []   \n",
       "109  [3296320187, 164332083]           NaN  [@CapLarryDart, @Co_Passenger]   \n",
       "\n",
       "    retweets  \n",
       "105       []  \n",
       "106       []  \n",
       "107       []  \n",
       "108       []  \n",
       "109       []  \n",
       "\n",
       "[5 rows x 33 columns]"
      ]
     },
     "execution_count": 155,
     "metadata": {},
     "output_type": "execute_result"
    }
   ],
   "source": [
    "eng_tweets.head()"
   ]
  },
  {
   "cell_type": "code",
   "execution_count": 156,
   "metadata": {},
   "outputs": [],
   "source": [
    "user_rt = eng_tweets[eng_tweets.is_retweet==1].groupby('user_display_name').agg({'user_screen_name': lambda x: x.iloc[0],'tweet_text': lambda x: ''.join(x)})\n",
    "user_original = eng_tweets[eng_tweets.is_retweet==0].groupby('user_display_name').agg({'user_screen_name': lambda x: x.iloc[0],'tweet_text': lambda x: ''.join(x)})"
   ]
  },
  {
   "cell_type": "code",
   "execution_count": 157,
   "metadata": {},
   "outputs": [
    {
     "data": {
      "text/html": [
       "<div>\n",
       "<style scoped>\n",
       "    .dataframe tbody tr th:only-of-type {\n",
       "        vertical-align: middle;\n",
       "    }\n",
       "\n",
       "    .dataframe tbody tr th {\n",
       "        vertical-align: top;\n",
       "    }\n",
       "\n",
       "    .dataframe thead th {\n",
       "        text-align: right;\n",
       "    }\n",
       "</style>\n",
       "<table border=\"1\" class=\"dataframe\">\n",
       "  <thead>\n",
       "    <tr style=\"text-align: right;\">\n",
       "      <th></th>\n",
       "      <th>user_screen_name</th>\n",
       "      <th>tweet_text</th>\n",
       "    </tr>\n",
       "    <tr>\n",
       "      <th>user_display_name</th>\n",
       "      <th></th>\n",
       "      <th></th>\n",
       "    </tr>\n",
       "  </thead>\n",
       "  <tbody>\n",
       "    <tr>\n",
       "      <th>1-800-WOKE-AF</th>\n",
       "      <td>gloed_up</td>\n",
       "      <td>KatEdmiston gloed_up its not either/or Love e...</td>\n",
       "    </tr>\n",
       "    <tr>\n",
       "      <th>10 GOP</th>\n",
       "      <td>10_gop</td>\n",
       "      <td>10_gop Steve Bannon on Hillary Clinton Shes n...</td>\n",
       "    </tr>\n",
       "    <tr>\n",
       "      <th>Amy Green</th>\n",
       "      <td>AmandaVGreen</td>\n",
       "      <td>DynaMoChen  Im a bitter-clinger - WorldOfHash...</td>\n",
       "    </tr>\n",
       "    <tr>\n",
       "      <th>Andy Sparks</th>\n",
       "      <td>AndyHashtagger</td>\n",
       "      <td>eddywaraich91 I could stop the bomb   trgore ...</td>\n",
       "    </tr>\n",
       "    <tr>\n",
       "      <th>Atlanta Online</th>\n",
       "      <td>Atlanta_Online</td>\n",
       "      <td>ajc 2 people killed in Gwinnett crash followi...</td>\n",
       "    </tr>\n",
       "  </tbody>\n",
       "</table>\n",
       "</div>"
      ],
      "text/plain": [
       "                  user_screen_name  \\\n",
       "user_display_name                    \n",
       "1-800-WOKE-AF             gloed_up   \n",
       "10 GOP                      10_gop   \n",
       "Amy Green             AmandaVGreen   \n",
       "Andy Sparks         AndyHashtagger   \n",
       "Atlanta Online      Atlanta_Online   \n",
       "\n",
       "                                                          tweet_text  \n",
       "user_display_name                                                     \n",
       "1-800-WOKE-AF       KatEdmiston gloed_up its not either/or Love e...  \n",
       "10 GOP              10_gop Steve Bannon on Hillary Clinton Shes n...  \n",
       "Amy Green           DynaMoChen  Im a bitter-clinger - WorldOfHash...  \n",
       "Andy Sparks         eddywaraich91 I could stop the bomb   trgore ...  \n",
       "Atlanta Online      ajc 2 people killed in Gwinnett crash followi...  "
      ]
     },
     "execution_count": 157,
     "metadata": {},
     "output_type": "execute_result"
    }
   ],
   "source": [
    "user_rt.head()"
   ]
  },
  {
   "cell_type": "code",
   "execution_count": 158,
   "metadata": {},
   "outputs": [
    {
     "data": {
      "text/plain": [
       "False    1031867\n",
       "True      147890\n",
       "Name: is_retweet, dtype: int64"
      ]
     },
     "execution_count": 158,
     "metadata": {},
     "output_type": "execute_result"
    }
   ],
   "source": [
    "eng_tweets.is_retweet.value_counts()"
   ]
  },
  {
   "cell_type": "code",
   "execution_count": 159,
   "metadata": {},
   "outputs": [],
   "source": [
    "user_original.to_csv('../data/user_original.csv')\n",
    "user_rt.to_csv('../data/user_rt.csv')"
   ]
  },
  {
   "cell_type": "code",
   "execution_count": null,
   "metadata": {},
   "outputs": [],
   "source": []
  }
 ],
 "metadata": {
  "kernelspec": {
   "display_name": "Python 3",
   "language": "python",
   "name": "python3"
  },
  "language_info": {
   "codemirror_mode": {
    "name": "ipython",
    "version": 3
   },
   "file_extension": ".py",
   "mimetype": "text/x-python",
   "name": "python",
   "nbconvert_exporter": "python",
   "pygments_lexer": "ipython3",
   "version": "3.6.8"
  }
 },
 "nbformat": 4,
 "nbformat_minor": 2
}
