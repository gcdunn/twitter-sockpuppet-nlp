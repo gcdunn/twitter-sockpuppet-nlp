{
 "cells": [
  {
   "cell_type": "code",
   "execution_count": 18,
   "metadata": {},
   "outputs": [],
   "source": [
    "import os\n",
    "import datetime\n",
    "import regex as re\n",
    "import pandas as pd\n",
    "import numpy as np\n",
    "from matplotlib import pyplot as plt\n",
    "\n",
    "import plotly.plotly as py\n",
    "import plotly.graph_objs as go\n",
    "\n",
    "plt.style.use('fivethirtyeight')\n",
    "#%matplotlib inline"
   ]
  },
  {
   "cell_type": "code",
   "execution_count": null,
   "metadata": {},
   "outputs": [],
   "source": [
    "from nltk.corpus import stopwords"
   ]
  },
  {
   "cell_type": "code",
   "execution_count": 2,
   "metadata": {},
   "outputs": [
    {
     "name": "stderr",
     "output_type": "stream",
     "text": [
      "/Users/gcdunn/anaconda3/lib/python3.6/site-packages/IPython/core/interactiveshell.py:2785: DtypeWarning:\n",
      "\n",
      "Columns (30) have mixed types. Specify dtype option on import or set low_memory=False.\n",
      "\n"
     ]
    }
   ],
   "source": [
    "ira_tweets = pd.read_csv('../data/ira_tweets_csv_hashed.csv')"
   ]
  },
  {
   "cell_type": "code",
   "execution_count": 3,
   "metadata": {},
   "outputs": [
    {
     "data": {
      "text/html": [
       "<div>\n",
       "<style scoped>\n",
       "    .dataframe tbody tr th:only-of-type {\n",
       "        vertical-align: middle;\n",
       "    }\n",
       "\n",
       "    .dataframe tbody tr th {\n",
       "        vertical-align: top;\n",
       "    }\n",
       "\n",
       "    .dataframe thead th {\n",
       "        text-align: right;\n",
       "    }\n",
       "</style>\n",
       "<table border=\"1\" class=\"dataframe\">\n",
       "  <thead>\n",
       "    <tr style=\"text-align: right;\">\n",
       "      <th></th>\n",
       "      <th>tweetid</th>\n",
       "      <th>userid</th>\n",
       "      <th>user_display_name</th>\n",
       "      <th>user_screen_name</th>\n",
       "      <th>user_reported_location</th>\n",
       "      <th>user_profile_description</th>\n",
       "      <th>user_profile_url</th>\n",
       "      <th>follower_count</th>\n",
       "      <th>following_count</th>\n",
       "      <th>account_creation_date</th>\n",
       "      <th>...</th>\n",
       "      <th>latitude</th>\n",
       "      <th>longitude</th>\n",
       "      <th>quote_count</th>\n",
       "      <th>reply_count</th>\n",
       "      <th>like_count</th>\n",
       "      <th>retweet_count</th>\n",
       "      <th>hashtags</th>\n",
       "      <th>urls</th>\n",
       "      <th>user_mentions</th>\n",
       "      <th>poll_choices</th>\n",
       "    </tr>\n",
       "  </thead>\n",
       "  <tbody>\n",
       "    <tr>\n",
       "      <th>0</th>\n",
       "      <td>877919995476496385</td>\n",
       "      <td>249064136b1c5cb00a705316ab73dd9b53785748ab757f...</td>\n",
       "      <td>249064136b1c5cb00a705316ab73dd9b53785748ab757f...</td>\n",
       "      <td>249064136b1c5cb00a705316ab73dd9b53785748ab757f...</td>\n",
       "      <td>Москва, Россия</td>\n",
       "      <td>Я примерный семьянин!</td>\n",
       "      <td>NaN</td>\n",
       "      <td>132</td>\n",
       "      <td>120</td>\n",
       "      <td>2013-12-07</td>\n",
       "      <td>...</td>\n",
       "      <td>absent</td>\n",
       "      <td>absent</td>\n",
       "      <td>0.0</td>\n",
       "      <td>0.0</td>\n",
       "      <td>0.0</td>\n",
       "      <td>0.0</td>\n",
       "      <td>[]</td>\n",
       "      <td>[http://ru-open.livejournal.com/374284.html]</td>\n",
       "      <td>[2572896396]</td>\n",
       "      <td>NaN</td>\n",
       "    </tr>\n",
       "    <tr>\n",
       "      <th>1</th>\n",
       "      <td>492388766930444288</td>\n",
       "      <td>0974d5dbee4ca9bd6c3b46d62a5cbdbd5c0d86e196b624...</td>\n",
       "      <td>0974d5dbee4ca9bd6c3b46d62a5cbdbd5c0d86e196b624...</td>\n",
       "      <td>0974d5dbee4ca9bd6c3b46d62a5cbdbd5c0d86e196b624...</td>\n",
       "      <td>Россия</td>\n",
       "      <td>Телефонист .Изучение истории   Игра в любитель...</td>\n",
       "      <td>NaN</td>\n",
       "      <td>74</td>\n",
       "      <td>8</td>\n",
       "      <td>2014-03-15</td>\n",
       "      <td>...</td>\n",
       "      <td>absent</td>\n",
       "      <td>absent</td>\n",
       "      <td>0.0</td>\n",
       "      <td>0.0</td>\n",
       "      <td>0.0</td>\n",
       "      <td>0.0</td>\n",
       "      <td>NaN</td>\n",
       "      <td>[http://pyypilg33.livejournal.com/11069.html]</td>\n",
       "      <td>NaN</td>\n",
       "      <td>NaN</td>\n",
       "    </tr>\n",
       "    <tr>\n",
       "      <th>2</th>\n",
       "      <td>719455077589721089</td>\n",
       "      <td>bda40f262856eee77c48a332e5eb23bc4f1943d600867d...</td>\n",
       "      <td>bda40f262856eee77c48a332e5eb23bc4f1943d600867d...</td>\n",
       "      <td>bda40f262856eee77c48a332e5eb23bc4f1943d600867d...</td>\n",
       "      <td>Рязань</td>\n",
       "      <td>волны так и плещут фиолетовой волной</td>\n",
       "      <td>NaN</td>\n",
       "      <td>165</td>\n",
       "      <td>454</td>\n",
       "      <td>2014-04-29</td>\n",
       "      <td>...</td>\n",
       "      <td>absent</td>\n",
       "      <td>absent</td>\n",
       "      <td>0.0</td>\n",
       "      <td>0.0</td>\n",
       "      <td>0.0</td>\n",
       "      <td>0.0</td>\n",
       "      <td>[]</td>\n",
       "      <td>[https://www.youtube.com/watch?v=9GvpImWxTJc]</td>\n",
       "      <td>[40807205]</td>\n",
       "      <td>NaN</td>\n",
       "    </tr>\n",
       "    <tr>\n",
       "      <th>3</th>\n",
       "      <td>536179342423105537</td>\n",
       "      <td>bda40f262856eee77c48a332e5eb23bc4f1943d600867d...</td>\n",
       "      <td>bda40f262856eee77c48a332e5eb23bc4f1943d600867d...</td>\n",
       "      <td>bda40f262856eee77c48a332e5eb23bc4f1943d600867d...</td>\n",
       "      <td>Рязань</td>\n",
       "      <td>волны так и плещут фиолетовой волной</td>\n",
       "      <td>NaN</td>\n",
       "      <td>165</td>\n",
       "      <td>454</td>\n",
       "      <td>2014-04-29</td>\n",
       "      <td>...</td>\n",
       "      <td>absent</td>\n",
       "      <td>absent</td>\n",
       "      <td>0.0</td>\n",
       "      <td>0.0</td>\n",
       "      <td>0.0</td>\n",
       "      <td>0.0</td>\n",
       "      <td>[STOPNazi]</td>\n",
       "      <td>NaN</td>\n",
       "      <td>NaN</td>\n",
       "      <td>NaN</td>\n",
       "    </tr>\n",
       "    <tr>\n",
       "      <th>4</th>\n",
       "      <td>841410788409630720</td>\n",
       "      <td>a53ed619f1dea6015c7c878bf744b0eefe8f7272dccf34...</td>\n",
       "      <td>a53ed619f1dea6015c7c878bf744b0eefe8f7272dccf34...</td>\n",
       "      <td>a53ed619f1dea6015c7c878bf744b0eefe8f7272dccf34...</td>\n",
       "      <td>NaN</td>\n",
       "      <td>Отвечаю на любой #ВопросПрезиденту</td>\n",
       "      <td>http://t.co/3CVqbMQFbf</td>\n",
       "      <td>4430</td>\n",
       "      <td>4413</td>\n",
       "      <td>2012-02-25</td>\n",
       "      <td>...</td>\n",
       "      <td>absent</td>\n",
       "      <td>absent</td>\n",
       "      <td>0.0</td>\n",
       "      <td>0.0</td>\n",
       "      <td>3.0</td>\n",
       "      <td>4.0</td>\n",
       "      <td>[]</td>\n",
       "      <td>[https://goo.gl/fBp94X]</td>\n",
       "      <td>NaN</td>\n",
       "      <td>NaN</td>\n",
       "    </tr>\n",
       "  </tbody>\n",
       "</table>\n",
       "<p>5 rows × 31 columns</p>\n",
       "</div>"
      ],
      "text/plain": [
       "              tweetid                                             userid  \\\n",
       "0  877919995476496385  249064136b1c5cb00a705316ab73dd9b53785748ab757f...   \n",
       "1  492388766930444288  0974d5dbee4ca9bd6c3b46d62a5cbdbd5c0d86e196b624...   \n",
       "2  719455077589721089  bda40f262856eee77c48a332e5eb23bc4f1943d600867d...   \n",
       "3  536179342423105537  bda40f262856eee77c48a332e5eb23bc4f1943d600867d...   \n",
       "4  841410788409630720  a53ed619f1dea6015c7c878bf744b0eefe8f7272dccf34...   \n",
       "\n",
       "                                   user_display_name  \\\n",
       "0  249064136b1c5cb00a705316ab73dd9b53785748ab757f...   \n",
       "1  0974d5dbee4ca9bd6c3b46d62a5cbdbd5c0d86e196b624...   \n",
       "2  bda40f262856eee77c48a332e5eb23bc4f1943d600867d...   \n",
       "3  bda40f262856eee77c48a332e5eb23bc4f1943d600867d...   \n",
       "4  a53ed619f1dea6015c7c878bf744b0eefe8f7272dccf34...   \n",
       "\n",
       "                                    user_screen_name user_reported_location  \\\n",
       "0  249064136b1c5cb00a705316ab73dd9b53785748ab757f...         Москва, Россия   \n",
       "1  0974d5dbee4ca9bd6c3b46d62a5cbdbd5c0d86e196b624...                 Россия   \n",
       "2  bda40f262856eee77c48a332e5eb23bc4f1943d600867d...                 Рязань   \n",
       "3  bda40f262856eee77c48a332e5eb23bc4f1943d600867d...                 Рязань   \n",
       "4  a53ed619f1dea6015c7c878bf744b0eefe8f7272dccf34...                    NaN   \n",
       "\n",
       "                            user_profile_description        user_profile_url  \\\n",
       "0                              Я примерный семьянин!                     NaN   \n",
       "1  Телефонист .Изучение истории   Игра в любитель...                     NaN   \n",
       "2               волны так и плещут фиолетовой волной                     NaN   \n",
       "3               волны так и плещут фиолетовой волной                     NaN   \n",
       "4                 Отвечаю на любой #ВопросПрезиденту  http://t.co/3CVqbMQFbf   \n",
       "\n",
       "   follower_count  following_count account_creation_date     ...       \\\n",
       "0             132              120            2013-12-07     ...        \n",
       "1              74                8            2014-03-15     ...        \n",
       "2             165              454            2014-04-29     ...        \n",
       "3             165              454            2014-04-29     ...        \n",
       "4            4430             4413            2012-02-25     ...        \n",
       "\n",
       "  latitude longitude quote_count reply_count like_count  retweet_count  \\\n",
       "0   absent    absent         0.0         0.0        0.0            0.0   \n",
       "1   absent    absent         0.0         0.0        0.0            0.0   \n",
       "2   absent    absent         0.0         0.0        0.0            0.0   \n",
       "3   absent    absent         0.0         0.0        0.0            0.0   \n",
       "4   absent    absent         0.0         0.0        3.0            4.0   \n",
       "\n",
       "     hashtags                                           urls  user_mentions  \\\n",
       "0          []   [http://ru-open.livejournal.com/374284.html]   [2572896396]   \n",
       "1         NaN  [http://pyypilg33.livejournal.com/11069.html]            NaN   \n",
       "2          []  [https://www.youtube.com/watch?v=9GvpImWxTJc]     [40807205]   \n",
       "3  [STOPNazi]                                            NaN            NaN   \n",
       "4          []                        [https://goo.gl/fBp94X]            NaN   \n",
       "\n",
       "  poll_choices  \n",
       "0          NaN  \n",
       "1          NaN  \n",
       "2          NaN  \n",
       "3          NaN  \n",
       "4          NaN  \n",
       "\n",
       "[5 rows x 31 columns]"
      ]
     },
     "execution_count": 3,
     "metadata": {},
     "output_type": "execute_result"
    }
   ],
   "source": [
    "ira_tweets.head()"
   ]
  },
  {
   "cell_type": "code",
   "execution_count": 4,
   "metadata": {},
   "outputs": [
    {
     "data": {
      "text/plain": [
       "Index(['tweetid', 'userid', 'user_display_name', 'user_screen_name',\n",
       "       'user_reported_location', 'user_profile_description',\n",
       "       'user_profile_url', 'follower_count', 'following_count',\n",
       "       'account_creation_date', 'account_language', 'tweet_language',\n",
       "       'tweet_text', 'tweet_time', 'tweet_client_name', 'in_reply_to_tweetid',\n",
       "       'in_reply_to_userid', 'quoted_tweet_tweetid', 'is_retweet',\n",
       "       'retweet_userid', 'retweet_tweetid', 'latitude', 'longitude',\n",
       "       'quote_count', 'reply_count', 'like_count', 'retweet_count', 'hashtags',\n",
       "       'urls', 'user_mentions', 'poll_choices'],\n",
       "      dtype='object')"
      ]
     },
     "execution_count": 4,
     "metadata": {},
     "output_type": "execute_result"
    }
   ],
   "source": [
    "ira_tweets.columns"
   ]
  },
  {
   "cell_type": "code",
   "execution_count": 5,
   "metadata": {},
   "outputs": [
    {
     "data": {
      "text/plain": [
       "en       4606393\n",
       "ru       3953675\n",
       "de        102657\n",
       "zh-cn      29413\n",
       "id         22966\n",
       "en-gb      21494\n",
       "es         13979\n",
       "it         13105\n",
       "ar          3452\n",
       "fr          1409\n",
       "uk            90\n",
       "Name: account_language, dtype: int64"
      ]
     },
     "execution_count": 5,
     "metadata": {},
     "output_type": "execute_result"
    }
   ],
   "source": [
    "ira_tweets.account_language.value_counts()"
   ]
  },
  {
   "cell_type": "code",
   "execution_count": 29,
   "metadata": {},
   "outputs": [],
   "source": [
    "eng_tweets = ira_tweets[ira_tweets.account_language == 'en']"
   ]
  },
  {
   "cell_type": "code",
   "execution_count": 30,
   "metadata": {},
   "outputs": [
    {
     "data": {
      "text/plain": [
       "en    4606393\n",
       "Name: account_language, dtype: int64"
      ]
     },
     "execution_count": 30,
     "metadata": {},
     "output_type": "execute_result"
    }
   ],
   "source": [
    "eng_tweets.account_language.value_counts()"
   ]
  },
  {
   "cell_type": "code",
   "execution_count": 31,
   "metadata": {},
   "outputs": [
    {
     "data": {
      "text/plain": [
       "1         Серебром отколоколило http://t.co/Jaa4v4IFpM\n",
       "2          @kpru С-300 в Иране https://t.co/elnu3qLUW7\n",
       "3    Предлагаю судить их за поддержку нацизма, т.к....\n",
       "8    As sun and cloud give way to moon and shadow, ...\n",
       "9    RT @vesti_news: Шойгу: необходимо скоординиров...\n",
       "Name: tweet_text, dtype: object"
      ]
     },
     "execution_count": 31,
     "metadata": {},
     "output_type": "execute_result"
    }
   ],
   "source": [
    "eng_tweets.tweet_text.head()"
   ]
  },
  {
   "cell_type": "markdown",
   "metadata": {},
   "source": [
    "Some of the tweets reported as English language text clearly are not.  We need a better way to sort out tweets in English.  Tweets written in English likely will not contain Cyrillic letters."
   ]
  },
  {
   "cell_type": "code",
   "execution_count": 32,
   "metadata": {},
   "outputs": [],
   "source": [
    "def has_cyrillic(text):\n",
    "    return bool(re.search('[\\u0400-\\u04FF]', text))"
   ]
  },
  {
   "cell_type": "code",
   "execution_count": 33,
   "metadata": {},
   "outputs": [],
   "source": [
    "egn_tweets = eng_tweets[eng_tweets.tweet_text.astype(str).apply(has_cyrillic) == 0]"
   ]
  },
  {
   "cell_type": "code",
   "execution_count": 34,
   "metadata": {},
   "outputs": [
    {
     "data": {
      "text/plain": [
       "1         Серебром отколоколило http://t.co/Jaa4v4IFpM\n",
       "2          @kpru С-300 в Иране https://t.co/elnu3qLUW7\n",
       "3    Предлагаю судить их за поддержку нацизма, т.к....\n",
       "8    As sun and cloud give way to moon and shadow, ...\n",
       "9    RT @vesti_news: Шойгу: необходимо скоординиров...\n",
       "Name: tweet_text, dtype: object"
      ]
     },
     "execution_count": 34,
     "metadata": {},
     "output_type": "execute_result"
    }
   ],
   "source": [
    "eng_tweets.tweet_text.head()"
   ]
  },
  {
   "cell_type": "code",
   "execution_count": 35,
   "metadata": {},
   "outputs": [
    {
     "data": {
      "text/plain": [
       "(4606393, 31)"
      ]
     },
     "execution_count": 35,
     "metadata": {},
     "output_type": "execute_result"
    }
   ],
   "source": [
    "eng_tweets.shape"
   ]
  },
  {
   "cell_type": "code",
   "execution_count": 36,
   "metadata": {},
   "outputs": [
    {
     "name": "stderr",
     "output_type": "stream",
     "text": [
      "/Users/gcdunn/anaconda3/lib/python3.6/site-packages/ipykernel_launcher.py:1: SettingWithCopyWarning:\n",
      "\n",
      "\n",
      "A value is trying to be set on a copy of a slice from a DataFrame.\n",
      "Try using .loc[row_indexer,col_indexer] = value instead\n",
      "\n",
      "See the caveats in the documentation: http://pandas.pydata.org/pandas-docs/stable/indexing.html#indexing-view-versus-copy\n",
      "\n"
     ]
    }
   ],
   "source": [
    "eng_tweets['tweet_time'] = pd.to_datetime(eng_tweets['tweet_time'])"
   ]
  },
  {
   "cell_type": "code",
   "execution_count": 38,
   "metadata": {},
   "outputs": [],
   "source": [
    "time_series = eng_tweets.groupby(eng_tweets.tweet_time.dt.date)['tweetid'].agg('count')"
   ]
  },
  {
   "cell_type": "code",
   "execution_count": 42,
   "metadata": {},
   "outputs": [
    {
     "data": {
      "text/plain": [
       "(735324.0, 736785.0)"
      ]
     },
     "execution_count": 42,
     "metadata": {},
     "output_type": "execute_result"
    },
    {
     "data": {
      "image/png": "[encoded data removed]",
      "text/plain": [
       "<Figure size 1080x648 with 1 Axes>"
      ]
     },
     "metadata": {},
     "output_type": "display_data"
    }
   ],
   "source": [
    "fig, ax = plt.subplots(figsize=(15,9))\n",
    "ax.xaxis.set_tick_params(labelsize=16)\n",
    "ax.yaxis.set_tick_params(labelsize=16)\n",
    "\n",
    "ax.plot(time_series.index, time_series.values)\n",
    "\n",
    "ax.set_xlabel('Date', fontsize=18)\n",
    "ax.set_ylabel('Number of tweets per day', fontsize=18)\n",
    "ax.set_xlim(datetime.date(2014, 4, 1), datetime.date(2018, 4, 1))"
   ]
  },
  {
   "cell_type": "code",
   "execution_count": null,
   "metadata": {},
   "outputs": [],
   "source": []
  }
 ],
 "metadata": {
  "kernelspec": {
   "display_name": "Python 3",
   "language": "python",
   "name": "python3"
  },
  "language_info": {
   "codemirror_mode": {
    "name": "ipython",
    "version": 3
   },
   "file_extension": ".py",
   "mimetype": "text/x-python",
   "name": "python",
   "nbconvert_exporter": "python",
   "pygments_lexer": "ipython3",
   "version": "3.6.8"
  }
 },
 "nbformat": 4,
 "nbformat_minor": 2
}
