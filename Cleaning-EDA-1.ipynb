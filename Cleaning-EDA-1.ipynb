{
 "cells": [
  {
   "cell_type": "code",
   "execution_count": 59,
   "metadata": {},
   "outputs": [],
   "source": [
    "import datetime\n",
    "import pandas as pd\n",
    "import numpy as np\n",
    "from matplotlib import pyplot as plt"
   ]
  },
  {
   "cell_type": "code",
   "execution_count": 67,
   "metadata": {},
   "outputs": [],
   "source": [
    "%matplotlib inline"
   ]
  },
  {
   "cell_type": "code",
   "execution_count": 2,
   "metadata": {},
   "outputs": [
    {
     "name": "stderr",
     "output_type": "stream",
     "text": [
      "/Users/gcdunn/anaconda3/lib/python3.6/site-packages/IPython/core/interactiveshell.py:2785: DtypeWarning: Columns (30) have mixed types. Specify dtype option on import or set low_memory=False.\n",
      "  interactivity=interactivity, compiler=compiler, result=result)\n"
     ]
    }
   ],
   "source": [
    "ira_tweets = pd.read_csv('../data/ira_tweets_csv_hashed.csv')"
   ]
  },
  {
   "cell_type": "code",
   "execution_count": 3,
   "metadata": {},
   "outputs": [
    {
     "data": {
      "text/html": [
       "<div>\n",
       "<style scoped>\n",
       "    .dataframe tbody tr th:only-of-type {\n",
       "        vertical-align: middle;\n",
       "    }\n",
       "\n",
       "    .dataframe tbody tr th {\n",
       "        vertical-align: top;\n",
       "    }\n",
       "\n",
       "    .dataframe thead th {\n",
       "        text-align: right;\n",
       "    }\n",
       "</style>\n",
       "<table border=\"1\" class=\"dataframe\">\n",
       "  <thead>\n",
       "    <tr style=\"text-align: right;\">\n",
       "      <th></th>\n",
       "      <th>tweetid</th>\n",
       "      <th>userid</th>\n",
       "      <th>user_display_name</th>\n",
       "      <th>user_screen_name</th>\n",
       "      <th>user_reported_location</th>\n",
       "      <th>user_profile_description</th>\n",
       "      <th>user_profile_url</th>\n",
       "      <th>follower_count</th>\n",
       "      <th>following_count</th>\n",
       "      <th>account_creation_date</th>\n",
       "      <th>...</th>\n",
       "      <th>latitude</th>\n",
       "      <th>longitude</th>\n",
       "      <th>quote_count</th>\n",
       "      <th>reply_count</th>\n",
       "      <th>like_count</th>\n",
       "      <th>retweet_count</th>\n",
       "      <th>hashtags</th>\n",
       "      <th>urls</th>\n",
       "      <th>user_mentions</th>\n",
       "      <th>poll_choices</th>\n",
       "    </tr>\n",
       "  </thead>\n",
       "  <tbody>\n",
       "    <tr>\n",
       "      <th>0</th>\n",
       "      <td>877919995476496385</td>\n",
       "      <td>249064136b1c5cb00a705316ab73dd9b53785748ab757f...</td>\n",
       "      <td>249064136b1c5cb00a705316ab73dd9b53785748ab757f...</td>\n",
       "      <td>249064136b1c5cb00a705316ab73dd9b53785748ab757f...</td>\n",
       "      <td>Москва, Россия</td>\n",
       "      <td>Я примерный семьянин!</td>\n",
       "      <td>NaN</td>\n",
       "      <td>132</td>\n",
       "      <td>120</td>\n",
       "      <td>2013-12-07</td>\n",
       "      <td>...</td>\n",
       "      <td>absent</td>\n",
       "      <td>absent</td>\n",
       "      <td>0.0</td>\n",
       "      <td>0.0</td>\n",
       "      <td>0.0</td>\n",
       "      <td>0.0</td>\n",
       "      <td>[]</td>\n",
       "      <td>[http://ru-open.livejournal.com/374284.html]</td>\n",
       "      <td>[2572896396]</td>\n",
       "      <td>NaN</td>\n",
       "    </tr>\n",
       "    <tr>\n",
       "      <th>1</th>\n",
       "      <td>492388766930444288</td>\n",
       "      <td>0974d5dbee4ca9bd6c3b46d62a5cbdbd5c0d86e196b624...</td>\n",
       "      <td>0974d5dbee4ca9bd6c3b46d62a5cbdbd5c0d86e196b624...</td>\n",
       "      <td>0974d5dbee4ca9bd6c3b46d62a5cbdbd5c0d86e196b624...</td>\n",
       "      <td>Россия</td>\n",
       "      <td>Телефонист .Изучение истории   Игра в любитель...</td>\n",
       "      <td>NaN</td>\n",
       "      <td>74</td>\n",
       "      <td>8</td>\n",
       "      <td>2014-03-15</td>\n",
       "      <td>...</td>\n",
       "      <td>absent</td>\n",
       "      <td>absent</td>\n",
       "      <td>0.0</td>\n",
       "      <td>0.0</td>\n",
       "      <td>0.0</td>\n",
       "      <td>0.0</td>\n",
       "      <td>NaN</td>\n",
       "      <td>[http://pyypilg33.livejournal.com/11069.html]</td>\n",
       "      <td>NaN</td>\n",
       "      <td>NaN</td>\n",
       "    </tr>\n",
       "    <tr>\n",
       "      <th>2</th>\n",
       "      <td>719455077589721089</td>\n",
       "      <td>bda40f262856eee77c48a332e5eb23bc4f1943d600867d...</td>\n",
       "      <td>bda40f262856eee77c48a332e5eb23bc4f1943d600867d...</td>\n",
       "      <td>bda40f262856eee77c48a332e5eb23bc4f1943d600867d...</td>\n",
       "      <td>Рязань</td>\n",
       "      <td>волны так и плещут фиолетовой волной</td>\n",
       "      <td>NaN</td>\n",
       "      <td>165</td>\n",
       "      <td>454</td>\n",
       "      <td>2014-04-29</td>\n",
       "      <td>...</td>\n",
       "      <td>absent</td>\n",
       "      <td>absent</td>\n",
       "      <td>0.0</td>\n",
       "      <td>0.0</td>\n",
       "      <td>0.0</td>\n",
       "      <td>0.0</td>\n",
       "      <td>[]</td>\n",
       "      <td>[https://www.youtube.com/watch?v=9GvpImWxTJc]</td>\n",
       "      <td>[40807205]</td>\n",
       "      <td>NaN</td>\n",
       "    </tr>\n",
       "    <tr>\n",
       "      <th>3</th>\n",
       "      <td>536179342423105537</td>\n",
       "      <td>bda40f262856eee77c48a332e5eb23bc4f1943d600867d...</td>\n",
       "      <td>bda40f262856eee77c48a332e5eb23bc4f1943d600867d...</td>\n",
       "      <td>bda40f262856eee77c48a332e5eb23bc4f1943d600867d...</td>\n",
       "      <td>Рязань</td>\n",
       "      <td>волны так и плещут фиолетовой волной</td>\n",
       "      <td>NaN</td>\n",
       "      <td>165</td>\n",
       "      <td>454</td>\n",
       "      <td>2014-04-29</td>\n",
       "      <td>...</td>\n",
       "      <td>absent</td>\n",
       "      <td>absent</td>\n",
       "      <td>0.0</td>\n",
       "      <td>0.0</td>\n",
       "      <td>0.0</td>\n",
       "      <td>0.0</td>\n",
       "      <td>[STOPNazi]</td>\n",
       "      <td>NaN</td>\n",
       "      <td>NaN</td>\n",
       "      <td>NaN</td>\n",
       "    </tr>\n",
       "    <tr>\n",
       "      <th>4</th>\n",
       "      <td>841410788409630720</td>\n",
       "      <td>a53ed619f1dea6015c7c878bf744b0eefe8f7272dccf34...</td>\n",
       "      <td>a53ed619f1dea6015c7c878bf744b0eefe8f7272dccf34...</td>\n",
       "      <td>a53ed619f1dea6015c7c878bf744b0eefe8f7272dccf34...</td>\n",
       "      <td>NaN</td>\n",
       "      <td>Отвечаю на любой #ВопросПрезиденту</td>\n",
       "      <td>http://t.co/3CVqbMQFbf</td>\n",
       "      <td>4430</td>\n",
       "      <td>4413</td>\n",
       "      <td>2012-02-25</td>\n",
       "      <td>...</td>\n",
       "      <td>absent</td>\n",
       "      <td>absent</td>\n",
       "      <td>0.0</td>\n",
       "      <td>0.0</td>\n",
       "      <td>3.0</td>\n",
       "      <td>4.0</td>\n",
       "      <td>[]</td>\n",
       "      <td>[https://goo.gl/fBp94X]</td>\n",
       "      <td>NaN</td>\n",
       "      <td>NaN</td>\n",
       "    </tr>\n",
       "  </tbody>\n",
       "</table>\n",
       "<p>5 rows × 31 columns</p>\n",
       "</div>"
      ],
      "text/plain": [
       "              tweetid                                             userid  \\\n",
       "0  877919995476496385  249064136b1c5cb00a705316ab73dd9b53785748ab757f...   \n",
       "1  492388766930444288  0974d5dbee4ca9bd6c3b46d62a5cbdbd5c0d86e196b624...   \n",
       "2  719455077589721089  bda40f262856eee77c48a332e5eb23bc4f1943d600867d...   \n",
       "3  536179342423105537  bda40f262856eee77c48a332e5eb23bc4f1943d600867d...   \n",
       "4  841410788409630720  a53ed619f1dea6015c7c878bf744b0eefe8f7272dccf34...   \n",
       "\n",
       "                                   user_display_name  \\\n",
       "0  249064136b1c5cb00a705316ab73dd9b53785748ab757f...   \n",
       "1  0974d5dbee4ca9bd6c3b46d62a5cbdbd5c0d86e196b624...   \n",
       "2  bda40f262856eee77c48a332e5eb23bc4f1943d600867d...   \n",
       "3  bda40f262856eee77c48a332e5eb23bc4f1943d600867d...   \n",
       "4  a53ed619f1dea6015c7c878bf744b0eefe8f7272dccf34...   \n",
       "\n",
       "                                    user_screen_name user_reported_location  \\\n",
       "0  249064136b1c5cb00a705316ab73dd9b53785748ab757f...         Москва, Россия   \n",
       "1  0974d5dbee4ca9bd6c3b46d62a5cbdbd5c0d86e196b624...                 Россия   \n",
       "2  bda40f262856eee77c48a332e5eb23bc4f1943d600867d...                 Рязань   \n",
       "3  bda40f262856eee77c48a332e5eb23bc4f1943d600867d...                 Рязань   \n",
       "4  a53ed619f1dea6015c7c878bf744b0eefe8f7272dccf34...                    NaN   \n",
       "\n",
       "                            user_profile_description        user_profile_url  \\\n",
       "0                              Я примерный семьянин!                     NaN   \n",
       "1  Телефонист .Изучение истории   Игра в любитель...                     NaN   \n",
       "2               волны так и плещут фиолетовой волной                     NaN   \n",
       "3               волны так и плещут фиолетовой волной                     NaN   \n",
       "4                 Отвечаю на любой #ВопросПрезиденту  http://t.co/3CVqbMQFbf   \n",
       "\n",
       "   follower_count  following_count account_creation_date     ...       \\\n",
       "0             132              120            2013-12-07     ...        \n",
       "1              74                8            2014-03-15     ...        \n",
       "2             165              454            2014-04-29     ...        \n",
       "3             165              454            2014-04-29     ...        \n",
       "4            4430             4413            2012-02-25     ...        \n",
       "\n",
       "  latitude longitude quote_count reply_count like_count  retweet_count  \\\n",
       "0   absent    absent         0.0         0.0        0.0            0.0   \n",
       "1   absent    absent         0.0         0.0        0.0            0.0   \n",
       "2   absent    absent         0.0         0.0        0.0            0.0   \n",
       "3   absent    absent         0.0         0.0        0.0            0.0   \n",
       "4   absent    absent         0.0         0.0        3.0            4.0   \n",
       "\n",
       "     hashtags                                           urls  user_mentions  \\\n",
       "0          []   [http://ru-open.livejournal.com/374284.html]   [2572896396]   \n",
       "1         NaN  [http://pyypilg33.livejournal.com/11069.html]            NaN   \n",
       "2          []  [https://www.youtube.com/watch?v=9GvpImWxTJc]     [40807205]   \n",
       "3  [STOPNazi]                                            NaN            NaN   \n",
       "4          []                        [https://goo.gl/fBp94X]            NaN   \n",
       "\n",
       "  poll_choices  \n",
       "0          NaN  \n",
       "1          NaN  \n",
       "2          NaN  \n",
       "3          NaN  \n",
       "4          NaN  \n",
       "\n",
       "[5 rows x 31 columns]"
      ]
     },
     "execution_count": 3,
     "metadata": {},
     "output_type": "execute_result"
    }
   ],
   "source": [
    "ira_tweets.head()"
   ]
  },
  {
   "cell_type": "code",
   "execution_count": 5,
   "metadata": {},
   "outputs": [
    {
     "data": {
      "text/plain": [
       "Index(['tweetid', 'userid', 'user_display_name', 'user_screen_name',\n",
       "       'user_reported_location', 'user_profile_description',\n",
       "       'user_profile_url', 'follower_count', 'following_count',\n",
       "       'account_creation_date', 'account_language', 'tweet_language',\n",
       "       'tweet_text', 'tweet_time', 'tweet_client_name', 'in_reply_to_tweetid',\n",
       "       'in_reply_to_userid', 'quoted_tweet_tweetid', 'is_retweet',\n",
       "       'retweet_userid', 'retweet_tweetid', 'latitude', 'longitude',\n",
       "       'quote_count', 'reply_count', 'like_count', 'retweet_count', 'hashtags',\n",
       "       'urls', 'user_mentions', 'poll_choices'],\n",
       "      dtype='object')"
      ]
     },
     "execution_count": 5,
     "metadata": {},
     "output_type": "execute_result"
    }
   ],
   "source": [
    "ira_tweets.columns"
   ]
  },
  {
   "cell_type": "code",
   "execution_count": 6,
   "metadata": {},
   "outputs": [
    {
     "data": {
      "text/plain": [
       "en       4606393\n",
       "ru       3953675\n",
       "de        102657\n",
       "zh-cn      29413\n",
       "id         22966\n",
       "en-gb      21494\n",
       "es         13979\n",
       "it         13105\n",
       "ar          3452\n",
       "fr          1409\n",
       "uk            90\n",
       "Name: account_language, dtype: int64"
      ]
     },
     "execution_count": 6,
     "metadata": {},
     "output_type": "execute_result"
    }
   ],
   "source": [
    "ira_tweets.account_language.value_counts()"
   ]
  },
  {
   "cell_type": "code",
   "execution_count": 7,
   "metadata": {},
   "outputs": [],
   "source": [
    "en_tweets = ira_tweets[ira_tweets.account_language == 'en']"
   ]
  },
  {
   "cell_type": "code",
   "execution_count": 9,
   "metadata": {},
   "outputs": [
    {
     "data": {
      "text/plain": [
       "1         Серебром отколоколило http://t.co/Jaa4v4IFpM\n",
       "2          @kpru С-300 в Иране https://t.co/elnu3qLUW7\n",
       "3    Предлагаю судить их за поддержку нацизма, т.к....\n",
       "8    As sun and cloud give way to moon and shadow, ...\n",
       "9    RT @vesti_news: Шойгу: необходимо скоординиров...\n",
       "Name: tweet_text, dtype: object"
      ]
     },
     "execution_count": 9,
     "metadata": {},
     "output_type": "execute_result"
    }
   ],
   "source": [
    "en_tweets.tweet_text.head()"
   ]
  },
  {
   "cell_type": "code",
   "execution_count": 13,
   "metadata": {},
   "outputs": [
    {
     "name": "stderr",
     "output_type": "stream",
     "text": [
      "/Users/gcdunn/anaconda3/lib/python3.6/site-packages/IPython/core/interactiveshell.py:2785: DtypeWarning: Columns (0,15,20) have mixed types. Specify dtype option on import or set low_memory=False.\n",
      "  interactivity=interactivity, compiler=compiler, result=result)\n",
      "/Users/gcdunn/anaconda3/lib/python3.6/site-packages/IPython/core/interactiveshell.py:2785: DtypeWarning: Columns (20) have mixed types. Specify dtype option on import or set low_memory=False.\n",
      "  interactivity=interactivity, compiler=compiler, result=result)\n"
     ]
    }
   ],
   "source": [
    "for ii in range(1,12):\n",
    "    print('Accessing file '+str(ii)+' of 11...')\n",
    "    if ii == 1:\n",
    "        ira_tweets = pd.read_csv('https://raw.githubusercontent.com/fivethirtyeight/russian-troll-tweets/master/IRAhandle_tweets_'+str(ii)+'.csv')\n",
    "    else:\n",
    "        more = pd.read_csv('https://raw.githubusercontent.com/fivethirtyeight/russian-troll-tweets/master/IRAhandle_tweets_'+str(ii)+'.csv')\n",
    "        ira_tweets = pd.concat([ira_tweets,more])\n",
    "print('Done.')"
   ]
  },
  {
   "cell_type": "code",
   "execution_count": 14,
   "metadata": {},
   "outputs": [
    {
     "data": {
      "text/html": [
       "<div>\n",
       "<style scoped>\n",
       "    .dataframe tbody tr th:only-of-type {\n",
       "        vertical-align: middle;\n",
       "    }\n",
       "\n",
       "    .dataframe tbody tr th {\n",
       "        vertical-align: top;\n",
       "    }\n",
       "\n",
       "    .dataframe thead th {\n",
       "        text-align: right;\n",
       "    }\n",
       "</style>\n",
       "<table border=\"1\" class=\"dataframe\">\n",
       "  <thead>\n",
       "    <tr style=\"text-align: right;\">\n",
       "      <th></th>\n",
       "      <th>external_author_id</th>\n",
       "      <th>author</th>\n",
       "      <th>content</th>\n",
       "      <th>region</th>\n",
       "      <th>language</th>\n",
       "      <th>publish_date</th>\n",
       "      <th>harvested_date</th>\n",
       "      <th>following</th>\n",
       "      <th>followers</th>\n",
       "      <th>updates</th>\n",
       "      <th>...</th>\n",
       "      <th>account_type</th>\n",
       "      <th>retweet</th>\n",
       "      <th>account_category</th>\n",
       "      <th>new_june_2018</th>\n",
       "      <th>alt_external_id</th>\n",
       "      <th>tweet_id</th>\n",
       "      <th>article_url</th>\n",
       "      <th>tco1_step1</th>\n",
       "      <th>tco2_step1</th>\n",
       "      <th>tco3_step1</th>\n",
       "    </tr>\n",
       "  </thead>\n",
       "  <tbody>\n",
       "    <tr>\n",
       "      <th>0</th>\n",
       "      <td>906000000000000000</td>\n",
       "      <td>10_GOP</td>\n",
       "      <td>\"We have a sitting Democrat US Senator on tria...</td>\n",
       "      <td>Unknown</td>\n",
       "      <td>English</td>\n",
       "      <td>10/1/2017 19:58</td>\n",
       "      <td>10/1/2017 19:59</td>\n",
       "      <td>1052</td>\n",
       "      <td>9636</td>\n",
       "      <td>253</td>\n",
       "      <td>...</td>\n",
       "      <td>Right</td>\n",
       "      <td>0</td>\n",
       "      <td>RightTroll</td>\n",
       "      <td>0</td>\n",
       "      <td>905874659358453760</td>\n",
       "      <td>914580356430536707</td>\n",
       "      <td>http://twitter.com/905874659358453760/statuses...</td>\n",
       "      <td>https://twitter.com/10_gop/status/914580356430...</td>\n",
       "      <td>NaN</td>\n",
       "      <td>NaN</td>\n",
       "    </tr>\n",
       "    <tr>\n",
       "      <th>1</th>\n",
       "      <td>906000000000000000</td>\n",
       "      <td>10_GOP</td>\n",
       "      <td>Marshawn Lynch arrives to game in anti-Trump s...</td>\n",
       "      <td>Unknown</td>\n",
       "      <td>English</td>\n",
       "      <td>10/1/2017 22:43</td>\n",
       "      <td>10/1/2017 22:43</td>\n",
       "      <td>1054</td>\n",
       "      <td>9637</td>\n",
       "      <td>254</td>\n",
       "      <td>...</td>\n",
       "      <td>Right</td>\n",
       "      <td>0</td>\n",
       "      <td>RightTroll</td>\n",
       "      <td>0</td>\n",
       "      <td>905874659358453760</td>\n",
       "      <td>914621840496189440</td>\n",
       "      <td>http://twitter.com/905874659358453760/statuses...</td>\n",
       "      <td>https://twitter.com/damienwoody/status/9145685...</td>\n",
       "      <td>NaN</td>\n",
       "      <td>NaN</td>\n",
       "    </tr>\n",
       "    <tr>\n",
       "      <th>2</th>\n",
       "      <td>906000000000000000</td>\n",
       "      <td>10_GOP</td>\n",
       "      <td>Daughter of fallen Navy Sailor delivers powerf...</td>\n",
       "      <td>Unknown</td>\n",
       "      <td>English</td>\n",
       "      <td>10/1/2017 22:50</td>\n",
       "      <td>10/1/2017 22:51</td>\n",
       "      <td>1054</td>\n",
       "      <td>9637</td>\n",
       "      <td>255</td>\n",
       "      <td>...</td>\n",
       "      <td>Right</td>\n",
       "      <td>1</td>\n",
       "      <td>RightTroll</td>\n",
       "      <td>0</td>\n",
       "      <td>905874659358453760</td>\n",
       "      <td>914623490375979008</td>\n",
       "      <td>http://twitter.com/905874659358453760/statuses...</td>\n",
       "      <td>https://twitter.com/10_gop/status/913231923715...</td>\n",
       "      <td>NaN</td>\n",
       "      <td>NaN</td>\n",
       "    </tr>\n",
       "    <tr>\n",
       "      <th>3</th>\n",
       "      <td>906000000000000000</td>\n",
       "      <td>10_GOP</td>\n",
       "      <td>JUST IN: President Trump dedicates Presidents ...</td>\n",
       "      <td>Unknown</td>\n",
       "      <td>English</td>\n",
       "      <td>10/1/2017 23:52</td>\n",
       "      <td>10/1/2017 23:52</td>\n",
       "      <td>1062</td>\n",
       "      <td>9642</td>\n",
       "      <td>256</td>\n",
       "      <td>...</td>\n",
       "      <td>Right</td>\n",
       "      <td>0</td>\n",
       "      <td>RightTroll</td>\n",
       "      <td>0</td>\n",
       "      <td>905874659358453760</td>\n",
       "      <td>914639143690555392</td>\n",
       "      <td>http://twitter.com/905874659358453760/statuses...</td>\n",
       "      <td>https://twitter.com/10_gop/status/914639143690...</td>\n",
       "      <td>NaN</td>\n",
       "      <td>NaN</td>\n",
       "    </tr>\n",
       "    <tr>\n",
       "      <th>4</th>\n",
       "      <td>906000000000000000</td>\n",
       "      <td>10_GOP</td>\n",
       "      <td>19,000 RESPECTING our National Anthem! #StandF...</td>\n",
       "      <td>Unknown</td>\n",
       "      <td>English</td>\n",
       "      <td>10/1/2017 2:13</td>\n",
       "      <td>10/1/2017 2:13</td>\n",
       "      <td>1050</td>\n",
       "      <td>9645</td>\n",
       "      <td>246</td>\n",
       "      <td>...</td>\n",
       "      <td>Right</td>\n",
       "      <td>1</td>\n",
       "      <td>RightTroll</td>\n",
       "      <td>0</td>\n",
       "      <td>905874659358453760</td>\n",
       "      <td>914312219952861184</td>\n",
       "      <td>http://twitter.com/905874659358453760/statuses...</td>\n",
       "      <td>https://twitter.com/realDonaldTrump/status/914...</td>\n",
       "      <td>NaN</td>\n",
       "      <td>NaN</td>\n",
       "    </tr>\n",
       "  </tbody>\n",
       "</table>\n",
       "<p>5 rows × 21 columns</p>\n",
       "</div>"
      ],
      "text/plain": [
       "   external_author_id  author  \\\n",
       "0  906000000000000000  10_GOP   \n",
       "1  906000000000000000  10_GOP   \n",
       "2  906000000000000000  10_GOP   \n",
       "3  906000000000000000  10_GOP   \n",
       "4  906000000000000000  10_GOP   \n",
       "\n",
       "                                             content   region language  \\\n",
       "0  \"We have a sitting Democrat US Senator on tria...  Unknown  English   \n",
       "1  Marshawn Lynch arrives to game in anti-Trump s...  Unknown  English   \n",
       "2  Daughter of fallen Navy Sailor delivers powerf...  Unknown  English   \n",
       "3  JUST IN: President Trump dedicates Presidents ...  Unknown  English   \n",
       "4  19,000 RESPECTING our National Anthem! #StandF...  Unknown  English   \n",
       "\n",
       "      publish_date   harvested_date  following  followers  updates    ...      \\\n",
       "0  10/1/2017 19:58  10/1/2017 19:59       1052       9636      253    ...       \n",
       "1  10/1/2017 22:43  10/1/2017 22:43       1054       9637      254    ...       \n",
       "2  10/1/2017 22:50  10/1/2017 22:51       1054       9637      255    ...       \n",
       "3  10/1/2017 23:52  10/1/2017 23:52       1062       9642      256    ...       \n",
       "4   10/1/2017 2:13   10/1/2017 2:13       1050       9645      246    ...       \n",
       "\n",
       "  account_type retweet  account_category new_june_2018     alt_external_id  \\\n",
       "0        Right       0        RightTroll             0  905874659358453760   \n",
       "1        Right       0        RightTroll             0  905874659358453760   \n",
       "2        Right       1        RightTroll             0  905874659358453760   \n",
       "3        Right       0        RightTroll             0  905874659358453760   \n",
       "4        Right       1        RightTroll             0  905874659358453760   \n",
       "\n",
       "             tweet_id                                        article_url  \\\n",
       "0  914580356430536707  http://twitter.com/905874659358453760/statuses...   \n",
       "1  914621840496189440  http://twitter.com/905874659358453760/statuses...   \n",
       "2  914623490375979008  http://twitter.com/905874659358453760/statuses...   \n",
       "3  914639143690555392  http://twitter.com/905874659358453760/statuses...   \n",
       "4  914312219952861184  http://twitter.com/905874659358453760/statuses...   \n",
       "\n",
       "                                          tco1_step1 tco2_step1 tco3_step1  \n",
       "0  https://twitter.com/10_gop/status/914580356430...        NaN        NaN  \n",
       "1  https://twitter.com/damienwoody/status/9145685...        NaN        NaN  \n",
       "2  https://twitter.com/10_gop/status/913231923715...        NaN        NaN  \n",
       "3  https://twitter.com/10_gop/status/914639143690...        NaN        NaN  \n",
       "4  https://twitter.com/realDonaldTrump/status/914...        NaN        NaN  \n",
       "\n",
       "[5 rows x 21 columns]"
      ]
     },
     "execution_count": 14,
     "metadata": {},
     "output_type": "execute_result"
    }
   ],
   "source": [
    "ira_tweets.head()"
   ]
  },
  {
   "cell_type": "code",
   "execution_count": 17,
   "metadata": {},
   "outputs": [
    {
     "data": {
      "text/plain": [
       "Index(['external_author_id', 'author', 'content', 'region', 'language',\n",
       "       'publish_date', 'harvested_date', 'following', 'followers', 'updates',\n",
       "       'post_type', 'account_type', 'retweet', 'account_category',\n",
       "       'new_june_2018', 'alt_external_id', 'tweet_id', 'article_url',\n",
       "       'tco1_step1', 'tco2_step1', 'tco3_step1'],\n",
       "      dtype='object')"
      ]
     },
     "execution_count": 17,
     "metadata": {},
     "output_type": "execute_result"
    }
   ],
   "source": [
    "ira_tweets.columns"
   ]
  },
  {
   "cell_type": "code",
   "execution_count": 15,
   "metadata": {},
   "outputs": [
    {
     "data": {
      "text/plain": [
       "English                1929298\n",
       "Russian                 550164\n",
       "German                   86217\n",
       "Ukrainian                34576\n",
       "Italian                  16316\n",
       "Serbian                   8554\n",
       "Bulgarian                 8407\n",
       "Uzbek                     8364\n",
       "LANGUAGE UNDEFINED        8093\n",
       "Arabic                    7490\n",
       "Macedonian                4653\n",
       "French                    4324\n",
       "Spanish                   2762\n",
       "Norwegian                 2086\n",
       "Farsi (Persian)           1580\n",
       "Romanian                  1518\n",
       "Dutch                     1079\n",
       "Swedish                    974\n",
       "Vietnamese                 908\n",
       "Japanese                   722\n",
       "Estonian                   717\n",
       "Finnish                    558\n",
       "Catalan                    543\n",
       "Albanian                   535\n",
       "Croatian                   502\n",
       "Icelandic                  474\n",
       "Pushto                     460\n",
       "Turkish                    432\n",
       "Lithuanian                 383\n",
       "Polish                     363\n",
       "Portuguese                 316\n",
       "Somali                     262\n",
       "Slovak                     249\n",
       "Kurdish                    229\n",
       "Malay                      228\n",
       "Tagalog (Filipino)         210\n",
       "Latvian                    205\n",
       "Greek                      183\n",
       "Hungarian                  181\n",
       "Czech                      163\n",
       "Indonesian                 160\n",
       "Korean                     102\n",
       "Danish                      84\n",
       "Hindi                       80\n",
       "Hebrew                      61\n",
       "Slovenian                   56\n",
       "Urdu                        54\n",
       "Thai                        37\n",
       "Simplified Chinese          20\n",
       "Traditional Chinese         11\n",
       "Tamil                        9\n",
       "Gujarati                     5\n",
       "Telugu                       2\n",
       "Bengali                      2\n",
       "Malayalam                    1\n",
       "Kannada                      1\n",
       "Name: language, dtype: int64"
      ]
     },
     "execution_count": 15,
     "metadata": {},
     "output_type": "execute_result"
    }
   ],
   "source": [
    "ira_tweets.language.value_counts()"
   ]
  },
  {
   "cell_type": "code",
   "execution_count": 16,
   "metadata": {},
   "outputs": [],
   "source": [
    "eng_tweets = ira_tweets[ira_tweets.language == 'English']"
   ]
  },
  {
   "cell_type": "code",
   "execution_count": 18,
   "metadata": {},
   "outputs": [
    {
     "data": {
      "text/plain": [
       "RightTroll      646007\n",
       "NewsFeed        541260\n",
       "LeftTroll       385410\n",
       "HashtagGamer    204239\n",
       "Commercial      112580\n",
       "NonEnglish       22782\n",
       "Fearmonger       10524\n",
       "Unknown           6496\n",
       "Name: account_category, dtype: int64"
      ]
     },
     "execution_count": 18,
     "metadata": {},
     "output_type": "execute_result"
    }
   ],
   "source": [
    "eng_tweets.account_category.value_counts()"
   ]
  },
  {
   "cell_type": "code",
   "execution_count": 19,
   "metadata": {},
   "outputs": [
    {
     "data": {
      "text/plain": [
       "Right         646007\n",
       "local         405885\n",
       "Left          385410\n",
       "Hashtager     204239\n",
       "news          135375\n",
       "Commercial    112580\n",
       "Russian        16949\n",
       "Koch           10282\n",
       "?               6496\n",
       "German          3530\n",
       "Italian         1125\n",
       "Arabic          1030\n",
       "ZAPOROSHIA       172\n",
       "Spanish           79\n",
       "Ebola             70\n",
       "French            69\n",
       "Name: account_type, dtype: int64"
      ]
     },
     "execution_count": 19,
     "metadata": {},
     "output_type": "execute_result"
    }
   ],
   "source": [
    "eng_tweets.account_type.value_counts()"
   ]
  },
  {
   "cell_type": "code",
   "execution_count": 27,
   "metadata": {},
   "outputs": [
    {
     "data": {
      "text/plain": [
       "497    Come vedere Juventus-Milan in streaming o in t...\n",
       "501    #SerieA in campo #JuventusMilan LIVE e FOTO ht...\n",
       "506    #Privacy, come difenderla on line (e con le #A...\n",
       "533    Come vedere Italia-Francia di rugby in tv e in...\n",
       "550    Come vedere Genoa-Sampdoria, in tv o in stream...\n",
       "Name: content, dtype: object"
      ]
     },
     "execution_count": 27,
     "metadata": {},
     "output_type": "execute_result"
    }
   ],
   "source": [
    "eng_tweets[eng_tweets.account_category=='NonEnglish'].content.head()"
   ]
  },
  {
   "cell_type": "code",
   "execution_count": 25,
   "metadata": {},
   "outputs": [
    {
     "data": {
      "text/plain": [
       "12069    INJURY NEWS: @TimKrul ruled out for the rest o...\n",
       "12070    David Beckham is on his way back to Old Traffo...\n",
       "12075    Assad-Truppen starten Offensive in Homs http:/...\n",
       "12079    33 sorties by Russian warplanes against 32 of ...\n",
       "12080    Army launches operation in southern direction ...\n",
       "Name: content, dtype: object"
      ]
     },
     "execution_count": 25,
     "metadata": {},
     "output_type": "execute_result"
    }
   ],
   "source": [
    "eng_tweets[eng_tweets.account_type=='German'].content.head()"
   ]
  },
  {
   "cell_type": "code",
   "execution_count": 33,
   "metadata": {},
   "outputs": [
    {
     "name": "stderr",
     "output_type": "stream",
     "text": [
      "/Users/gcdunn/anaconda3/lib/python3.6/site-packages/ipykernel_launcher.py:1: SettingWithCopyWarning: \n",
      "A value is trying to be set on a copy of a slice from a DataFrame.\n",
      "Try using .loc[row_indexer,col_indexer] = value instead\n",
      "\n",
      "See the caveats in the documentation: http://pandas.pydata.org/pandas-docs/stable/indexing.html#indexing-view-versus-copy\n",
      "  \"\"\"Entry point for launching an IPython kernel.\n"
     ]
    }
   ],
   "source": [
    "eng_tweets['publish_date'] = pd.to_datetime(eng_tweets['publish_date'])"
   ]
  },
  {
   "cell_type": "code",
   "execution_count": 41,
   "metadata": {},
   "outputs": [
    {
     "data": {
      "text/plain": [
       "publish_date\n",
       "2012-02-06    1\n",
       "2012-02-07    1\n",
       "2012-02-08    1\n",
       "2012-02-14    1\n",
       "2012-02-29    1\n",
       "Name: author, dtype: int64"
      ]
     },
     "execution_count": 41,
     "metadata": {},
     "output_type": "execute_result"
    }
   ],
   "source": [
    "time_series = eng_tweets.groupby(eng_tweets.publish_date.dt.date)['author'].agg('count')\n",
    "\n",
    "time_series.head()"
   ]
  },
  {
   "cell_type": "code",
   "execution_count": 45,
   "metadata": {},
   "outputs": [
    {
     "data": {
      "text/plain": [
       "publish_date\n",
       "2018-05-23     6\n",
       "2018-05-24    12\n",
       "2018-05-25     7\n",
       "2018-05-29    13\n",
       "2018-05-30     2\n",
       "Name: author, dtype: int64"
      ]
     },
     "execution_count": 45,
     "metadata": {},
     "output_type": "execute_result"
    }
   ],
   "source": [
    "time_series.tail()"
   ]
  },
  {
   "cell_type": "code",
   "execution_count": 68,
   "metadata": {},
   "outputs": [
    {
     "data": {
      "text/plain": [
       "(735477.0, 736785.0)"
      ]
     },
     "execution_count": 68,
     "metadata": {},
     "output_type": "execute_result"
    },
    {
     "data": {
      "image/png": "[encoded data removed]",
      "text/plain": [
       "<Figure size 1080x648 with 1 Axes>"
      ]
     },
     "metadata": {},
     "output_type": "display_data"
    }
   ],
   "source": [
    "fig, ax = plt.subplots(figsize=(15,9))\n",
    "\n",
    "time_series.plot(ax=ax)\n",
    "ax.set_xlabel('Date', fontsize=16)\n",
    "ax.set_ylabel('Number of tweets', fontsize=16)\n",
    "ax.set_xlim(datetime.date(2014, 9, 1), datetime.date(2018, 4, 1))"
   ]
  },
  {
   "cell_type": "code",
   "execution_count": null,
   "metadata": {},
   "outputs": [],
   "source": []
  }
 ],
 "metadata": {
  "kernelspec": {
   "display_name": "Python 3",
   "language": "python",
   "name": "python3"
  },
  "language_info": {
   "codemirror_mode": {
    "name": "ipython",
    "version": 3
   },
   "file_extension": ".py",
   "mimetype": "text/x-python",
   "name": "python",
   "nbconvert_exporter": "python",
   "pygments_lexer": "ipython3",
   "version": "3.6.8"
  }
 },
 "nbformat": 4,
 "nbformat_minor": 2
}
