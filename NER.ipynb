{
 "cells": [
  {
   "cell_type": "markdown",
   "metadata": {
    "slideshow": {
     "slide_type": "slide"
    }
   },
   "source": [
    "## Which are organizations or political figures do they tweet about?  What sentiments do they demonstrate when discussing these entities?\n",
    "### Named entity recognition and sentiment analysis"
   ]
  },
  {
   "cell_type": "code",
   "execution_count": 33,
   "metadata": {
    "slideshow": {
     "slide_type": "skip"
    }
   },
   "outputs": [],
   "source": [
    "import os\n",
    "import re\n",
    "import numpy as np\n",
    "import random\n",
    "import spacy\n",
    "from ast import literal_eval\n",
    "import pandas as pd\n",
    "import matplotlib.pyplot as plt\n",
    "from textblob import TextBlob\n",
    "from spacy import displacy\n",
    "from collections import Counter\n",
    "import en_core_web_md\n",
    "nlp = en_core_web_md.load()\n",
    "import gensim\n",
    "from vaderSentiment.vaderSentiment import SentimentIntensityAnalyzer\n",
    "from nltk.stem import WordNetLemmatizer, SnowballStemmer\n",
    "import warnings\n",
    "warnings.filterwarnings('ignore')\n",
    "plt.style.use('fivethirtyeight')"
   ]
  },
  {
   "cell_type": "code",
   "execution_count": 4,
   "metadata": {
    "slideshow": {
     "slide_type": "skip"
    }
   },
   "outputs": [],
   "source": [
    "eng_tweets = pd.read_pickle('../data/eng_tweets.p')"
   ]
  },
  {
   "cell_type": "code",
   "execution_count": 5,
   "metadata": {
    "slideshow": {
     "slide_type": "skip"
    }
   },
   "outputs": [],
   "source": [
    "eng_tweets.content = eng_tweets.content.apply(lambda x: re.sub(r'\"''~',\"\",str(x)))"
   ]
  },
  {
   "cell_type": "code",
   "execution_count": 6,
   "metadata": {
    "slideshow": {
     "slide_type": "skip"
    }
   },
   "outputs": [
    {
     "data": {
      "text/plain": [
       "0    We have a sitting Democrat US Senator on trial...\n",
       "1    Marshawn Lynch arrives to game in anti Trump s...\n",
       "2    Daughter of fallen Navy Sailor delivers powerf...\n",
       "3    JUST IN President Trump dedicates Presidents C...\n",
       "4    19000 RESPECTING our National Anthem Stand For...\n",
       "Name: content, dtype: object"
      ]
     },
     "execution_count": 6,
     "metadata": {},
     "output_type": "execute_result"
    }
   ],
   "source": [
    "eng_tweets.content.head()"
   ]
  },
  {
   "cell_type": "code",
   "execution_count": 7,
   "metadata": {
    "slideshow": {
     "slide_type": "skip"
    }
   },
   "outputs": [],
   "source": [
    "targets = ['RightTroll', 'LeftTroll', 'NewsFeed']\n",
    "subset = eng_tweets.loc[eng_tweets.account_category.isin(targets)]"
   ]
  },
  {
   "cell_type": "code",
   "execution_count": 8,
   "metadata": {
    "slideshow": {
     "slide_type": "skip"
    }
   },
   "outputs": [],
   "source": [
    "#if os.path.exists('../data/eng_tweets_with_entities.csv'):\n",
    "#    subset = pd.read_csv('../data/eng_tweets_with_entities.csv', \n",
    "#                         converters={\"entities\": lambda x: x.strip(\"[]\").split(\", \"), \n",
    "#                                     \"labels\": lambda x: x.strip(\"[]\").split(\", \")})\n",
    "#else:\n",
    "\n",
    "subset['docs'] = subset.content.apply(nlp)"
   ]
  },
  {
   "cell_type": "code",
   "execution_count": 9,
   "metadata": {},
   "outputs": [],
   "source": [
    "subset['entities'] = subset.docs.apply(lambda doc: [ent.text for ent in doc.ents])\n",
    "subset['labels'] = subset.docs.apply(lambda doc: [ent.label_ for ent in doc.ents])\n",
    "subset['sentences'] = subset.docs.apply(lambda doc: [sent for sent in doc.sents])"
   ]
  },
  {
   "cell_type": "code",
   "execution_count": 10,
   "metadata": {
    "slideshow": {
     "slide_type": "skip"
    }
   },
   "outputs": [],
   "source": [
    "flattened_entities = subset.entities.tolist()\n",
    "flattened_entities = pd.Series([str(item) for sublist in flattened_entities for item in sublist])\n",
    "#flattened_entities = flattened_entities.loc[flattened_entities != ''].astype(str)\n",
    "\n",
    "flattened_labels = subset.labels.tolist()\n",
    "flattened_labels = pd.Series([str(item) for sublist in flattened_labels for item in sublist])\n",
    "#flattened_labels = flattened_labels.loc[flattened_labels != ''].astype(str)\n",
    "flattened_entities.to_csv('../data.flattened_entities.csv')\n",
    "flattened_labels.to_csv('../data.flattened_labels.csv')"
   ]
  },
  {
   "cell_type": "code",
   "execution_count": 11,
   "metadata": {
    "slideshow": {
     "slide_type": "skip"
    }
   },
   "outputs": [
    {
     "data": {
      "text/plain": [
       "[('US', 35854),\n",
       " ('Trump', 31102),\n",
       " ('Obama', 25498),\n",
       " ('Donald Trump', 20204),\n",
       " ('Hillary', 18592),\n",
       " ('2', 15422),\n",
       " ('America', 14341),\n",
       " ('GOP', 13905),\n",
       " ('CNN', 11916),\n",
       " ('Russia', 10785),\n",
       " ('Hillary Clinton', 10780),\n",
       " ('Texas', 10488),\n",
       " ('American', 10424),\n",
       " ('first', 10203),\n",
       " ('Cleveland', 10128),\n",
       " ('Clinton', 9900),\n",
       " ('one', 9680),\n",
       " ('ISIS', 9412),\n",
       " ('today', 9096),\n",
       " ('Syria', 8978)]"
      ]
     },
     "execution_count": 11,
     "metadata": {},
     "output_type": "execute_result"
    }
   ],
   "source": [
    "top20 = Counter(flattened_entities).most_common(20)\n",
    "top20"
   ]
  },
  {
   "cell_type": "code",
   "execution_count": 12,
   "metadata": {},
   "outputs": [
    {
     "data": {
      "text/plain": [
       "ORG            770697\n",
       "PERSON         710775\n",
       "GPE            488598\n",
       "CARDINAL       232864\n",
       "NORP           170519\n",
       "DATE           167406\n",
       "WORK_OF_ART     50988\n",
       "LOC             43147\n",
       "PRODUCT         28553\n",
       "ORDINAL         27886\n",
       "FAC             26674\n",
       "EVENT           25040\n",
       "TIME            20311\n",
       "LAW              8350\n",
       "QUANTITY         5383\n",
       "MONEY            3020\n",
       "PERCENT          1941\n",
       "LANGUAGE          769\n",
       "dtype: int64"
      ]
     },
     "execution_count": 12,
     "metadata": {},
     "output_type": "execute_result"
    }
   ],
   "source": [
    "flattened_labels.value_counts()"
   ]
  },
  {
   "cell_type": "code",
   "execution_count": 13,
   "metadata": {
    "slideshow": {
     "slide_type": "skip"
    }
   },
   "outputs": [
    {
     "data": {
      "text/plain": [
       "['Donald Trump',\n",
       " 'Hillary',\n",
       " 'Hillary Clinton',\n",
       " 'Obama',\n",
       " 'Clinton',\n",
       " 'Trump',\n",
       " 'Putin',\n",
       " 'Bernie Sanders',\n",
       " 'Bernie',\n",
       " 'Ted Cruz',\n",
       " 'Trumps',\n",
       " 'Sanders',\n",
       " 'Bill Clinton',\n",
       " 'Comey',\n",
       " 'Barack Obama',\n",
       " 'Oscar',\n",
       " 'Cruz',\n",
       " 'Mc Cain',\n",
       " 'Jesus',\n",
       " 'Zika']"
      ]
     },
     "execution_count": 13,
     "metadata": {},
     "output_type": "execute_result"
    }
   ],
   "source": [
    "people = flattened_entities.loc[flattened_labels=='PERSON']\n",
    "top20people = Counter(people).most_common(20)\n",
    "top20people = [x[0] for x in top20people]\n",
    "top20people"
   ]
  },
  {
   "cell_type": "code",
   "execution_count": 14,
   "metadata": {
    "slideshow": {
     "slide_type": "skip"
    }
   },
   "outputs": [
    {
     "data": {
      "text/plain": [
       "['Trump',\n",
       " 'Obama',\n",
       " 'GOP',\n",
       " 'CNN',\n",
       " 'ISIS',\n",
       " 'POTUS',\n",
       " 'FBI',\n",
       " 'NFL',\n",
       " 'MAGA',\n",
       " 'Islam',\n",
       " 'Fox News',\n",
       " 'Congress',\n",
       " 'Senate',\n",
       " 'EU',\n",
       " 'UN',\n",
       " 'PJNET',\n",
       " 'House',\n",
       " 'White House',\n",
       " 'Obamacare',\n",
       " 'DNC']"
      ]
     },
     "execution_count": 14,
     "metadata": {},
     "output_type": "execute_result"
    }
   ],
   "source": [
    "org = flattened_entities.loc[flattened_labels=='ORG']\n",
    "top20org = Counter(org).most_common(20)\n",
    "top20org = [x[0] for x in top20org]\n",
    "top20org"
   ]
  },
  {
   "cell_type": "code",
   "execution_count": 15,
   "metadata": {},
   "outputs": [
    {
     "data": {
      "text/plain": [
       "['US',\n",
       " 'America',\n",
       " 'Russia',\n",
       " 'Texas',\n",
       " 'Cleveland',\n",
       " 'Syria',\n",
       " 'Chicago',\n",
       " 'Miami',\n",
       " 'California',\n",
       " 'China',\n",
       " 'Iran',\n",
       " 'San Jose',\n",
       " 'North Korea',\n",
       " 'Ohio',\n",
       " 'Florida',\n",
       " 'Baltimore',\n",
       " 'New Orleans',\n",
       " 'Turkey',\n",
       " 'Iraq',\n",
       " 'Charlottesville']"
      ]
     },
     "execution_count": 15,
     "metadata": {},
     "output_type": "execute_result"
    }
   ],
   "source": [
    "gpe = flattened_entities.loc[flattened_labels=='GPE']\n",
    "top20gpe = Counter(gpe).most_common(20)\n",
    "top20gpe = [x[0] for x in top20gpe]\n",
    "top20gpe"
   ]
  },
  {
   "cell_type": "code",
   "execution_count": 25,
   "metadata": {},
   "outputs": [
    {
     "data": {
      "text/plain": [
       "['American',\n",
       " 'Democrats',\n",
       " 'Americans',\n",
       " 'Muslim',\n",
       " 'Russian',\n",
       " 'Syrian',\n",
       " 'Dems',\n",
       " 'Islamic',\n",
       " 'Republicans',\n",
       " 'Republican',\n",
       " 'Dem',\n",
       " 'Democrat',\n",
       " 'Muslims',\n",
       " 'Antifa',\n",
       " 'French',\n",
       " 'Turkish',\n",
       " 'German',\n",
       " 'Chinese',\n",
       " 'British',\n",
       " 'Democratic']"
      ]
     },
     "execution_count": 25,
     "metadata": {},
     "output_type": "execute_result"
    }
   ],
   "source": [
    "norp = flattened_entities.loc[flattened_labels=='NORP']\n",
    "top20norp = Counter(norp).most_common(20)\n",
    "top20norp = [x[0] for x in top20norp]\n",
    "top20norp"
   ]
  },
  {
   "cell_type": "code",
   "execution_count": 16,
   "metadata": {
    "slideshow": {
     "slide_type": "slide"
    }
   },
   "outputs": [
    {
     "data": {
      "text/html": [
       "<div class=\"entities\" style=\"line-height: 2.5\">[We have a sitting \n",
       "<mark class=\"entity\" style=\"background: #c887fb; padding: 0.45em 0.6em; margin: 0 0.25em; line-height: 1; border-radius: 0.35em; box-decoration-break: clone; -webkit-box-decoration-break: clone\">\n",
       "    Democrat\n",
       "    <span style=\"font-size: 0.8em; font-weight: bold; line-height: 1; border-radius: 0.35em; text-transform: uppercase; vertical-align: middle; margin-left: 0.5rem\">NORP</span>\n",
       "</mark>\n",
       " \n",
       "<mark class=\"entity\" style=\"background: #feca74; padding: 0.45em 0.6em; margin: 0 0.25em; line-height: 1; border-radius: 0.35em; box-decoration-break: clone; -webkit-box-decoration-break: clone\">\n",
       "    US\n",
       "    <span style=\"font-size: 0.8em; font-weight: bold; line-height: 1; border-radius: 0.35em; text-transform: uppercase; vertical-align: middle; margin-left: 0.5rem\">GPE</span>\n",
       "</mark>\n",
       " Senator on trial for corruption and you've barely heard a peep from the mainstream media nedryun]</div>"
      ],
      "text/plain": [
       "<IPython.core.display.HTML object>"
      ]
     },
     "metadata": {},
     "output_type": "display_data"
    },
    {
     "data": {
      "text/html": [
       "<div class=\"entities\" style=\"line-height: 2.5\">\n",
       "<mark class=\"entity\" style=\"background: #aa9cfc; padding: 0.45em 0.6em; margin: 0 0.25em; line-height: 1; border-radius: 0.35em; box-decoration-break: clone; -webkit-box-decoration-break: clone\">\n",
       "    [Marshawn Lynch\n",
       "    <span style=\"font-size: 0.8em; font-weight: bold; line-height: 1; border-radius: 0.35em; text-transform: uppercase; vertical-align: middle; margin-left: 0.5rem\">PERSON</span>\n",
       "</mark>\n",
       " arrives to game in anti \n",
       "<mark class=\"entity\" style=\"background: #7aecec; padding: 0.45em 0.6em; margin: 0 0.25em; line-height: 1; border-radius: 0.35em; box-decoration-break: clone; -webkit-box-decoration-break: clone\">\n",
       "    Trump\n",
       "    <span style=\"font-size: 0.8em; font-weight: bold; line-height: 1; border-radius: 0.35em; text-transform: uppercase; vertical-align: middle; margin-left: 0.5rem\">ORG</span>\n",
       "</mark>\n",
       " shirt Judging by his sagging pants the shirt should say \n",
       "<mark class=\"entity\" style=\"background: #7aecec; padding: 0.45em 0.6em; margin: 0 0.25em; line-height: 1; border-radius: 0.35em; box-decoration-break: clone; -webkit-box-decoration-break: clone\">\n",
       "    Lynch\n",
       "    <span style=\"font-size: 0.8em; font-weight: bold; line-height: 1; border-radius: 0.35em; text-transform: uppercase; vertical-align: middle; margin-left: 0.5rem\">ORG</span>\n",
       "</mark>\n",
       " vs belt]</div>"
      ],
      "text/plain": [
       "<IPython.core.display.HTML object>"
      ]
     },
     "metadata": {},
     "output_type": "display_data"
    },
    {
     "data": {
      "text/html": [
       "<div class=\"entities\" style=\"line-height: 2.5\">[Daughter of fallen \n",
       "<mark class=\"entity\" style=\"background: #7aecec; padding: 0.45em 0.6em; margin: 0 0.25em; line-height: 1; border-radius: 0.35em; box-decoration-break: clone; -webkit-box-decoration-break: clone\">\n",
       "    Navy\n",
       "    <span style=\"font-size: 0.8em; font-weight: bold; line-height: 1; border-radius: 0.35em; text-transform: uppercase; vertical-align: middle; margin-left: 0.5rem\">ORG</span>\n",
       "</mark>\n",
       " Sailor delivers powerful monologue on anthem protests burns her \n",
       "<mark class=\"entity\" style=\"background: #7aecec; padding: 0.45em 0.6em; margin: 0 0.25em; line-height: 1; border-radius: 0.35em; box-decoration-break: clone; -webkit-box-decoration-break: clone\">\n",
       "    NFL\n",
       "    <span style=\"font-size: 0.8em; font-weight: bold; line-height: 1; border-radius: 0.35em; text-transform: uppercase; vertical-align: middle; margin-left: 0.5rem\">ORG</span>\n",
       "</mark>\n",
       " packers gear \n",
       "<mark class=\"entity\" style=\"background: #7aecec; padding: 0.45em 0.6em; margin: 0 0.25em; line-height: 1; border-radius: 0.35em; box-decoration-break: clone; -webkit-box-decoration-break: clone\">\n",
       "    Boycott NFL\n",
       "    <span style=\"font-size: 0.8em; font-weight: bold; line-height: 1; border-radius: 0.35em; text-transform: uppercase; vertical-align: middle; margin-left: 0.5rem\">ORG</span>\n",
       "</mark>\n",
       "]</div>"
      ],
      "text/plain": [
       "<IPython.core.display.HTML object>"
      ]
     },
     "metadata": {},
     "output_type": "display_data"
    },
    {
     "data": {
      "text/html": [
       "<div class=\"entities\" style=\"line-height: 2.5\">[JUST IN President \n",
       "<mark class=\"entity\" style=\"background: #aa9cfc; padding: 0.45em 0.6em; margin: 0 0.25em; line-height: 1; border-radius: 0.35em; box-decoration-break: clone; -webkit-box-decoration-break: clone\">\n",
       "    Trump\n",
       "    <span style=\"font-size: 0.8em; font-weight: bold; line-height: 1; border-radius: 0.35em; text-transform: uppercase; vertical-align: middle; margin-left: 0.5rem\">PERSON</span>\n",
       "</mark>\n",
       " dedicates Presidents Cup golf tournament trophy to the people of \n",
       "<mark class=\"entity\" style=\"background: #feca74; padding: 0.45em 0.6em; margin: 0 0.25em; line-height: 1; border-radius: 0.35em; box-decoration-break: clone; -webkit-box-decoration-break: clone\">\n",
       "    Florida\n",
       "    <span style=\"font-size: 0.8em; font-weight: bold; line-height: 1; border-radius: 0.35em; text-transform: uppercase; vertical-align: middle; margin-left: 0.5rem\">GPE</span>\n",
       "</mark>\n",
       " \n",
       "<mark class=\"entity\" style=\"background: #feca74; padding: 0.45em 0.6em; margin: 0 0.25em; line-height: 1; border-radius: 0.35em; box-decoration-break: clone; -webkit-box-decoration-break: clone\">\n",
       "    Texas\n",
       "    <span style=\"font-size: 0.8em; font-weight: bold; line-height: 1; border-radius: 0.35em; text-transform: uppercase; vertical-align: middle; margin-left: 0.5rem\">GPE</span>\n",
       "</mark>\n",
       " and \n",
       "<mark class=\"entity\" style=\"background: #feca74; padding: 0.45em 0.6em; margin: 0 0.25em; line-height: 1; border-radius: 0.35em; box-decoration-break: clone; -webkit-box-decoration-break: clone\">\n",
       "    Puerto Rico\n",
       "    <span style=\"font-size: 0.8em; font-weight: bold; line-height: 1; border-radius: 0.35em; text-transform: uppercase; vertical-align: middle; margin-left: 0.5rem\">GPE</span>\n",
       "</mark>\n",
       "]</div>"
      ],
      "text/plain": [
       "<IPython.core.display.HTML object>"
      ]
     },
     "metadata": {},
     "output_type": "display_data"
    },
    {
     "data": {
      "text/html": [
       "<div class=\"entities\" style=\"line-height: 2.5\">[\n",
       "<mark class=\"entity\" style=\"background: #e4e7d2; padding: 0.45em 0.6em; margin: 0 0.25em; line-height: 1; border-radius: 0.35em; box-decoration-break: clone; -webkit-box-decoration-break: clone\">\n",
       "    19000\n",
       "    <span style=\"font-size: 0.8em; font-weight: bold; line-height: 1; border-radius: 0.35em; text-transform: uppercase; vertical-align: middle; margin-left: 0.5rem\">CARDINAL</span>\n",
       "</mark>\n",
       " RESPECTING our National Anthem, Stand, For Our Anthem]</div>"
      ],
      "text/plain": [
       "<IPython.core.display.HTML object>"
      ]
     },
     "metadata": {},
     "output_type": "display_data"
    },
    {
     "data": {
      "text/html": [
       "<div class=\"entities\" style=\"line-height: 2.5\">[\n",
       "<mark class=\"entity\" style=\"background: #aa9cfc; padding: 0.45em 0.6em; margin: 0 0.25em; line-height: 1; border-radius: 0.35em; box-decoration-break: clone; -webkit-box-decoration-break: clone\">\n",
       "    Dan Bongino\n",
       "    <span style=\"font-size: 0.8em; font-weight: bold; line-height: 1; border-radius: 0.35em; text-transform: uppercase; vertical-align: middle; margin-left: 0.5rem\">PERSON</span>\n",
       "</mark>\n",
       " Nobody trolls liberals better than \n",
       "<mark class=\"entity\" style=\"background: #aa9cfc; padding: 0.45em 0.6em; margin: 0 0.25em; line-height: 1; border-radius: 0.35em; box-decoration-break: clone; -webkit-box-decoration-break: clone\">\n",
       "    Donald Trump\n",
       "    <span style=\"font-size: 0.8em; font-weight: bold; line-height: 1; border-radius: 0.35em; text-transform: uppercase; vertical-align: middle; margin-left: 0.5rem\">PERSON</span>\n",
       "</mark>\n",
       ", Exactly]</div>"
      ],
      "text/plain": [
       "<IPython.core.display.HTML object>"
      ]
     },
     "metadata": {},
     "output_type": "display_data"
    },
    {
     "data": {
      "text/html": [
       "<div class=\"entities\" style=\"line-height: 2.5\">[ ]</div>"
      ],
      "text/plain": [
       "<IPython.core.display.HTML object>"
      ]
     },
     "metadata": {},
     "output_type": "display_data"
    },
    {
     "data": {
      "text/html": [
       "<div class=\"entities\" style=\"line-height: 2.5\">['Senator \n",
       "<mark class=\"entity\" style=\"background: #aa9cfc; padding: 0.45em 0.6em; margin: 0 0.25em; line-height: 1; border-radius: 0.35em; box-decoration-break: clone; -webkit-box-decoration-break: clone\">\n",
       "    Menendez Carmen Yulin Cruz\n",
       "    <span style=\"font-size: 0.8em; font-weight: bold; line-height: 1; border-radius: 0.35em; text-transform: uppercase; vertical-align: middle; margin-left: 0.5rem\">PERSON</span>\n",
       "</mark>\n",
       " Doesn't matter that \n",
       "<mark class=\"entity\" style=\"background: #7aecec; padding: 0.45em 0.6em; margin: 0 0.25em; line-height: 1; border-radius: 0.35em; box-decoration-break: clone; -webkit-box-decoration-break: clone\">\n",
       "    CNN\n",
       "    <span style=\"font-size: 0.8em; font-weight: bold; line-height: 1; border-radius: 0.35em; text-transform: uppercase; vertical-align: middle; margin-left: 0.5rem\">ORG</span>\n",
       "</mark>\n",
       " doesn't report on your crimes This won't change the fact that you're going down']</div>"
      ],
      "text/plain": [
       "<IPython.core.display.HTML object>"
      ]
     },
     "metadata": {},
     "output_type": "display_data"
    },
    {
     "data": {
      "text/html": [
       "<div class=\"entities\" style=\"line-height: 2.5\">[As much as I hate promoting \n",
       "<mark class=\"entity\" style=\"background: #7aecec; padding: 0.45em 0.6em; margin: 0 0.25em; line-height: 1; border-radius: 0.35em; box-decoration-break: clone; -webkit-box-decoration-break: clone\">\n",
       "    CNN\n",
       "    <span style=\"font-size: 0.8em; font-weight: bold; line-height: 1; border-radius: 0.35em; text-transform: uppercase; vertical-align: middle; margin-left: 0.5rem\">ORG</span>\n",
       "</mark>\n",
       " article here they are admitting EVERYTHING, \n",
       "<mark class=\"entity\" style=\"background: #7aecec; padding: 0.45em 0.6em; margin: 0 0.25em; line-height: 1; border-radius: 0.35em; box-decoration-break: clone; -webkit-box-decoration-break: clone\">\n",
       "    Trump\n",
       "    <span style=\"font-size: 0.8em; font-weight: bold; line-height: 1; border-radius: 0.35em; text-transform: uppercase; vertical-align: middle; margin-left: 0.5rem\">ORG</span>\n",
       "</mark>\n",
       " said about \n",
       "<mark class=\"entity\" style=\"background: #7aecec; padding: 0.45em 0.6em; margin: 0 0.25em; line-height: 1; border-radius: 0.35em; box-decoration-break: clone; -webkit-box-decoration-break: clone\">\n",
       "    PR\n",
       "    <span style=\"font-size: 0.8em; font-weight: bold; line-height: 1; border-radius: 0.35em; text-transform: uppercase; vertical-align: middle; margin-left: 0.5rem\">ORG</span>\n",
       "</mark>\n",
       " relief \n",
       "<mark class=\"entity\" style=\"background: #bfe1d9; padding: 0.45em 0.6em; margin: 0 0.25em; line-height: 1; border-radius: 0.35em; box-decoration-break: clone; -webkit-box-decoration-break: clone\">\n",
       "    two days ago\n",
       "    <span style=\"font-size: 0.8em; font-weight: bold; line-height: 1; border-radius: 0.35em; text-transform: uppercase; vertical-align: middle; margin-left: 0.5rem\">DATE</span>\n",
       "</mark>\n",
       "]</div>"
      ],
      "text/plain": [
       "<IPython.core.display.HTML object>"
      ]
     },
     "metadata": {},
     "output_type": "display_data"
    },
    {
     "data": {
      "text/html": [
       "<div class=\"entities\" style=\"line-height: 2.5\">[After the 'genocide' remark from \n",
       "<mark class=\"entity\" style=\"background: #feca74; padding: 0.45em 0.6em; margin: 0 0.25em; line-height: 1; border-radius: 0.35em; box-decoration-break: clone; -webkit-box-decoration-break: clone\">\n",
       "    San Juan\n",
       "    <span style=\"font-size: 0.8em; font-weight: bold; line-height: 1; border-radius: 0.35em; text-transform: uppercase; vertical-align: middle; margin-left: 0.5rem\">GPE</span>\n",
       "</mark>\n",
       " Mayor the narrative has changed though \n",
       "<mark class=\"entity\" style=\"background: #7aecec; padding: 0.45em 0.6em; margin: 0 0.25em; line-height: 1; border-radius: 0.35em; box-decoration-break: clone; -webkit-box-decoration-break: clone\">\n",
       "    CNN\n",
       "    <span style=\"font-size: 0.8em; font-weight: bold; line-height: 1; border-radius: 0.35em; text-transform: uppercase; vertical-align: middle; margin-left: 0.5rem\">ORG</span>\n",
       "</mark>\n",
       " fixes it's reporting constantly]</div>"
      ],
      "text/plain": [
       "<IPython.core.display.HTML object>"
      ]
     },
     "metadata": {},
     "output_type": "display_data"
    },
    {
     "data": {
      "text/html": [
       "<div class=\"entities\" style=\"line-height: 2.5\">[After the 'genocide' remark from \n",
       "<mark class=\"entity\" style=\"background: #feca74; padding: 0.45em 0.6em; margin: 0 0.25em; line-height: 1; border-radius: 0.35em; box-decoration-break: clone; -webkit-box-decoration-break: clone\">\n",
       "    San Juan\n",
       "    <span style=\"font-size: 0.8em; font-weight: bold; line-height: 1; border-radius: 0.35em; text-transform: uppercase; vertical-align: middle; margin-left: 0.5rem\">GPE</span>\n",
       "</mark>\n",
       " Mayor the narrative has changed though \n",
       "<mark class=\"entity\" style=\"background: #7aecec; padding: 0.45em 0.6em; margin: 0 0.25em; line-height: 1; border-radius: 0.35em; box-decoration-break: clone; -webkit-box-decoration-break: clone\">\n",
       "    CNN\n",
       "    <span style=\"font-size: 0.8em; font-weight: bold; line-height: 1; border-radius: 0.35em; text-transform: uppercase; vertical-align: middle; margin-left: 0.5rem\">ORG</span>\n",
       "</mark>\n",
       " fixes its reporting constantly]</div>"
      ],
      "text/plain": [
       "<IPython.core.display.HTML object>"
      ]
     },
     "metadata": {},
     "output_type": "display_data"
    },
    {
     "data": {
      "text/html": [
       "<div class=\"entities\" style=\"line-height: 2.5\">['thehill, Why won't she apologize to us for lying']</div>"
      ],
      "text/plain": [
       "<IPython.core.display.HTML object>"
      ]
     },
     "metadata": {},
     "output_type": "display_data"
    },
    {
     "data": {
      "text/html": [
       "<div class=\"entities\" style=\"line-height: 2.5\">[\n",
       "<mark class=\"entity\" style=\"background: #aa9cfc; padding: 0.45em 0.6em; margin: 0 0.25em; line-height: 1; border-radius: 0.35em; box-decoration-break: clone; -webkit-box-decoration-break: clone\">\n",
       "    Sarah Sanders\n",
       "    <span style=\"font-size: 0.8em; font-weight: bold; line-height: 1; border-radius: 0.35em; text-transform: uppercase; vertical-align: middle; margin-left: 0.5rem\">PERSON</span>\n",
       "</mark>\n",
       " destroys \n",
       "<mark class=\"entity\" style=\"background: #7aecec; padding: 0.45em 0.6em; margin: 0 0.25em; line-height: 1; border-radius: 0.35em; box-decoration-break: clone; -webkit-box-decoration-break: clone\">\n",
       "    NBC\n",
       "    <span style=\"font-size: 0.8em; font-weight: bold; line-height: 1; border-radius: 0.35em; text-transform: uppercase; vertical-align: middle; margin-left: 0.5rem\">ORG</span>\n",
       "</mark>\n",
       " reporter \n",
       "<mark class=\"entity\" style=\"background: #7aecec; padding: 0.45em 0.6em; margin: 0 0.25em; line-height: 1; border-radius: 0.35em; box-decoration-break: clone; -webkit-box-decoration-break: clone\">\n",
       "    Trump\n",
       "    <span style=\"font-size: 0.8em; font-weight: bold; line-height: 1; border-radius: 0.35em; text-transform: uppercase; vertical-align: middle; margin-left: 0.5rem\">ORG</span>\n",
       "</mark>\n",
       " made a joke maybe you guys should get a sense of humor]</div>"
      ],
      "text/plain": [
       "<IPython.core.display.HTML object>"
      ]
     },
     "metadata": {},
     "output_type": "display_data"
    },
    {
     "data": {
      "text/html": [
       "<div class=\"entities\" style=\"line-height: 2.5\">[Hi \n",
       "<mark class=\"entity\" style=\"background: #aa9cfc; padding: 0.45em 0.6em; margin: 0 0.25em; line-height: 1; border-radius: 0.35em; box-decoration-break: clone; -webkit-box-decoration-break: clone\">\n",
       "    Michelle Obama\n",
       "    <span style=\"font-size: 0.8em; font-weight: bold; line-height: 1; border-radius: 0.35em; text-transform: uppercase; vertical-align: middle; margin-left: 0.5rem\">PERSON</span>\n",
       "</mark>\n",
       " remember when you said \n",
       "<mark class=\"entity\" style=\"background: #aa9cfc; padding: 0.45em 0.6em; margin: 0 0.25em; line-height: 1; border-radius: 0.35em; box-decoration-break: clone; -webkit-box-decoration-break: clone\">\n",
       "    Weinstein\n",
       "    <span style=\"font-size: 0.8em; font-weight: bold; line-height: 1; border-radius: 0.35em; text-transform: uppercase; vertical-align: middle; margin-left: 0.5rem\">PERSON</span>\n",
       "</mark>\n",
       " is a wonderful human being a good friend and just a powerhouse, Do you disavow]</div>"
      ],
      "text/plain": [
       "<IPython.core.display.HTML object>"
      ]
     },
     "metadata": {},
     "output_type": "display_data"
    },
    {
     "data": {
      "text/html": [
       "<div class=\"entities\" style=\"line-height: 2.5\">[Hi \n",
       "<mark class=\"entity\" style=\"background: #aa9cfc; padding: 0.45em 0.6em; margin: 0 0.25em; line-height: 1; border-radius: 0.35em; box-decoration-break: clone; -webkit-box-decoration-break: clone\">\n",
       "    Michelle Obama\n",
       "    <span style=\"font-size: 0.8em; font-weight: bold; line-height: 1; border-radius: 0.35em; text-transform: uppercase; vertical-align: middle; margin-left: 0.5rem\">PERSON</span>\n",
       "</mark>\n",
       " remember when you praised \n",
       "<mark class=\"entity\" style=\"background: #aa9cfc; padding: 0.45em 0.6em; margin: 0 0.25em; line-height: 1; border-radius: 0.35em; box-decoration-break: clone; -webkit-box-decoration-break: clone\">\n",
       "    Harvey Weinstein\n",
       "    <span style=\"font-size: 0.8em; font-weight: bold; line-height: 1; border-radius: 0.35em; text-transform: uppercase; vertical-align: middle; margin-left: 0.5rem\">PERSON</span>\n",
       "</mark>\n",
       " as 'a wonderful human being a good friend and a powerhouse, Do you disavow]</div>"
      ],
      "text/plain": [
       "<IPython.core.display.HTML object>"
      ]
     },
     "metadata": {},
     "output_type": "display_data"
    },
    {
     "data": {
      "text/html": [
       "<div class=\"entities\" style=\"line-height: 2.5\">[Wow Even \n",
       "<mark class=\"entity\" style=\"background: #7aecec; padding: 0.45em 0.6em; margin: 0 0.25em; line-height: 1; border-radius: 0.35em; box-decoration-break: clone; -webkit-box-decoration-break: clone\">\n",
       "    CNN\n",
       "    <span style=\"font-size: 0.8em; font-weight: bold; line-height: 1; border-radius: 0.35em; text-transform: uppercase; vertical-align: middle; margin-left: 0.5rem\">ORG</span>\n",
       "</mark>\n",
       " is slamming the \n",
       "<mark class=\"entity\" style=\"background: #7aecec; padding: 0.45em 0.6em; margin: 0 0.25em; line-height: 1; border-radius: 0.35em; box-decoration-break: clone; -webkit-box-decoration-break: clone\">\n",
       "    Obamas\n",
       "    <span style=\"font-size: 0.8em; font-weight: bold; line-height: 1; border-radius: 0.35em; text-transform: uppercase; vertical-align: middle; margin-left: 0.5rem\">ORG</span>\n",
       "</mark>\n",
       " for silence on \n",
       "<mark class=\"entity\" style=\"background: #aa9cfc; padding: 0.45em 0.6em; margin: 0 0.25em; line-height: 1; border-radius: 0.35em; box-decoration-break: clone; -webkit-box-decoration-break: clone\">\n",
       "    Weinstein\n",
       "    <span style=\"font-size: 0.8em; font-weight: bold; line-height: 1; border-radius: 0.35em; text-transform: uppercase; vertical-align: middle; margin-left: 0.5rem\">PERSON</span>\n",
       "</mark>\n",
       ", Where is \n",
       "<mark class=\"entity\" style=\"background: #aa9cfc; padding: 0.45em 0.6em; margin: 0 0.25em; line-height: 1; border-radius: 0.35em; box-decoration-break: clone; -webkit-box-decoration-break: clone\">\n",
       "    Michelle Obama\n",
       "    <span style=\"font-size: 0.8em; font-weight: bold; line-height: 1; border-radius: 0.35em; text-transform: uppercase; vertical-align: middle; margin-left: 0.5rem\">PERSON</span>\n",
       "</mark>\n",
       ", Where is President \n",
       "<mark class=\"entity\" style=\"background: #aa9cfc; padding: 0.45em 0.6em; margin: 0 0.25em; line-height: 1; border-radius: 0.35em; box-decoration-break: clone; -webkit-box-decoration-break: clone\">\n",
       "    Obama\n",
       "    <span style=\"font-size: 0.8em; font-weight: bold; line-height: 1; border-radius: 0.35em; text-transform: uppercase; vertical-align: middle; margin-left: 0.5rem\">PERSON</span>\n",
       "</mark>\n",
       "]</div>"
      ],
      "text/plain": [
       "<IPython.core.display.HTML object>"
      ]
     },
     "metadata": {},
     "output_type": "display_data"
    },
    {
     "data": {
      "text/html": [
       "<div class=\"entities\" style=\"line-height: 2.5\">[\n",
       "<mark class=\"entity\" style=\"background: #e4e7d2; padding: 0.45em 0.6em; margin: 0 0.25em; line-height: 1; border-radius: 0.35em; box-decoration-break: clone; -webkit-box-decoration-break: clone\">\n",
       "    First\n",
       "    <span style=\"font-size: 0.8em; font-weight: bold; line-height: 1; border-radius: 0.35em; text-transform: uppercase; vertical-align: middle; margin-left: 0.5rem\">ORDINAL</span>\n",
       "</mark>\n",
       " lady \n",
       "<mark class=\"entity\" style=\"background: #aa9cfc; padding: 0.45em 0.6em; margin: 0 0.25em; line-height: 1; border-radius: 0.35em; box-decoration-break: clone; -webkit-box-decoration-break: clone\">\n",
       "    Melania Trump\n",
       "    <span style=\"font-size: 0.8em; font-weight: bold; line-height: 1; border-radius: 0.35em; text-transform: uppercase; vertical-align: middle; margin-left: 0.5rem\">PERSON</span>\n",
       "</mark>\n",
       " visits infant opioid treatment center in \n",
       "<mark class=\"entity\" style=\"background: #feca74; padding: 0.45em 0.6em; margin: 0 0.25em; line-height: 1; border-radius: 0.35em; box-decoration-break: clone; -webkit-box-decoration-break: clone\">\n",
       "    Huntington West Virginia\n",
       "    <span style=\"font-size: 0.8em; font-weight: bold; line-height: 1; border-radius: 0.35em; text-transform: uppercase; vertical-align: middle; margin-left: 0.5rem\">GPE</span>\n",
       "</mark>\n",
       ", We love your grace and style FLOTUS]</div>"
      ],
      "text/plain": [
       "<IPython.core.display.HTML object>"
      ]
     },
     "metadata": {},
     "output_type": "display_data"
    },
    {
     "data": {
      "text/html": [
       "<div class=\"entities\" style=\"line-height: 2.5\">[BREAKING The audio of sexual predator \n",
       "<mark class=\"entity\" style=\"background: #aa9cfc; padding: 0.45em 0.6em; margin: 0 0.25em; line-height: 1; border-radius: 0.35em; box-decoration-break: clone; -webkit-box-decoration-break: clone\">\n",
       "    Harvey Weinstein\n",
       "    <span style=\"font-size: 0.8em; font-weight: bold; line-height: 1; border-radius: 0.35em; text-transform: uppercase; vertical-align: middle; margin-left: 0.5rem\">PERSON</span>\n",
       "</mark>\n",
       " admitting to assaulting model \n",
       "<mark class=\"entity\" style=\"background: #aa9cfc; padding: 0.45em 0.6em; margin: 0 0.25em; line-height: 1; border-radius: 0.35em; box-decoration-break: clone; -webkit-box-decoration-break: clone\">\n",
       "    Ambra Gutierrez\n",
       "    <span style=\"font-size: 0.8em; font-weight: bold; line-height: 1; border-radius: 0.35em; text-transform: uppercase; vertical-align: middle; margin-left: 0.5rem\">PERSON</span>\n",
       "</mark>\n",
       " has leaked I am truly disgusted]</div>"
      ],
      "text/plain": [
       "<IPython.core.display.HTML object>"
      ]
     },
     "metadata": {},
     "output_type": "display_data"
    },
    {
     "data": {
      "text/html": [
       "<div class=\"entities\" style=\"line-height: 2.5\">['\n",
       "<mark class=\"entity\" style=\"background: #aa9cfc; padding: 0.45em 0.6em; margin: 0 0.25em; line-height: 1; border-radius: 0.35em; box-decoration-break: clone; -webkit-box-decoration-break: clone\">\n",
       "    Breaking911 Build\n",
       "    <span style=\"font-size: 0.8em; font-weight: bold; line-height: 1; border-radius: 0.35em; text-transform: uppercase; vertical-align: middle; margin-left: 0.5rem\">PERSON</span>\n",
       "</mark>\n",
       " that wall ']</div>"
      ],
      "text/plain": [
       "<IPython.core.display.HTML object>"
      ]
     },
     "metadata": {},
     "output_type": "display_data"
    },
    {
     "data": {
      "text/html": [
       "<div class=\"entities\" style=\"line-height: 2.5\">[It took \n",
       "<mark class=\"entity\" style=\"background: #aa9cfc; padding: 0.45em 0.6em; margin: 0 0.25em; line-height: 1; border-radius: 0.35em; box-decoration-break: clone; -webkit-box-decoration-break: clone\">\n",
       "    Hillary\n",
       "    <span style=\"font-size: 0.8em; font-weight: bold; line-height: 1; border-radius: 0.35em; text-transform: uppercase; vertical-align: middle; margin-left: 0.5rem\">PERSON</span>\n",
       "</mark>\n",
       " abt \n",
       "<mark class=\"entity\" style=\"background: #bfe1d9; padding: 0.45em 0.6em; margin: 0 0.25em; line-height: 1; border-radius: 0.35em; box-decoration-break: clone; -webkit-box-decoration-break: clone\">\n",
       "    5 minutes\n",
       "    <span style=\"font-size: 0.8em; font-weight: bold; line-height: 1; border-radius: 0.35em; text-transform: uppercase; vertical-align: middle; margin-left: 0.5rem\">TIME</span>\n",
       "</mark>\n",
       " to blame \n",
       "<mark class=\"entity\" style=\"background: #7aecec; padding: 0.45em 0.6em; margin: 0 0.25em; line-height: 1; border-radius: 0.35em; box-decoration-break: clone; -webkit-box-decoration-break: clone\">\n",
       "    NRA\n",
       "    <span style=\"font-size: 0.8em; font-weight: bold; line-height: 1; border-radius: 0.35em; text-transform: uppercase; vertical-align: middle; margin-left: 0.5rem\">ORG</span>\n",
       "</mark>\n",
       " for madman's rampage but \n",
       "<mark class=\"entity\" style=\"background: #bfe1d9; padding: 0.45em 0.6em; margin: 0 0.25em; line-height: 1; border-radius: 0.35em; box-decoration-break: clone; -webkit-box-decoration-break: clone\">\n",
       "    5 days\n",
       "    <span style=\"font-size: 0.8em; font-weight: bold; line-height: 1; border-radius: 0.35em; text-transform: uppercase; vertical-align: middle; margin-left: 0.5rem\">DATE</span>\n",
       "</mark>\n",
       " to sortakinda blame \n",
       "<mark class=\"entity\" style=\"background: #aa9cfc; padding: 0.45em 0.6em; margin: 0 0.25em; line-height: 1; border-radius: 0.35em; box-decoration-break: clone; -webkit-box-decoration-break: clone\">\n",
       "    Harvey Weinstein 4\n",
       "    <span style=\"font-size: 0.8em; font-weight: bold; line-height: 1; border-radius: 0.35em; text-transform: uppercase; vertical-align: middle; margin-left: 0.5rem\">PERSON</span>\n",
       "</mark>\n",
       " his sexually assaults]</div>"
      ],
      "text/plain": [
       "<IPython.core.display.HTML object>"
      ]
     },
     "metadata": {},
     "output_type": "display_data"
    }
   ],
   "source": [
    "for i in range(20):\n",
    "    displacy.render(nlp(str(subset.sentences.loc[i])), jupyter=True, style='ent')"
   ]
  },
  {
   "cell_type": "markdown",
   "metadata": {},
   "source": [
    "### Sentiment analysis"
   ]
  },
  {
   "cell_type": "code",
   "execution_count": 18,
   "metadata": {},
   "outputs": [],
   "source": [
    "analyzer = SentimentIntensityAnalyzer()"
   ]
  },
  {
   "cell_type": "code",
   "execution_count": 19,
   "metadata": {
    "slideshow": {
     "slide_type": "skip"
    }
   },
   "outputs": [],
   "source": [
    "subset['sentiment'] = subset.content.astype(str).apply(lambda x: analyzer.polarity_scores(x)['compound'])"
   ]
  },
  {
   "cell_type": "code",
   "execution_count": 20,
   "metadata": {
    "slideshow": {
     "slide_type": "skip"
    }
   },
   "outputs": [],
   "source": [
    "def get_polarity(sentiment):\n",
    "    if sentiment > 0.05:\n",
    "        return 'Positive'\n",
    "    if sentiment < -0.05:\n",
    "        return 'Negative'\n",
    "    else:\n",
    "        return 'Neutral'\n",
    "subset['polarity'] = subset.sentiment.apply(get_polarity)"
   ]
  },
  {
   "cell_type": "code",
   "execution_count": 21,
   "metadata": {
    "slideshow": {
     "slide_type": "slide"
    }
   },
   "outputs": [
    {
     "data": {
      "image/png": "[encoded data removed]",
      "text/plain": [
       "<Figure size 1152x648 with 1 Axes>"
      ]
     },
     "metadata": {},
     "output_type": "display_data"
    }
   ],
   "source": [
    "top20people_polarity = (subset[['entities','polarity']].loc[subset.content\n",
    "                        .apply(lambda string: any(x in string for x in top20people))])\n",
    "top20people_polarity = (top20people_polarity.entities.apply(pd.Series)\n",
    "                        .merge(top20people_polarity, left_index = True, right_index = True)\n",
    "                        .drop(['entities'], axis = 1)\n",
    "                        .melt(id_vars = ['polarity'], value_name = 'entity')\n",
    "                        .drop(['variable'], axis=1)\n",
    "                       )\n",
    "top20people_polarity = (top20people_polarity.loc[top20people_polarity.entity\n",
    "                        .apply(lambda string: any(x == str(string) for x in top20people))])\n",
    "top20people_polarity = top20people_polarity.groupby(['entity','polarity']).size().groupby(level = 0).transform(lambda x: x/x.sum()).unstack()\n",
    "ax = top20people_polarity.plot(kind = 'bar', figsize=(16,9), color=['#f10c45','#feb308','#02ab2e'], fontsize=16)\n",
    "ax.set_xlabel(\"Entities recognized as people\", fontsize=16)\n",
    "ax.set_ylabel(\"Fraction of tweets\", fontsize=16);"
   ]
  },
  {
   "cell_type": "code",
   "execution_count": 22,
   "metadata": {
    "slideshow": {
     "slide_type": "slide"
    }
   },
   "outputs": [
    {
     "data": {
      "image/png": "[encoded data removed]",
      "text/plain": [
       "<Figure size 1152x648 with 1 Axes>"
      ]
     },
     "metadata": {},
     "output_type": "display_data"
    }
   ],
   "source": [
    "top20org_polarity = (subset[['entities','polarity']].loc[subset.content\n",
    "                        .apply(lambda string: any(x in string for x in top20org))])\n",
    "top20org_polarity = (top20org_polarity.entities.apply(pd.Series)\n",
    "                        .merge(top20org_polarity, left_index = True, right_index = True)\n",
    "                        .drop(['entities'], axis = 1)\n",
    "                        .melt(id_vars = ['polarity'], value_name = 'entity')\n",
    "                        .drop(['variable'], axis=1)\n",
    "                       )\n",
    "top20org_polarity = (top20org_polarity.loc[top20org_polarity.entity\n",
    "                        .apply(lambda string: any(x == str(string) for x in top20org))])\n",
    "top20org_polarity = top20org_polarity.groupby(['entity','polarity']).size().groupby(level = 0).transform(lambda x: x/x.sum()).unstack()\n",
    "ax = top20org_polarity.plot(kind = 'bar', figsize=(16,9), color=['#f10c45','#feb308','#02ab2e'], fontsize=16)\n",
    "ax.set_xlabel(\"Entities recognized as organizations\", fontsize=16)\n",
    "ax.set_ylabel(\"Fraction of tweets\", fontsize=16);"
   ]
  },
  {
   "cell_type": "code",
   "execution_count": 23,
   "metadata": {
    "slideshow": {
     "slide_type": "slide"
    }
   },
   "outputs": [
    {
     "data": {
      "image/png": "[encoded data removed]",
      "text/plain": [
       "<Figure size 1152x648 with 1 Axes>"
      ]
     },
     "metadata": {},
     "output_type": "display_data"
    }
   ],
   "source": [
    "top20gpe_polarity = (subset[['entities','polarity']].loc[subset.content\n",
    "                        .apply(lambda string: any(x in string for x in top20gpe))])\n",
    "top20gpe_polarity = (top20gpe_polarity.entities.apply(pd.Series)\n",
    "                        .merge(top20gpe_polarity, left_index = True, right_index = True)\n",
    "                        .drop(['entities'], axis = 1)\n",
    "                        .melt(id_vars = ['polarity'], value_name = 'entity')\n",
    "                        .drop(['variable'], axis=1)\n",
    "                       )\n",
    "top20gpe_polarity = (top20gpe_polarity.loc[top20gpe_polarity.entity\n",
    "                        .apply(lambda string: any(x == str(string) for x in top20gpe))])\n",
    "top20gpe_polarity = top20gpe_polarity.groupby(['entity','polarity']).size().groupby(level = 0).transform(lambda x: x/x.sum()).unstack()\n",
    "ax = top20gpe_polarity.plot(kind = 'bar', figsize=(16,9), color=['#f10c45','#feb308','#02ab2e'], fontsize=16)\n",
    "ax.set_xlabel(\"Entities recognized as geo-political entities\", fontsize=16)\n",
    "ax.set_ylabel(\"Fraction of tweets\", fontsize=16);"
   ]
  },
  {
   "cell_type": "code",
   "execution_count": 41,
   "metadata": {
    "slideshow": {
     "slide_type": "slide"
    }
   },
   "outputs": [
    {
     "data": {
      "image/png": "[encoded data removed]",
      "text/plain": [
       "<Figure size 1152x648 with 1 Axes>"
      ]
     },
     "metadata": {},
     "output_type": "display_data"
    }
   ],
   "source": [
    "top20norp_polarity = (subset[['entities','polarity']].loc[subset.content\n",
    "                        .apply(lambda string: any(x in string for x in top20norp))])\n",
    "top20norp_polarity = (top20norp_polarity.entities.apply(pd.Series)\n",
    "                        .merge(top20norp_polarity, left_index = True, right_index = True)\n",
    "                        .drop(['entities'], axis = 1)\n",
    "                        .melt(id_vars = ['polarity'], value_name = 'entity')\n",
    "                        .drop(['variable'], axis=1)\n",
    "                       )\n",
    "top20norp_polarity = (top20norp_polarity.loc[top20norp_polarity.entity\n",
    "                        .apply(lambda string: any(x == str(string) for x in top20norp))])\n",
    "top20norp_polarity = top20norp_polarity.groupby(['entity','polarity']).size().groupby(level = 0).transform(lambda x: x/x.sum()).unstack()\n",
    "ax = top20norp_polarity.plot(kind = 'bar', figsize=(16,9), color=['#f10c45','#feb308','#02ab2e'], fontsize=16)\n",
    "ax.set_xlabel(\"Entities recognized as nationalities, religious, or political organizations\", fontsize=16)\n",
    "ax.set_ylim(0,0.7)\n",
    "ax.set_ylabel(\"Fraction of tweets\", fontsize=12);"
   ]
  },
  {
   "cell_type": "code",
   "execution_count": null,
   "metadata": {
    "slideshow": {
     "slide_type": "skip"
    }
   },
   "outputs": [],
   "source": [
    "subset.to_csv('../data/eng_tweets_with_entities.csv')"
   ]
  },
  {
   "cell_type": "code",
   "execution_count": 46,
   "metadata": {
    "slideshow": {
     "slide_type": "skip"
    }
   },
   "outputs": [
    {
     "data": {
      "text/html": [
       "<div>\n",
       "<style scoped>\n",
       "    .dataframe tbody tr th:only-of-type {\n",
       "        vertical-align: middle;\n",
       "    }\n",
       "\n",
       "    .dataframe tbody tr th {\n",
       "        vertical-align: top;\n",
       "    }\n",
       "\n",
       "    .dataframe thead th {\n",
       "        text-align: right;\n",
       "    }\n",
       "</style>\n",
       "<table border=\"1\" class=\"dataframe\">\n",
       "  <thead>\n",
       "    <tr style=\"text-align: right;\">\n",
       "      <th></th>\n",
       "      <th>author</th>\n",
       "      <th>content</th>\n",
       "    </tr>\n",
       "  </thead>\n",
       "  <tbody>\n",
       "    <tr>\n",
       "      <th>5208</th>\n",
       "      <td>4MYSQUAD</td>\n",
       "      <td>Look to chrisrock to make jokes about him being the only Black on stage Oscars Still So White Oscars So White</td>\n",
       "    </tr>\n",
       "    <tr>\n",
       "      <th>5226</th>\n",
       "      <td>4MYSQUAD</td>\n",
       "      <td>Jada Pinkett Smith have criticised Oscar committee She is so right Blacklivesmatter blm equality</td>\n",
       "    </tr>\n",
       "    <tr>\n",
       "      <th>5250</th>\n",
       "      <td>4MYSQUAD</td>\n",
       "      <td>Johannes Mehserle the cop who murdered Oscar Grant did 1 year in jail and is currently still a COP Justice No</td>\n",
       "    </tr>\n",
       "    <tr>\n",
       "      <th>5257</th>\n",
       "      <td>4MYSQUAD</td>\n",
       "      <td>Will Smith joins wife in not attending the Oscars Oscars So White Oscars Boycott</td>\n",
       "    </tr>\n",
       "    <tr>\n",
       "      <th>5258</th>\n",
       "      <td>4MYSQUAD</td>\n",
       "      <td>Oscars have consistently cinematically robbed Black America Oscars So White Oscars Boycott</td>\n",
       "    </tr>\n",
       "    <tr>\n",
       "      <th>5274</th>\n",
       "      <td>4MYSQUAD</td>\n",
       "      <td>Just imagine Oscars So White Oscars Boycott Black Friends Friends Reunion</td>\n",
       "    </tr>\n",
       "    <tr>\n",
       "      <th>5290</th>\n",
       "      <td>4MYSQUAD</td>\n",
       "      <td>Academypresident Cheryl Isaacs promised to bring diversity to future shows Oscars So White Black Twitter equality</td>\n",
       "    </tr>\n",
       "    <tr>\n",
       "      <th>5292</th>\n",
       "      <td>4MYSQUAD</td>\n",
       "      <td>HBO Ordered a Black Lives Matter documentary after Oscars So White BLM Black Twitter</td>\n",
       "    </tr>\n",
       "    <tr>\n",
       "      <th>5295</th>\n",
       "      <td>4MYSQUAD</td>\n",
       "      <td>How about being Black woman in Hollywood Oscars So White Oscars Boycott equality</td>\n",
       "    </tr>\n",
       "    <tr>\n",
       "      <th>5318</th>\n",
       "      <td>4MYSQUAD</td>\n",
       "      <td>Kris JStewart on Oscars So White 'Instead of complaining do Something' Ok Like dis Oscar2016</td>\n",
       "    </tr>\n",
       "    <tr>\n",
       "      <th>7428</th>\n",
       "      <td>4MYSQUAD</td>\n",
       "      <td>SAG Awards get it right while Oscars So White sagawards Black</td>\n",
       "    </tr>\n",
       "    <tr>\n",
       "      <th>9050</th>\n",
       "      <td>4MYSQUAD</td>\n",
       "      <td>recogni ZETAste i Go HAM79 Jack Kur Dae tyga got Oscar Proud ankles the fuck</td>\n",
       "    </tr>\n",
       "    <tr>\n",
       "      <th>13754</th>\n",
       "      <td>AANTIRACIST</td>\n",
       "      <td>White people even dont notice there are too few black people nominated for Oscars Oscar Has No Color</td>\n",
       "    </tr>\n",
       "    <tr>\n",
       "      <th>13755</th>\n",
       "      <td>AANTIRACIST</td>\n",
       "      <td>They called us slaves for many years now they can't call us slaves because of the law but now they use another methods Oscar Has No Color</td>\n",
       "    </tr>\n",
       "    <tr>\n",
       "      <th>19362</th>\n",
       "      <td>ACEJINEV</td>\n",
       "      <td>The holy prophet is the most kindest of mankind is very kind to women childrenold and even young Oscar For Muhammad</td>\n",
       "    </tr>\n",
       "    <tr>\n",
       "      <th>19363</th>\n",
       "      <td>ACEJINEV</td>\n",
       "      <td>oscarssowhite A man who knew how to treat a woman and be a man Oscar For Muhammad</td>\n",
       "    </tr>\n",
       "    <tr>\n",
       "      <th>19567</th>\n",
       "      <td>ACEJINEV</td>\n",
       "      <td>Dev Patel could become the first ever South Asian actor to win an Oscar for Best Actor in a Supporting Role Pray For Dev Oscar Noms</td>\n",
       "    </tr>\n",
       "    <tr>\n",
       "      <th>21015</th>\n",
       "      <td>ACEJINEV</td>\n",
       "      <td>And you thought Oscars So White Now it is White House So White At least the Academy had to name some women</td>\n",
       "    </tr>\n",
       "    <tr>\n",
       "      <th>22072</th>\n",
       "      <td>ACEJINEV</td>\n",
       "      <td>Mahershala Ali won the award for best supporting actor at the Oscars for Moonlightan amazing film opening once silenced conversations</td>\n",
       "    </tr>\n",
       "    <tr>\n",
       "      <th>22074</th>\n",
       "      <td>ACEJINEV</td>\n",
       "      <td>Finally saw Moonlight the other day Beautifully shot Well done on the Oscar win</td>\n",
       "    </tr>\n",
       "  </tbody>\n",
       "</table>\n",
       "</div>"
      ],
      "text/plain": [
       "            author  \\\n",
       "5208      4MYSQUAD   \n",
       "5226      4MYSQUAD   \n",
       "5250      4MYSQUAD   \n",
       "5257      4MYSQUAD   \n",
       "5258      4MYSQUAD   \n",
       "5274      4MYSQUAD   \n",
       "5290      4MYSQUAD   \n",
       "5292      4MYSQUAD   \n",
       "5295      4MYSQUAD   \n",
       "5318      4MYSQUAD   \n",
       "7428      4MYSQUAD   \n",
       "9050      4MYSQUAD   \n",
       "13754  AANTIRACIST   \n",
       "13755  AANTIRACIST   \n",
       "19362     ACEJINEV   \n",
       "19363     ACEJINEV   \n",
       "19567     ACEJINEV   \n",
       "21015     ACEJINEV   \n",
       "22072     ACEJINEV   \n",
       "22074     ACEJINEV   \n",
       "\n",
       "                                                                                                                                         content  \n",
       "5208                              Look to chrisrock to make jokes about him being the only Black on stage Oscars Still So White Oscars So White   \n",
       "5226                                           Jada Pinkett Smith have criticised Oscar committee She is so right Blacklivesmatter blm equality   \n",
       "5250                              Johannes Mehserle the cop who murdered Oscar Grant did 1 year in jail and is currently still a COP Justice No   \n",
       "5257                                                           Will Smith joins wife in not attending the Oscars Oscars So White Oscars Boycott   \n",
       "5258                                                 Oscars have consistently cinematically robbed Black America Oscars So White Oscars Boycott   \n",
       "5274                                                                  Just imagine Oscars So White Oscars Boycott Black Friends Friends Reunion   \n",
       "5290                          Academypresident Cheryl Isaacs promised to bring diversity to future shows Oscars So White Black Twitter equality   \n",
       "5292                                                       HBO Ordered a Black Lives Matter documentary after Oscars So White BLM Black Twitter   \n",
       "5295                                                           How about being Black woman in Hollywood Oscars So White Oscars Boycott equality   \n",
       "5318                                               Kris JStewart on Oscars So White 'Instead of complaining do Something' Ok Like dis Oscar2016   \n",
       "7428                                                                              SAG Awards get it right while Oscars So White sagawards Black   \n",
       "9050                                                               recogni ZETAste i Go HAM79 Jack Kur Dae tyga got Oscar Proud ankles the fuck   \n",
       "13754                                       White people even dont notice there are too few black people nominated for Oscars Oscar Has No Color  \n",
       "13755  They called us slaves for many years now they can't call us slaves because of the law but now they use another methods Oscar Has No Color  \n",
       "19362                       The holy prophet is the most kindest of mankind is very kind to women childrenold and even young Oscar For Muhammad   \n",
       "19363                                                         oscarssowhite A man who knew how to treat a woman and be a man Oscar For Muhammad   \n",
       "19567       Dev Patel could become the first ever South Asian actor to win an Oscar for Best Actor in a Supporting Role Pray For Dev Oscar Noms   \n",
       "21015                                 And you thought Oscars So White Now it is White House So White At least the Academy had to name some women  \n",
       "22072      Mahershala Ali won the award for best supporting actor at the Oscars for Moonlightan amazing film opening once silenced conversations  \n",
       "22074                                                           Finally saw Moonlight the other day Beautifully shot Well done on the Oscar win   "
      ]
     },
     "execution_count": 46,
     "metadata": {},
     "output_type": "execute_result"
    }
   ],
   "source": [
    "pd.options.display.max_colwidth = 250\n",
    "subset[['author','content']].loc[subset.content.str.contains(\"Oscar\")].head(20)"
   ]
  }
 ],
 "metadata": {
  "celltoolbar": "Slideshow",
  "hide_input": true,
  "kernelspec": {
   "display_name": "Python 3",
   "language": "python",
   "name": "python3"
  },
  "language_info": {
   "codemirror_mode": {
    "name": "ipython",
    "version": 3
   },
   "file_extension": ".py",
   "mimetype": "text/x-python",
   "name": "python",
   "nbconvert_exporter": "python",
   "pygments_lexer": "ipython3",
   "version": "3.6.8"
  }
 },
 "nbformat": 4,
 "nbformat_minor": 2
}
