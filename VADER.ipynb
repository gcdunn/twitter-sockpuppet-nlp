{
 "cells": [
  {
   "cell_type": "markdown",
   "metadata": {
    "slideshow": {
     "slide_type": "slide"
    }
   },
   "source": [
    "## What is the distribution of sentiments of tweets as grouped by account category?\n",
    "### Sentiment analysis with VADER"
   ]
  },
  {
   "cell_type": "code",
   "execution_count": 1,
   "metadata": {
    "slideshow": {
     "slide_type": "skip"
    }
   },
   "outputs": [],
   "source": [
    "import os\n",
    "import re\n",
    "import ipywidgets as widgets\n",
    "import sqlite3 as sql\n",
    "import emoji\n",
    "import datetime\n",
    "import pandas as pd\n",
    "import numpy as np\n",
    "from matplotlib import pyplot as plt\n",
    "from vaderSentiment.vaderSentiment import SentimentIntensityAnalyzer\n",
    "\n",
    "import warnings\n",
    "warnings.filterwarnings('ignore')\n",
    "\n",
    "plt.style.use('fivethirtyeight')\n",
    "pd.options.display.max_colwidth = 250\n",
    "%matplotlib notebook"
   ]
  },
  {
   "cell_type": "code",
   "execution_count": 2,
   "metadata": {
    "slideshow": {
     "slide_type": "skip"
    }
   },
   "outputs": [
    {
     "name": "stdout",
     "output_type": "stream",
     "text": [
      "Opening existing data file...\n",
      "Done.\n"
     ]
    }
   ],
   "source": [
    "if not os.path.exists('data/fivethirtyeight_tweets.csv'):\n",
    "    with open('data/fivethirtyeight_tweets.csv', 'w'):\n",
    "        for ii in range(1,12):\n",
    "            print('Accessing file '+str(ii)+' of 11...')\n",
    "            if ii == 1:\n",
    "                ira_tweets_538 = pd.read_csv('https://raw.githubusercontent.com/fivethirtyeight/russian-troll-tweets/master/IRAhandle_tweets_'+str(ii)+'.csv')\n",
    "            else:\n",
    "                more = pd.read_csv('https://raw.githubusercontent.com/fivethirtyeight/russian-troll-tweets/master/IRAhandle_tweets_'+str(ii)+'.csv')\n",
    "                ira_tweets_538 = pd.concat([ira_tweets, more])\n",
    "        ira_tweets_538.to_csv('data/fivethirtyeight_tweets.csv')\n",
    "        print('Done.')\n",
    "        pass\n",
    "else:\n",
    "    print('Opening existing data file...')\n",
    "    ira_tweets_538 = pd.read_csv('data/fivethirtyeight_tweets.csv')\n",
    "    print('Done.')"
   ]
  },
  {
   "cell_type": "code",
   "execution_count": 3,
   "metadata": {
    "slideshow": {
     "slide_type": "skip"
    }
   },
   "outputs": [
    {
     "data": {
      "text/plain": [
       "NonEnglish      746245\n",
       "RightTroll      652275\n",
       "NewsFeed        542640\n",
       "LeftTroll       389898\n",
       "HashtagGamer    209279\n",
       "Commercial      121904\n",
       "Unknown          13070\n",
       "Fearmonger       10652\n",
       "Name: account_category, dtype: int64"
      ]
     },
     "execution_count": 3,
     "metadata": {},
     "output_type": "execute_result"
    }
   ],
   "source": [
    "ira_tweets_538.account_category.value_counts()"
   ]
  },
  {
   "cell_type": "code",
   "execution_count": 54,
   "metadata": {
    "slideshow": {
     "slide_type": "skip"
    }
   },
   "outputs": [],
   "source": [
    "# cleaning the tweet content a bit differently for VADER, since it uses capitalization, \n",
    "# puncutation, and emojis to extract sentiment\n",
    "eng_tweets = ira_tweets_538[ira_tweets_538.language == 'English']\n",
    "eng_tweets = eng_tweets[eng_tweets.account_category != 'NonEnglish']\n",
    "eng_tweets.content = eng_tweets.content.str.replace('((www\\.[^\\s]+)|(http?://[^\\s]+)|(https?://[^\\s]+))','')\n",
    "eng_tweets.content = eng_tweets.content.apply(lambda x: re.sub('[#@/|\\-;,.]','', str(x)))\n",
    "eng_tweets.content = eng_tweets.content.str.replace(\"'s\",'')\n",
    "eng_tweets.content = eng_tweets.content.str.replace('amp','')\n",
    "eng_tweets.content = eng_tweets.content.apply(lambda x: re.sub('([a-z])([A-Z])','\\g<1> \\g<2>', str(x)))"
   ]
  },
  {
   "cell_type": "code",
   "execution_count": 55,
   "metadata": {
    "slideshow": {
     "slide_type": "skip"
    }
   },
   "outputs": [],
   "source": [
    "targets = ['RightTroll', 'LeftTroll', 'NewsFeed', 'Fearmonger']\n",
    "eng_tweets = eng_tweets.loc[eng_tweets.account_category.isin(targets)]"
   ]
  },
  {
   "cell_type": "code",
   "execution_count": 56,
   "metadata": {
    "slideshow": {
     "slide_type": "skip"
    }
   },
   "outputs": [
    {
     "data": {
      "text/plain": [
       "RightTroll    646007\n",
       "NewsFeed      541260\n",
       "LeftTroll     385410\n",
       "Fearmonger     10524\n",
       "Name: account_category, dtype: int64"
      ]
     },
     "execution_count": 56,
     "metadata": {},
     "output_type": "execute_result"
    }
   ],
   "source": [
    "eng_tweets.account_category.value_counts()"
   ]
  },
  {
   "cell_type": "code",
   "execution_count": 57,
   "metadata": {
    "slideshow": {
     "slide_type": "skip"
    }
   },
   "outputs": [],
   "source": [
    "analyzer = SentimentIntensityAnalyzer()"
   ]
  },
  {
   "cell_type": "code",
   "execution_count": 58,
   "metadata": {
    "slideshow": {
     "slide_type": "skip"
    }
   },
   "outputs": [],
   "source": [
    "def get_polarity(compound_score):\n",
    "    if compound_score > 0.05:\n",
    "        return 'Positive'\n",
    "    if compound_score < -0.05:\n",
    "        return 'Negative'\n",
    "    else:\n",
    "        return 'Neutral'"
   ]
  },
  {
   "cell_type": "code",
   "execution_count": 59,
   "metadata": {
    "scrolled": true,
    "slideshow": {
     "slide_type": "skip"
    }
   },
   "outputs": [
    {
     "data": {
      "text/plain": [
       "0    0.0000\n",
       "1   -0.3182\n",
       "2   -0.4404\n",
       "3    0.0000\n",
       "4    0.6399\n",
       "Name: sentiment, dtype: float64"
      ]
     },
     "execution_count": 59,
     "metadata": {},
     "output_type": "execute_result"
    }
   ],
   "source": [
    "eng_tweets['sentiment'] = eng_tweets.content.apply(lambda x: analyzer.polarity_scores(x)['compound'])\n",
    "eng_tweets.sentiment.head()"
   ]
  },
  {
   "cell_type": "code",
   "execution_count": 60,
   "metadata": {
    "slideshow": {
     "slide_type": "skip"
    }
   },
   "outputs": [],
   "source": [
    "eng_tweets['polarity'] = eng_tweets.sentiment.apply(get_polarity)"
   ]
  },
  {
   "cell_type": "code",
   "execution_count": 61,
   "metadata": {
    "slideshow": {
     "slide_type": "slide"
    }
   },
   "outputs": [
    {
     "data": {
      "application/vnd.jupyter.widget-view+json": {
       "model_id": "304d7e2afdfb4c57a9234a5f001d6aec",
       "version_major": 2,
       "version_minor": 0
      },
      "text/plain": [
       "interactive(children=(Dropdown(description='Account category:', index=4, options=('RightTroll', 'LeftTroll', '…"
      ]
     },
     "metadata": {},
     "output_type": "display_data"
    }
   ],
   "source": [
    "def plot_func(category):\n",
    "    plt.figure(figsize=(16,9))\n",
    "    bins = np.arange(-1,1,0.05)\n",
    "    colors = ['#f10c45','#069af3','#929591']\n",
    "    props = dict(boxstyle='round', facecolor='#929591', alpha=0.5)\n",
    "    if category == 'All':\n",
    "        plt.hist(eng_tweets.sentiment, bins=bins, \n",
    "                 weights = np.ones(len(eng_tweets.sentiment))/len(eng_tweets.sentiment),\n",
    "                 color='green', alpha=0.75, histtype='stepfilled', linewidth=2, label='All tweets'\n",
    "                   )\n",
    "        plt.figtext(0.1,0.7, eng_tweets.\n",
    "                    sentiment.describe().apply(lambda x: '%.3f' % x).to_string(), fontsize='x-large', bbox=props)\n",
    "\n",
    "    else:\n",
    "        if category=='RightTroll': color='#f10c45'\n",
    "        if category=='LeftTroll': color='#069af3'\n",
    "        if category=='NewsFeed': color='#029386'\n",
    "        if category=='Fearmonger': color='#7e1e9c'\n",
    "        n = len(eng_tweets[eng_tweets.account_category==str(category)])\n",
    "        plt.hist(eng_tweets.sentiment[eng_tweets.account_category==str(category)], #/n, \n",
    "                 bins=bins, weights = np.ones(n)/n, color=color, alpha=0.75, \n",
    "                 histtype='stepfilled', linewidth=2, \n",
    "                    label=str(category))\n",
    "        plt.figtext(0.1,0.7, eng_tweets[eng_tweets.account_category==str(category)].\n",
    "                    sentiment.describe().apply(lambda x: '%.3f' % x).to_string(), fontsize='x-large', bbox=props)\n",
    "\n",
    "    plt.xlabel('Tweet sentiment', fontsize=18)\n",
    "    plt.ylabel('Fraction of tweets', fontsize=18)\n",
    "    plt.legend(fontsize=16)\n",
    "    plt.tight_layout()\n",
    "\n",
    "widgets.interact(plot_func, category=widgets.Dropdown(\n",
    "    options=targets+['All'],\n",
    "    value='All',\n",
    "    description='Account category:',\n",
    "    disabled=False));"
   ]
  },
  {
   "cell_type": "markdown",
   "metadata": {
    "slideshow": {
     "slide_type": "slide"
    }
   },
   "source": [
    "### Many tweets are identified as neutral.  What are some examples of neutral tweets in this dataset?"
   ]
  },
  {
   "cell_type": "code",
   "execution_count": 64,
   "metadata": {
    "slideshow": {
     "slide_type": "fragment"
    }
   },
   "outputs": [
    {
     "name": "stdout",
     "output_type": "stream",
     "text": [
      "A tale of two conventions  politics\n",
      "\n",
      "Susan Collins wants Mike Flynn to testify in Russia probe and doesn’t rule out subpoenaing POTUS’s tax returns \n",
      "\n",
      "Colombia reports more than 2000 Zika Virus cases in pregnant women \n",
      "\n",
      "Trump Train MAGA POTUS \n",
      "\n",
      "Could by your girlfriend wife sister Mom  \n",
      "\n",
      "Senate panel calls for women to sign up for military draft  politics\n",
      "\n",
      "Sneezeo Meter: It happens every spring … sometimes a little sooner  \n",
      "\n",
      "sports Russell Westbrook tripledouble streak mesmerized while it lasted\n",
      "\n",
      "Is this a real pride of cops to shoot teens? policebrutality Wear Hoodie For Trayvon\n",
      "\n",
      "US airforce scrambles its jets to prevent SAA bombing kurds in Hasakah     \n",
      "\n"
     ]
    }
   ],
   "source": [
    "# Are all of these neutral tweets actually neutral?\n",
    "pd.options.display.max_colwidth = 500\n",
    "neutral = eng_tweets['content'].loc[eng_tweets.polarity=='Neutral']\n",
    "for tweet in neutral.sample(10).values:\n",
    "    print(tweet)\n",
    "    print('')"
   ]
  },
  {
   "cell_type": "markdown",
   "metadata": {
    "slideshow": {
     "slide_type": "skip"
    }
   },
   "source": [
    "### Are neutral tweets shorter than positive or negative tweets?"
   ]
  },
  {
   "cell_type": "code",
   "execution_count": 68,
   "metadata": {
    "slideshow": {
     "slide_type": "skip"
    }
   },
   "outputs": [
    {
     "data": {
      "text/plain": [
       "count    489617.000000\n",
       "mean         67.227931\n",
       "std          29.708461\n",
       "min           0.000000\n",
       "25%          50.000000\n",
       "50%          64.000000\n",
       "75%          82.000000\n",
       "max         813.000000\n",
       "Name: content, dtype: float64"
      ]
     },
     "execution_count": 68,
     "metadata": {},
     "output_type": "execute_result"
    }
   ],
   "source": [
    "neutral.str.len().describe()"
   ]
  },
  {
   "cell_type": "code",
   "execution_count": 69,
   "metadata": {
    "slideshow": {
     "slide_type": "skip"
    }
   },
   "outputs": [
    {
     "data": {
      "text/plain": [
       "count    484352.000000\n",
       "mean         83.128497\n",
       "std          34.139860\n",
       "min           2.000000\n",
       "25%          60.000000\n",
       "50%          78.000000\n",
       "75%         108.000000\n",
       "max         891.000000\n",
       "Name: content, dtype: float64"
      ]
     },
     "execution_count": 69,
     "metadata": {},
     "output_type": "execute_result"
    }
   ],
   "source": [
    "eng_tweets['content'].loc[eng_tweets.polarity=='Positive'].str.len().describe()"
   ]
  },
  {
   "cell_type": "code",
   "execution_count": 70,
   "metadata": {
    "slideshow": {
     "slide_type": "skip"
    }
   },
   "outputs": [
    {
     "data": {
      "text/plain": [
       "count    609232.000000\n",
       "mean         82.182325\n",
       "std          31.040569\n",
       "min           2.000000\n",
       "25%          61.000000\n",
       "50%          75.000000\n",
       "75%         104.000000\n",
       "max         783.000000\n",
       "Name: content, dtype: float64"
      ]
     },
     "execution_count": 70,
     "metadata": {},
     "output_type": "execute_result"
    }
   ],
   "source": [
    "eng_tweets['content'].loc[eng_tweets.polarity=='Negative'].str.len().describe()"
   ]
  }
 ],
 "metadata": {
  "celltoolbar": "Slideshow",
  "hide_input": true,
  "kernelspec": {
   "display_name": "Python 3",
   "language": "python",
   "name": "python3"
  },
  "language_info": {
   "codemirror_mode": {
    "name": "ipython",
    "version": 3
   },
   "file_extension": ".py",
   "mimetype": "text/x-python",
   "name": "python",
   "nbconvert_exporter": "python",
   "pygments_lexer": "ipython3",
   "version": "3.6.8"
  }
 },
 "nbformat": 4,
 "nbformat_minor": 2
}
