{
 "cells": [
  {
   "cell_type": "markdown",
   "metadata": {
    "slideshow": {
     "slide_type": "slide"
    }
   },
   "source": [
    "## What are these accounts tweeting about?  \n",
    "## N-grams and topic modelling"
   ]
  },
  {
   "cell_type": "code",
   "execution_count": 39,
   "metadata": {
    "slideshow": {
     "slide_type": "skip"
    }
   },
   "outputs": [],
   "source": [
    "import os\n",
    "import re\n",
    "import pprint\n",
    "import sqlite3 as sql\n",
    "import pandas as pd\n",
    "import numpy as np\n",
    "import seaborn as sns\n",
    "import matplotlib.pyplot as plt\n",
    "from nltk.tokenize import word_tokenize\n",
    "from spacy.lang.en import English\n",
    "from spacy.matcher import Matcher, PhraseMatcher\n",
    "from spacy.tokens import Doc\n",
    "from sklearn.feature_extraction.text import TfidfVectorizer\n",
    "from collections import Counter\n",
    "from ast import literal_eval\n",
    "\n",
    "import warnings\n",
    "warnings.filterwarnings('ignore')\n",
    "warnings.filterwarnings('ignore', category=DeprecationWarning)\n",
    "\n",
    "np.random.seed(123)"
   ]
  },
  {
   "cell_type": "code",
   "execution_count": 3,
   "metadata": {
    "slideshow": {
     "slide_type": "skip"
    }
   },
   "outputs": [
    {
     "data": {
      "text/html": [
       "<div>\n",
       "<style scoped>\n",
       "    .dataframe tbody tr th:only-of-type {\n",
       "        vertical-align: middle;\n",
       "    }\n",
       "\n",
       "    .dataframe tbody tr th {\n",
       "        vertical-align: top;\n",
       "    }\n",
       "\n",
       "    .dataframe thead th {\n",
       "        text-align: right;\n",
       "    }\n",
       "</style>\n",
       "<table border=\"1\" class=\"dataframe\">\n",
       "  <thead>\n",
       "    <tr style=\"text-align: right;\">\n",
       "      <th></th>\n",
       "      <th>external_author_id</th>\n",
       "      <th>author</th>\n",
       "      <th>content</th>\n",
       "      <th>language</th>\n",
       "      <th>publish_date</th>\n",
       "      <th>harvested_date</th>\n",
       "      <th>following</th>\n",
       "      <th>followers</th>\n",
       "      <th>updates</th>\n",
       "      <th>post_type</th>\n",
       "      <th>account_type</th>\n",
       "      <th>retweet</th>\n",
       "      <th>account_category</th>\n",
       "      <th>new_june_2018</th>\n",
       "      <th>alt_external_id</th>\n",
       "      <th>tweet_id</th>\n",
       "      <th>hashtags</th>\n",
       "      <th>mentions</th>\n",
       "    </tr>\n",
       "  </thead>\n",
       "  <tbody>\n",
       "    <tr>\n",
       "      <th>0</th>\n",
       "      <td>906000000000000000</td>\n",
       "      <td>10_GOP</td>\n",
       "      <td>We have a sitting Democrat US Senator on trial...</td>\n",
       "      <td>English</td>\n",
       "      <td>10/1/2017 19:58</td>\n",
       "      <td>10/1/2017 19:59</td>\n",
       "      <td>1052</td>\n",
       "      <td>9636</td>\n",
       "      <td>253</td>\n",
       "      <td>NaN</td>\n",
       "      <td>Right</td>\n",
       "      <td>0</td>\n",
       "      <td>RightTroll</td>\n",
       "      <td>0</td>\n",
       "      <td>905874659358453760</td>\n",
       "      <td>914580356430536707</td>\n",
       "      <td>[]</td>\n",
       "      <td>[@nedryun]</td>\n",
       "    </tr>\n",
       "    <tr>\n",
       "      <th>1</th>\n",
       "      <td>906000000000000000</td>\n",
       "      <td>10_GOP</td>\n",
       "      <td>Marshawn Lynch arrives to game in anti Trump s...</td>\n",
       "      <td>English</td>\n",
       "      <td>10/1/2017 22:43</td>\n",
       "      <td>10/1/2017 22:43</td>\n",
       "      <td>1054</td>\n",
       "      <td>9637</td>\n",
       "      <td>254</td>\n",
       "      <td>NaN</td>\n",
       "      <td>Right</td>\n",
       "      <td>0</td>\n",
       "      <td>RightTroll</td>\n",
       "      <td>0</td>\n",
       "      <td>905874659358453760</td>\n",
       "      <td>914621840496189440</td>\n",
       "      <td>[]</td>\n",
       "      <td>[]</td>\n",
       "    </tr>\n",
       "    <tr>\n",
       "      <th>2</th>\n",
       "      <td>906000000000000000</td>\n",
       "      <td>10_GOP</td>\n",
       "      <td>Daughter of fallen Navy Sailor delivers powerf...</td>\n",
       "      <td>English</td>\n",
       "      <td>10/1/2017 22:50</td>\n",
       "      <td>10/1/2017 22:51</td>\n",
       "      <td>1054</td>\n",
       "      <td>9637</td>\n",
       "      <td>255</td>\n",
       "      <td>RETWEET</td>\n",
       "      <td>Right</td>\n",
       "      <td>1</td>\n",
       "      <td>RightTroll</td>\n",
       "      <td>0</td>\n",
       "      <td>905874659358453760</td>\n",
       "      <td>914623490375979008</td>\n",
       "      <td>[#BoycottNFL]</td>\n",
       "      <td>[]</td>\n",
       "    </tr>\n",
       "    <tr>\n",
       "      <th>3</th>\n",
       "      <td>906000000000000000</td>\n",
       "      <td>10_GOP</td>\n",
       "      <td>JUST IN President Trump dedicates Presidents C...</td>\n",
       "      <td>English</td>\n",
       "      <td>10/1/2017 23:52</td>\n",
       "      <td>10/1/2017 23:52</td>\n",
       "      <td>1062</td>\n",
       "      <td>9642</td>\n",
       "      <td>256</td>\n",
       "      <td>NaN</td>\n",
       "      <td>Right</td>\n",
       "      <td>0</td>\n",
       "      <td>RightTroll</td>\n",
       "      <td>0</td>\n",
       "      <td>905874659358453760</td>\n",
       "      <td>914639143690555392</td>\n",
       "      <td>[]</td>\n",
       "      <td>[]</td>\n",
       "    </tr>\n",
       "    <tr>\n",
       "      <th>4</th>\n",
       "      <td>906000000000000000</td>\n",
       "      <td>10_GOP</td>\n",
       "      <td>19000 RESPECTING our National Anthem Stand For...</td>\n",
       "      <td>English</td>\n",
       "      <td>10/1/2017 2:13</td>\n",
       "      <td>10/1/2017 2:13</td>\n",
       "      <td>1050</td>\n",
       "      <td>9645</td>\n",
       "      <td>246</td>\n",
       "      <td>RETWEET</td>\n",
       "      <td>Right</td>\n",
       "      <td>1</td>\n",
       "      <td>RightTroll</td>\n",
       "      <td>0</td>\n",
       "      <td>905874659358453760</td>\n",
       "      <td>914312219952861184</td>\n",
       "      <td>[#StandForOurAnthem]</td>\n",
       "      <td>[]</td>\n",
       "    </tr>\n",
       "  </tbody>\n",
       "</table>\n",
       "</div>"
      ],
      "text/plain": [
       "   external_author_id  author  \\\n",
       "0  906000000000000000  10_GOP   \n",
       "1  906000000000000000  10_GOP   \n",
       "2  906000000000000000  10_GOP   \n",
       "3  906000000000000000  10_GOP   \n",
       "4  906000000000000000  10_GOP   \n",
       "\n",
       "                                             content language  \\\n",
       "0  We have a sitting Democrat US Senator on trial...  English   \n",
       "1  Marshawn Lynch arrives to game in anti Trump s...  English   \n",
       "2  Daughter of fallen Navy Sailor delivers powerf...  English   \n",
       "3  JUST IN President Trump dedicates Presidents C...  English   \n",
       "4  19000 RESPECTING our National Anthem Stand For...  English   \n",
       "\n",
       "      publish_date   harvested_date  following  followers  updates post_type  \\\n",
       "0  10/1/2017 19:58  10/1/2017 19:59       1052       9636      253       NaN   \n",
       "1  10/1/2017 22:43  10/1/2017 22:43       1054       9637      254       NaN   \n",
       "2  10/1/2017 22:50  10/1/2017 22:51       1054       9637      255   RETWEET   \n",
       "3  10/1/2017 23:52  10/1/2017 23:52       1062       9642      256       NaN   \n",
       "4   10/1/2017 2:13   10/1/2017 2:13       1050       9645      246   RETWEET   \n",
       "\n",
       "  account_type  retweet account_category  new_june_2018     alt_external_id  \\\n",
       "0        Right        0       RightTroll              0  905874659358453760   \n",
       "1        Right        0       RightTroll              0  905874659358453760   \n",
       "2        Right        1       RightTroll              0  905874659358453760   \n",
       "3        Right        0       RightTroll              0  905874659358453760   \n",
       "4        Right        1       RightTroll              0  905874659358453760   \n",
       "\n",
       "             tweet_id              hashtags    mentions  \n",
       "0  914580356430536707                    []  [@nedryun]  \n",
       "1  914621840496189440                    []          []  \n",
       "2  914623490375979008         [#BoycottNFL]          []  \n",
       "3  914639143690555392                    []          []  \n",
       "4  914312219952861184  [#StandForOurAnthem]          []  "
      ]
     },
     "execution_count": 3,
     "metadata": {},
     "output_type": "execute_result"
    }
   ],
   "source": [
    "eng_tweets = pd.read_pickle('../data/eng_tweets.p')\n",
    "user_rt = pd.read_pickle('../data/user_rt.p')\n",
    "user_original = pd.read_pickle('../data/user_rt.p')\n",
    "\n",
    "#with sql.connect('../data/eng_tweets.db') as conn:\n",
    "#    eng_tweets = pd.read_sql_query('select * from eng_tweets', conn)\n",
    "eng_tweets.head()"
   ]
  },
  {
   "cell_type": "code",
   "execution_count": 4,
   "metadata": {
    "slideshow": {
     "slide_type": "skip"
    }
   },
   "outputs": [
    {
     "data": {
      "text/html": [
       "<div>\n",
       "<style scoped>\n",
       "    .dataframe tbody tr th:only-of-type {\n",
       "        vertical-align: middle;\n",
       "    }\n",
       "\n",
       "    .dataframe tbody tr th {\n",
       "        vertical-align: top;\n",
       "    }\n",
       "\n",
       "    .dataframe thead th {\n",
       "        text-align: right;\n",
       "    }\n",
       "</style>\n",
       "<table border=\"1\" class=\"dataframe\">\n",
       "  <thead>\n",
       "    <tr style=\"text-align: right;\">\n",
       "      <th></th>\n",
       "      <th>author</th>\n",
       "      <th>account_category</th>\n",
       "      <th>content</th>\n",
       "    </tr>\n",
       "  </thead>\n",
       "  <tbody>\n",
       "    <tr>\n",
       "      <th>0</th>\n",
       "      <td>10_GOP</td>\n",
       "      <td>RightTroll</td>\n",
       "      <td>Daughter of fallen Navy Sailor delivers powerf...</td>\n",
       "    </tr>\n",
       "    <tr>\n",
       "      <th>1</th>\n",
       "      <td>1D_NICOLE_</td>\n",
       "      <td>Fearmonger</td>\n",
       "      <td>Food Poisoning is not a joke Walmart Koch Farm...</td>\n",
       "    </tr>\n",
       "    <tr>\n",
       "      <th>2</th>\n",
       "      <td>1ERIK_LEE</td>\n",
       "      <td>RightTroll</td>\n",
       "      <td>Why is someone even against the petition I'll ...</td>\n",
       "    </tr>\n",
       "    <tr>\n",
       "      <th>3</th>\n",
       "      <td>4EVER_SUSAN</td>\n",
       "      <td>RightTroll</td>\n",
       "      <td>Raiders defense playing hungry Bending and not...</td>\n",
       "    </tr>\n",
       "    <tr>\n",
       "      <th>4</th>\n",
       "      <td>4MYSQUAD</td>\n",
       "      <td>LeftTroll</td>\n",
       "      <td>'politicalseason Maat Justice Injustice in Lou...</td>\n",
       "    </tr>\n",
       "  </tbody>\n",
       "</table>\n",
       "</div>"
      ],
      "text/plain": [
       "        author account_category  \\\n",
       "0       10_GOP       RightTroll   \n",
       "1   1D_NICOLE_       Fearmonger   \n",
       "2    1ERIK_LEE       RightTroll   \n",
       "3  4EVER_SUSAN       RightTroll   \n",
       "4     4MYSQUAD        LeftTroll   \n",
       "\n",
       "                                             content  \n",
       "0  Daughter of fallen Navy Sailor delivers powerf...  \n",
       "1  Food Poisoning is not a joke Walmart Koch Farm...  \n",
       "2  Why is someone even against the petition I'll ...  \n",
       "3  Raiders defense playing hungry Bending and not...  \n",
       "4  'politicalseason Maat Justice Injustice in Lou...  "
      ]
     },
     "execution_count": 4,
     "metadata": {},
     "output_type": "execute_result"
    }
   ],
   "source": [
    "#user_original = pd.read_csv('../data/user_original.csv')\n",
    "#user_rt = pd.read_csv('../data/user_rt.csv')\n",
    "\n",
    "#with sql.connect('../data/user_original.db') as conn:\n",
    "#    user_original = pd.read_sql_query('select * from user_original', conn)\n",
    "user_original.head()"
   ]
  },
  {
   "cell_type": "code",
   "execution_count": 5,
   "metadata": {
    "slideshow": {
     "slide_type": "skip"
    }
   },
   "outputs": [],
   "source": [
    "#with sql.connect('../data/user_rt.db') as conn:\n",
    "#    user_rt = pd.read_sql_query('select * from user_rt', conn)\n",
    "#user_rt.head()"
   ]
  },
  {
   "cell_type": "code",
   "execution_count": 6,
   "metadata": {
    "slideshow": {
     "slide_type": "skip"
    }
   },
   "outputs": [],
   "source": [
    "targets = ['RightTroll', 'LeftTroll', 'Newsfeed']\n",
    "eng_tweets = eng_tweets.loc[eng_tweets.account_category.isin(targets)]"
   ]
  },
  {
   "cell_type": "code",
   "execution_count": 7,
   "metadata": {
    "slideshow": {
     "slide_type": "skip"
    }
   },
   "outputs": [],
   "source": [
    "#user_original = user_original[user_original.tweet_text != np.nan]\n",
    "#user_rt = user_rt[user_rt.tweet_text != np.nan]"
   ]
  },
  {
   "cell_type": "markdown",
   "metadata": {
    "slideshow": {
     "slide_type": "skip"
    }
   },
   "source": [
    "### N-grams"
   ]
  },
  {
   "cell_type": "code",
   "execution_count": 8,
   "metadata": {
    "slideshow": {
     "slide_type": "skip"
    }
   },
   "outputs": [],
   "source": [
    "unigram_vect = TfidfVectorizer(ngram_range=(1,1), stop_words='english')\n",
    "bigram_vect = TfidfVectorizer(ngram_range=(2,2), stop_words='english')\n",
    "trigram_vect = TfidfVectorizer(ngram_range=(3,3), stop_words='english')"
   ]
  },
  {
   "cell_type": "markdown",
   "metadata": {
    "slideshow": {
     "slide_type": "subslide"
    }
   },
   "source": [
    "### Top 10 words"
   ]
  },
  {
   "cell_type": "code",
   "execution_count": 45,
   "metadata": {
    "slideshow": {
     "slide_type": "fragment"
    }
   },
   "outputs": [
    {
     "name": "stdout",
     "output_type": "stream",
     "text": [
      "trump\n",
      "black\n",
      "just\n",
      "hillary\n",
      "people\n",
      "obama\n",
      "new\n",
      "real\n",
      "like\n",
      "america\n"
     ]
    }
   ],
   "source": [
    "eng_summaries = \"\".join(eng_tweets['content'])\n",
    "eng_unigrams = unigram_vect.build_analyzer()(eng_summaries)\n",
    "\n",
    "for value, count in Counter(eng_unigrams).most_common(10):\n",
    "    print(value)"
   ]
  },
  {
   "cell_type": "markdown",
   "metadata": {
    "slideshow": {
     "slide_type": "subslide"
    }
   },
   "source": [
    "### Top 10 bigrams"
   ]
  },
  {
   "cell_type": "code",
   "execution_count": 44,
   "metadata": {
    "slideshow": {
     "slide_type": "fragment"
    }
   },
   "outputs": [
    {
     "name": "stdout",
     "output_type": "stream",
     "text": [
      "donald trump\n",
      "real donald\n",
      "lives matter\n",
      "black lives\n",
      "hillary clinton\n",
      "fox news\n",
      "president trump\n",
      "white house\n",
      "fake news\n",
      "north korea\n"
     ]
    }
   ],
   "source": [
    "#eng_summaries = \"\".join(eng_tweets['content'])\n",
    "eng_bigrams = bigram_vect.build_analyzer()(eng_summaries)\n",
    "\n",
    "for value, count in Counter(eng_bigrams).most_common(10):\n",
    "    print(value)"
   ]
  },
  {
   "cell_type": "markdown",
   "metadata": {
    "slideshow": {
     "slide_type": "subslide"
    }
   },
   "source": [
    "### Top 10 trigrams"
   ]
  },
  {
   "cell_type": "code",
   "execution_count": 43,
   "metadata": {
    "slideshow": {
     "slide_type": "fragment"
    }
   },
   "outputs": [
    {
     "name": "stdout",
     "output_type": "stream",
     "text": [
      "real donald trump\n",
      "black lives matter\n",
      "cnn fakenews cnn\n",
      "fakenews cnn fakenews\n",
      "make america great\n",
      "john mc cain\n",
      "archived hedge bz\n",
      "enlist patriot army\n",
      "black history month\n",
      "curated hedge bz\n"
     ]
    }
   ],
   "source": [
    "eng_summaries = \"\".join(eng_tweets['content'])\n",
    "eng_trigrams = trigram_vect.build_analyzer()(eng_summaries)\n",
    "\n",
    "#Counter(eng_trigrams).most_common(10)\n",
    "for value, count in Counter(eng_trigrams).most_common(10):\n",
    "    print(value)"
   ]
  },
  {
   "cell_type": "markdown",
   "metadata": {
    "slideshow": {
     "slide_type": "skip"
    }
   },
   "source": [
    "### Topic Modelling"
   ]
  },
  {
   "cell_type": "code",
   "execution_count": 15,
   "metadata": {
    "slideshow": {
     "slide_type": "skip"
    }
   },
   "outputs": [
    {
     "data": {
      "text/plain": [
       "1019"
      ]
     },
     "execution_count": 15,
     "metadata": {},
     "output_type": "execute_result"
    }
   ],
   "source": [
    "len(user_original.author.value_counts())"
   ]
  },
  {
   "cell_type": "code",
   "execution_count": 16,
   "metadata": {
    "slideshow": {
     "slide_type": "skip"
    }
   },
   "outputs": [
    {
     "name": "stderr",
     "output_type": "stream",
     "text": [
      "[nltk_data] Downloading package stopwords to\n",
      "[nltk_data]     /Users/gcdunn/nltk_data...\n",
      "[nltk_data]   Package stopwords is already up-to-date!\n",
      "[nltk_data] Downloading package wordnet to /Users/gcdunn/nltk_data...\n",
      "[nltk_data]   Package wordnet is already up-to-date!\n"
     ]
    },
    {
     "data": {
      "text/plain": [
       "True"
      ]
     },
     "execution_count": 16,
     "metadata": {},
     "output_type": "execute_result"
    }
   ],
   "source": [
    "import gensim\n",
    "import nltk\n",
    "import pyLDAvis.gensim\n",
    "from gensim import corpora\n",
    "from gensim.utils import simple_preprocess\n",
    "from gensim.parsing.preprocessing import STOPWORDS\n",
    "from nltk.stem import WordNetLemmatizer, SnowballStemmer\n",
    "from nltk.stem.porter import *\n",
    "from sklearn.feature_extraction.text import CountVectorizer\n",
    "from sklearn.decomposition import LatentDirichletAllocation\n",
    "\n",
    "np.random.seed(123)\n",
    "nltk.download('stopwords')\n",
    "nltk.download('wordnet')"
   ]
  },
  {
   "cell_type": "code",
   "execution_count": 17,
   "metadata": {
    "slideshow": {
     "slide_type": "skip"
    }
   },
   "outputs": [],
   "source": [
    "en_stop = set(nltk.corpus.stopwords.words('english'))"
   ]
  },
  {
   "cell_type": "code",
   "execution_count": 18,
   "metadata": {
    "slideshow": {
     "slide_type": "skip"
    }
   },
   "outputs": [],
   "source": [
    "en_stop.add('the')\n",
    "en_stop.add('amp')"
   ]
  },
  {
   "cell_type": "code",
   "execution_count": 19,
   "metadata": {
    "slideshow": {
     "slide_type": "skip"
    }
   },
   "outputs": [],
   "source": [
    "stemmer = SnowballStemmer('english')"
   ]
  },
  {
   "cell_type": "code",
   "execution_count": 20,
   "metadata": {
    "slideshow": {
     "slide_type": "skip"
    }
   },
   "outputs": [],
   "source": [
    "def lemma_stem(text):\n",
    "    return stemmer.stem(WordNetLemmatizer().lemmatize(text, pos='v'))\n",
    "def preprocess(text, lemmatize=False):\n",
    "    result = []\n",
    "    for token in gensim.utils.simple_preprocess(text):\n",
    "        if token not in gensim.parsing.preprocessing.STOPWORDS and len(token) > 3:\n",
    "            if lemmatize == True:\n",
    "                result.append(lemma_stem(token))\n",
    "            else:\n",
    "                result.append(token)\n",
    "    return result"
   ]
  },
  {
   "cell_type": "code",
   "execution_count": 47,
   "metadata": {
    "slideshow": {
     "slide_type": "skip"
    }
   },
   "outputs": [],
   "source": [
    "eng_tweets['processed'] = eng_tweets.apply(lambda row: preprocess(row['content'].lower()), axis=1)\n",
    "#user_original['processed'] = user_original.apply(lambda row: preprocess(row['content'].lower()), axis=1)\n",
    "#user_rt['processed'] = user_rt.apply(lambda row: preprocess(row['content'].lower()), axis=1)"
   ]
  },
  {
   "cell_type": "code",
   "execution_count": 48,
   "metadata": {
    "slideshow": {
     "slide_type": "skip"
    }
   },
   "outputs": [
    {
     "data": {
      "text/plain": [
       "0    [daughter, fallen, navy, sailor, delivers, pow...\n",
       "1    [food, poisoning, joke, walmart, koch, farms, ...\n",
       "2    [petition, watch, bleeding, thug, shoots, guns...\n",
       "3    [raiders, defense, playing, hungry, bending, b...\n",
       "4    [politicalseason, maat, justice, injustice, lo...\n",
       "Name: processed, dtype: object"
      ]
     },
     "execution_count": 48,
     "metadata": {},
     "output_type": "execute_result"
    }
   ],
   "source": [
    "user_original.processed.head()"
   ]
  },
  {
   "cell_type": "code",
   "execution_count": 49,
   "metadata": {
    "slideshow": {
     "slide_type": "skip"
    }
   },
   "outputs": [],
   "source": [
    "#user_original['tokenized'] = user_original.apply(lambda row: nltk.word_tokenize(row['content'].lower()), axis=1)\n",
    "#user_rt['tokenized'] = user_rt.apply(lambda row: nltk.word_tokenize(row['content'].lower()), axis=1)"
   ]
  },
  {
   "cell_type": "code",
   "execution_count": 50,
   "metadata": {
    "slideshow": {
     "slide_type": "skip"
    }
   },
   "outputs": [],
   "source": [
    "#user_original['tokenized'] = user_original.tokenized.apply(lambda x: [item for item in x if item not in en_stop])\n",
    "#user_rt['tokenized'] = user_rt.tokenized.apply(lambda x: [item for item in x if item not in en_stop])"
   ]
  },
  {
   "cell_type": "code",
   "execution_count": 51,
   "metadata": {
    "slideshow": {
     "slide_type": "skip"
    }
   },
   "outputs": [],
   "source": [
    "#user_original['tokenized'] = user_original.tokenized.apply(lambda x: [item for item in x if len(item) > 2])\n",
    "#user_rt['tokenized'] = user_rt.tokenized.apply(lambda x: [item for item in x if len(item) > 2])"
   ]
  },
  {
   "cell_type": "code",
   "execution_count": 52,
   "metadata": {
    "slideshow": {
     "slide_type": "skip"
    }
   },
   "outputs": [],
   "source": [
    "dictionary = corpora.Dictionary(eng_tweets['processed'])\n",
    "corpus = [dictionary.doc2bow(text) for text in eng_tweets['processed']]"
   ]
  },
  {
   "cell_type": "code",
   "execution_count": 81,
   "metadata": {
    "slideshow": {
     "slide_type": "skip"
    }
   },
   "outputs": [
    {
     "name": "stdout",
     "output_type": "stream",
     "text": [
      "(0, '0.014*\"pjnet\" + 0.014*\"trump\" + 0.009*\"maga\" + 0.008*\"house\" + 0.008*\"obama\"')\n",
      "(1, '0.033*\"black\" + 0.019*\"people\" + 0.013*\"lives\" + 0.013*\"matter\" + 0.010*\"women\"')\n",
      "(2, '0.014*\"islam\" + 0.013*\"like\" + 0.011*\"people\" + 0.010*\"love\" + 0.009*\"good\"')\n",
      "(3, '0.043*\"hillary\" + 0.022*\"clinton\" + 0.014*\"police\" + 0.012*\"news\" + 0.008*\"breaking\"')\n",
      "(4, '0.095*\"trump\" + 0.028*\"donald\" + 0.026*\"real\" + 0.020*\"president\" + 0.017*\"tcot\"')\n"
     ]
    }
   ],
   "source": [
    "ntopics = 10\n",
    "ldamodel = gensim.models.ldamodel.LdaModel(corpus, num_topics = ntopics, id2word=dictionary, passes=15)\n",
    "#ldamodel.save('model5.gensim')\n",
    "topics = ldamodel.print_topics(num_words=5)\n",
    "for topic in topics:\n",
    "    print(topic)"
   ]
  },
  {
   "cell_type": "code",
   "execution_count": 80,
   "metadata": {
    "slideshow": {
     "slide_type": "skip"
    }
   },
   "outputs": [
    {
     "data": {
      "text/html": [
       "\n",
       "<link rel=\"stylesheet\" type=\"text/css\" href=\"https://cdn.rawgit.com/bmabey/pyLDAvis/files/ldavis.v1.0.0.css\">\n",
       "\n",
       "\n",
       "<div id=\"ldavis_el313261161976964006738728416\"></div>\n",
       "<script type=\"text/javascript\">\n",
       "\n",
       "var ldavis_el313261161976964006738728416_data = {\"mdsDat\": {\"x\": [0.022306991170393586, 0.20012076057150235, -0.17209420185771288, -0.18122544771589205, -0.003911076826925359, 0.22865014823021743, -0.060996602563475395, -0.13244263486651095, 0.20063163090611133, -0.10103956704770767], \"y\": [-0.15214618619244022, 0.1485213090051775, 0.14055646301345862, 0.09898700556730246, 0.24892152881013754, 0.004298965296304271, -0.11827797127716477, -0.02857852258911695, -0.09876123111240066, -0.24352136052125772], \"topics\": [1, 2, 3, 4, 5, 6, 7, 8, 9, 10], \"cluster\": [1, 1, 1, 1, 1, 1, 1, 1, 1, 1], \"Freq\": [10.483061790466309, 9.80982494354248, 9.13416576385498, 8.691251754760742, 8.501343727111816, 8.72312068939209, 9.513336181640625, 9.682379722595215, 10.468789100646973, 14.992725372314453]}, \"tinfo\": {\"Category\": [\"Default\", \"Default\", \"Default\", \"Default\", \"Default\", \"Default\", \"Default\", \"Default\", \"Default\", \"Default\", \"Default\", \"Default\", \"Default\", \"Default\", \"Default\", \"Default\", \"Default\", \"Default\", \"Default\", \"Default\", \"Default\", \"Default\", \"Default\", \"Default\", \"Default\", \"Default\", \"Default\", \"Default\", \"Default\", \"Default\", \"Topic1\", \"Topic1\", \"Topic1\", \"Topic1\", \"Topic1\", \"Topic1\", \"Topic1\", \"Topic1\", \"Topic1\", \"Topic1\", \"Topic1\", \"Topic1\", \"Topic1\", \"Topic1\", \"Topic1\", \"Topic1\", \"Topic1\", \"Topic1\", \"Topic1\", \"Topic1\", \"Topic1\", \"Topic1\", \"Topic1\", \"Topic1\", \"Topic1\", \"Topic1\", \"Topic1\", \"Topic1\", \"Topic1\", \"Topic1\", \"Topic1\", \"Topic1\", \"Topic1\", \"Topic1\", \"Topic1\", \"Topic1\", \"Topic1\", \"Topic1\", \"Topic1\", \"Topic1\", \"Topic1\", \"Topic1\", \"Topic1\", \"Topic1\", \"Topic2\", \"Topic2\", \"Topic2\", \"Topic2\", \"Topic2\", \"Topic2\", \"Topic2\", \"Topic2\", \"Topic2\", \"Topic2\", \"Topic2\", \"Topic2\", \"Topic2\", \"Topic2\", \"Topic2\", \"Topic2\", \"Topic2\", \"Topic2\", \"Topic2\", \"Topic2\", \"Topic2\", \"Topic2\", \"Topic2\", \"Topic2\", \"Topic2\", \"Topic2\", \"Topic2\", \"Topic2\", \"Topic2\", \"Topic2\", \"Topic2\", \"Topic2\", \"Topic2\", \"Topic2\", \"Topic2\", \"Topic2\", \"Topic3\", \"Topic3\", \"Topic3\", \"Topic3\", \"Topic3\", \"Topic3\", \"Topic3\", \"Topic3\", \"Topic3\", \"Topic3\", \"Topic3\", \"Topic3\", \"Topic3\", \"Topic3\", \"Topic3\", \"Topic3\", \"Topic3\", \"Topic3\", \"Topic3\", \"Topic3\", \"Topic3\", \"Topic3\", \"Topic3\", \"Topic3\", \"Topic3\", \"Topic3\", \"Topic3\", \"Topic3\", \"Topic3\", \"Topic3\", \"Topic3\", \"Topic3\", \"Topic3\", \"Topic3\", \"Topic3\", \"Topic3\", \"Topic3\", \"Topic3\", \"Topic3\", \"Topic4\", \"Topic4\", \"Topic4\", \"Topic4\", \"Topic4\", \"Topic4\", \"Topic4\", \"Topic4\", \"Topic4\", \"Topic4\", \"Topic4\", \"Topic4\", \"Topic4\", \"Topic4\", \"Topic4\", \"Topic4\", \"Topic4\", \"Topic4\", \"Topic4\", \"Topic4\", \"Topic4\", \"Topic4\", \"Topic4\", \"Topic4\", \"Topic4\", \"Topic4\", \"Topic4\", \"Topic4\", \"Topic4\", \"Topic4\", \"Topic4\", \"Topic4\", \"Topic4\", \"Topic4\", \"Topic4\", \"Topic4\", \"Topic4\", \"Topic4\", \"Topic4\", \"Topic5\", \"Topic5\", \"Topic5\", \"Topic5\", \"Topic5\", \"Topic5\", \"Topic5\", \"Topic5\", \"Topic5\", \"Topic5\", \"Topic5\", \"Topic5\", \"Topic5\", \"Topic5\", \"Topic5\", \"Topic5\", \"Topic5\", \"Topic5\", \"Topic5\", \"Topic5\", \"Topic5\", \"Topic5\", \"Topic5\", \"Topic5\", \"Topic5\", \"Topic5\", \"Topic5\", \"Topic5\", \"Topic5\", \"Topic5\", \"Topic5\", \"Topic5\", \"Topic5\", \"Topic5\", \"Topic5\", \"Topic5\", \"Topic5\", \"Topic6\", \"Topic6\", \"Topic6\", \"Topic6\", \"Topic6\", \"Topic6\", \"Topic6\", \"Topic6\", \"Topic6\", \"Topic6\", \"Topic6\", \"Topic6\", \"Topic6\", \"Topic6\", \"Topic6\", \"Topic6\", \"Topic6\", \"Topic6\", \"Topic6\", \"Topic6\", \"Topic6\", \"Topic6\", \"Topic6\", \"Topic6\", \"Topic6\", \"Topic6\", \"Topic6\", \"Topic6\", \"Topic6\", \"Topic6\", \"Topic6\", \"Topic6\", \"Topic6\", \"Topic6\", \"Topic6\", \"Topic6\", \"Topic6\", \"Topic6\", \"Topic6\", \"Topic6\", \"Topic6\", \"Topic6\", \"Topic6\", \"Topic6\", \"Topic7\", \"Topic7\", \"Topic7\", \"Topic7\", \"Topic7\", \"Topic7\", \"Topic7\", \"Topic7\", \"Topic7\", \"Topic7\", \"Topic7\", \"Topic7\", \"Topic7\", \"Topic7\", \"Topic7\", \"Topic7\", \"Topic7\", \"Topic7\", \"Topic7\", \"Topic7\", \"Topic7\", \"Topic7\", \"Topic7\", \"Topic7\", \"Topic7\", \"Topic7\", \"Topic7\", \"Topic7\", \"Topic7\", \"Topic7\", \"Topic7\", \"Topic7\", \"Topic7\", \"Topic7\", \"Topic7\", \"Topic7\", \"Topic7\", \"Topic7\", \"Topic7\", \"Topic8\", \"Topic8\", \"Topic8\", \"Topic8\", \"Topic8\", \"Topic8\", \"Topic8\", \"Topic8\", \"Topic8\", \"Topic8\", \"Topic8\", \"Topic8\", \"Topic8\", \"Topic8\", \"Topic8\", \"Topic8\", \"Topic8\", \"Topic8\", \"Topic8\", \"Topic8\", \"Topic8\", \"Topic8\", \"Topic8\", \"Topic8\", \"Topic8\", \"Topic8\", \"Topic8\", \"Topic8\", \"Topic8\", \"Topic8\", \"Topic8\", \"Topic8\", \"Topic8\", \"Topic8\", \"Topic8\", \"Topic8\", \"Topic8\", \"Topic8\", \"Topic8\", \"Topic8\", \"Topic9\", \"Topic9\", \"Topic9\", \"Topic9\", \"Topic9\", \"Topic9\", \"Topic9\", \"Topic9\", \"Topic9\", \"Topic9\", \"Topic9\", \"Topic9\", \"Topic9\", \"Topic9\", \"Topic9\", \"Topic9\", \"Topic9\", \"Topic9\", \"Topic9\", \"Topic9\", \"Topic9\", \"Topic9\", \"Topic9\", \"Topic9\", \"Topic9\", \"Topic9\", \"Topic9\", \"Topic9\", \"Topic9\", \"Topic9\", \"Topic9\", \"Topic9\", \"Topic9\", \"Topic9\", \"Topic9\", \"Topic9\", \"Topic9\", \"Topic9\", \"Topic9\", \"Topic9\", \"Topic9\", \"Topic9\", \"Topic9\", \"Topic9\", \"Topic10\", \"Topic10\", \"Topic10\", \"Topic10\", \"Topic10\", \"Topic10\", \"Topic10\", \"Topic10\", \"Topic10\", \"Topic10\", \"Topic10\", \"Topic10\", \"Topic10\", \"Topic10\", \"Topic10\", \"Topic10\", \"Topic10\", \"Topic10\", \"Topic10\", \"Topic10\", \"Topic10\", \"Topic10\", \"Topic10\", \"Topic10\", \"Topic10\", \"Topic10\", \"Topic10\", \"Topic10\", \"Topic10\", \"Topic10\", \"Topic10\", \"Topic10\", \"Topic10\", \"Topic10\", \"Topic10\", \"Topic10\", \"Topic10\", \"Topic10\", \"Topic10\", \"Topic10\", \"Topic10\", \"Topic10\", \"Topic10\"], \"Freq\": [145315.0, 55795.0, 56676.0, 38094.0, 35611.0, 27886.0, 28788.0, 37436.0, 38927.0, 22827.0, 27101.0, 22311.0, 21657.0, 20219.0, 32879.0, 17260.0, 48458.0, 20052.0, 19604.0, 16964.0, 21130.0, 13090.0, 20455.0, 26621.0, 11137.0, 11147.0, 12477.0, 10005.0, 20768.0, 12325.0, 55794.9765625, 22826.322265625, 22310.845703125, 21656.578125, 7837.46142578125, 5689.697265625, 5070.5947265625, 5029.8291015625, 4807.13134765625, 4807.49853515625, 4477.95068359375, 3864.58203125, 3551.4111328125, 3478.7861328125, 3468.33447265625, 3462.2333984375, 3427.886474609375, 3334.055908203125, 3303.924072265625, 3289.688232421875, 3273.044677734375, 3161.971923828125, 3154.297119140625, 3142.958251953125, 3080.45654296875, 3079.987060546875, 3054.14306640625, 3052.047607421875, 2885.55615234375, 2744.58935546875, 5036.83740234375, 6471.5849609375, 13887.826171875, 17893.158203125, 4253.44384765625, 4301.9453125, 5327.14013671875, 4808.6748046875, 4905.66162109375, 3707.568359375, 5016.00634765625, 3913.183349609375, 3565.544921875, 3520.72021484375, 20218.146484375, 9734.4111328125, 9138.6494140625, 8497.3974609375, 7944.9013671875, 7601.98193359375, 6196.744140625, 5265.0654296875, 4504.67724609375, 3845.855712890625, 3809.53173828125, 3788.933349609375, 3760.40087890625, 3751.437255859375, 3693.06298828125, 3629.931640625, 3481.85400390625, 3468.953857421875, 3437.698486328125, 3419.671630859375, 3376.232421875, 3286.24169921875, 3206.93408203125, 3115.1533203125, 3114.157958984375, 3081.11328125, 3020.31005859375, 2976.769775390625, 2964.659912109375, 2922.3076171875, 3726.930908203125, 4227.97607421875, 4082.097900390625, 3911.70849609375, 3740.2783203125, 3290.446533203125, 17259.97265625, 7759.3203125, 6586.88720703125, 6513.302734375, 6100.8330078125, 5659.5654296875, 5316.9013671875, 4784.81591796875, 4414.58349609375, 4386.54931640625, 4389.0498046875, 4238.392578125, 4211.46826171875, 3570.84375, 3550.718994140625, 3452.533935546875, 3439.524658203125, 3424.01416015625, 3300.576904296875, 3301.361083984375, 3191.684326171875, 3095.60205078125, 3065.73095703125, 2990.48193359375, 2985.240234375, 2838.369384765625, 2761.10205078125, 2690.354248046875, 2611.98095703125, 2480.0322265625, 7646.314453125, 7072.29638671875, 6780.63916015625, 3883.75439453125, 3701.285888671875, 5044.91943359375, 3392.5390625, 3328.92578125, 3170.111083984375, 7064.09423828125, 5810.208984375, 5303.078125, 5302.0087890625, 5277.00927734375, 5051.548828125, 5043.0869140625, 4875.35498046875, 4866.83251953125, 4675.44921875, 4616.4736328125, 4599.619140625, 4362.55078125, 4182.71875, 3675.06005859375, 3588.9189453125, 3329.005859375, 3191.592529296875, 3182.83154296875, 3017.616455078125, 2941.2783203125, 2833.023193359375, 2775.78271484375, 2578.21142578125, 2555.92724609375, 2527.2060546875, 2493.25341796875, 2469.127197265625, 2457.096435546875, 2419.7705078125, 5021.46435546875, 5281.30810546875, 5885.9013671875, 3658.1435546875, 4802.15478515625, 4945.36474609375, 5173.232421875, 3429.656005859375, 3132.474365234375, 7973.51416015625, 6865.77490234375, 5262.85498046875, 5221.72216796875, 4665.8408203125, 4304.89453125, 4295.33935546875, 4257.61572265625, 4124.64306640625, 3830.17333984375, 3814.760009765625, 3807.333251953125, 3752.09130859375, 3718.315673828125, 3653.4619140625, 3583.815673828125, 3564.509521484375, 3128.482421875, 2939.08935546875, 2893.90283203125, 2887.096435546875, 2870.599853515625, 2818.412109375, 2643.06689453125, 2602.49609375, 2555.717041015625, 2514.896240234375, 2429.167724609375, 2423.821044921875, 2400.47509765625, 5356.7568359375, 4702.0107421875, 4870.18701171875, 3488.83544921875, 3174.805419921875, 3004.309814453125, 3207.1943359375, 11136.490234375, 8237.0654296875, 7738.2939453125, 6185.3896484375, 6026.00341796875, 5776.4365234375, 5519.96533203125, 5462.90673828125, 5318.859375, 4735.107421875, 4384.53662109375, 4265.53173828125, 4015.058837890625, 3984.76318359375, 3884.847412109375, 3843.41162109375, 3442.863037109375, 3213.572998046875, 3145.09765625, 3098.0712890625, 3026.599853515625, 2996.385009765625, 2966.376953125, 2941.531494140625, 2891.232421875, 2883.469970703125, 2809.869873046875, 2714.916259765625, 2677.302490234375, 2668.440185546875, 13051.9853515625, 8855.7431640625, 12320.9228515625, 11336.59375, 4988.8056640625, 4500.20166015625, 7816.53173828125, 11367.63671875, 9013.244140625, 5723.4755859375, 4694.52490234375, 5312.6337890625, 5062.2529296875, 4394.16259765625, 13089.8203125, 10004.7685546875, 7763.08154296875, 6658.34130859375, 5988.31396484375, 5333.037109375, 5097.34326171875, 5027.4248046875, 4971.5146484375, 4480.3046875, 4372.875, 4320.51123046875, 4227.185546875, 3727.802001953125, 3587.386474609375, 3515.751953125, 3480.307861328125, 3460.917236328125, 3324.507568359375, 3294.085693359375, 3206.949951171875, 3045.527099609375, 2880.458740234375, 2801.41455078125, 2653.68603515625, 2646.002197265625, 2627.7978515625, 2541.479248046875, 2523.379638671875, 2430.277587890625, 6881.2578125, 7563.81640625, 5929.68310546875, 5488.83447265625, 5036.0771484375, 3566.201904296875, 3468.552490234375, 3363.447265625, 3075.770263671875, 27886.0, 9286.4287109375, 6130.09912109375, 6071.98193359375, 5763.28564453125, 5080.146484375, 4995.1708984375, 4938.0908203125, 4462.39697265625, 4257.9248046875, 4244.2587890625, 4160.85400390625, 4123.1474609375, 4018.798583984375, 3977.41748046875, 3966.177978515625, 3920.007080078125, 3919.8173828125, 3550.516845703125, 3429.071533203125, 3358.227294921875, 3329.402587890625, 3108.152587890625, 3006.44287109375, 2982.177978515625, 2971.545654296875, 2855.3720703125, 2851.23583984375, 2803.423095703125, 2748.146728515625, 7644.9306640625, 8666.2998046875, 17491.923828125, 4822.38330078125, 5689.51513671875, 4821.28076171875, 4153.75634765625, 7044.2060546875, 6584.205078125, 3899.560791015625, 11146.5908203125, 6887.06640625, 6828.05859375, 6557.22607421875, 5454.41796875, 5118.43798828125, 4931.73486328125, 4590.3876953125, 4586.57080078125, 4422.126953125, 4332.1279296875, 4251.8359375, 4189.57568359375, 4092.74267578125, 3996.36181640625, 3947.402099609375, 3644.885009765625, 3559.40185546875, 3434.127685546875, 3419.42041015625, 3410.24462890625, 3402.749267578125, 3345.024658203125, 3275.240234375, 3254.038330078125, 3099.965576171875, 2958.156982421875, 2907.620361328125, 2820.936767578125, 2792.511474609375, 14291.333984375, 6975.95849609375, 7359.48828125, 6346.775390625, 8466.9736328125, 9735.98046875, 13674.984375, 12956.3447265625, 4992.89599609375, 7192.1923828125, 4955.814453125, 5518.67919921875, 5259.1767578125, 4262.47607421875, 145314.28125, 56675.140625, 38093.83203125, 35611.06640625, 28787.443359375, 27100.921875, 20051.953125, 12476.701171875, 11355.91796875, 9152.5615234375, 8716.7255859375, 8680.6240234375, 6973.1591796875, 6951.75, 5703.205078125, 5619.224609375, 5361.45263671875, 4963.95849609375, 4620.71923828125, 4384.775390625, 4299.205078125, 3830.76220703125, 3715.86181640625, 3701.92724609375, 3486.359375, 3483.1484375, 3230.076171875, 3187.52587890625, 2990.014404296875, 2962.670654296875, 30391.54296875, 7583.609375, 25251.845703125, 10907.427734375, 11695.0322265625, 8855.912109375, 10370.8349609375, 6657.2080078125, 5187.17333984375, 6273.65478515625, 5240.71484375, 5008.79443359375, 5016.45654296875], \"Term\": [\"trump\", \"black\", \"hillary\", \"donald\", \"real\", \"tcot\", \"clinton\", \"obama\", \"america\", \"lives\", \"president\", \"matter\", \"police\", \"pjnet\", \"news\", \"breaking\", \"people\", \"islam\", \"american\", \"love\", \"know\", \"muslims\", \"think\", \"white\", \"debate\", \"wake\", \"vote\", \"democrats\", \"media\", \"support\", \"black\", \"lives\", \"matter\", \"police\", \"killed\", \"shooting\", \"shot\", \"cops\", \"protest\", \"north\", \"blue\", \"korea\", \"book\", \"plan\", \"crime\", \"killing\", \"blacks\", \"special\", \"play\", \"officers\", \"syria\", \"criminal\", \"officer\", \"month\", \"david\", \"murder\", \"victims\", \"trust\", \"democratic\", \"israel\", \"racism\", \"history\", \"white\", \"people\", \"wrong\", \"violence\", \"hate\", \"racist\", \"women\", \"girl\", \"news\", \"woman\", \"justice\", \"death\", \"pjnet\", \"happy\", \"playing\", \"gopdebate\", \"music\", \"bernie\", \"sanders\", \"press\", \"talk\", \"birthday\", \"sessions\", \"george\", \"bless\", \"damn\", \"ready\", \"looking\", \"vegas\", \"hear\", \"tube\", \"congress\", \"color\", \"finally\", \"heart\", \"list\", \"bush\", \"sense\", \"order\", \"patriots\", \"funny\", \"issue\", \"little\", \"time\", \"think\", \"love\", \"like\", \"know\", \"breaking\", \"dems\", \"speech\", \"supporters\", \"dead\", \"antifa\", \"terrorism\", \"tweet\", \"mean\", \"democrat\", \"photo\", \"sheriff\", \"office\", \"voter\", \"guess\", \"fraud\", \"exactly\", \"clarke\", \"protesters\", \"cover\", \"wonder\", \"soon\", \"college\", \"turn\", \"threat\", \"administration\", \"outside\", \"rock\", \"perfect\", \"sunday\", \"left\", \"free\", \"liberal\", \"home\", \"face\", \"video\", \"anti\", \"called\", \"look\", \"guns\", \"city\", \"control\", \"freedom\", \"nation\", \"listen\", \"california\", \"shit\", \"comey\", \"coming\", \"ross\", \"christmas\", \"lies\", \"business\", \"social\", \"told\", \"germany\", \"lying\", \"mayor\", \"facts\", \"sharia\", \"yeah\", \"speak\", \"border\", \"citizens\", \"song\", \"countries\", \"literally\", \"general\", \"cool\", \"tell\", \"peace\", \"twitter\", \"times\", \"live\", \"world\", \"media\", \"video\", \"watch\", \"cruz\", \"wall\", \"hell\", \"health\", \"week\", \"group\", \"welcome\", \"russian\", \"point\", \"senate\", \"investigation\", \"means\", \"shows\", \"build\", \"reminder\", \"star\", \"folks\", \"court\", \"fired\", \"important\", \"guys\", \"running\", \"honor\", \"imagine\", \"heard\", \"mexico\", \"disgusting\", \"tomorrow\", \"middle\", \"wish\", \"words\", \"thanks\", \"work\", \"check\", \"family\", \"help\", \"time\", \"debate\", \"feel\", \"truth\", \"logic\", \"true\", \"night\", \"stay\", \"march\", \"read\", \"forget\", \"fuck\", \"proud\", \"beautiful\", \"join\", \"safe\", \"pretty\", \"open\", \"candidate\", \"having\", \"talib\", \"peaceful\", \"kweli\", \"cause\", \"difference\", \"share\", \"movement\", \"water\", \"african\", \"womens\", \"worst\", \"love\", \"support\", \"know\", \"think\", \"stand\", \"sure\", \"women\", \"like\", \"people\", \"want\", \"life\", \"american\", \"need\", \"right\", \"muslims\", \"democrats\", \"rally\", \"change\", \"religion\", \"illegal\", \"calls\", \"europe\", \"veterans\", \"texas\", \"seen\", \"poll\", \"immigration\", \"future\", \"republican\", \"voted\", \"immigrants\", \"sign\", \"service\", \"goes\", \"friday\", \"stupid\", \"france\", \"secret\", \"line\", \"wear\", \"maybe\", \"corruption\", \"rice\", \"federal\", \"liberals\", \"muslim\", \"house\", \"white\", \"think\", \"isis\", \"support\", \"women\", \"liberal\", \"tcot\", \"post\", \"national\", \"ccot\", \"million\", \"states\", \"looks\", \"london\", \"united\", \"wait\", \"radio\", \"security\", \"talking\", \"paris\", \"washington\", \"friends\", \"respect\", \"train\", \"daily\", \"bring\", \"beat\", \"meet\", \"happened\", \"paid\", \"record\", \"west\", \"super\", \"learn\", \"york\", \"traitor\", \"best\", \"isis\", \"news\", \"rights\", \"fake\", \"remember\", \"political\", \"obama\", \"like\", \"media\", \"wake\", \"care\", \"john\", \"come\", \"hope\", \"government\", \"start\", \"flag\", \"school\", \"agree\", \"morning\", \"deal\", \"word\", \"nice\", \"james\", \"spread\", \"king\", \"jobs\", \"place\", \"working\", \"child\", \"save\", \"high\", \"leave\", \"cain\", \"single\", \"happen\", \"mind\", \"wife\", \"hillarys\", \"american\", \"things\", \"state\", \"better\", \"good\", \"time\", \"america\", \"people\", \"said\", \"like\", \"going\", \"know\", \"want\", \"country\", \"trump\", \"hillary\", \"donald\", \"real\", \"clinton\", \"president\", \"islam\", \"vote\", \"maga\", \"refugees\", \"potus\", \"election\", \"russia\", \"party\", \"terrorists\", \"campaign\", \"kills\", \"islamic\", \"trumps\", \"attacks\", \"emails\", \"terror\", \"voting\", \"military\", \"rich\", \"pence\", \"brussels\", \"calling\", \"iran\", \"obamacare\", \"obama\", \"prison\", \"america\", \"great\", \"media\", \"stop\", \"news\", \"country\", \"says\", \"people\", \"muslim\", \"liberals\", \"liberal\"], \"Total\": [145315.0, 55795.0, 56676.0, 38094.0, 35611.0, 27886.0, 28788.0, 37436.0, 38927.0, 22827.0, 27101.0, 22311.0, 21657.0, 20219.0, 32879.0, 17260.0, 48458.0, 20052.0, 19604.0, 16964.0, 21130.0, 13090.0, 20455.0, 26621.0, 11137.0, 11147.0, 12477.0, 10005.0, 20768.0, 12325.0, 55795.890625, 22827.236328125, 22311.759765625, 21657.4921875, 7838.3740234375, 5690.60986328125, 5071.50732421875, 5030.74169921875, 4808.04443359375, 4808.41162109375, 4478.86328125, 3865.4951171875, 3552.32421875, 3479.69921875, 3469.24755859375, 3463.146484375, 3428.799560546875, 3334.968994140625, 3304.83740234375, 3290.601318359375, 3273.957763671875, 3162.885009765625, 3155.210205078125, 3143.871337890625, 3081.36962890625, 3080.900146484375, 3055.05615234375, 3052.960693359375, 2886.46923828125, 2745.50244140625, 6107.05419921875, 8694.6953125, 26621.7265625, 48458.35546875, 5623.17822265625, 5792.38818359375, 8987.388671875, 9688.6142578125, 16086.35546875, 6018.6328125, 32879.48828125, 8992.677734375, 5627.87548828125, 6063.77490234375, 20219.05859375, 9735.322265625, 9139.560546875, 8498.30859375, 7945.8115234375, 7602.892578125, 6197.65478515625, 5265.97607421875, 4505.58740234375, 3846.76611328125, 3810.442138671875, 3789.84375, 3761.311279296875, 3752.34765625, 3693.973388671875, 3630.842041015625, 3482.764404296875, 3469.8642578125, 3438.60888671875, 3420.58203125, 3377.142822265625, 3287.152099609375, 3207.844482421875, 3116.063720703125, 3115.068359375, 3082.023681640625, 3021.220458984375, 2977.68017578125, 2965.5703125, 2923.218017578125, 4939.55810546875, 20806.591796875, 20455.48046875, 16964.505859375, 36730.875, 21130.763671875, 17260.87890625, 7760.22509765625, 6587.7919921875, 6514.20751953125, 6101.7373046875, 5660.47021484375, 5317.80615234375, 4785.72021484375, 4415.48828125, 4387.4541015625, 4389.95458984375, 4239.29736328125, 4212.373046875, 3571.748291015625, 3551.62353515625, 3453.4384765625, 3440.42919921875, 3424.918701171875, 3301.4814453125, 3302.265625, 3192.5888671875, 3096.506591796875, 3066.635498046875, 2991.386474609375, 2986.144775390625, 2839.27392578125, 2762.006591796875, 2691.2587890625, 2612.885498046875, 2480.936767578125, 10327.6943359375, 12318.8779296875, 14873.583984375, 5489.67333984375, 5279.48974609375, 15917.8662109375, 6036.87353515625, 7199.71533203125, 11890.689453125, 7065.00439453125, 5811.119140625, 5303.98876953125, 5302.9189453125, 5277.91943359375, 5052.458984375, 5043.99755859375, 4876.26513671875, 4867.7431640625, 4676.35986328125, 4617.38525390625, 4600.529296875, 4363.46142578125, 4183.62939453125, 3675.970458984375, 3589.82958984375, 3329.916259765625, 3192.503173828125, 3183.7421875, 3018.527099609375, 2942.18896484375, 2833.933837890625, 2776.693359375, 2579.1220703125, 2556.837890625, 2528.116455078125, 2494.1640625, 2470.037841796875, 2458.007080078125, 2420.68115234375, 6504.8779296875, 7777.7958984375, 10146.11328125, 5062.84130859375, 9119.2763671875, 12108.4052734375, 20768.546875, 15917.8662109375, 12668.119140625, 7974.41943359375, 6866.6806640625, 5263.7607421875, 5222.62744140625, 4666.74609375, 4305.80029296875, 4296.2451171875, 4258.521484375, 4125.54833984375, 3831.0791015625, 3815.665771484375, 3808.239013671875, 3752.9970703125, 3719.221435546875, 3654.36767578125, 3584.721435546875, 3565.415283203125, 3129.38818359375, 2939.9951171875, 2894.80859375, 2888.002197265625, 2871.505615234375, 2819.31787109375, 2643.97265625, 2603.40185546875, 2556.622802734375, 2515.802001953125, 2430.073486328125, 2424.726806640625, 2401.380859375, 6903.49609375, 6344.81494140625, 9310.7607421875, 5287.72119140625, 6526.419921875, 8203.705078125, 20806.591796875, 11137.4072265625, 8237.982421875, 7739.20947265625, 6186.3056640625, 6026.9189453125, 5777.35205078125, 5520.880859375, 5463.822265625, 5319.77490234375, 4736.0234375, 4385.4521484375, 4266.44775390625, 4015.974609375, 3985.678955078125, 3885.76318359375, 3844.327392578125, 3443.77880859375, 3214.48876953125, 3146.013427734375, 3098.987060546875, 3027.515625, 2997.30078125, 2967.292724609375, 2942.447265625, 2892.148193359375, 2884.3857421875, 2810.78564453125, 2715.83203125, 2678.21826171875, 2669.35595703125, 16964.505859375, 12325.1123046875, 21130.763671875, 20455.48046875, 6415.31201171875, 5807.3837890625, 16086.35546875, 36730.875, 48458.35546875, 20083.71875, 12379.189453125, 19604.787109375, 19071.052734375, 18509.9453125, 13090.7353515625, 10005.68359375, 7763.99609375, 6659.25537109375, 5989.228515625, 5333.951171875, 5098.2578125, 5028.33935546875, 4972.42919921875, 4481.21875, 4373.7890625, 4321.42578125, 4228.10009765625, 3728.716552734375, 3588.301025390625, 3516.66650390625, 3481.222412109375, 3461.831787109375, 3325.422119140625, 3295.000244140625, 3207.864501953125, 3046.441650390625, 2881.373291015625, 2802.3291015625, 2654.6005859375, 2646.916748046875, 2628.71240234375, 2542.393798828125, 2524.294189453125, 2431.192138671875, 11890.8798828125, 15390.1357421875, 10747.984375, 26621.7265625, 20455.48046875, 12233.3134765625, 12325.1123046875, 16086.35546875, 14873.583984375, 27886.912109375, 9287.3408203125, 6131.01025390625, 6072.89306640625, 5764.197265625, 5081.05810546875, 4996.08203125, 4939.00244140625, 4463.30859375, 4258.83642578125, 4245.169921875, 4161.765625, 4124.05908203125, 4019.710205078125, 3978.3291015625, 3967.089599609375, 3920.918701171875, 3920.72900390625, 3551.428466796875, 3429.983154296875, 3359.138916015625, 3330.314208984375, 3109.064208984375, 3007.3544921875, 2983.089599609375, 2972.457275390625, 2856.28369140625, 2852.1474609375, 2804.334716796875, 2749.058349609375, 9960.6279296875, 12233.3134765625, 32879.48828125, 5858.93798828125, 9849.1982421875, 7254.1298828125, 5845.130859375, 37436.57421875, 36730.875, 20768.546875, 11147.5078125, 6887.984375, 6828.9765625, 6558.1435546875, 5455.3359375, 5119.35546875, 4932.65234375, 4591.3056640625, 4587.48828125, 4423.044921875, 4333.04541015625, 4252.75390625, 4190.49365234375, 4093.66015625, 3997.279296875, 3948.31982421875, 3645.802490234375, 3560.3193359375, 3435.045166015625, 3420.337890625, 3411.162109375, 3403.666748046875, 3345.942138671875, 3276.15771484375, 3254.955810546875, 3100.883056640625, 2959.074462890625, 2908.537841796875, 2821.854248046875, 2793.428955078125, 19604.787109375, 8411.865234375, 9417.4697265625, 8328.025390625, 15927.0107421875, 20806.591796875, 38927.66015625, 48458.35546875, 9931.068359375, 36730.875, 12529.7177734375, 21130.763671875, 20083.71875, 13590.87109375, 145315.203125, 56676.06640625, 38094.7578125, 35611.9921875, 28788.37109375, 27101.849609375, 20052.880859375, 12477.62890625, 11356.845703125, 9153.4892578125, 8717.6533203125, 8681.5517578125, 6974.0869140625, 6952.677734375, 5704.1328125, 5620.15234375, 5362.38037109375, 4964.88623046875, 4621.64697265625, 4385.703125, 4300.1328125, 3831.68994140625, 3716.789306640625, 3702.854736328125, 3487.287109375, 3484.075927734375, 3231.003662109375, 3188.453369140625, 2990.94189453125, 2963.59814453125, 37436.57421875, 8354.01953125, 38927.66015625, 18216.841796875, 20768.546875, 18749.525390625, 32879.48828125, 13590.87109375, 11208.955078125, 48458.35546875, 15390.1357421875, 11890.8798828125, 14873.583984375], \"loglift\": [30.0, 29.0, 28.0, 27.0, 26.0, 25.0, 24.0, 23.0, 22.0, 21.0, 20.0, 19.0, 18.0, 17.0, 16.0, 15.0, 14.0, 13.0, 12.0, 11.0, 10.0, 9.0, 8.0, 7.0, 6.0, 5.0, 4.0, 3.0, 2.0, 1.0, 2.2553999423980713, 2.2553999423980713, 2.2553999423980713, 2.2553999423980713, 2.2553000450134277, 2.255199909210205, 2.255199909210205, 2.255199909210205, 2.255199909210205, 2.255199909210205, 2.255199909210205, 2.255199909210205, 2.255199909210205, 2.2551000118255615, 2.2551000118255615, 2.2551000118255615, 2.2551000118255615, 2.2551000118255615, 2.2551000118255615, 2.2551000118255615, 2.2551000118255615, 2.2551000118255615, 2.2551000118255615, 2.2551000118255615, 2.2551000118255615, 2.2551000118255615, 2.2551000118255615, 2.2551000118255615, 2.2551000118255615, 2.2551000118255615, 2.062700033187866, 1.9601000547409058, 1.604699969291687, 1.2590999603271484, 1.976199984550476, 1.957900047302246, 1.7323999404907227, 1.554900050163269, 1.0678000450134277, 1.770900011062622, 0.3752000033855438, 1.4234000444412231, 1.7990000247955322, 1.7116999626159668, 2.321700096130371, 2.321700096130371, 2.321700096130371, 2.321700096130371, 2.321700096130371, 2.321700096130371, 2.3215999603271484, 2.3215999603271484, 2.3215999603271484, 2.321500062942505, 2.321500062942505, 2.321500062942505, 2.321500062942505, 2.321500062942505, 2.321500062942505, 2.321500062942505, 2.321500062942505, 2.321500062942505, 2.321500062942505, 2.321500062942505, 2.321500062942505, 2.321500062942505, 2.321500062942505, 2.321500062942505, 2.321500062942505, 2.321500062942505, 2.321500062942505, 2.321500062942505, 2.321500062942505, 2.321500062942505, 2.04010009765625, 0.7282000184059143, 0.710099995136261, 0.8546000123023987, 0.037300001829862595, 0.46209999918937683, 2.3931000232696533, 2.3929998874664307, 2.3929998874664307, 2.3929998874664307, 2.3929998874664307, 2.3929998874664307, 2.3929998874664307, 2.3929998874664307, 2.392899990081787, 2.392899990081787, 2.392899990081787, 2.392899990081787, 2.392899990081787, 2.392899990081787, 2.392899990081787, 2.392899990081787, 2.392899990081787, 2.392899990081787, 2.392899990081787, 2.392899990081787, 2.392899990081787, 2.392899990081787, 2.392899990081787, 2.3928000926971436, 2.3928000926971436, 2.3928000926971436, 2.3928000926971436, 2.3928000926971436, 2.3928000926971436, 2.3928000926971436, 2.0924999713897705, 1.8381999731063843, 1.6075999736785889, 2.047100067138672, 2.0380001068115234, 1.2440999746322632, 1.8167999982833862, 1.6217999458312988, 1.0712000131607056, 2.442699909210205, 2.442699909210205, 2.442699909210205, 2.442699909210205, 2.442699909210205, 2.442699909210205, 2.442699909210205, 2.442699909210205, 2.442699909210205, 2.442699909210205, 2.442699909210205, 2.442699909210205, 2.4426000118255615, 2.4426000118255615, 2.4426000118255615, 2.4426000118255615, 2.4426000118255615, 2.4426000118255615, 2.4426000118255615, 2.4426000118255615, 2.442500114440918, 2.442500114440918, 2.442500114440918, 2.442500114440918, 2.442500114440918, 2.442500114440918, 2.442500114440918, 2.442500114440918, 2.442500114440918, 2.442500114440918, 2.184000015258789, 2.055799961090088, 1.898300051689148, 2.1178998947143555, 1.8014999628067017, 1.5473999977111816, 1.052899956703186, 0.9078999757766724, 1.0456000566482544, 2.4647998809814453, 2.4647998809814453, 2.4647998809814453, 2.4647998809814453, 2.4647998809814453, 2.4646999835968018, 2.4646999835968018, 2.4646999835968018, 2.4646999835968018, 2.4646999835968018, 2.4646999835968018, 2.4646999835968018, 2.4646999835968018, 2.4646999835968018, 2.4646999835968018, 2.4646999835968018, 2.4646999835968018, 2.4646999835968018, 2.464600086212158, 2.464600086212158, 2.464600086212158, 2.464600086212158, 2.464600086212158, 2.464600086212158, 2.464600086212158, 2.464600086212158, 2.464600086212158, 2.464600086212158, 2.464600086212158, 2.464600086212158, 2.2112998962402344, 2.165299892425537, 1.8169000148773193, 2.049099922180176, 1.7443000078201294, 1.4603999853134155, 0.5950999855995178, 2.4391000270843506, 2.4391000270843506, 2.4391000270843506, 2.438999891281128, 2.438999891281128, 2.438999891281128, 2.438999891281128, 2.438999891281128, 2.438999891281128, 2.438999891281128, 2.438999891281128, 2.438999891281128, 2.438999891281128, 2.438999891281128, 2.438999891281128, 2.438999891281128, 2.4388999938964844, 2.4388999938964844, 2.4388999938964844, 2.4388999938964844, 2.4388999938964844, 2.4388999938964844, 2.4388999938964844, 2.4388999938964844, 2.4388999938964844, 2.4388999938964844, 2.4388999938964844, 2.4388999938964844, 2.4388999938964844, 2.438800096511841, 2.177000045776367, 2.108599901199341, 1.8997999429702759, 1.8489999771118164, 2.187700033187866, 2.1842000484466553, 1.7174999713897705, 1.2662999629974365, 0.7572000026702881, 1.183899998664856, 1.469599962234497, 1.1334999799728394, 1.1128000020980835, 1.0011999607086182, 2.352400064468384, 2.352400064468384, 2.352400064468384, 2.352299928665161, 2.352299928665161, 2.352299928665161, 2.352299928665161, 2.352299928665161, 2.352299928665161, 2.352299928665161, 2.352299928665161, 2.352299928665161, 2.352299928665161, 2.3522000312805176, 2.3522000312805176, 2.3522000312805176, 2.3522000312805176, 2.3522000312805176, 2.3522000312805176, 2.3522000312805176, 2.3522000312805176, 2.3522000312805176, 2.3522000312805176, 2.352099895477295, 2.352099895477295, 2.352099895477295, 2.352099895477295, 2.352099895477295, 2.352099895477295, 2.352099895477295, 1.8055000305175781, 1.6420999765396118, 1.757699966430664, 0.7735000252723694, 0.9509000182151794, 1.1197999715805054, 1.0845999717712402, 0.7875000238418579, 0.7764000296592712, 2.3348000049591064, 2.3348000049591064, 2.334700107574463, 2.334700107574463, 2.334700107574463, 2.334700107574463, 2.334700107574463, 2.334700107574463, 2.334700107574463, 2.3345999717712402, 2.3345999717712402, 2.3345999717712402, 2.3345999717712402, 2.3345999717712402, 2.3345999717712402, 2.3345999717712402, 2.3345999717712402, 2.3345999717712402, 2.3345999717712402, 2.3345999717712402, 2.3345999717712402, 2.3345999717712402, 2.3345999717712402, 2.3345999717712402, 2.3345999717712402, 2.3345999717712402, 2.3345000743865967, 2.3345000743865967, 2.3345000743865967, 2.3345000743865967, 2.0703001022338867, 1.9901000261306763, 1.7037999629974365, 2.140199899673462, 1.7861000299453735, 1.926300048828125, 1.993299961090088, 0.6643999814987183, 0.6158999800682068, 0.6622999906539917, 2.256700038909912, 2.2565999031066895, 2.2565999031066895, 2.2565999031066895, 2.2565999031066895, 2.2565999031066895, 2.2565999031066895, 2.2565999031066895, 2.2565999031066895, 2.2565999031066895, 2.2565999031066895, 2.2565999031066895, 2.2565999031066895, 2.256500005722046, 2.256500005722046, 2.256500005722046, 2.256500005722046, 2.256500005722046, 2.256500005722046, 2.256500005722046, 2.256500005722046, 2.256500005722046, 2.256500005722046, 2.256500005722046, 2.256500005722046, 2.256500005722046, 2.256500005722046, 2.256500005722046, 2.2564001083374023, 2.2564001083374023, 1.9407000541687012, 2.0696001052856445, 2.010200023651123, 1.9851000308990479, 1.624899983406067, 1.4973000288009644, 1.2106000185012817, 0.9376999735832214, 1.569100022315979, 0.6262000203132629, 1.329200029373169, 0.9142000079154968, 0.9168000221252441, 1.0972000360488892, 1.8976000547409058, 1.8976000547409058, 1.8976000547409058, 1.8976000547409058, 1.8976000547409058, 1.8976000547409058, 1.8976000547409058, 1.8975000381469727, 1.8975000381469727, 1.8975000381469727, 1.8975000381469727, 1.8975000381469727, 1.8975000381469727, 1.8975000381469727, 1.8974000215530396, 1.8974000215530396, 1.8974000215530396, 1.8974000215530396, 1.8974000215530396, 1.8974000215530396, 1.8974000215530396, 1.8974000215530396, 1.8974000215530396, 1.8974000215530396, 1.8973000049591064, 1.8973000049591064, 1.8973000049591064, 1.8973000049591064, 1.8973000049591064, 1.8973000049591064, 1.6891000270843506, 1.8008999824523926, 1.4648000001907349, 1.3846999406814575, 1.3233000040054321, 1.1475000381469727, 0.7437999844551086, 1.183899998664856, 1.1270999908447266, -0.14669999480247498, 0.8202999830245972, 1.0329999923706055, 0.810699999332428], \"logprob\": [30.0, 29.0, 28.0, 27.0, 26.0, 25.0, 24.0, 23.0, 22.0, 21.0, 20.0, 19.0, 18.0, 17.0, 16.0, 15.0, 14.0, 13.0, 12.0, 11.0, 10.0, 9.0, 8.0, 7.0, 6.0, 5.0, 4.0, 3.0, 2.0, 1.0, -2.6839001178741455, -3.5776000022888184, -3.6005001068115234, -3.6303000450134277, -4.646599769592285, -4.966899871826172, -5.082099914550781, -5.090199947357178, -5.135499954223633, -5.13539981842041, -5.206399917602539, -5.353700160980225, -5.438199996948242, -5.458899974822998, -5.461900234222412, -5.463600158691406, -5.473599910736084, -5.501399993896484, -5.51039981842041, -5.514800071716309, -5.519800186157227, -5.5543999671936035, -5.55679988861084, -5.560400009155273, -5.58050012588501, -5.580599784851074, -5.589099884033203, -5.589700222015381, -5.6458001136779785, -5.695899963378906, -5.088799953460693, -4.838099956512451, -4.07450008392334, -3.8210999965667725, -5.257800102233887, -5.246500015258789, -5.032700061798096, -5.1350998878479, -5.115200042724609, -5.395199775695801, -5.092899799346924, -5.34119987487793, -5.434199810028076, -5.446899890899658, -3.6326000690460205, -4.363500118255615, -4.426700115203857, -4.4994001388549805, -4.566699981689453, -4.610799789428711, -4.815199851989746, -4.978099822998047, -5.134099960327148, -5.292200088500977, -5.301700115203857, -5.30709981918335, -5.314700126647949, -5.316999912261963, -5.332699775695801, -5.349999904632568, -5.391600131988525, -5.395299911499023, -5.404399871826172, -5.409599781036377, -5.422399997711182, -5.449399948120117, -5.473899841308594, -5.502900123596191, -5.503200054168701, -5.513899803161621, -5.53380012512207, -5.548299789428711, -5.5524001121521, -5.566800117492676, -5.323599815368652, -5.197500228881836, -5.232600212097168, -5.275199890136719, -5.320000171661377, -5.448200225830078, -3.719399929046631, -4.518899917602539, -4.682700157165527, -4.693999767303467, -4.759399890899658, -4.834499835968018, -4.896900177001953, -5.002399921417236, -5.082900047302246, -5.089300155639648, -5.088699817657471, -5.123600006103516, -5.130000114440918, -5.295000076293945, -5.3007001876831055, -5.328700065612793, -5.332499980926514, -5.336999893188477, -5.373700141906738, -5.373499870300293, -5.407299995422363, -5.43779993057251, -5.447500228881836, -5.472400188446045, -5.474100112915039, -5.524600028991699, -5.552199840545654, -5.578100204467773, -5.607699871063232, -5.6595001220703125, -4.533599853515625, -4.611599922180176, -4.65369987487793, -5.210999965667725, -5.259099960327148, -4.949399948120117, -5.346199989318848, -5.365200042724609, -5.414100170135498, -4.5630998611450195, -4.758500099182129, -4.849800109863281, -4.849999904632568, -4.854800224304199, -4.898399829864502, -4.900100231170654, -4.933899879455566, -4.935699939727783, -4.975800037384033, -4.988500118255615, -4.992099761962891, -5.045100212097168, -5.087200164794922, -5.2164998054504395, -5.240300178527832, -5.315400123596191, -5.357600212097168, -5.360300064086914, -5.413599967956543, -5.439300060272217, -5.476799964904785, -5.497200012207031, -5.571000099182129, -5.579699993133545, -5.591000080108643, -5.604499816894531, -5.614299774169922, -5.619100093841553, -5.634399890899658, -4.904399871826172, -4.853899955749512, -4.74560022354126, -5.221199989318848, -4.949100017547607, -4.9197001457214355, -4.874599933624268, -5.285699844360352, -5.376299858093262, -4.419899940490723, -4.569499969482422, -4.835299968719482, -4.843200206756592, -4.9558000564575195, -5.036300182342529, -5.03849983215332, -5.047299861907959, -5.078999996185303, -5.15310001373291, -5.157100200653076, -5.15910005569458, -5.173699855804443, -5.182799816131592, -5.200300216674805, -5.219600200653076, -5.224999904632568, -5.355500221252441, -5.417900085449219, -5.4334001541137695, -5.435800075531006, -5.441500186920166, -5.459799766540527, -5.524099826812744, -5.539599895477295, -5.557700157165527, -5.573800086975098, -5.608500003814697, -5.6107001304626465, -5.6203999519348145, -4.817699909210205, -4.947999954223633, -4.912899971008301, -5.246500015258789, -5.340799808502197, -5.395999908447266, -5.330599784851074, -4.111499786376953, -4.413099765777588, -4.475599765777588, -4.6996002197265625, -4.7256999015808105, -4.76800012588501, -4.813399791717529, -4.823800086975098, -4.850500106811523, -4.966800212860107, -5.043700218200684, -5.071199893951416, -5.131700038909912, -5.1392998695373535, -5.164700031280518, -5.1753997802734375, -5.2855000495910645, -5.354400157928467, -5.375899791717529, -5.390999794006348, -5.414299964904785, -5.4243998527526855, -5.4344000816345215, -5.442800045013428, -5.460100173950195, -5.462800025939941, -5.48859977722168, -5.5229997634887695, -5.5370001792907715, -5.540299892425537, -3.9528000354766846, -4.340700149536133, -4.010499954223633, -4.093699932098389, -4.914599895477295, -5.0177001953125, -4.4654998779296875, -4.091000080108643, -4.3231000900268555, -4.777200222015381, -4.975399971008301, -4.8516998291015625, -4.900000095367432, -5.041500091552734, -4.0366997718811035, -4.3053998947143555, -4.559100151062012, -4.712600231170654, -4.818699836730957, -4.934599876403809, -4.979800224304199, -4.993599891662598, -5.004799842834473, -5.108799934387207, -5.1331000328063965, -5.145100116729736, -5.166999816894531, -5.292699813842773, -5.331099987030029, -5.351200103759766, -5.361400127410889, -5.367000102996826, -5.407199859619141, -5.416399955749512, -5.44320011138916, -5.494800090789795, -5.55049991607666, -5.578400135040283, -5.632500171661377, -5.63539981842041, -5.642300128936768, -5.6757001876831055, -5.6828999519348145, -5.7204999923706055, -4.679699897766113, -4.585100173950195, -4.828499794006348, -4.905799865722656, -4.9918999671936035, -5.336999893188477, -5.364799976348877, -5.395500183105469, -5.484899997711182, -3.2980000972747803, -4.397600173950195, -4.812900066375732, -4.822400093078613, -4.874599933624268, -5.000800132751465, -5.017600059509277, -5.029099941253662, -5.13040018081665, -5.177299976348877, -5.180500030517578, -5.200399875640869, -5.209499835968018, -5.235099792480469, -5.245500087738037, -5.248300075531006, -5.260000228881836, -5.2600998878479, -5.359000205993652, -5.393799781799316, -5.414700031280518, -5.423299789428711, -5.492099761962891, -5.525300025939941, -5.5335001945495605, -5.5370001792907715, -5.576900005340576, -5.578400135040283, -5.595300197601318, -5.615200042724609, -4.592100143432617, -4.466700077056885, -3.764400005340576, -5.052800178527832, -4.887499809265137, -5.053100109100342, -5.202099800109863, -4.673900127410889, -4.741399765014648, -5.265200138092041, -4.293099880218506, -4.774600028991699, -4.783199787139893, -4.823599815368652, -5.007800102233887, -5.071300029754639, -5.108500003814697, -5.180200099945068, -5.181099891662598, -5.217599868774414, -5.238100051879883, -5.256800174713135, -5.271599769592285, -5.295000076293945, -5.31879997253418, -5.331099987030029, -5.410900115966797, -5.434599876403809, -5.470399856567383, -5.474699974060059, -5.477399826049805, -5.479599952697754, -5.496699810028076, -5.5177998542785645, -5.5243000984191895, -5.572800159454346, -5.61959981918335, -5.636899948120117, -5.667099952697754, -5.677299976348877, -4.04449987411499, -4.76170015335083, -4.708199977874756, -4.856299877166748, -4.567999839782715, -4.428400039672852, -4.088600158691406, -4.142600059509277, -5.096199989318848, -4.731200218200684, -5.103600025177002, -4.996099948883057, -5.0441999435424805, -5.254300117492676, -2.0845000743865967, -3.0260000228881836, -3.42330002784729, -3.4907000064849854, -3.703399896621704, -3.7637999057769775, -4.065000057220459, -4.5395002365112305, -4.633600234985352, -4.849299907684326, -4.898099899291992, -4.902299880981445, -5.121300220489502, -5.1244001388549805, -5.322299957275391, -5.337200164794922, -5.384099960327148, -5.46120023727417, -5.532800197601318, -5.58519983291626, -5.604899883270264, -5.720300197601318, -5.750800132751465, -5.754499912261963, -5.814499855041504, -5.815400123596191, -5.890900135040283, -5.904099941253662, -5.968100070953369, -5.97730016708374, -3.649199962615967, -5.037399768829346, -3.8345000743865967, -4.673900127410889, -4.6041998863220215, -4.882299900054932, -4.724400043487549, -5.167699813842773, -5.417200088500977, -5.2270002365112305, -5.406899929046631, -5.452199935913086, -5.4506001472473145]}, \"token.table\": {\"Topic\": [3, 6, 9, 9, 10, 6, 9, 1, 3, 3, 10, 8, 6, 2, 2, 8, 2, 9, 2, 1, 1, 2, 1, 1, 4, 3, 8, 10, 5, 2, 4, 9, 4, 3, 4, 7, 10, 7, 10, 6, 9, 6, 8, 7, 2, 5, 9, 4, 4, 4, 3, 10, 3, 2, 9, 4, 4, 2, 4, 4, 1, 7, 4, 7, 9, 10, 5, 3, 1, 1, 5, 8, 2, 1, 3, 9, 1, 3, 5, 6, 3, 1, 7, 3, 6, 5, 10, 10, 10, 7, 3, 3, 7, 4, 8, 10, 1, 5, 9, 7, 6, 2, 5, 9, 5, 6, 7, 3, 2, 3, 4, 6, 4, 7, 8, 6, 2, 7, 4, 2, 4, 1, 2, 9, 7, 2, 3, 4, 9, 10, 2, 5, 6, 9, 2, 9, 5, 6, 9, 10, 5, 3, 4, 5, 9, 8, 2, 1, 3, 10, 6, 5, 2, 5, 2, 5, 1, 5, 7, 10, 9, 10, 9, 1, 9, 3, 5, 5, 9, 7, 10, 7, 5, 7, 7, 5, 5, 10, 7, 8, 10, 10, 1, 2, 9, 9, 9, 6, 1, 4, 9, 1, 1, 10, 9, 2, 6, 9, 1, 6, 8, 9, 3, 9, 3, 7, 10, 7, 10, 4, 1, 2, 5, 6, 8, 1, 2, 3, 6, 7, 8, 9, 10, 7, 2, 4, 4, 1, 2, 2, 4, 9, 1, 6, 8, 3, 6, 7, 9, 10, 2, 8, 2, 6, 4, 10, 6, 1, 7, 4, 3, 5, 4, 8, 10, 8, 5, 5, 10, 8, 9, 1, 9, 6, 1, 2, 4, 7, 10, 7, 4, 8, 1, 2, 4, 5, 6, 9, 10, 1, 8, 10, 9, 6, 1, 8, 10, 10, 3, 1, 1, 6, 2, 3, 8, 8, 10, 2, 4, 6, 6, 10, 1, 6, 7, 9, 10, 3, 3, 2, 9, 1, 1, 2, 5, 1, 8, 9, 7, 8, 10, 10, 2, 6, 9, 10, 1, 3, 6, 1, 6, 1, 3, 7, 10, 8, 7, 6, 2, 10, 8, 10, 7, 8, 9, 5, 7, 8, 7, 10, 2, 4, 5, 6, 8, 9, 10, 1, 8, 3, 4, 5, 10, 5, 6, 8, 9, 10, 2, 9, 1, 4, 7, 8, 10, 9, 7, 8, 7, 5, 2, 7, 2, 6, 4, 3, 4, 1, 1, 5, 7, 9, 4, 4, 3, 4, 1, 3, 9, 3, 6, 5, 9, 3, 9, 8, 6, 1, 2, 4, 7, 9, 10, 7, 3, 8, 6, 7, 3, 5, 6, 1, 6, 2, 8, 8, 2, 4, 10, 3, 10, 7, 5, 8, 2, 9, 2, 6, 7, 3, 2, 5, 6, 9, 4, 7, 4, 5, 8, 8, 6, 10, 10, 1, 6, 2, 3, 3, 1, 4, 6, 8, 2, 7, 1, 3, 4, 5, 7, 10, 1, 3, 10, 7, 3, 10, 8, 9, 5, 2, 6, 7, 9, 10, 8, 2, 4, 5, 7, 8, 10, 6, 7, 5, 5, 8, 1, 6, 7, 10, 9, 5, 1, 3, 5, 7, 9, 1, 6, 7, 6, 3, 9, 5, 9, 5, 7, 8, 10, 9, 2, 4, 7, 10, 6, 1, 2, 4, 8], \"Freq\": [0.9995512962341309, 0.9996936321258545, 0.9997637271881104, 0.3512926399707794, 0.648690402507782, 0.271005243062973, 0.7289546132087708, 0.43797504901885986, 0.5620458722114563, 0.9999169111251831, 0.9998396635055542, 0.9996609687805176, 0.9997572898864746, 0.9998825788497925, 0.2324150651693344, 0.7675219178199768, 0.23775143921375275, 0.7621254324913025, 0.9998008608818054, 0.9999840259552002, 0.9997668266296387, 0.9996513724327087, 0.9998072385787964, 0.9996272325515747, 0.9995649456977844, 0.9999490976333618, 0.9997133612632751, 0.9996893405914307, 0.9996715784072876, 0.9996570348739624, 0.9998495578765869, 0.9997063279151917, 0.9998022317886353, 0.4623793959617615, 0.29737287759780884, 0.2401483803987503, 0.9998577833175659, 0.9997532963752747, 0.9997949600219727, 0.999847948551178, 0.9998570680618286, 0.9995643496513367, 0.9998529553413391, 0.9998114705085754, 0.34003305435180664, 0.6598305702209473, 0.9996592998504639, 0.9998849630355835, 0.9996722936630249, 0.9998074173927307, 0.9997317790985107, 0.9999523758888245, 0.999792754650116, 0.9996616244316101, 0.999825656414032, 0.9998473525047302, 0.9997091889381409, 0.9998298287391663, 0.9998135566711426, 0.9997186064720154, 0.9998525381088257, 0.999451756477356, 0.9995332956314087, 0.19645540416240692, 0.3135928511619568, 0.48981407284736633, 0.9995564222335815, 0.9996167421340942, 0.9996404051780701, 0.9997202157974243, 0.9999474287033081, 0.9998793601989746, 0.9996408224105835, 0.9995555281639099, 0.9998791813850403, 0.999822735786438, 0.580661416053772, 0.26468661427497864, 0.15452420711517334, 0.9998736381530762, 0.9998965263366699, 0.9998374581336975, 0.9999316930770874, 0.99984210729599, 0.9998480081558228, 0.9996812343597412, 0.999980092048645, 0.9999364614486694, 0.9997365474700928, 0.9997336268424988, 0.9998752474784851, 0.7010146975517273, 0.2987031042575836, 0.9998253583908081, 0.5777119994163513, 0.422267884016037, 0.26568931341171265, 0.486484169960022, 0.24776217341423035, 0.9995096325874329, 0.9998807311058044, 0.9996495246887207, 0.9996615052223206, 0.9997156262397766, 0.9998835325241089, 0.9997839331626892, 0.999523401260376, 0.9998730421066284, 0.08369268476963043, 0.5740782618522644, 0.14084075391292572, 0.20131704211235046, 0.9998267292976379, 0.9997305274009705, 0.999725341796875, 0.9998968839645386, 0.9998077154159546, 0.9998078346252441, 0.999590277671814, 0.9997773766517639, 0.9997248649597168, 0.6160867810249329, 0.17877814173698425, 0.2051960974931717, 0.9996964335441589, 0.10439181327819824, 0.08914805948734283, 0.0973685160279274, 0.39553964138031006, 0.3134946823120117, 0.15583589673042297, 0.13926027715206146, 0.17322774231433868, 0.5316126346588135, 0.9998460412025452, 0.9997352361679077, 0.06988038867712021, 0.174289271235466, 0.15705247223377228, 0.5987316370010376, 0.9998141527175903, 0.9998244643211365, 0.9998578429222107, 0.9996529817581177, 0.9996368885040283, 0.9996576905250549, 0.9998641610145569, 0.5927194356918335, 0.18637226521968842, 0.22086504101753235, 0.9996778964996338, 0.9998798370361328, 0.9997509121894836, 0.9994615316390991, 0.9997367262840271, 0.9998554587364197, 0.19210831820964813, 0.3661760091781616, 0.2139277309179306, 0.22770199179649353, 0.999718427658081, 0.999981164932251, 0.9998464584350586, 0.744361937046051, 0.2555581331253052, 0.707510232925415, 0.2923671305179596, 0.9995325803756714, 0.9997550845146179, 0.5517313480377197, 0.4481770694255829, 0.999821662902832, 0.9996321201324463, 0.9996488690376282, 0.9997398257255554, 0.9997206926345825, 0.9998255372047424, 0.9996851086616516, 0.2914991080760956, 0.7083935141563416, 0.9999560713768005, 0.9998214840888977, 0.9998170137405396, 0.9995833039283752, 0.9996799826622009, 0.9996294379234314, 0.9998570084571838, 0.9998296499252319, 0.6336316466331482, 0.18657128512859344, 0.1796415001153946, 0.9998247027397156, 0.9996689558029175, 0.9997425675392151, 0.9997798800468445, 0.15569716691970825, 0.5830835103988647, 0.2611831724643707, 0.9998719096183777, 0.9995660185813904, 0.9995976686477661, 0.9996466040611267, 0.7403395175933838, 0.25959327816963196, 0.45590895414352417, 0.2068096101284027, 0.3372421860694885, 0.5786787867546082, 0.4212472140789032, 0.9998942613601685, 0.15857258439064026, 0.22844791412353516, 0.15348339080810547, 0.37926554679870605, 0.08021526783704758, 0.029593631625175476, 0.10182169824838638, 0.0827641561627388, 0.30949440598487854, 0.04189935699105263, 0.17924974858760834, 0.19580258429050446, 0.05935061350464821, 0.9997737407684326, 0.9996586441993713, 0.9999091625213623, 0.9995798468589783, 0.24536608159542084, 0.7545209527015686, 0.2726093530654907, 0.5265768766403198, 0.20078347623348236, 0.9999458193778992, 0.9997889399528503, 0.9997970461845398, 0.26659512519836426, 0.19931560754776, 0.12059855461120605, 0.19956789910793304, 0.2137807011604309, 0.999768078327179, 0.9997833967208862, 0.23059910535812378, 0.7693710923194885, 0.9998424053192139, 0.9999255537986755, 0.9998494982719421, 0.9999659657478333, 0.9997289776802063, 0.9997668862342834, 0.9998894333839417, 0.9996746778488159, 0.24907857179641724, 0.18778395652770996, 0.5631111264228821, 0.9996053576469421, 0.999756395816803, 0.9997002482414246, 0.9997691512107849, 0.9997922778129578, 0.9998151063919067, 0.9997228384017944, 0.9997587203979492, 0.9995195865631104, 0.999707818031311, 0.9998978972434998, 0.16796472668647766, 0.4914836585521698, 0.3405427932739258, 0.9999438524246216, 0.9998257756233215, 0.999835193157196, 0.06716986000537872, 0.12065406143665314, 0.13617496192455292, 0.11000965535640717, 0.26542845368385315, 0.1771795153617859, 0.12338070571422577, 0.1525571197271347, 0.5320034027099609, 0.3154246211051941, 0.9998387098312378, 0.9997659921646118, 0.9997064471244812, 0.18815824389457703, 0.8118264079093933, 0.9997981786727905, 0.9996740221977234, 0.9996164441108704, 0.9998172521591187, 0.9997738599777222, 0.9995960593223572, 0.9996355772018433, 0.9995496273040771, 0.9998233318328857, 0.9999025464057922, 0.9997715950012207, 0.6789841055870056, 0.32091352343559265, 0.9998297095298767, 0.9996911883354187, 0.36924487352371216, 0.18599475920200348, 0.047896794974803925, 0.267363578081131, 0.12947200238704681, 0.9996610879898071, 0.9997825622558594, 0.9999476671218872, 0.9996957182884216, 0.9997990727424622, 0.9997466206550598, 0.9999386668205261, 0.9998670816421509, 0.9999772906303406, 0.7106769680976868, 0.2893006205558777, 0.9999014735221863, 0.999855637550354, 0.9999250769615173, 0.9999686479568481, 0.9998146295547485, 0.9996547102928162, 0.09217119961977005, 0.9078264832496643, 0.9997828006744385, 0.9998541474342346, 0.9998950362205505, 0.8247839212417603, 0.1750434786081314, 0.496355801820755, 0.12303101271390915, 0.17391547560691833, 0.20673751831054688, 0.9997243881225586, 0.9998717308044434, 0.999854326248169, 0.999736487865448, 0.9999721646308899, 0.9996347427368164, 0.9999465346336365, 0.9997949004173279, 0.6645869612693787, 0.33525729179382324, 0.9996257424354553, 0.9996374249458313, 0.9997656941413879, 0.9994872808456421, 0.9996309280395508, 0.15370115637779236, 0.10037846863269806, 0.030632181093096733, 0.23738589882850647, 0.06655881553888321, 0.17828252911567688, 0.23306389153003693, 0.17682385444641113, 0.8230160474777222, 0.9995322823524475, 0.9997000098228455, 0.9998239278793335, 0.9998441338539124, 0.9998775720596313, 0.9998036026954651, 0.1646348536014557, 0.5027656555175781, 0.33259260654449463, 0.9998943209648132, 0.9998040795326233, 0.12177763134241104, 0.0932290256023407, 0.18610119819641113, 0.1360519379377365, 0.4627549946308136, 0.9998935461044312, 0.9995257258415222, 0.9998160600662231, 0.9998195767402649, 0.9997183084487915, 0.9996678829193115, 0.9998730421066284, 0.9998839497566223, 0.9996029734611511, 0.9995958805084229, 0.9996939897537231, 0.9997405409812927, 0.9998928308486938, 0.9998999834060669, 0.9997343420982361, 0.9997597336769104, 0.9997152090072632, 0.9997360110282898, 0.9995583891868591, 0.9998363852500916, 0.9997503161430359, 0.99970942735672, 0.999879777431488, 0.9996657371520996, 0.22228069603443146, 0.777670681476593, 0.9997987747192383, 0.9998677372932434, 0.21842384338378906, 0.781420111656189, 0.9997917413711548, 0.9998404383659363, 0.17979121208190918, 0.1484837532043457, 0.04485446959733963, 0.060694869607686996, 0.09386904537677765, 0.4723319411277771, 0.9998550415039062, 0.9996224045753479, 0.9995505809783936, 0.7185329794883728, 0.2814578711986542, 0.9998146295547485, 0.22488611936569214, 0.7748755812644958, 0.9997074604034424, 0.9996814727783203, 0.9998696446418762, 0.9997432231903076, 0.9999672770500183, 0.227982759475708, 0.7718822956085205, 0.9998199343681335, 0.9998484253883362, 0.9998013973236084, 0.9997280240058899, 0.7410775423049927, 0.25879397988319397, 0.17059236764907837, 0.8293047547340393, 0.19955532252788544, 0.5542280077934265, 0.24619318544864655, 0.9996166229248047, 0.20320482552051544, 0.1541338413953781, 0.17470425367355347, 0.46792861819267273, 0.7225192189216614, 0.2773146331310272, 0.9997689127922058, 0.9995582699775696, 0.9998140931129456, 0.9996150135993958, 0.9998475313186646, 0.9999917149543762, 0.9998599886894226, 0.9996853470802307, 0.9998437166213989, 0.9998229146003723, 0.9995365142822266, 0.9998494982719421, 0.2341783493757248, 0.5801236033439636, 0.1856868714094162, 0.9997068047523499, 0.999780535697937, 0.9999136924743652, 0.9996542930603027, 0.31693947315216064, 0.21548114717006683, 0.16145379841327667, 0.16880403459072113, 0.13726714253425598, 0.7426988482475281, 0.257234126329422, 0.99994957447052, 0.9998104572296143, 0.9997904896736145, 0.9997876286506653, 0.9998036026954651, 0.9999544620513916, 0.9999008774757385, 0.1020229384303093, 0.2849572002887726, 0.13184809684753418, 0.2618539035320282, 0.2192821055650711, 0.9996659159660339, 0.18992559611797333, 0.24723480641841888, 0.11627613753080368, 0.09543642401695251, 0.109724260866642, 0.24139337241649628, 0.9997205138206482, 0.9996536374092102, 0.9998401403427124, 0.999710202217102, 0.9998461604118347, 0.521679162979126, 0.13259845972061157, 0.2061849683523178, 0.1395476758480072, 0.9996972680091858, 0.9994249939918518, 0.4351317882537842, 0.09363172948360443, 0.10074863582849503, 0.19271233677864075, 0.17770013213157654, 0.30497896671295166, 0.48593977093696594, 0.20905916392803192, 0.9995450973510742, 0.9998155236244202, 0.9998822212219238, 0.7759836316108704, 0.2239445000886917, 0.5230507254600525, 0.18806196749210358, 0.16829988360404968, 0.12061312794685364, 0.9996088147163391, 0.1556769758462906, 0.4083940088748932, 0.22100350260734558, 0.21489204466342926, 0.9994920492172241, 0.7563338279724121, 0.24345663189888, 0.9996705055236816, 0.9995240569114685], \"Term\": [\"administration\", \"african\", \"agree\", \"america\", \"america\", \"american\", \"american\", \"anti\", \"anti\", \"antifa\", \"attacks\", \"beat\", \"beautiful\", \"bernie\", \"best\", \"best\", \"better\", \"better\", \"birthday\", \"black\", \"blacks\", \"bless\", \"blue\", \"book\", \"border\", \"breaking\", \"bring\", \"brussels\", \"build\", \"bush\", \"business\", \"cain\", \"california\", \"called\", \"called\", \"called\", \"calling\", \"calls\", \"campaign\", \"candidate\", \"care\", \"cause\", \"ccot\", \"change\", \"check\", \"check\", \"child\", \"christmas\", \"citizens\", \"city\", \"clarke\", \"clinton\", \"college\", \"color\", \"come\", \"comey\", \"coming\", \"congress\", \"control\", \"cool\", \"cops\", \"corruption\", \"countries\", \"country\", \"country\", \"country\", \"court\", \"cover\", \"crime\", \"criminal\", \"cruz\", \"daily\", \"damn\", \"david\", \"dead\", \"deal\", \"death\", \"death\", \"death\", \"debate\", \"democrat\", \"democratic\", \"democrats\", \"dems\", \"difference\", \"disgusting\", \"donald\", \"election\", \"emails\", \"europe\", \"exactly\", \"face\", \"face\", \"facts\", \"fake\", \"fake\", \"family\", \"family\", \"family\", \"federal\", \"feel\", \"finally\", \"fired\", \"flag\", \"folks\", \"forget\", \"france\", \"fraud\", \"free\", \"free\", \"free\", \"free\", \"freedom\", \"friday\", \"friends\", \"fuck\", \"funny\", \"future\", \"general\", \"george\", \"germany\", \"girl\", \"girl\", \"girl\", \"goes\", \"going\", \"going\", \"going\", \"going\", \"going\", \"good\", \"good\", \"good\", \"good\", \"gopdebate\", \"government\", \"great\", \"great\", \"great\", \"great\", \"group\", \"guess\", \"guns\", \"guys\", \"happen\", \"happened\", \"happy\", \"hate\", \"hate\", \"hate\", \"having\", \"health\", \"hear\", \"heard\", \"heart\", \"hell\", \"help\", \"help\", \"help\", \"help\", \"high\", \"hillary\", \"hillarys\", \"history\", \"history\", \"home\", \"home\", \"honor\", \"hope\", \"house\", \"house\", \"illegal\", \"imagine\", \"immigrants\", \"immigration\", \"important\", \"investigation\", \"iran\", \"isis\", \"isis\", \"islam\", \"islamic\", \"israel\", \"issue\", \"james\", \"jobs\", \"john\", \"join\", \"justice\", \"justice\", \"justice\", \"killed\", \"killing\", \"kills\", \"king\", \"know\", \"know\", \"know\", \"korea\", \"kweli\", \"learn\", \"leave\", \"left\", \"left\", \"liberal\", \"liberal\", \"liberal\", \"liberals\", \"liberals\", \"lies\", \"life\", \"life\", \"life\", \"life\", \"life\", \"like\", \"like\", \"like\", \"like\", \"like\", \"like\", \"like\", \"like\", \"line\", \"list\", \"listen\", \"literally\", \"little\", \"little\", \"live\", \"live\", \"live\", \"lives\", \"logic\", \"london\", \"look\", \"look\", \"look\", \"look\", \"look\", \"looking\", \"looks\", \"love\", \"love\", \"lying\", \"maga\", \"march\", \"matter\", \"maybe\", \"mayor\", \"mean\", \"means\", \"media\", \"media\", \"media\", \"meet\", \"mexico\", \"middle\", \"military\", \"million\", \"mind\", \"month\", \"morning\", \"movement\", \"murder\", \"music\", \"muslim\", \"muslim\", \"muslim\", \"muslims\", \"nation\", \"national\", \"need\", \"need\", \"need\", \"need\", \"need\", \"need\", \"need\", \"news\", \"news\", \"news\", \"nice\", \"night\", \"north\", \"obama\", \"obama\", \"obamacare\", \"office\", \"officer\", \"officers\", \"open\", \"order\", \"outside\", \"paid\", \"paris\", \"party\", \"patriots\", \"peace\", \"peace\", \"peaceful\", \"pence\", \"people\", \"people\", \"people\", \"people\", \"people\", \"perfect\", \"photo\", \"pjnet\", \"place\", \"plan\", \"play\", \"playing\", \"point\", \"police\", \"political\", \"political\", \"poll\", \"post\", \"potus\", \"president\", \"press\", \"pretty\", \"prison\", \"prison\", \"protest\", \"protesters\", \"proud\", \"racism\", \"racism\", \"racist\", \"racist\", \"racist\", \"racist\", \"radio\", \"rally\", \"read\", \"ready\", \"real\", \"record\", \"refugees\", \"religion\", \"remember\", \"remember\", \"reminder\", \"republican\", \"respect\", \"rice\", \"rich\", \"right\", \"right\", \"right\", \"right\", \"right\", \"right\", \"right\", \"rights\", \"rights\", \"rock\", \"ross\", \"running\", \"russia\", \"russian\", \"safe\", \"said\", \"said\", \"said\", \"sanders\", \"save\", \"says\", \"says\", \"says\", \"says\", \"says\", \"school\", \"secret\", \"security\", \"seen\", \"senate\", \"sense\", \"service\", \"sessions\", \"share\", \"sharia\", \"sheriff\", \"shit\", \"shooting\", \"shot\", \"shows\", \"sign\", \"single\", \"social\", \"song\", \"soon\", \"speak\", \"special\", \"speech\", \"spread\", \"stand\", \"stand\", \"star\", \"start\", \"state\", \"state\", \"states\", \"stay\", \"stop\", \"stop\", \"stop\", \"stop\", \"stop\", \"stop\", \"stupid\", \"sunday\", \"super\", \"support\", \"support\", \"supporters\", \"sure\", \"sure\", \"syria\", \"talib\", \"talk\", \"talking\", \"tcot\", \"tell\", \"tell\", \"terror\", \"terrorism\", \"terrorists\", \"texas\", \"thanks\", \"thanks\", \"things\", \"things\", \"think\", \"think\", \"think\", \"threat\", \"time\", \"time\", \"time\", \"time\", \"times\", \"times\", \"told\", \"tomorrow\", \"train\", \"traitor\", \"true\", \"trump\", \"trumps\", \"trust\", \"truth\", \"tube\", \"turn\", \"tweet\", \"twitter\", \"twitter\", \"twitter\", \"united\", \"vegas\", \"veterans\", \"victims\", \"video\", \"video\", \"video\", \"video\", \"video\", \"violence\", \"violence\", \"vote\", \"voted\", \"voter\", \"voting\", \"wait\", \"wake\", \"wall\", \"want\", \"want\", \"want\", \"want\", \"want\", \"washington\", \"watch\", \"watch\", \"watch\", \"watch\", \"watch\", \"watch\", \"water\", \"wear\", \"week\", \"welcome\", \"west\", \"white\", \"white\", \"white\", \"white\", \"wife\", \"wish\", \"woman\", \"woman\", \"woman\", \"woman\", \"woman\", \"women\", \"women\", \"women\", \"womens\", \"wonder\", \"word\", \"words\", \"words\", \"work\", \"work\", \"work\", \"work\", \"working\", \"world\", \"world\", \"world\", \"world\", \"worst\", \"wrong\", \"wrong\", \"yeah\", \"york\"]}, \"R\": 30, \"lambda.step\": 0.01, \"plot.opts\": {\"xlab\": \"PC1\", \"ylab\": \"PC2\"}, \"topic.order\": [1, 2, 3, 4, 5, 6, 7, 8, 9, 10]};\n",
       "\n",
       "function LDAvis_load_lib(url, callback){\n",
       "  var s = document.createElement('script');\n",
       "  s.src = url;\n",
       "  s.async = true;\n",
       "  s.onreadystatechange = s.onload = callback;\n",
       "  s.onerror = function(){console.warn(\"failed to load library \" + url);};\n",
       "  document.getElementsByTagName(\"head\")[0].appendChild(s);\n",
       "}\n",
       "\n",
       "if(typeof(LDAvis) !== \"undefined\"){\n",
       "   // already loaded: just create the visualization\n",
       "   !function(LDAvis){\n",
       "       new LDAvis(\"#\" + \"ldavis_el313261161976964006738728416\", ldavis_el313261161976964006738728416_data);\n",
       "   }(LDAvis);\n",
       "}else if(typeof define === \"function\" && define.amd){\n",
       "   // require.js is available: use it to load d3/LDAvis\n",
       "   require.config({paths: {d3: \"https://cdnjs.cloudflare.com/ajax/libs/d3/3.5.5/d3.min\"}});\n",
       "   require([\"d3\"], function(d3){\n",
       "      window.d3 = d3;\n",
       "      LDAvis_load_lib(\"https://cdn.rawgit.com/bmabey/pyLDAvis/files/ldavis.v1.0.0.js\", function(){\n",
       "        new LDAvis(\"#\" + \"ldavis_el313261161976964006738728416\", ldavis_el313261161976964006738728416_data);\n",
       "      });\n",
       "    });\n",
       "}else{\n",
       "    // require.js not available: dynamically load d3 & LDAvis\n",
       "    LDAvis_load_lib(\"https://cdnjs.cloudflare.com/ajax/libs/d3/3.5.5/d3.min.js\", function(){\n",
       "         LDAvis_load_lib(\"https://cdn.rawgit.com/bmabey/pyLDAvis/files/ldavis.v1.0.0.js\", function(){\n",
       "                 new LDAvis(\"#\" + \"ldavis_el313261161976964006738728416\", ldavis_el313261161976964006738728416_data);\n",
       "            })\n",
       "         });\n",
       "}\n",
       "</script>"
      ],
      "text/plain": [
       "<IPython.core.display.HTML object>"
      ]
     },
     "execution_count": 80,
     "metadata": {},
     "output_type": "execute_result"
    }
   ],
   "source": [
    "#dictionary = gensim.corpora.Dictionary.load('dictionary.gensim')\n",
    "#corpus = pickle.load(open('corpus.pkl', 'rb'))\n",
    "#lda = gensim.models.ldamodel.LdaModel.load('model5.gensim')\n",
    "\n",
    "lda_display = pyLDAvis.gensim.prepare(ldamodel, corpus, dictionary, sort_topics=False)\n",
    "pyLDAvis.display(lda_display);"
   ]
  },
  {
   "cell_type": "code",
   "execution_count": 29,
   "metadata": {
    "slideshow": {
     "slide_type": "skip"
    }
   },
   "outputs": [],
   "source": [
    "#dictionary = corpora.Dictionary(user_rt['processed'])\n",
    "#corpus = [dictionary.doc2bow(text) for text in user_rt['processed']]"
   ]
  },
  {
   "cell_type": "code",
   "execution_count": 76,
   "metadata": {
    "slideshow": {
     "slide_type": "skip"
    }
   },
   "outputs": [],
   "source": [
    "#ntopics = 4\n",
    "#ldamodel = gensim.models.ldamodel.LdaModel(corpus, num_topics = ntopics, id2word=dictionary, passes=15)\n",
    "#ldamodel.save('model.gensim')\n",
    "#topics = ldamodel.print_topics(num_words=5)\n",
    "#for topic in topics:\n",
    "#    print(topic)"
   ]
  },
  {
   "cell_type": "code",
   "execution_count": 77,
   "metadata": {
    "slideshow": {
     "slide_type": "subslide"
    }
   },
   "outputs": [],
   "source": [
    "#lda_display = pyLDAvis.gensim.prepare(ldamodel, corpus, dictionary, sort_topics=False)\n",
    "#pyLDAvis.display(lda_display)"
   ]
  },
  {
   "cell_type": "code",
   "execution_count": null,
   "metadata": {
    "slideshow": {
     "slide_type": "skip"
    }
   },
   "outputs": [],
   "source": [
    "# the vectorizer object will be used to transform text to vector form\n",
    "# reject tokens in more than 90% or less than 25% of documents\n",
    "#vectorizer = CountVectorizer(max_df=0.9, min_df=25, token_pattern='\\w+|\\$[\\d\\.]+|\\S+')\n",
    "\n",
    "# apply transformation\n",
    "#tf = vectorizer.fit_transform(user_original['content']).toarray()\n",
    "\n",
    "# tf_feature_names tells us what word each column in the matrix represents\n",
    "#tf_feature_names = vectorizer.get_feature_names()"
   ]
  },
  {
   "cell_type": "code",
   "execution_count": null,
   "metadata": {
    "slideshow": {
     "slide_type": "skip"
    }
   },
   "outputs": [],
   "source": [
    "#number_of_topics = 10\n",
    "\n",
    "#model = LatentDirichletAllocation(n_components=number_of_topics, random_state=0)"
   ]
  },
  {
   "cell_type": "code",
   "execution_count": null,
   "metadata": {
    "slideshow": {
     "slide_type": "skip"
    }
   },
   "outputs": [],
   "source": [
    "#model.fit(tf)"
   ]
  }
 ],
 "metadata": {
  "celltoolbar": "Slideshow",
  "hide_input": false,
  "kernelspec": {
   "display_name": "Python 3",
   "language": "python",
   "name": "python3"
  },
  "language_info": {
   "codemirror_mode": {
    "name": "ipython",
    "version": 3
   },
   "file_extension": ".py",
   "mimetype": "text/x-python",
   "name": "python",
   "nbconvert_exporter": "python",
   "pygments_lexer": "ipython3",
   "version": "3.6.8"
  }
 },
 "nbformat": 4,
 "nbformat_minor": 2
}
