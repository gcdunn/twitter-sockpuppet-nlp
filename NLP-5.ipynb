{
 "cells": [
  {
   "cell_type": "markdown",
   "metadata": {
    "slideshow": {
     "slide_type": "slide"
    }
   },
   "source": [
    "## What are these accounts tweeting about?  \n",
    "## N-grams and topic modelling"
   ]
  },
  {
   "cell_type": "code",
   "execution_count": 18,
   "metadata": {
    "slideshow": {
     "slide_type": "skip"
    }
   },
   "outputs": [],
   "source": [
    "import os\n",
    "import re\n",
    "import pprint\n",
    "import sqlite3 as sql\n",
    "import pandas as pd\n",
    "import numpy as np\n",
    "import seaborn as sns\n",
    "import matplotlib.pyplot as plt\n",
    "from nltk.tokenize import word_tokenize\n",
    "from spacy.lang.en import English\n",
    "from spacy.matcher import Matcher, PhraseMatcher\n",
    "from spacy.tokens import Doc\n",
    "from sklearn.feature_extraction.text import TfidfVectorizer\n",
    "from collections import Counter\n",
    "from ast import literal_eval\n",
    "\n",
    "import warnings\n",
    "warnings.filterwarnings('ignore')\n",
    "warnings.filterwarnings('ignore', category=DeprecationWarning)\n",
    "\n",
    "np.random.seed(123)"
   ]
  },
  {
   "cell_type": "code",
   "execution_count": 19,
   "metadata": {
    "slideshow": {
     "slide_type": "skip"
    }
   },
   "outputs": [
    {
     "data": {
      "text/html": [
       "<div>\n",
       "<style scoped>\n",
       "    .dataframe tbody tr th:only-of-type {\n",
       "        vertical-align: middle;\n",
       "    }\n",
       "\n",
       "    .dataframe tbody tr th {\n",
       "        vertical-align: top;\n",
       "    }\n",
       "\n",
       "    .dataframe thead th {\n",
       "        text-align: right;\n",
       "    }\n",
       "</style>\n",
       "<table border=\"1\" class=\"dataframe\">\n",
       "  <thead>\n",
       "    <tr style=\"text-align: right;\">\n",
       "      <th></th>\n",
       "      <th>external_author_id</th>\n",
       "      <th>author</th>\n",
       "      <th>content</th>\n",
       "      <th>language</th>\n",
       "      <th>publish_date</th>\n",
       "      <th>harvested_date</th>\n",
       "      <th>following</th>\n",
       "      <th>followers</th>\n",
       "      <th>updates</th>\n",
       "      <th>post_type</th>\n",
       "      <th>account_type</th>\n",
       "      <th>retweet</th>\n",
       "      <th>account_category</th>\n",
       "      <th>new_june_2018</th>\n",
       "      <th>alt_external_id</th>\n",
       "      <th>tweet_id</th>\n",
       "      <th>hashtags</th>\n",
       "      <th>mentions</th>\n",
       "    </tr>\n",
       "  </thead>\n",
       "  <tbody>\n",
       "    <tr>\n",
       "      <th>0</th>\n",
       "      <td>906000000000000000</td>\n",
       "      <td>10_GOP</td>\n",
       "      <td>We have a sitting Democrat US Senator on trial...</td>\n",
       "      <td>English</td>\n",
       "      <td>10/1/2017 19:58</td>\n",
       "      <td>10/1/2017 19:59</td>\n",
       "      <td>1052</td>\n",
       "      <td>9636</td>\n",
       "      <td>253</td>\n",
       "      <td>NaN</td>\n",
       "      <td>Right</td>\n",
       "      <td>0</td>\n",
       "      <td>RightTroll</td>\n",
       "      <td>0</td>\n",
       "      <td>905874659358453760</td>\n",
       "      <td>914580356430536707</td>\n",
       "      <td>[]</td>\n",
       "      <td>[@nedryun]</td>\n",
       "    </tr>\n",
       "    <tr>\n",
       "      <th>1</th>\n",
       "      <td>906000000000000000</td>\n",
       "      <td>10_GOP</td>\n",
       "      <td>Marshawn Lynch arrives to game in anti Trump s...</td>\n",
       "      <td>English</td>\n",
       "      <td>10/1/2017 22:43</td>\n",
       "      <td>10/1/2017 22:43</td>\n",
       "      <td>1054</td>\n",
       "      <td>9637</td>\n",
       "      <td>254</td>\n",
       "      <td>NaN</td>\n",
       "      <td>Right</td>\n",
       "      <td>0</td>\n",
       "      <td>RightTroll</td>\n",
       "      <td>0</td>\n",
       "      <td>905874659358453760</td>\n",
       "      <td>914621840496189440</td>\n",
       "      <td>[]</td>\n",
       "      <td>[]</td>\n",
       "    </tr>\n",
       "    <tr>\n",
       "      <th>2</th>\n",
       "      <td>906000000000000000</td>\n",
       "      <td>10_GOP</td>\n",
       "      <td>Daughter of fallen Navy Sailor delivers powerf...</td>\n",
       "      <td>English</td>\n",
       "      <td>10/1/2017 22:50</td>\n",
       "      <td>10/1/2017 22:51</td>\n",
       "      <td>1054</td>\n",
       "      <td>9637</td>\n",
       "      <td>255</td>\n",
       "      <td>RETWEET</td>\n",
       "      <td>Right</td>\n",
       "      <td>1</td>\n",
       "      <td>RightTroll</td>\n",
       "      <td>0</td>\n",
       "      <td>905874659358453760</td>\n",
       "      <td>914623490375979008</td>\n",
       "      <td>[#BoycottNFL]</td>\n",
       "      <td>[]</td>\n",
       "    </tr>\n",
       "    <tr>\n",
       "      <th>3</th>\n",
       "      <td>906000000000000000</td>\n",
       "      <td>10_GOP</td>\n",
       "      <td>JUST IN President Trump dedicates Presidents C...</td>\n",
       "      <td>English</td>\n",
       "      <td>10/1/2017 23:52</td>\n",
       "      <td>10/1/2017 23:52</td>\n",
       "      <td>1062</td>\n",
       "      <td>9642</td>\n",
       "      <td>256</td>\n",
       "      <td>NaN</td>\n",
       "      <td>Right</td>\n",
       "      <td>0</td>\n",
       "      <td>RightTroll</td>\n",
       "      <td>0</td>\n",
       "      <td>905874659358453760</td>\n",
       "      <td>914639143690555392</td>\n",
       "      <td>[]</td>\n",
       "      <td>[]</td>\n",
       "    </tr>\n",
       "    <tr>\n",
       "      <th>4</th>\n",
       "      <td>906000000000000000</td>\n",
       "      <td>10_GOP</td>\n",
       "      <td>19000 RESPECTING our National Anthem Stand For...</td>\n",
       "      <td>English</td>\n",
       "      <td>10/1/2017 2:13</td>\n",
       "      <td>10/1/2017 2:13</td>\n",
       "      <td>1050</td>\n",
       "      <td>9645</td>\n",
       "      <td>246</td>\n",
       "      <td>RETWEET</td>\n",
       "      <td>Right</td>\n",
       "      <td>1</td>\n",
       "      <td>RightTroll</td>\n",
       "      <td>0</td>\n",
       "      <td>905874659358453760</td>\n",
       "      <td>914312219952861184</td>\n",
       "      <td>[#StandForOurAnthem]</td>\n",
       "      <td>[]</td>\n",
       "    </tr>\n",
       "  </tbody>\n",
       "</table>\n",
       "</div>"
      ],
      "text/plain": [
       "   external_author_id  author  \\\n",
       "0  906000000000000000  10_GOP   \n",
       "1  906000000000000000  10_GOP   \n",
       "2  906000000000000000  10_GOP   \n",
       "3  906000000000000000  10_GOP   \n",
       "4  906000000000000000  10_GOP   \n",
       "\n",
       "                                             content language  \\\n",
       "0  We have a sitting Democrat US Senator on trial...  English   \n",
       "1  Marshawn Lynch arrives to game in anti Trump s...  English   \n",
       "2  Daughter of fallen Navy Sailor delivers powerf...  English   \n",
       "3  JUST IN President Trump dedicates Presidents C...  English   \n",
       "4  19000 RESPECTING our National Anthem Stand For...  English   \n",
       "\n",
       "      publish_date   harvested_date  following  followers  updates post_type  \\\n",
       "0  10/1/2017 19:58  10/1/2017 19:59       1052       9636      253       NaN   \n",
       "1  10/1/2017 22:43  10/1/2017 22:43       1054       9637      254       NaN   \n",
       "2  10/1/2017 22:50  10/1/2017 22:51       1054       9637      255   RETWEET   \n",
       "3  10/1/2017 23:52  10/1/2017 23:52       1062       9642      256       NaN   \n",
       "4   10/1/2017 2:13   10/1/2017 2:13       1050       9645      246   RETWEET   \n",
       "\n",
       "  account_type  retweet account_category  new_june_2018     alt_external_id  \\\n",
       "0        Right        0       RightTroll              0  905874659358453760   \n",
       "1        Right        0       RightTroll              0  905874659358453760   \n",
       "2        Right        1       RightTroll              0  905874659358453760   \n",
       "3        Right        0       RightTroll              0  905874659358453760   \n",
       "4        Right        1       RightTroll              0  905874659358453760   \n",
       "\n",
       "             tweet_id              hashtags    mentions  \n",
       "0  914580356430536707                    []  [@nedryun]  \n",
       "1  914621840496189440                    []          []  \n",
       "2  914623490375979008         [#BoycottNFL]          []  \n",
       "3  914639143690555392                    []          []  \n",
       "4  914312219952861184  [#StandForOurAnthem]          []  "
      ]
     },
     "execution_count": 19,
     "metadata": {},
     "output_type": "execute_result"
    }
   ],
   "source": [
    "eng_tweets = pd.read_pickle('../data/eng_tweets.p')\n",
    "#user_rt = pd.read_pickle('../data/user_rt.p')\n",
    "#user_original = pd.read_pickle('../data/user_rt.p')\n",
    "\n",
    "eng_tweets.head()"
   ]
  },
  {
   "cell_type": "code",
   "execution_count": 20,
   "metadata": {
    "slideshow": {
     "slide_type": "skip"
    }
   },
   "outputs": [],
   "source": [
    "targets = ['RightTroll', 'LeftTroll', 'NewsFeed']\n",
    "eng_tweets = eng_tweets.loc[eng_tweets.account_category.isin(targets)]"
   ]
  },
  {
   "cell_type": "markdown",
   "metadata": {
    "slideshow": {
     "slide_type": "skip"
    }
   },
   "source": [
    "### N-grams"
   ]
  },
  {
   "cell_type": "code",
   "execution_count": 21,
   "metadata": {
    "slideshow": {
     "slide_type": "skip"
    }
   },
   "outputs": [],
   "source": [
    "unigram_vect = TfidfVectorizer(ngram_range=(1,1), stop_words='english')\n",
    "bigram_vect = TfidfVectorizer(ngram_range=(2,2), stop_words='english')\n",
    "trigram_vect = TfidfVectorizer(ngram_range=(3,3), stop_words='english')"
   ]
  },
  {
   "cell_type": "markdown",
   "metadata": {
    "slideshow": {
     "slide_type": "subslide"
    }
   },
   "source": [
    "### Top 10 words"
   ]
  },
  {
   "cell_type": "code",
   "execution_count": 22,
   "metadata": {
    "scrolled": true,
    "slideshow": {
     "slide_type": "fragment"
    }
   },
   "outputs": [
    {
     "name": "stdout",
     "output_type": "stream",
     "text": [
      "trump\n",
      "black\n",
      "new\n",
      "news\n",
      "police\n",
      "just\n",
      "world\n",
      "man\n",
      "people\n",
      "obama\n"
     ]
    }
   ],
   "source": [
    "eng_summaries = \"\".join(eng_tweets['content'])\n",
    "eng_unigrams = unigram_vect.build_analyzer()(eng_summaries)\n",
    "\n",
    "for value, count in Counter(eng_unigrams).most_common(10):\n",
    "    print(value)"
   ]
  },
  {
   "cell_type": "markdown",
   "metadata": {
    "slideshow": {
     "slide_type": "subslide"
    }
   },
   "source": [
    "### Top 10 bigrams"
   ]
  },
  {
   "cell_type": "code",
   "execution_count": 23,
   "metadata": {
    "slideshow": {
     "slide_type": "fragment"
    }
   },
   "outputs": [
    {
     "name": "stdout",
     "output_type": "stream",
     "text": [
      "donald trump\n",
      "real donald\n",
      "lives matter\n",
      "black lives\n",
      "hillary clinton\n",
      "newstop news\n",
      "world newstop\n",
      "fox news\n",
      "white house\n",
      "president trump\n"
     ]
    }
   ],
   "source": [
    "#eng_summaries = \"\".join(eng_tweets['content'])\n",
    "eng_bigrams = bigram_vect.build_analyzer()(eng_summaries)\n",
    "\n",
    "for value, count in Counter(eng_bigrams).most_common(10):\n",
    "    print(value)"
   ]
  },
  {
   "cell_type": "markdown",
   "metadata": {
    "slideshow": {
     "slide_type": "subslide"
    }
   },
   "source": [
    "### Top 10 trigrams"
   ]
  },
  {
   "cell_type": "code",
   "execution_count": 24,
   "metadata": {
    "slideshow": {
     "slide_type": "fragment"
    }
   },
   "outputs": [
    {
     "name": "stdout",
     "output_type": "stream",
     "text": [
      "real donald trump\n",
      "black lives matter\n",
      "world newstop news\n",
      "cnn fakenews cnn\n",
      "fakenews cnn fakenews\n",
      "make america great\n",
      "john mc cain\n",
      "archived hedge bz\n",
      "black history month\n",
      "enlist patriot army\n"
     ]
    }
   ],
   "source": [
    "eng_summaries = \"\".join(eng_tweets['content'])\n",
    "eng_trigrams = trigram_vect.build_analyzer()(eng_summaries)\n",
    "\n",
    "for value, count in Counter(eng_trigrams).most_common(10):\n",
    "    print(value)"
   ]
  },
  {
   "cell_type": "markdown",
   "metadata": {
    "slideshow": {
     "slide_type": "skip"
    }
   },
   "source": [
    "### Topic Modelling"
   ]
  },
  {
   "cell_type": "code",
   "execution_count": 25,
   "metadata": {
    "slideshow": {
     "slide_type": "skip"
    }
   },
   "outputs": [
    {
     "name": "stderr",
     "output_type": "stream",
     "text": [
      "[nltk_data] Downloading package stopwords to\n",
      "[nltk_data]     /Users/gcdunn/nltk_data...\n",
      "[nltk_data]   Package stopwords is already up-to-date!\n",
      "[nltk_data] Downloading package wordnet to /Users/gcdunn/nltk_data...\n",
      "[nltk_data]   Package wordnet is already up-to-date!\n"
     ]
    },
    {
     "data": {
      "text/plain": [
       "True"
      ]
     },
     "execution_count": 25,
     "metadata": {},
     "output_type": "execute_result"
    }
   ],
   "source": [
    "import gensim\n",
    "import nltk\n",
    "import pyLDAvis.gensim\n",
    "from gensim import corpora\n",
    "from gensim.utils import simple_preprocess\n",
    "from gensim.parsing.preprocessing import STOPWORDS\n",
    "from nltk.stem import WordNetLemmatizer, SnowballStemmer\n",
    "from nltk.stem.porter import *\n",
    "from sklearn.feature_extraction.text import CountVectorizer\n",
    "from sklearn.decomposition import LatentDirichletAllocation\n",
    "\n",
    "np.random.seed(123)\n",
    "nltk.download('stopwords')\n",
    "nltk.download('wordnet')"
   ]
  },
  {
   "cell_type": "code",
   "execution_count": 26,
   "metadata": {
    "slideshow": {
     "slide_type": "skip"
    }
   },
   "outputs": [],
   "source": [
    "en_stop = set(nltk.corpus.stopwords.words('english'))"
   ]
  },
  {
   "cell_type": "code",
   "execution_count": 27,
   "metadata": {
    "slideshow": {
     "slide_type": "skip"
    }
   },
   "outputs": [],
   "source": [
    "en_stop.add('the')\n",
    "en_stop.add('amp')"
   ]
  },
  {
   "cell_type": "code",
   "execution_count": 28,
   "metadata": {
    "slideshow": {
     "slide_type": "skip"
    }
   },
   "outputs": [],
   "source": [
    "stemmer = SnowballStemmer('english')"
   ]
  },
  {
   "cell_type": "code",
   "execution_count": 29,
   "metadata": {
    "slideshow": {
     "slide_type": "skip"
    }
   },
   "outputs": [],
   "source": [
    "def lemma_stem(text):\n",
    "    return stemmer.stem(WordNetLemmatizer().lemmatize(text, pos='v'))\n",
    "def preprocess(text, lemmatize=True):\n",
    "    result = []\n",
    "    for token in gensim.utils.simple_preprocess(text):\n",
    "        if token not in gensim.parsing.preprocessing.STOPWORDS and len(token) > 3:\n",
    "            if lemmatize == True:\n",
    "                result.append(lemma_stem(token))\n",
    "            else:\n",
    "                result.append(token)\n",
    "    return result"
   ]
  },
  {
   "cell_type": "code",
   "execution_count": 30,
   "metadata": {
    "slideshow": {
     "slide_type": "skip"
    }
   },
   "outputs": [],
   "source": [
    "eng_tweets['processed'] = eng_tweets.apply(lambda row: preprocess(row['content'].lower()), axis=1)\n",
    "#user_original['processed'] = user_original.apply(lambda row: preprocess(row['content'].lower()), axis=1)\n",
    "#user_rt['processed'] = user_rt.apply(lambda row: preprocess(row['content'].lower()), axis=1)"
   ]
  },
  {
   "cell_type": "code",
   "execution_count": null,
   "metadata": {
    "slideshow": {
     "slide_type": "skip"
    }
   },
   "outputs": [],
   "source": [
    "#user_original['tokenized'] = user_original.apply(lambda row: nltk.word_tokenize(row['content'].lower()), axis=1)\n",
    "#user_rt['tokenized'] = user_rt.apply(lambda row: nltk.word_tokenize(row['content'].lower()), axis=1)"
   ]
  },
  {
   "cell_type": "code",
   "execution_count": null,
   "metadata": {
    "slideshow": {
     "slide_type": "skip"
    }
   },
   "outputs": [],
   "source": [
    "#user_original['tokenized'] = user_original.tokenized.apply(lambda x: [item for item in x if item not in en_stop])\n",
    "#user_rt['tokenized'] = user_rt.tokenized.apply(lambda x: [item for item in x if item not in en_stop])"
   ]
  },
  {
   "cell_type": "code",
   "execution_count": null,
   "metadata": {
    "slideshow": {
     "slide_type": "skip"
    }
   },
   "outputs": [],
   "source": [
    "#user_original['tokenized'] = user_original.tokenized.apply(lambda x: [item for item in x if len(item) > 2])\n",
    "#user_rt['tokenized'] = user_rt.tokenized.apply(lambda x: [item for item in x if len(item) > 2])"
   ]
  },
  {
   "cell_type": "code",
   "execution_count": 31,
   "metadata": {
    "slideshow": {
     "slide_type": "skip"
    }
   },
   "outputs": [],
   "source": [
    "dictionary = corpora.Dictionary(eng_tweets['processed'])\n",
    "corpus = [dictionary.doc2bow(text) for text in eng_tweets['processed']]"
   ]
  },
  {
   "cell_type": "code",
   "execution_count": 35,
   "metadata": {
    "slideshow": {
     "slide_type": "skip"
    }
   },
   "outputs": [
    {
     "name": "stdout",
     "output_type": "stream",
     "text": [
      "(0, '0.011*\"brooklyn\" + 0.011*\"south\" + 0.010*\"black\" + 0.010*\"news\" + 0.010*\"louis\"')\n",
      "(1, '0.039*\"trump\" + 0.025*\"politics\" + 0.013*\"aleppo\" + 0.010*\"hillary\" + 0.010*\"president\"')\n",
      "(2, '0.028*\"syria\" + 0.018*\"local\" + 0.012*\"crash\" + 0.009*\"army\" + 0.008*\"dies\"')\n",
      "(3, '0.010*\"nypd\" + 0.009*\"cops\" + 0.009*\"suspect\" + 0.008*\"politics\" + 0.005*\"turkish\"')\n",
      "(4, '0.037*\"miami\" + 0.025*\"news\" + 0.021*\"sports\" + 0.020*\"local\" + 0.018*\"police\"')\n"
     ]
    }
   ],
   "source": [
    "ntopics = 5\n",
    "ldamodel = gensim.models.ldamodel.LdaModel(corpus, num_topics = ntopics, id2word=dictionary)\n",
    "#ldamodel.save('model5.gensim')\n",
    "topics = ldamodel.print_topics(num_words=5)\n",
    "for topic in topics:\n",
    "    print(topic)"
   ]
  },
  {
   "cell_type": "markdown",
   "metadata": {},
   "source": [
    "### Right trolls, left trolls,  and newsfeeds discuss:\n",
    "1. ISIS and Syria\n",
    "2. Trump, Clinton and politics\n",
    "3. Local news\n",
    "4. Black Lives Matter and police\n",
    "5. Guns"
   ]
  },
  {
   "cell_type": "code",
   "execution_count": 36,
   "metadata": {
    "slideshow": {
     "slide_type": "skip"
    }
   },
   "outputs": [
    {
     "data": {
      "text/html": [
       "\n",
       "<link rel=\"stylesheet\" type=\"text/css\" href=\"https://cdn.rawgit.com/bmabey/pyLDAvis/files/ldavis.v1.0.0.css\">\n",
       "\n",
       "\n",
       "<div id=\"ldavis_el56961168661329925549053529\"></div>\n",
       "<script type=\"text/javascript\">\n",
       "\n",
       "var ldavis_el56961168661329925549053529_data = {\"mdsDat\": {\"x\": [-0.1468885600710962, -0.1770270667178957, 0.26782694172275334, -0.16050926356648548, 0.2165979486327239], \"y\": [0.2668701488091335, -0.01786918877662029, 0.16932919080254016, -0.21557629338813153, -0.202753857446922], \"topics\": [1, 2, 3, 4, 5], \"cluster\": [1, 1, 1, 1, 1], \"Freq\": [17.23891830444336, 26.487285614013672, 16.51777458190918, 16.450374603271484, 23.30565071105957]}, \"tinfo\": {\"Category\": [\"Default\", \"Default\", \"Default\", \"Default\", \"Default\", \"Default\", \"Default\", \"Default\", \"Default\", \"Default\", \"Default\", \"Default\", \"Default\", \"Default\", \"Default\", \"Default\", \"Default\", \"Default\", \"Default\", \"Default\", \"Default\", \"Default\", \"Default\", \"Default\", \"Default\", \"Default\", \"Default\", \"Default\", \"Default\", \"Default\", \"Topic1\", \"Topic1\", \"Topic1\", \"Topic1\", \"Topic1\", \"Topic1\", \"Topic1\", \"Topic1\", \"Topic1\", \"Topic1\", \"Topic1\", \"Topic1\", \"Topic1\", \"Topic1\", \"Topic1\", \"Topic1\", \"Topic1\", \"Topic1\", \"Topic1\", \"Topic1\", \"Topic1\", \"Topic1\", \"Topic1\", \"Topic1\", \"Topic1\", \"Topic1\", \"Topic1\", \"Topic1\", \"Topic1\", \"Topic1\", \"Topic1\", \"Topic1\", \"Topic1\", \"Topic1\", \"Topic1\", \"Topic2\", \"Topic2\", \"Topic2\", \"Topic2\", \"Topic2\", \"Topic2\", \"Topic2\", \"Topic2\", \"Topic2\", \"Topic2\", \"Topic2\", \"Topic2\", \"Topic2\", \"Topic2\", \"Topic2\", \"Topic2\", \"Topic2\", \"Topic2\", \"Topic2\", \"Topic2\", \"Topic2\", \"Topic2\", \"Topic2\", \"Topic2\", \"Topic2\", \"Topic2\", \"Topic2\", \"Topic2\", \"Topic2\", \"Topic2\", \"Topic2\", \"Topic2\", \"Topic2\", \"Topic2\", \"Topic2\", \"Topic2\", \"Topic2\", \"Topic2\", \"Topic2\", \"Topic2\", \"Topic2\", \"Topic2\", \"Topic3\", \"Topic3\", \"Topic3\", \"Topic3\", \"Topic3\", \"Topic3\", \"Topic3\", \"Topic3\", \"Topic3\", \"Topic3\", \"Topic3\", \"Topic3\", \"Topic3\", \"Topic3\", \"Topic3\", \"Topic3\", \"Topic3\", \"Topic3\", \"Topic3\", \"Topic3\", \"Topic3\", \"Topic3\", \"Topic3\", \"Topic3\", \"Topic3\", \"Topic3\", \"Topic3\", \"Topic3\", \"Topic3\", \"Topic3\", \"Topic3\", \"Topic3\", \"Topic3\", \"Topic3\", \"Topic3\", \"Topic3\", \"Topic3\", \"Topic4\", \"Topic4\", \"Topic4\", \"Topic4\", \"Topic4\", \"Topic4\", \"Topic4\", \"Topic4\", \"Topic4\", \"Topic4\", \"Topic4\", \"Topic4\", \"Topic4\", \"Topic4\", \"Topic4\", \"Topic4\", \"Topic4\", \"Topic4\", \"Topic4\", \"Topic4\", \"Topic4\", \"Topic4\", \"Topic4\", \"Topic4\", \"Topic4\", \"Topic4\", \"Topic4\", \"Topic4\", \"Topic4\", \"Topic4\", \"Topic4\", \"Topic4\", \"Topic4\", \"Topic5\", \"Topic5\", \"Topic5\", \"Topic5\", \"Topic5\", \"Topic5\", \"Topic5\", \"Topic5\", \"Topic5\", \"Topic5\", \"Topic5\", \"Topic5\", \"Topic5\", \"Topic5\", \"Topic5\", \"Topic5\", \"Topic5\", \"Topic5\", \"Topic5\", \"Topic5\", \"Topic5\", \"Topic5\", \"Topic5\", \"Topic5\", \"Topic5\", \"Topic5\", \"Topic5\", \"Topic5\", \"Topic5\", \"Topic5\", \"Topic5\", \"Topic5\", \"Topic5\", \"Topic5\", \"Topic5\", \"Topic5\", \"Topic5\", \"Topic5\", \"Topic5\", \"Topic5\", \"Topic5\", \"Topic5\", \"Topic5\", \"Topic5\", \"Topic5\", \"Topic5\"], \"Freq\": [119002.0, 100410.0, 53184.0, 87346.0, 55263.0, 92255.0, 48540.0, 58762.0, 40540.0, 28813.0, 30936.0, 22582.0, 30209.0, 29385.0, 29195.0, 28790.0, 21381.0, 21214.0, 26210.0, 34556.0, 128500.0, 19944.0, 19704.0, 18736.0, 17889.0, 18275.0, 23310.0, 17137.0, 17022.0, 16534.0, 21213.853515625, 19944.07421875, 21380.357421875, 19703.455078125, 18274.5859375, 17136.15234375, 17021.64453125, 14553.6171875, 13600.40625, 12656.251953125, 11156.9619140625, 10149.484375, 10007.7744140625, 9540.779296875, 8888.47265625, 8514.0205078125, 9941.6015625, 7632.51904296875, 7345.80615234375, 7210.7998046875, 7091.78466796875, 7000.9189453125, 6780.62060546875, 6627.5205078125, 6720.95947265625, 8148.45166015625, 6242.873046875, 5950.15966796875, 5696.50244140625, 5596.3779296875, 13148.955078125, 6808.67724609375, 19776.884765625, 7472.56640625, 7004.1728515625, 119002.125, 40539.90234375, 30935.310546875, 30208.34765625, 29384.419921875, 28789.7578125, 29194.98046875, 23309.291015625, 21142.345703125, 19531.908203125, 16502.265625, 14030.3359375, 12485.0419921875, 12220.3115234375, 11561.8212890625, 11435.908203125, 11450.7509765625, 10739.1845703125, 10626.4892578125, 10125.8974609375, 10041.1904296875, 9653.12109375, 9509.3076171875, 7928.16455078125, 8661.2890625, 7822.11181640625, 7652.50439453125, 7701.6875, 8112.94677734375, 7256.48681640625, 21267.89453125, 8229.130859375, 76588.171875, 11041.64453125, 17902.6171875, 8962.7353515625, 9375.3212890625, 14780.8056640625, 25474.091796875, 11223.517578125, 12302.73828125, 10608.2880859375, 53183.5078125, 22581.1171875, 17888.400390625, 15528.044921875, 14129.5791015625, 12359.05078125, 11222.0576171875, 13419.1669921875, 9832.171875, 8421.1396484375, 8420.1171875, 7853.76025390625, 7589.59375, 7284.6826171875, 7170.56640625, 6928.37548828125, 6726.28564453125, 6507.2568359375, 6414.25830078125, 6374.05029296875, 6250.1845703125, 6131.748046875, 5523.1630859375, 5538.06201171875, 5401.79931640625, 5465.310546875, 5138.4912109375, 4997.4599609375, 4987.6865234375, 4995.64306640625, 7870.21923828125, 34304.16796875, 10454.59375, 15101.4736328125, 6814.85400390625, 5757.30126953125, 5927.04150390625, 18735.283203125, 16534.103515625, 10287.1298828125, 8653.3701171875, 8259.13671875, 8206.5458984375, 7900.23486328125, 7715.576171875, 7575.7421875, 7437.97265625, 7558.61328125, 7089.7451171875, 6971.32421875, 6870.13916015625, 6659.75537109375, 6586.8662109375, 6404.5458984375, 6397.0244140625, 6245.88134765625, 6377.22802734375, 6025.99609375, 5983.59619140625, 5711.6494140625, 5703.48779296875, 5588.1259765625, 5528.6318359375, 5266.0654296875, 5243.82568359375, 5041.41552734375, 5041.173828125, 16909.033203125, 15327.6357421875, 9330.150390625, 100409.703125, 55262.921875, 48539.69140625, 28812.71875, 18471.103515625, 19002.609375, 16883.099609375, 16290.912109375, 15525.599609375, 18796.017578125, 12067.01171875, 12001.1787109375, 11660.2802734375, 11026.77734375, 10726.1328125, 9635.0341796875, 9387.861328125, 9184.705078125, 9420.3427734375, 9088.9130859375, 8829.2802734375, 15754.2236328125, 8442.798828125, 8079.3359375, 8171.3779296875, 7805.65234375, 6975.77099609375, 6650.60400390625, 6562.3984375, 7788.37158203125, 18318.623046875, 26074.26953125, 14539.03515625, 9561.5888671875, 19372.69921875, 14229.787109375, 49431.30859375, 29850.7734375, 53042.046875, 23661.25, 14685.96484375, 67956.71875, 20181.642578125, 14763.259765625, 11883.478515625, 10806.2294921875], \"Term\": [\"trump\", \"miami\", \"syria\", \"local\", \"sports\", \"politics\", \"cleveland\", \"police\", \"aleppo\", \"killed\", \"hillary\", \"crash\", \"president\", \"obama\", \"ohio\", \"donald\", \"brooklyn\", \"south\", \"crime\", \"isis\", \"news\", \"black\", \"louis\", \"nypd\", \"army\", \"yearold\", \"clinton\", \"north\", \"injured\", \"suspect\", \"south\", \"black\", \"brooklyn\", \"louis\", \"yearold\", \"north\", \"injured\", \"queens\", \"damascus\", \"attacks\", \"subway\", \"iran\", \"terrorist\", \"captured\", \"station\", \"lives\", \"blasio\", \"building\", \"matter\", \"apartment\", \"victim\", \"battle\", \"mother\", \"robbery\", \"heights\", \"hama\", \"wins\", \"latest\", \"residents\", \"probe\", \"women\", \"akron\", \"news\", \"health\", \"people\", \"trump\", \"aleppo\", \"hillary\", \"president\", \"obama\", \"donald\", \"ohio\", \"clinton\", \"russian\", \"real\", \"media\", \"vote\", \"mayor\", \"road\", \"campaign\", \"look\", \"inside\", \"tcot\", \"center\", \"leader\", \"rally\", \"district\", \"outside\", \"care\", \"busted\", \"fake\", \"presidential\", \"leads\", \"cuomo\", \"liberal\", \"america\", \"anti\", \"politics\", \"debate\", \"house\", \"country\", \"great\", \"people\", \"news\", \"like\", \"says\", \"video\", \"syria\", \"crash\", \"army\", \"dies\", \"driver\", \"john\", \"west\", \"bronx\", \"homs\", \"talks\", \"officials\", \"student\", \"town\", \"body\", \"election\", \"good\", \"team\", \"star\", \"strikes\", \"area\", \"college\", \"fighters\", \"missouri\", \"stolen\", \"northern\", \"sham\", \"offensive\", \"football\", \"coach\", \"weather\", \"blotter\", \"local\", \"business\", \"news\", \"school\", \"train\", \"year\", \"nypd\", \"suspect\", \"turkish\", \"forecast\", \"party\", \"trial\", \"hospital\", \"bomb\", \"heat\", \"island\", \"browns\", \"suicide\", \"street\", \"senate\", \"peace\", \"border\", \"assault\", \"jail\", \"water\", \"square\", \"search\", \"photos\", \"things\", \"reported\", \"meet\", \"friday\", \"workers\", \"worker\", \"plans\", \"violence\", \"cops\", \"politics\", \"police\", \"miami\", \"sports\", \"cleveland\", \"killed\", \"syrian\", \"florida\", \"dead\", \"home\", \"iraq\", \"shooting\", \"charged\", \"beach\", \"near\", \"teen\", \"forces\", \"russia\", \"murder\", \"court\", \"raqqa\", \"turkey\", \"officer\", \"arrested\", \"east\", \"missing\", \"mosul\", \"deir\", \"kills\", \"clashes\", \"guilty\", \"dade\", \"shot\", \"crime\", \"accused\", \"county\", \"city\", \"attack\", \"police\", \"isis\", \"local\", \"woman\", \"death\", \"news\", \"state\", \"says\", \"video\", \"world\"], \"Total\": [119002.0, 100410.0, 53184.0, 87346.0, 55263.0, 92255.0, 48540.0, 58762.0, 40540.0, 28813.0, 30936.0, 22582.0, 30209.0, 29385.0, 29195.0, 28790.0, 21381.0, 21214.0, 26210.0, 34556.0, 128500.0, 19944.0, 19704.0, 18736.0, 17889.0, 18275.0, 23310.0, 17137.0, 17022.0, 16534.0, 21214.734375, 19944.94921875, 21381.3125, 19704.345703125, 18275.482421875, 17137.033203125, 17022.533203125, 14554.59375, 13601.3203125, 12657.134765625, 11157.908203125, 10150.3623046875, 10008.6630859375, 9541.6845703125, 8889.36328125, 8514.89453125, 9942.6669921875, 7633.41064453125, 7346.67822265625, 7211.6953125, 7092.67431640625, 7001.80322265625, 6781.50634765625, 6628.4169921875, 6721.8720703125, 8149.5673828125, 6243.75390625, 5951.04052734375, 5697.39208984375, 5597.26513671875, 13152.5703125, 6811.1181640625, 128500.28125, 15685.361328125, 29269.83203125, 119002.921875, 40540.76171875, 30936.10546875, 30209.142578125, 29385.21484375, 28790.552734375, 29195.80859375, 23310.0859375, 21143.181640625, 19532.703125, 16503.060546875, 14031.1328125, 12485.8525390625, 12221.154296875, 11562.619140625, 11436.7099609375, 11451.5830078125, 10739.9775390625, 10627.3046875, 10126.6982421875, 10041.9892578125, 9653.9462890625, 9510.12890625, 7928.9638671875, 8662.173828125, 7822.912109375, 7653.30029296875, 7702.50341796875, 8113.8193359375, 7257.30322265625, 21370.3984375, 8242.0732421875, 92255.34375, 11622.7705078125, 22532.9375, 9347.5830078125, 10525.765625, 29269.83203125, 128500.28125, 16970.072265625, 33000.9453125, 31780.5390625, 53184.421875, 22582.01953125, 17889.3125, 15528.947265625, 14130.486328125, 12359.96484375, 11222.9580078125, 13420.28515625, 9833.1298828125, 8422.03515625, 8421.01953125, 7854.66455078125, 7590.494140625, 7285.5859375, 7171.46484375, 6929.27099609375, 6727.18505859375, 6508.1533203125, 6415.15478515625, 6374.953125, 6251.083984375, 6132.6572265625, 5524.06689453125, 5538.97119140625, 5402.69921875, 5466.26513671875, 5139.3955078125, 4998.35595703125, 4988.58203125, 4996.54248046875, 7885.873046875, 87346.984375, 16495.4765625, 128500.28125, 15100.9912109375, 9002.5830078125, 12287.2373046875, 18736.236328125, 16534.998046875, 10288.0283203125, 8654.2822265625, 8260.0302734375, 8207.4375, 7901.1337890625, 7716.46923828125, 7576.64501953125, 7438.87890625, 7559.5458984375, 7090.6396484375, 6972.22021484375, 6871.03369140625, 6660.64453125, 6587.7578125, 6405.44091796875, 6397.92138671875, 6246.77392578125, 6378.14599609375, 6026.892578125, 5984.494140625, 5712.5380859375, 5704.39013671875, 5589.0205078125, 5529.529296875, 5266.96142578125, 5244.73046875, 5042.31005859375, 5042.0693359375, 24124.044921875, 92255.34375, 58762.2109375, 100410.8125, 55263.8984375, 48540.76953125, 28813.693359375, 18472.08984375, 19003.64453125, 16884.07421875, 16291.892578125, 15526.5751953125, 18797.361328125, 12067.98828125, 12002.1787109375, 11661.255859375, 11027.7607421875, 10727.1064453125, 9636.0146484375, 9388.83984375, 9185.67578125, 9421.345703125, 9089.8857421875, 8830.2529296875, 15755.974609375, 8443.7763671875, 8080.3115234375, 8172.38134765625, 7806.6796875, 6976.73974609375, 6651.5849609375, 6563.37109375, 7789.53173828125, 18323.27734375, 26210.037109375, 14572.0771484375, 9602.587890625, 19830.1015625, 14824.1572265625, 58762.2109375, 34556.10546875, 87346.984375, 31745.10546875, 16975.1171875, 128500.28125, 26641.203125, 33000.9453125, 31780.5390625, 23598.89453125], \"loglift\": [30.0, 29.0, 28.0, 27.0, 26.0, 25.0, 24.0, 23.0, 22.0, 21.0, 20.0, 19.0, 18.0, 17.0, 16.0, 15.0, 14.0, 13.0, 12.0, 11.0, 10.0, 9.0, 8.0, 7.0, 6.0, 5.0, 4.0, 3.0, 2.0, 1.0, 1.7580000162124634, 1.7580000162124634, 1.7580000162124634, 1.7580000162124634, 1.7580000162124634, 1.7578999996185303, 1.7578999996185303, 1.7578999996185303, 1.7578999996185303, 1.7578999996185303, 1.7578999996185303, 1.7578999996185303, 1.7578999996185303, 1.7578999996185303, 1.7578999996185303, 1.7578999996185303, 1.7578999996185303, 1.7578999996185303, 1.7578999996185303, 1.7578999996185303, 1.7578999996185303, 1.7578999996185303, 1.7578999996185303, 1.7578999996185303, 1.7578999996185303, 1.7578999996185303, 1.7578999996185303, 1.7578999996185303, 1.7577999830245972, 1.7577999830245972, 1.757699966430664, 1.757599949836731, -0.11339999735355377, 1.0164999961853027, 0.3278999924659729, 1.3285000324249268, 1.3285000324249268, 1.3285000324249268, 1.3285000324249268, 1.3285000324249268, 1.3285000324249268, 1.3285000324249268, 1.3285000324249268, 1.3285000324249268, 1.3285000324249268, 1.3285000324249268, 1.3284000158309937, 1.3284000158309937, 1.3284000158309937, 1.3284000158309937, 1.3284000158309937, 1.3284000158309937, 1.3284000158309937, 1.3284000158309937, 1.3284000158309937, 1.3284000158309937, 1.3284000158309937, 1.3284000158309937, 1.3284000158309937, 1.3284000158309937, 1.3284000158309937, 1.3284000158309937, 1.3284000158309937, 1.3284000158309937, 1.3284000158309937, 1.323699951171875, 1.3269000053405762, 1.1424000263214111, 1.2771999835968018, 1.0985000133514404, 1.2864999771118164, 1.2128000259399414, 0.6452999711036682, -0.2897999882698059, 0.9150999784469604, 0.3418000042438507, 0.2312999963760376, 1.8006999492645264, 1.8006999492645264, 1.8006999492645264, 1.8006999492645264, 1.8006999492645264, 1.8006999492645264, 1.8006999492645264, 1.8006000518798828, 1.8006000518798828, 1.8006000518798828, 1.8006000518798828, 1.8006000518798828, 1.8006000518798828, 1.8006000518798828, 1.8006000518798828, 1.8006000518798828, 1.8006000518798828, 1.8006000518798828, 1.8006000518798828, 1.8006000518798828, 1.8006000518798828, 1.8006000518798828, 1.8006000518798828, 1.8006000518798828, 1.8006000518798828, 1.8006000518798828, 1.8006000518798828, 1.8006000518798828, 1.8006000518798828, 1.8006000518798828, 1.798699975013733, 0.866100013256073, 1.3446999788284302, -0.34040001034736633, 1.0051000118255615, 1.353700041770935, 1.0716999769210815, 1.804800033569336, 1.804800033569336, 1.8047000169754028, 1.8047000169754028, 1.8047000169754028, 1.8047000169754028, 1.8047000169754028, 1.8047000169754028, 1.8047000169754028, 1.8047000169754028, 1.8047000169754028, 1.8047000169754028, 1.8047000169754028, 1.8047000169754028, 1.8047000169754028, 1.8047000169754028, 1.8047000169754028, 1.8047000169754028, 1.8047000169754028, 1.8047000169754028, 1.8047000169754028, 1.8047000169754028, 1.8047000169754028, 1.8047000169754028, 1.8047000169754028, 1.8047000169754028, 1.8047000169754028, 1.8046000003814697, 1.8046000003814697, 1.8046000003814697, 1.4494999647140503, 0.00989999994635582, -0.03539999946951866, 1.4565000534057617, 1.4565000534057617, 1.4565000534057617, 1.4564000368118286, 1.4564000368118286, 1.4564000368118286, 1.4564000368118286, 1.4564000368118286, 1.4564000368118286, 1.4564000368118286, 1.4564000368118286, 1.4564000368118286, 1.4564000368118286, 1.4564000368118286, 1.4564000368118286, 1.4564000368118286, 1.4564000368118286, 1.4564000368118286, 1.4564000368118286, 1.4564000368118286, 1.4564000368118286, 1.4564000368118286, 1.4564000368118286, 1.4564000368118286, 1.4564000368118286, 1.4563000202178955, 1.4563000202178955, 1.4563000202178955, 1.4563000202178955, 1.4563000202178955, 1.4562000036239624, 1.451300024986267, 1.454200029373169, 1.4522000551223755, 1.4330999851226807, 1.4155999422073364, 1.2835999727249146, 1.3100999593734741, 0.9577000141143799, 1.162600040435791, 1.3115999698638916, 0.8194000124931335, 1.1787999868392944, 0.6521000266075134, 0.47279998660087585, 0.6754000186920166], \"logprob\": [30.0, 29.0, 28.0, 27.0, 26.0, 25.0, 24.0, 23.0, 22.0, 21.0, 20.0, 19.0, 18.0, 17.0, 16.0, 15.0, 14.0, 13.0, 12.0, 11.0, 10.0, 9.0, 8.0, 7.0, 6.0, 5.0, 4.0, 3.0, 2.0, 1.0, -4.542500019073486, -4.6041998863220215, -4.5346999168396, -4.616399765014648, -4.691699981689453, -4.75600004196167, -4.762700080871582, -4.919300079345703, -4.987100124359131, -5.059000015258789, -5.185100078582764, -5.279799938201904, -5.293799877166748, -5.341599941253662, -5.412399768829346, -5.45550012588501, -5.30049991607666, -5.564799785614014, -5.603099822998047, -5.621600151062012, -5.638199806213379, -5.651100158691406, -5.68310022354126, -5.705900192260742, -5.69189977645874, -5.4994001388549805, -5.765699863433838, -5.813799858093262, -5.8572998046875, -5.875100135803223, -5.0208001136779785, -5.678999900817871, -4.61269998550415, -5.585899829864502, -5.650700092315674, -3.247499942779541, -4.324399948120117, -4.594799995422363, -4.618599891662598, -4.646200180053711, -4.6666998863220215, -4.652699947357178, -4.877799987792969, -4.975399971008301, -5.054599761962891, -5.223199844360352, -5.385499954223633, -5.502099990844727, -5.523600101470947, -5.578999996185303, -5.589900016784668, -5.588600158691406, -5.6528000831604, -5.663300037384033, -5.711599826812744, -5.71999979019165, -5.759399890899658, -5.774400234222412, -5.956299781799316, -5.867800235748291, -5.969699859619141, -5.991600036621094, -5.985199928283691, -5.933199882507324, -6.0447998046875, -4.9695000648498535, -5.919000148773193, -3.688199996948242, -5.625, -5.14169979095459, -5.833600044250488, -5.788599967956543, -5.3333001136779785, -4.789000034332275, -5.608699798583984, -5.516900062561035, -5.664999961853027, -3.580699920654297, -4.437300205230713, -4.670300006866455, -4.811800003051758, -4.906199932098389, -5.04010009765625, -5.136600017547607, -4.957799911499023, -5.268799781799316, -5.423699855804443, -5.423799991607666, -5.493500232696533, -5.527699947357178, -5.568699836730957, -5.584499835968018, -5.618800163269043, -5.648399829864502, -5.68149995803833, -5.695899963378906, -5.702199935913086, -5.721799850463867, -5.741000175476074, -5.8454999923706055, -5.842800140380859, -5.867700099945068, -5.855999946594238, -5.917699813842773, -5.945499897003174, -5.947500228881836, -5.945899963378906, -5.491399765014648, -4.019199848175049, -5.207399845123291, -4.839700222015381, -5.635300159454346, -5.803999900817871, -5.774899959564209, -4.619999885559082, -4.744900226593018, -5.2195000648498535, -5.392399787902832, -5.439000129699707, -5.445400238037109, -5.483500003814697, -5.5071001052856445, -5.525400161743164, -5.543799877166748, -5.527699947357178, -5.591700077056885, -5.60860013961792, -5.623199939727783, -5.654300212860107, -5.665299892425537, -5.693399906158447, -5.694499969482422, -5.718400001525879, -5.6975998878479, -5.754300117492676, -5.761300086975098, -5.8078999519348145, -5.809299945831299, -5.829699993133545, -5.840400218963623, -5.889100074768066, -5.8933000564575195, -5.932700157165527, -5.932700157165527, -4.722499847412109, -4.820700168609619, -5.3171000480651855, -3.289400100708008, -3.8866000175476074, -4.016300201416016, -4.537899971008301, -4.982500076293945, -4.954100131988525, -5.072400093078613, -5.108099937438965, -5.156199932098389, -4.965099811553955, -5.408199787139893, -5.413700103759766, -5.442500114440918, -5.4984002113342285, -5.526000022888184, -5.633299827575684, -5.659299850463867, -5.68120002746582, -5.655799865722656, -5.691699981689453, -5.720600128173828, -5.141600131988525, -5.765399932861328, -5.8094000816345215, -5.798099994659424, -5.843900203704834, -5.956299781799316, -6.004000186920166, -6.017399787902832, -5.846099853515625, -4.990799903869629, -4.637800216674805, -5.22189998626709, -5.640999794006348, -4.934800148010254, -5.2434000968933105, -3.9981000423431396, -4.502500057220459, -3.9275999069213867, -4.734899997711182, -5.2118000984191895, -3.679800033569336, -4.893899917602539, -5.206600189208984, -5.423600196838379, -5.518599987030029]}, \"token.table\": {\"Topic\": [4, 5, 1, 5, 2, 1, 2, 2, 4, 1, 3, 3, 4, 5, 4, 1, 2, 5, 1, 1, 5, 1, 1, 1, 3, 4, 5, 3, 4, 4, 3, 1, 4, 1, 1, 3, 2, 2, 1, 2, 2, 5, 2, 4, 5, 5, 5, 2, 3, 3, 1, 4, 5, 2, 3, 5, 4, 5, 5, 3, 1, 2, 4, 5, 2, 5, 1, 5, 1, 4, 5, 2, 3, 5, 3, 2, 2, 3, 5, 3, 2, 3, 5, 3, 5, 4, 4, 3, 1, 2, 3, 4, 5, 1, 1, 2, 4, 1, 2, 5, 3, 4, 1, 2, 1, 2, 1, 5, 2, 5, 4, 4, 3, 5, 5, 1, 2, 2, 2, 1, 2, 3, 4, 1, 3, 5, 2, 1, 1, 2, 2, 4, 5, 5, 3, 5, 1, 5, 5, 1, 2, 3, 4, 5, 1, 3, 4, 2, 3, 5, 3, 2, 2, 4, 4, 1, 2, 3, 4, 5, 4, 4, 4, 5, 2, 3, 4, 2, 2, 1, 1, 2, 5, 2, 4, 1, 2, 1, 5, 2, 1, 2, 3, 4, 5, 1, 3, 5, 4, 4, 3, 4, 5, 4, 5, 1, 5, 4, 3, 1, 2, 3, 4, 5, 1, 3, 4, 3, 3, 1, 4, 4, 3, 5, 3, 2, 3, 5, 1, 4, 3, 2, 3, 4, 2, 5, 4, 1, 1, 2, 3, 4, 5, 4, 2, 4, 3, 3, 1, 1, 4, 5, 1, 2, 5, 4, 4, 1, 2, 3, 4, 5, 3, 4, 5, 1], \"Freq\": [0.0021959806326776743, 0.9977300763130188, 0.9996890425682068, 0.00014681876928079873, 0.9999812245368958, 0.004772957414388657, 0.9952083826065063, 0.9984138607978821, 0.00145594438072294, 0.9999035596847534, 0.9998505115509033, 0.9999266266822815, 6.346798909362406e-05, 0.9998746514320374, 0.9999311566352844, 0.0008094895165413618, 0.03926024213433266, 0.9599196910858154, 0.9999103546142578, 0.9998852610588074, 0.9999017715454102, 0.9999524354934692, 0.9999329447746277, 0.00012680904183071107, 0.9979871511459351, 0.00025361808366142213, 0.0015217084437608719, 0.999919593334198, 0.9999392032623291, 0.9998849630355835, 0.999904215335846, 0.9999386072158813, 0.9999277591705322, 0.9999461770057678, 0.3661609888076782, 0.6338101029396057, 0.9998644590377808, 0.9999464750289917, 0.9999282360076904, 0.999878466129303, 0.9998772144317627, 0.9999181032180786, 5.0428385293344036e-05, 0.022995343431830406, 0.9769490957260132, 0.9999120831489563, 0.9999841451644897, 0.9999533891677856, 0.9998833537101746, 0.9998266100883484, 0.2755756676197052, 0.7009189128875732, 0.023462068289518356, 0.9588574767112732, 0.034340426325798035, 0.006739709991961718, 0.004165543708950281, 0.9957732558250427, 0.9999264478683472, 0.999954879283905, 0.002098432742059231, 0.0014879795489832759, 0.0016024395590648055, 0.9948097467422485, 0.9998990297317505, 0.999803364276886, 0.9999029040336609, 0.9999364018440247, 0.00017672927060630172, 0.13460879027843475, 0.865148663520813, 0.9500316381454468, 0.04998807981610298, 0.9999129176139832, 0.9999390244483948, 0.9999019503593445, 0.9999808073043823, 0.9999656081199646, 0.9999080300331116, 0.9999352097511292, 0.9998834133148193, 0.9998928308486938, 0.9999660849571228, 0.9997287392616272, 0.9998968839645386, 0.9998518228530884, 0.9999042749404907, 0.9998165965080261, 0.038287002593278885, 0.8906715512275696, 0.06498339772224426, 0.005985312629491091, 0.9997910857200623, 0.9998076558113098, 0.4764314889907837, 0.523545503616333, 0.9999148845672607, 0.999870240688324, 0.9999642372131348, 0.9999452233314514, 0.999885082244873, 0.9998565316200256, 0.20547698438167572, 0.7945258021354675, 0.9999686479568481, 0.9999490976333618, 0.9998657703399658, 0.9999629259109497, 0.1361553966999054, 0.8638415336608887, 0.9998818635940552, 0.9998559951782227, 0.9999219179153442, 0.9999759197235107, 0.9998939633369446, 0.9998251795768738, 0.9999310374259949, 0.9999346137046814, 0.9998204112052917, 0.11414211988449097, 0.6613996624946594, 0.11791346222162247, 0.10659942775964737, 0.999894917011261, 0.39273250102996826, 0.6072562336921692, 0.9999379515647888, 0.9999316930770874, 0.9999076724052429, 0.9999316930770874, 0.9999357461929321, 0.999817430973053, 0.9999918937683105, 0.9998376965522766, 0.9998068809509277, 0.999830961227417, 0.9999253153800964, 0.9999105334281921, 0.9998922944068909, 0.15390627086162567, 0.19824081659317017, 0.11751725524663925, 0.0014863780234009027, 0.5288470983505249, 0.9999396800994873, 0.9998705983161926, 0.9999340176582336, 0.9999586343765259, 0.9997284412384033, 0.9998580813407898, 0.9998789429664612, 0.9999722838401794, 0.9998812675476074, 0.9998752474784851, 0.9999032616615295, 0.2392907440662384, 0.5049909353256226, 0.03259328752756119, 0.1718834638595581, 0.051247306168079376, 0.9999174475669861, 0.9997401833534241, 0.15877550840377808, 0.8412038683891296, 0.8301741480827332, 0.003674583975225687, 0.16614755988121033, 0.9999621510505676, 0.9999607801437378, 0.9997739791870117, 0.9999592304229736, 0.9999014735221863, 0.9998571872711182, 0.9999639987945557, 0.9997562766075134, 0.9999311566352844, 0.999905526638031, 0.999937117099762, 0.9998946785926819, 0.9999440908432007, 0.14099596440792084, 0.37280750274658203, 0.0006666475674137473, 0.038180723786354065, 0.4473508298397064, 0.010065564885735512, 0.451294869184494, 0.5385739207267761, 0.9998518824577332, 0.9998495578765869, 0.9997685551643372, 5.3198957175482064e-05, 0.9999275803565979, 0.00021830156038049608, 0.9997665882110596, 0.9999653697013855, 0.9999837279319763, 0.999820351600647, 0.9998227953910828, 0.0029277957510203123, 0.22510243952274323, 0.00011260752944508567, 0.01430115569382906, 0.7575483918190002, 0.9998466372489929, 0.9998246431350708, 0.9998250007629395, 0.9998199939727783, 0.9999154210090637, 0.9999185800552368, 0.9999098181724548, 0.9999396204948425, 0.9999920725822449, 0.9999409914016724, 0.9998770952224731, 0.999908983707428, 0.9998238682746887, 0.9999310374259949, 0.9999337196350098, 0.9999058246612549, 0.9999349117279053, 0.3604521155357361, 0.6394831538200378, 0.9999467134475708, 0.9999922513961792, 0.9999025464057922, 0.9999000430107117, 0.9999049305915833, 0.1591854691505432, 0.3337891697883606, 0.08627921342849731, 0.04678964242339134, 0.37390807271003723, 0.9997879266738892, 0.9999192357063293, 0.999876081943512, 0.9998914003372192, 0.9999146461486816, 0.9998792409896851, 0.1302877962589264, 0.12436562776565552, 0.7453432679176331, 0.9997285604476929, 7.603076664963737e-05, 0.00015206153329927474, 0.9998607039451599, 0.9998174905776978, 0.27090251445770264, 0.10669991374015808, 0.15068502724170685, 0.01381420623511076, 0.45790281891822815, 0.48237043619155884, 0.0017090904293581843, 0.515819787979126, 0.9999735951423645], \"Term\": [\"accused\", \"accused\", \"akron\", \"akron\", \"aleppo\", \"america\", \"america\", \"anti\", \"anti\", \"apartment\", \"area\", \"army\", \"arrested\", \"arrested\", \"assault\", \"attack\", \"attack\", \"attack\", \"attacks\", \"battle\", \"beach\", \"black\", \"blasio\", \"blotter\", \"blotter\", \"blotter\", \"blotter\", \"body\", \"bomb\", \"border\", \"bronx\", \"brooklyn\", \"browns\", \"building\", \"business\", \"business\", \"busted\", \"campaign\", \"captured\", \"care\", \"center\", \"charged\", \"city\", \"city\", \"city\", \"clashes\", \"cleveland\", \"clinton\", \"coach\", \"college\", \"cops\", \"cops\", \"cops\", \"country\", \"country\", \"country\", \"county\", \"county\", \"court\", \"crash\", \"crime\", \"crime\", \"crime\", \"crime\", \"cuomo\", \"dade\", \"damascus\", \"dead\", \"death\", \"death\", \"death\", \"debate\", \"debate\", \"deir\", \"dies\", \"district\", \"donald\", \"driver\", \"east\", \"election\", \"fake\", \"fighters\", \"florida\", \"football\", \"forces\", \"forecast\", \"friday\", \"good\", \"great\", \"great\", \"great\", \"great\", \"guilty\", \"hama\", \"health\", \"health\", \"heat\", \"heights\", \"hillary\", \"home\", \"homs\", \"hospital\", \"house\", \"house\", \"injured\", \"inside\", \"iran\", \"iraq\", \"isis\", \"isis\", \"island\", \"jail\", \"john\", \"killed\", \"kills\", \"latest\", \"leader\", \"leads\", \"liberal\", \"like\", \"like\", \"like\", \"like\", \"lives\", \"local\", \"local\", \"look\", \"louis\", \"matter\", \"mayor\", \"media\", \"meet\", \"miami\", \"missing\", \"missouri\", \"mosul\", \"mother\", \"murder\", \"near\", \"news\", \"news\", \"news\", \"news\", \"news\", \"north\", \"northern\", \"nypd\", \"obama\", \"offensive\", \"officer\", \"officials\", \"ohio\", \"outside\", \"party\", \"peace\", \"people\", \"people\", \"people\", \"people\", \"people\", \"photos\", \"plans\", \"police\", \"police\", \"politics\", \"politics\", \"politics\", \"president\", \"presidential\", \"probe\", \"queens\", \"rally\", \"raqqa\", \"real\", \"reported\", \"residents\", \"road\", \"robbery\", \"russia\", \"russian\", \"says\", \"says\", \"says\", \"says\", \"says\", \"school\", \"school\", \"school\", \"search\", \"senate\", \"sham\", \"shooting\", \"shooting\", \"shot\", \"shot\", \"south\", \"sports\", \"square\", \"star\", \"state\", \"state\", \"state\", \"state\", \"state\", \"station\", \"stolen\", \"street\", \"strikes\", \"student\", \"subway\", \"suicide\", \"suspect\", \"syria\", \"syrian\", \"talks\", \"tcot\", \"team\", \"teen\", \"terrorist\", \"things\", \"town\", \"train\", \"train\", \"trial\", \"trump\", \"turkey\", \"turkish\", \"victim\", \"video\", \"video\", \"video\", \"video\", \"video\", \"violence\", \"vote\", \"water\", \"weather\", \"west\", \"wins\", \"woman\", \"woman\", \"woman\", \"women\", \"women\", \"women\", \"worker\", \"workers\", \"world\", \"world\", \"world\", \"world\", \"world\", \"year\", \"year\", \"year\", \"yearold\"]}, \"R\": 30, \"lambda.step\": 0.01, \"plot.opts\": {\"xlab\": \"PC1\", \"ylab\": \"PC2\"}, \"topic.order\": [1, 2, 3, 4, 5]};\n",
       "\n",
       "function LDAvis_load_lib(url, callback){\n",
       "  var s = document.createElement('script');\n",
       "  s.src = url;\n",
       "  s.async = true;\n",
       "  s.onreadystatechange = s.onload = callback;\n",
       "  s.onerror = function(){console.warn(\"failed to load library \" + url);};\n",
       "  document.getElementsByTagName(\"head\")[0].appendChild(s);\n",
       "}\n",
       "\n",
       "if(typeof(LDAvis) !== \"undefined\"){\n",
       "   // already loaded: just create the visualization\n",
       "   !function(LDAvis){\n",
       "       new LDAvis(\"#\" + \"ldavis_el56961168661329925549053529\", ldavis_el56961168661329925549053529_data);\n",
       "   }(LDAvis);\n",
       "}else if(typeof define === \"function\" && define.amd){\n",
       "   // require.js is available: use it to load d3/LDAvis\n",
       "   require.config({paths: {d3: \"https://cdnjs.cloudflare.com/ajax/libs/d3/3.5.5/d3.min\"}});\n",
       "   require([\"d3\"], function(d3){\n",
       "      window.d3 = d3;\n",
       "      LDAvis_load_lib(\"https://cdn.rawgit.com/bmabey/pyLDAvis/files/ldavis.v1.0.0.js\", function(){\n",
       "        new LDAvis(\"#\" + \"ldavis_el56961168661329925549053529\", ldavis_el56961168661329925549053529_data);\n",
       "      });\n",
       "    });\n",
       "}else{\n",
       "    // require.js not available: dynamically load d3 & LDAvis\n",
       "    LDAvis_load_lib(\"https://cdnjs.cloudflare.com/ajax/libs/d3/3.5.5/d3.min.js\", function(){\n",
       "         LDAvis_load_lib(\"https://cdn.rawgit.com/bmabey/pyLDAvis/files/ldavis.v1.0.0.js\", function(){\n",
       "                 new LDAvis(\"#\" + \"ldavis_el56961168661329925549053529\", ldavis_el56961168661329925549053529_data);\n",
       "            })\n",
       "         });\n",
       "}\n",
       "</script>"
      ],
      "text/plain": [
       "<IPython.core.display.HTML object>"
      ]
     },
     "execution_count": 36,
     "metadata": {},
     "output_type": "execute_result"
    }
   ],
   "source": [
    "lda_display = pyLDAvis.gensim.prepare(ldamodel, corpus, dictionary, sort_topics=False)\n",
    "pyLDAvis.display(lda_display)"
   ]
  },
  {
   "cell_type": "code",
   "execution_count": null,
   "metadata": {},
   "outputs": [],
   "source": []
  }
 ],
 "metadata": {
  "celltoolbar": "Slideshow",
  "hide_input": false,
  "kernelspec": {
   "display_name": "Python 3",
   "language": "python",
   "name": "python3"
  },
  "language_info": {
   "codemirror_mode": {
    "name": "ipython",
    "version": 3
   },
   "file_extension": ".py",
   "mimetype": "text/x-python",
   "name": "python",
   "nbconvert_exporter": "python",
   "pygments_lexer": "ipython3",
   "version": "3.6.8"
  }
 },
 "nbformat": 4,
 "nbformat_minor": 2
}
