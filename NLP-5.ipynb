{
 "cells": [
  {
   "cell_type": "code",
   "execution_count": 1,
   "metadata": {},
   "outputs": [],
   "source": [
    "import os\n",
    "import sqlite3 as sql\n",
    "import pandas as pd\n",
    "import numpy as np\n",
    "from nltk.tokenize import word_tokenize\n",
    "from spacy.lang.en import English\n",
    "from spacy.matcher import Matcher, PhraseMatcher\n",
    "from spacy.tokens import Doc\n",
    "from sklearn.feature_extraction.text import TfidfVectorizer\n",
    "from collections import Counter"
   ]
  },
  {
   "cell_type": "code",
   "execution_count": 82,
   "metadata": {},
   "outputs": [
    {
     "data": {
      "text/html": [
       "<div>\n",
       "<style scoped>\n",
       "    .dataframe tbody tr th:only-of-type {\n",
       "        vertical-align: middle;\n",
       "    }\n",
       "\n",
       "    .dataframe tbody tr th {\n",
       "        vertical-align: top;\n",
       "    }\n",
       "\n",
       "    .dataframe thead th {\n",
       "        text-align: right;\n",
       "    }\n",
       "</style>\n",
       "<table border=\"1\" class=\"dataframe\">\n",
       "  <thead>\n",
       "    <tr style=\"text-align: right;\">\n",
       "      <th></th>\n",
       "      <th>author</th>\n",
       "      <th>content</th>\n",
       "    </tr>\n",
       "  </thead>\n",
       "  <tbody>\n",
       "    <tr>\n",
       "      <th>0</th>\n",
       "      <td>10_GOP</td>\n",
       "      <td>[' We have a sitting Democrat US Senator on tr...</td>\n",
       "    </tr>\n",
       "    <tr>\n",
       "      <th>1</th>\n",
       "      <td>1D_NICOLE_</td>\n",
       "      <td>['I hurt easy I just don t show it You can hur...</td>\n",
       "    </tr>\n",
       "    <tr>\n",
       "      <th>2</th>\n",
       "      <td>1ERIK_LEE</td>\n",
       "      <td>[]</td>\n",
       "    </tr>\n",
       "    <tr>\n",
       "      <th>3</th>\n",
       "      <td>1LORENAFAVA1</td>\n",
       "      <td>[]</td>\n",
       "    </tr>\n",
       "    <tr>\n",
       "      <th>4</th>\n",
       "      <td>2NDHALFONION</td>\n",
       "      <td>[' Follow the other half an onion Mage America...</td>\n",
       "    </tr>\n",
       "  </tbody>\n",
       "</table>\n",
       "</div>"
      ],
      "text/plain": [
       "         author                                            content\n",
       "0        10_GOP  [' We have a sitting Democrat US Senator on tr...\n",
       "1    1D_NICOLE_  ['I hurt easy I just don t show it You can hur...\n",
       "2     1ERIK_LEE                                                 []\n",
       "3  1LORENAFAVA1                                                 []\n",
       "4  2NDHALFONION  [' Follow the other half an onion Mage America..."
      ]
     },
     "execution_count": 82,
     "metadata": {},
     "output_type": "execute_result"
    }
   ],
   "source": [
    "#user_original = pd.read_csv('../data/user_original.csv')\n",
    "#user_rt = pd.read_csv('../data/user_rt.csv')\n",
    "\n",
    "with sql.connect('../data/user_original.db') as conn:\n",
    "    user_original = pd.read_sql_query('select * from user_original', conn)\n",
    "user_original.head()"
   ]
  },
  {
   "cell_type": "code",
   "execution_count": 83,
   "metadata": {},
   "outputs": [
    {
     "data": {
      "text/html": [
       "<div>\n",
       "<style scoped>\n",
       "    .dataframe tbody tr th:only-of-type {\n",
       "        vertical-align: middle;\n",
       "    }\n",
       "\n",
       "    .dataframe tbody tr th {\n",
       "        vertical-align: top;\n",
       "    }\n",
       "\n",
       "    .dataframe thead th {\n",
       "        text-align: right;\n",
       "    }\n",
       "</style>\n",
       "<table border=\"1\" class=\"dataframe\">\n",
       "  <thead>\n",
       "    <tr style=\"text-align: right;\">\n",
       "      <th></th>\n",
       "      <th>author</th>\n",
       "      <th>content</th>\n",
       "    </tr>\n",
       "  </thead>\n",
       "  <tbody>\n",
       "    <tr>\n",
       "      <th>0</th>\n",
       "      <td>10_GOP</td>\n",
       "      <td>['Daughter of fallen Navy Sailor delivers powe...</td>\n",
       "    </tr>\n",
       "    <tr>\n",
       "      <th>1</th>\n",
       "      <td>1D_NICOLE_</td>\n",
       "      <td>[' is not a joke ', 'Thanks God that i ate few...</td>\n",
       "    </tr>\n",
       "    <tr>\n",
       "      <th>2</th>\n",
       "      <td>1ERIK_LEE</td>\n",
       "      <td>['Why is someone even against the I ll watch y...</td>\n",
       "    </tr>\n",
       "    <tr>\n",
       "      <th>3</th>\n",
       "      <td>1LORENAFAVA1</td>\n",
       "      <td>['Come vedere Juventus Milan in streaming o in...</td>\n",
       "    </tr>\n",
       "    <tr>\n",
       "      <th>4</th>\n",
       "      <td>2NDHALFONION</td>\n",
       "      <td>[]</td>\n",
       "    </tr>\n",
       "  </tbody>\n",
       "</table>\n",
       "</div>"
      ],
      "text/plain": [
       "         author                                            content\n",
       "0        10_GOP  ['Daughter of fallen Navy Sailor delivers powe...\n",
       "1    1D_NICOLE_  [' is not a joke ', 'Thanks God that i ate few...\n",
       "2     1ERIK_LEE  ['Why is someone even against the I ll watch y...\n",
       "3  1LORENAFAVA1  ['Come vedere Juventus Milan in streaming o in...\n",
       "4  2NDHALFONION                                                 []"
      ]
     },
     "execution_count": 83,
     "metadata": {},
     "output_type": "execute_result"
    }
   ],
   "source": [
    "with sql.connect('../data/user_rt.db') as conn:\n",
    "    user_rt = pd.read_sql_query('select * from user_rt', conn)\n",
    "user_rt.head()"
   ]
  },
  {
   "cell_type": "code",
   "execution_count": 84,
   "metadata": {},
   "outputs": [],
   "source": [
    "#user_original = user_original[user_original.tweet_text != np.nan]\n",
    "#user_rt = user_rt[user_rt.tweet_text != np.nan]"
   ]
  },
  {
   "cell_type": "markdown",
   "metadata": {},
   "source": [
    "### N-grams"
   ]
  },
  {
   "cell_type": "code",
   "execution_count": 85,
   "metadata": {},
   "outputs": [],
   "source": [
    "unigram_vect = TfidfVectorizer(ngram_range=(1,1), stop_words='english')\n",
    "bigram_vect = TfidfVectorizer(ngram_range=(2,2), stop_words='english')\n",
    "trigram_vect = TfidfVectorizer(ngram_range=(3,3), stop_words='english')"
   ]
  },
  {
   "cell_type": "code",
   "execution_count": 86,
   "metadata": {},
   "outputs": [
    {
     "data": {
      "text/plain": [
       "[('trump', 84092),\n",
       " ('police', 43508),\n",
       " ('workout', 41977),\n",
       " ('man', 38983),\n",
       " ('new', 38317),\n",
       " ('just', 29565),\n",
       " ('obama', 25321),\n",
       " ('says', 23491),\n",
       " ('people', 22442),\n",
       " ('breaking', 21636),\n",
       " ('video', 19544),\n",
       " ('state', 19318),\n",
       " ('like', 17599),\n",
       " ('president', 17429),\n",
       " ('don', 16930),\n",
       " ('year', 16553),\n",
       " ('killed', 16520),\n",
       " ('black', 16165),\n",
       " ('woman', 16079),\n",
       " ('hillary', 15560),\n",
       " ('shooting', 15205),\n",
       " ('day', 15200),\n",
       " ('amp', 14920),\n",
       " ('clinton', 14716),\n",
       " ('time', 14031),\n",
       " ('exercise', 13928),\n",
       " ('white', 13653),\n",
       " ('need', 12928),\n",
       " ('good', 12478),\n",
       " ('city', 12473),\n",
       " ('say', 12467),\n",
       " ('america', 12273),\n",
       " ('old', 12264),\n",
       " ('house', 12231),\n",
       " ('look', 12219),\n",
       " ('make', 12017),\n",
       " ('dead', 11618),\n",
       " ('media', 11388),\n",
       " ('death', 11343),\n",
       " ('shot', 11209)]"
      ]
     },
     "execution_count": 86,
     "metadata": {},
     "output_type": "execute_result"
    }
   ],
   "source": [
    "original_summaries = \"\".join(user_original['content'])\n",
    "original_unigrams = unigram_vect.build_analyzer()(original_summaries)\n",
    "\n",
    "Counter(original_unigrams).most_common(40)"
   ]
  },
  {
   "cell_type": "code",
   "execution_count": 87,
   "metadata": {},
   "outputs": [
    {
     "data": {
      "text/plain": [
       "[('year old', 8558),\n",
       " ('lose weight', 6647),\n",
       " ('donald trump', 6621),\n",
       " ('north korea', 5428),\n",
       " ('president trump', 5410),\n",
       " ('new orleans', 4783),\n",
       " ('white house', 4710),\n",
       " ('hillary clinton', 4286),\n",
       " ('islamic state', 3696),\n",
       " ('new york', 3303),\n",
       " ('cnn cnn', 3280),\n",
       " ('police say', 2938),\n",
       " ('anti trump', 2863),\n",
       " ('high school', 2732),\n",
       " ('trump supporters', 2589),\n",
       " ('st louis', 2588),\n",
       " ('san jose', 2482),\n",
       " ('san francisco', 2389),\n",
       " ('police officer', 2338),\n",
       " ('weight loss', 2293),\n",
       " ('fake news', 2264),\n",
       " ('man shot', 2252),\n",
       " ('supreme court', 2246),\n",
       " ('trump just', 1989),\n",
       " ('man charged', 1953),\n",
       " ('good workout', 1952),\n",
       " ('workout workout', 1920),\n",
       " ('super bowl', 1885),\n",
       " ('pleads guilty', 1845),\n",
       " ('police blotter', 1713),\n",
       " ('man arrested', 1707),\n",
       " ('man accused', 1690),\n",
       " ('san diego', 1678),\n",
       " ('bernie sanders', 1621),\n",
       " ('patriot army', 1564),\n",
       " ('breaking trump', 1490),\n",
       " ('workout today', 1475),\n",
       " ('kim jong', 1448),\n",
       " ('hit run', 1429),\n",
       " ('man killed', 1425)]"
      ]
     },
     "execution_count": 87,
     "metadata": {},
     "output_type": "execute_result"
    }
   ],
   "source": [
    "original_summaries = \"\".join(user_original['content'])\n",
    "original_bigrams = bigram_vect.build_analyzer()(original_summaries)\n",
    "\n",
    "Counter(original_bigrams).most_common(40)"
   ]
  },
  {
   "cell_type": "code",
   "execution_count": 88,
   "metadata": {},
   "outputs": [
    {
     "data": {
      "text/plain": [
       "[('cnn cnn cnn', 3234),\n",
       " ('enlist patriot army', 1144),\n",
       " ('black lives matter', 1085),\n",
       " ('year old girl', 949),\n",
       " ('need lose weight', 916),\n",
       " ('new orleans saints', 895),\n",
       " ('year old boy', 828),\n",
       " ('south china sea', 701),\n",
       " ('year old man', 673),\n",
       " ('trump supporters react', 608),\n",
       " ('rewind 07 2017', 544),\n",
       " ('san juan mayor', 528),\n",
       " ('officer involved shooting', 507),\n",
       " ('make america great', 498),\n",
       " ('president trump just', 471),\n",
       " ('new orleans pelicans', 467),\n",
       " ('man fatally shot', 455),\n",
       " ('dani bostick dani', 450),\n",
       " ('bostick dani bostick', 450),\n",
       " ('john bel edwards', 448),\n",
       " ('new york city', 446),\n",
       " ('year old woman', 445),\n",
       " ('15 year old', 437),\n",
       " ('rewind 05 2017', 422),\n",
       " ('breaking north korea', 419),\n",
       " ('black trump supporter', 416),\n",
       " ('rewind 08 2017', 412),\n",
       " ('new york times', 407),\n",
       " ('12 year old', 403),\n",
       " ('trump travel ban', 401),\n",
       " ('rewind 06 2017', 400),\n",
       " ('fake news media', 396),\n",
       " ('man pleads guilty', 392),\n",
       " ('golden state warriors', 381),\n",
       " ('10 year old', 379),\n",
       " ('called trump assassination', 366),\n",
       " ('super bowl 50', 366),\n",
       " ('martin luther king', 354),\n",
       " ('traitor john mccain', 334),\n",
       " ('heights police blotter', 332)]"
      ]
     },
     "execution_count": 88,
     "metadata": {},
     "output_type": "execute_result"
    }
   ],
   "source": [
    "original_summaries = \"\".join(user_original['content'])\n",
    "original_trigrams = trigram_vect.build_analyzer()(original_summaries)\n",
    "\n",
    "Counter(original_trigrams).most_common(40)"
   ]
  },
  {
   "cell_type": "code",
   "execution_count": 89,
   "metadata": {},
   "outputs": [
    {
     "data": {
      "text/plain": [
       "[('trump', 51410),\n",
       " ('people', 27664),\n",
       " ('just', 27168),\n",
       " ('new', 25448),\n",
       " ('like', 25001),\n",
       " ('amp', 24947),\n",
       " ('don', 23055),\n",
       " ('black', 19272),\n",
       " ('obama', 17556),\n",
       " ('hillary', 15952),\n",
       " ('time', 14805),\n",
       " ('white', 14543),\n",
       " ('know', 13957),\n",
       " ('day', 13036),\n",
       " ('make', 12896),\n",
       " ('clinton', 12335),\n",
       " ('good', 11901),\n",
       " ('video', 11853),\n",
       " ('want', 11827),\n",
       " ('love', 11717),\n",
       " ('man', 11717),\n",
       " ('need', 11600),\n",
       " ('right', 11471),\n",
       " ('america', 11465),\n",
       " ('president', 11456),\n",
       " ('today', 11115),\n",
       " ('news', 10275),\n",
       " ('think', 9985),\n",
       " ('police', 9916),\n",
       " ('says', 9585),\n",
       " ('let', 9539),\n",
       " ('say', 9383),\n",
       " ('life', 9212),\n",
       " ('did', 9100),\n",
       " ('women', 8981),\n",
       " ('got', 8952),\n",
       " ('year', 8905),\n",
       " ('world', 8846),\n",
       " ('watch', 8616),\n",
       " ('going', 8446)]"
      ]
     },
     "execution_count": 89,
     "metadata": {},
     "output_type": "execute_result"
    }
   ],
   "source": [
    "rt_summaries = \"\".join(user_rt['content'])\n",
    "rt_unigrams = unigram_vect.build_analyzer()(rt_summaries)\n",
    "\n",
    "Counter(rt_unigrams).most_common(40)"
   ]
  },
  {
   "cell_type": "code",
   "execution_count": 90,
   "metadata": {},
   "outputs": [
    {
     "data": {
      "text/plain": [
       "[('donald trump', 6347),\n",
       " ('hillary clinton', 4229),\n",
       " ('white house', 3010),\n",
       " ('year old', 2239),\n",
       " ('new york', 2233),\n",
       " ('payday loans', 2129),\n",
       " ('president trump', 1749),\n",
       " ('news post', 1733),\n",
       " ('black people', 1689),\n",
       " ('fake news', 1647),\n",
       " ('don know', 1635),\n",
       " ('new post', 1599),\n",
       " ('looks like', 1413),\n",
       " ('white people', 1410),\n",
       " ('don want', 1366),\n",
       " ('online payday', 1261),\n",
       " ('social media', 1224),\n",
       " ('united states', 1218),\n",
       " ('24x7 online', 1203),\n",
       " ('black women', 1154),\n",
       " ('gt gt', 1110),\n",
       " ('approved minutes', 1077),\n",
       " ('loans approved', 1076),\n",
       " ('fox news', 1063),\n",
       " ('years ago', 1010),\n",
       " ('look like', 1005),\n",
       " ('supreme court', 987),\n",
       " ('hip hop', 973),\n",
       " ('good morning', 969),\n",
       " ('targeted accounts', 964),\n",
       " ('lives matter', 938),\n",
       " ('god bless', 907),\n",
       " ('planned parenthood', 899),\n",
       " ('trump supporters', 872),\n",
       " ('bernie sanders', 869),\n",
       " ('just like', 837),\n",
       " ('ted cruz', 820),\n",
       " ('president obama', 813),\n",
       " ('high school', 795),\n",
       " ('don like', 793)]"
      ]
     },
     "execution_count": 90,
     "metadata": {},
     "output_type": "execute_result"
    }
   ],
   "source": [
    "rt_summaries = \"\".join(user_rt['content'])\n",
    "rt_bigrams = bigram_vect.build_analyzer()(rt_summaries)\n",
    "\n",
    "Counter(rt_bigrams).most_common(40)"
   ]
  },
  {
   "cell_type": "code",
   "execution_count": 91,
   "metadata": {},
   "outputs": [
    {
     "data": {
      "text/plain": [
       "[('online payday loans', 1258),\n",
       " ('24x7 online payday', 1203),\n",
       " ('payday loans approved', 1076),\n",
       " ('loans approved minutes', 1076),\n",
       " ('black lives matter', 640),\n",
       " ('make america great', 525),\n",
       " ('approved minutes payday', 497),\n",
       " ('minutes payday loans', 481),\n",
       " ('new york times', 480),\n",
       " ('join fight save', 447),\n",
       " ('fight save america', 446),\n",
       " ('patriots dare join', 444),\n",
       " ('dare join fight', 444),\n",
       " ('save america click', 443),\n",
       " ('following twitter thanks', 421),\n",
       " ('twitter thanks ready', 421),\n",
       " ('win win win', 366),\n",
       " ('listen title track', 365),\n",
       " ('title track upcoming', 365),\n",
       " ('track upcoming mashup', 365),\n",
       " ('upcoming mashup album', 365),\n",
       " ('mashup album ft', 365),\n",
       " ('loans 24x7 online', 363),\n",
       " ('best promotion just', 324),\n",
       " ('martin luther king', 314),\n",
       " ('happy new year', 298),\n",
       " ('won want miss', 293),\n",
       " ('hit hands won', 278),\n",
       " ('hands won want', 278),\n",
       " ('gt gt gt', 275),\n",
       " ('president united states', 269),\n",
       " ('new york city', 265),\n",
       " ('win major exposure', 251),\n",
       " ('major exposure promotion', 251),\n",
       " ('year old girl', 245),\n",
       " ('just posted photo', 231),\n",
       " ('listen mix feat', 231),\n",
       " ('mix feat gt', 231),\n",
       " ('feat gt gt', 231),\n",
       " ('payday loans 24x7', 231)]"
      ]
     },
     "execution_count": 91,
     "metadata": {},
     "output_type": "execute_result"
    }
   ],
   "source": [
    "rt_summaries = \"\".join(user_rt['content'])\n",
    "rt_trigrams = trigram_vect.build_analyzer()(rt_summaries)\n",
    "\n",
    "Counter(rt_trigrams).most_common(40)"
   ]
  },
  {
   "cell_type": "markdown",
   "metadata": {},
   "source": [
    "### Topic Modelling"
   ]
  },
  {
   "cell_type": "code",
   "execution_count": 92,
   "metadata": {},
   "outputs": [
    {
     "data": {
      "text/plain": [
       "1989"
      ]
     },
     "execution_count": 92,
     "metadata": {},
     "output_type": "execute_result"
    }
   ],
   "source": [
    "len(user_original.author.value_counts())"
   ]
  },
  {
   "cell_type": "code",
   "execution_count": 102,
   "metadata": {},
   "outputs": [
    {
     "name": "stderr",
     "output_type": "stream",
     "text": [
      "[nltk_data] Downloading package stopwords to\n",
      "[nltk_data]     /Users/gcdunn/nltk_data...\n",
      "[nltk_data]   Package stopwords is already up-to-date!\n"
     ]
    },
    {
     "data": {
      "text/plain": [
       "True"
      ]
     },
     "execution_count": 102,
     "metadata": {},
     "output_type": "execute_result"
    }
   ],
   "source": [
    "import gensim\n",
    "import nltk\n",
    "import pyLDAvis.gensim\n",
    "from gensim import corpora\n",
    "from sklearn.feature_extraction.text import CountVectorizer\n",
    "from sklearn.decomposition import LatentDirichletAllocation\n",
    "nltk.download('stopwords')"
   ]
  },
  {
   "cell_type": "code",
   "execution_count": 94,
   "metadata": {},
   "outputs": [],
   "source": [
    "en_stop = set(nltk.corpus.stopwords.words('english'))"
   ]
  },
  {
   "cell_type": "code",
   "execution_count": 95,
   "metadata": {},
   "outputs": [],
   "source": [
    "en_stop.add('the')\n",
    "en_stop.add('amp')"
   ]
  },
  {
   "cell_type": "code",
   "execution_count": 96,
   "metadata": {},
   "outputs": [],
   "source": [
    "user_original['tokenized'] = user_original.apply(lambda row: nltk.word_tokenize(row['content'].lower()), axis=1)\n",
    "user_rt['tokenized'] = user_rt.apply(lambda row: nltk.word_tokenize(row['content'].lower()), axis=1)"
   ]
  },
  {
   "cell_type": "code",
   "execution_count": 97,
   "metadata": {},
   "outputs": [],
   "source": [
    "user_original['tokenized'] = user_original.tokenized.apply(lambda x: [item for item in x if item not in en_stop])\n",
    "user_rt['tokenized'] = user_rt.tokenized.apply(lambda x: [item for item in x if item not in en_stop])"
   ]
  },
  {
   "cell_type": "code",
   "execution_count": 98,
   "metadata": {},
   "outputs": [],
   "source": [
    "user_original['tokenized'] = user_original.tokenized.apply(lambda x: [item for item in x if len(item) > 2])\n",
    "user_rt['tokenized'] = user_rt.tokenized.apply(lambda x: [item for item in x if len(item) > 2])"
   ]
  },
  {
   "cell_type": "code",
   "execution_count": 99,
   "metadata": {},
   "outputs": [],
   "source": [
    "dictionary = corpora.Dictionary(user_original['tokenized'])\n",
    "corpus = [dictionary.doc2bow(text) for text in user_original['tokenized']]"
   ]
  },
  {
   "cell_type": "code",
   "execution_count": 100,
   "metadata": {},
   "outputs": [
    {
     "name": "stdout",
     "output_type": "stream",
     "text": [
      "(0, '0.009*\"police\" + 0.008*\"man\" + 0.004*\"trump\" + 0.004*\"shooting\" + 0.004*\"year\"')\n",
      "(1, '0.008*\"people\" + 0.007*\"like\" + 0.005*\"\\'the\" + 0.005*\"black\" + 0.004*\"one\"')\n",
      "(2, '0.078*\"workout\" + 0.025*\"exercise\" + 0.017*\"weight\" + 0.013*\"lose\" + 0.008*\"need\"')\n",
      "(3, '0.008*\"says\" + 0.007*\"new\" + 0.005*\"state\" + 0.004*\"police\" + 0.003*\"killed\"')\n",
      "(4, '0.029*\"trump\" + 0.007*\"\\'breaking\" + 0.005*\"obama\" + 0.004*\"hillary\" + 0.004*\"video\"')\n"
     ]
    }
   ],
   "source": [
    "ntopics = 5\n",
    "ldamodel = gensim.models.ldamodel.LdaModel(corpus, num_topics = ntopics, id2word=dictionary, passes=15)\n",
    "ldamodel.save('model5.gensim')\n",
    "topics = ldamodel.print_topics(num_words=5)\n",
    "for topic in topics:\n",
    "    print(topic)"
   ]
  },
  {
   "cell_type": "code",
   "execution_count": 103,
   "metadata": {},
   "outputs": [
    {
     "name": "stderr",
     "output_type": "stream",
     "text": [
      "/Users/gcdunn/anaconda3/lib/python3.6/site-packages/pyLDAvis/_prepare.py:257: FutureWarning: Sorting because non-concatenation axis is not aligned. A future version\n",
      "of pandas will change to not sort by default.\n",
      "\n",
      "To accept the future behavior, pass 'sort=True'.\n",
      "\n",
      "To retain the current behavior and silence the warning, pass sort=False\n",
      "\n",
      "  return pd.concat([default_term_info] + list(topic_dfs))\n"
     ]
    },
    {
     "data": {
      "text/html": [
       "\n",
       "<link rel=\"stylesheet\" type=\"text/css\" href=\"https://cdn.rawgit.com/bmabey/pyLDAvis/files/ldavis.v1.0.0.css\">\n",
       "\n",
       "\n",
       "<div id=\"ldavis_el978931164170496081961634844\"></div>\n",
       "<script type=\"text/javascript\">\n",
       "\n",
       "var ldavis_el978931164170496081961634844_data = {\"mdsDat\": {\"x\": [-0.10788608008274835, 0.023887506959280932, 0.2723775250557957, -0.1278610530652573, -0.06051789886707085], \"y\": [0.08898863514830714, -0.05886371772972528, 0.046317461576765126, 0.09258885036795825, -0.16903122936330497], \"topics\": [1, 2, 3, 4, 5], \"cluster\": [1, 1, 1, 1, 1], \"Freq\": [31.486051559448242, 19.94162940979004, 6.071737766265869, 20.48394012451172, 22.016645431518555]}, \"tinfo\": {\"Category\": [\"Default\", \"Default\", \"Default\", \"Default\", \"Default\", \"Default\", \"Default\", \"Default\", \"Default\", \"Default\", \"Default\", \"Default\", \"Default\", \"Default\", \"Default\", \"Default\", \"Default\", \"Default\", \"Default\", \"Default\", \"Default\", \"Default\", \"Default\", \"Default\", \"Default\", \"Default\", \"Default\", \"Default\", \"Default\", \"Default\", \"Topic1\", \"Topic1\", \"Topic1\", \"Topic1\", \"Topic1\", \"Topic1\", \"Topic1\", \"Topic1\", \"Topic1\", \"Topic1\", \"Topic1\", \"Topic1\", \"Topic1\", \"Topic1\", \"Topic1\", \"Topic1\", \"Topic1\", \"Topic1\", \"Topic1\", \"Topic1\", \"Topic1\", \"Topic1\", \"Topic1\", \"Topic1\", \"Topic1\", \"Topic1\", \"Topic1\", \"Topic1\", \"Topic1\", \"Topic1\", \"Topic1\", \"Topic1\", \"Topic1\", \"Topic1\", \"Topic1\", \"Topic1\", \"Topic1\", \"Topic1\", \"Topic1\", \"Topic1\", \"Topic1\", \"Topic1\", \"Topic1\", \"Topic1\", \"Topic1\", \"Topic1\", \"Topic1\", \"Topic1\", \"Topic1\", \"Topic1\", \"Topic1\", \"Topic1\", \"Topic1\", \"Topic1\", \"Topic1\", \"Topic1\", \"Topic1\", \"Topic1\", \"Topic1\", \"Topic1\", \"Topic1\", \"Topic1\", \"Topic1\", \"Topic1\", \"Topic1\", \"Topic1\", \"Topic1\", \"Topic1\", \"Topic1\", \"Topic1\", \"Topic1\", \"Topic1\", \"Topic1\", \"Topic1\", \"Topic1\", \"Topic1\", \"Topic1\", \"Topic1\", \"Topic1\", \"Topic1\", \"Topic1\", \"Topic1\", \"Topic1\", \"Topic1\", \"Topic1\", \"Topic1\", \"Topic1\", \"Topic1\", \"Topic1\", \"Topic1\", \"Topic1\", \"Topic1\", \"Topic1\", \"Topic1\", \"Topic2\", \"Topic2\", \"Topic2\", \"Topic2\", \"Topic2\", \"Topic2\", \"Topic2\", \"Topic2\", \"Topic2\", \"Topic2\", \"Topic2\", \"Topic2\", \"Topic2\", \"Topic2\", \"Topic2\", \"Topic2\", \"Topic2\", \"Topic2\", \"Topic2\", \"Topic2\", \"Topic2\", \"Topic2\", \"Topic2\", \"Topic2\", \"Topic2\", \"Topic2\", \"Topic2\", \"Topic2\", \"Topic2\", \"Topic2\", \"Topic2\", \"Topic2\", \"Topic2\", \"Topic2\", \"Topic2\", \"Topic2\", \"Topic2\", \"Topic2\", \"Topic2\", \"Topic2\", \"Topic2\", \"Topic2\", \"Topic2\", \"Topic2\", \"Topic2\", \"Topic2\", \"Topic2\", \"Topic2\", \"Topic2\", \"Topic2\", \"Topic2\", \"Topic2\", \"Topic2\", \"Topic2\", \"Topic2\", \"Topic2\", \"Topic2\", \"Topic2\", \"Topic2\", \"Topic2\", \"Topic2\", \"Topic2\", \"Topic2\", \"Topic2\", \"Topic2\", \"Topic2\", \"Topic2\", \"Topic2\", \"Topic2\", \"Topic2\", \"Topic2\", \"Topic2\", \"Topic2\", \"Topic2\", \"Topic2\", \"Topic2\", \"Topic2\", \"Topic2\", \"Topic2\", \"Topic2\", \"Topic2\", \"Topic2\", \"Topic2\", \"Topic2\", \"Topic2\", \"Topic2\", \"Topic2\", \"Topic2\", \"Topic2\", \"Topic2\", \"Topic2\", \"Topic2\", \"Topic2\", \"Topic2\", \"Topic2\", \"Topic2\", \"Topic2\", \"Topic2\", \"Topic3\", \"Topic3\", \"Topic3\", \"Topic3\", \"Topic3\", \"Topic3\", \"Topic3\", \"Topic3\", \"Topic3\", \"Topic3\", \"Topic3\", \"Topic3\", \"Topic3\", \"Topic3\", \"Topic3\", \"Topic3\", \"Topic3\", \"Topic3\", \"Topic3\", \"Topic3\", \"Topic3\", \"Topic3\", \"Topic3\", \"Topic3\", \"Topic3\", \"Topic3\", \"Topic3\", \"Topic3\", \"Topic3\", \"Topic3\", \"Topic3\", \"Topic3\", \"Topic3\", \"Topic3\", \"Topic3\", \"Topic3\", \"Topic3\", \"Topic3\", \"Topic3\", \"Topic3\", \"Topic3\", \"Topic3\", \"Topic3\", \"Topic3\", \"Topic3\", \"Topic3\", \"Topic3\", \"Topic3\", \"Topic3\", \"Topic3\", \"Topic3\", \"Topic3\", \"Topic3\", \"Topic3\", \"Topic3\", \"Topic3\", \"Topic3\", \"Topic3\", \"Topic3\", \"Topic3\", \"Topic3\", \"Topic3\", \"Topic3\", \"Topic3\", \"Topic3\", \"Topic3\", \"Topic3\", \"Topic3\", \"Topic3\", \"Topic3\", \"Topic3\", \"Topic3\", \"Topic3\", \"Topic3\", \"Topic3\", \"Topic3\", \"Topic3\", \"Topic3\", \"Topic3\", \"Topic3\", \"Topic3\", \"Topic3\", \"Topic3\", \"Topic3\", \"Topic3\", \"Topic3\", \"Topic4\", \"Topic4\", \"Topic4\", \"Topic4\", \"Topic4\", \"Topic4\", \"Topic4\", \"Topic4\", \"Topic4\", \"Topic4\", \"Topic4\", \"Topic4\", \"Topic4\", \"Topic4\", \"Topic4\", \"Topic4\", \"Topic4\", \"Topic4\", \"Topic4\", \"Topic4\", \"Topic4\", \"Topic4\", \"Topic4\", \"Topic4\", \"Topic4\", \"Topic4\", \"Topic4\", \"Topic4\", \"Topic4\", \"Topic4\", \"Topic4\", \"Topic4\", \"Topic4\", \"Topic4\", \"Topic4\", \"Topic4\", \"Topic4\", \"Topic4\", \"Topic4\", \"Topic4\", \"Topic4\", \"Topic4\", \"Topic4\", \"Topic4\", \"Topic4\", \"Topic4\", \"Topic4\", \"Topic4\", \"Topic4\", \"Topic4\", \"Topic4\", \"Topic4\", \"Topic4\", \"Topic4\", \"Topic4\", \"Topic4\", \"Topic4\", \"Topic4\", \"Topic4\", \"Topic4\", \"Topic4\", \"Topic4\", \"Topic4\", \"Topic4\", \"Topic4\", \"Topic4\", \"Topic4\", \"Topic4\", \"Topic4\", \"Topic4\", \"Topic4\", \"Topic4\", \"Topic4\", \"Topic4\", \"Topic4\", \"Topic4\", \"Topic4\", \"Topic4\", \"Topic4\", \"Topic4\", \"Topic4\", \"Topic4\", \"Topic4\", \"Topic4\", \"Topic4\", \"Topic4\", \"Topic4\", \"Topic4\", \"Topic4\", \"Topic4\", \"Topic4\", \"Topic4\", \"Topic4\", \"Topic4\", \"Topic4\", \"Topic4\", \"Topic4\", \"Topic4\", \"Topic4\", \"Topic4\", \"Topic4\", \"Topic4\", \"Topic5\", \"Topic5\", \"Topic5\", \"Topic5\", \"Topic5\", \"Topic5\", \"Topic5\", \"Topic5\", \"Topic5\", \"Topic5\", \"Topic5\", \"Topic5\", \"Topic5\", \"Topic5\", \"Topic5\", \"Topic5\", \"Topic5\", \"Topic5\", \"Topic5\", \"Topic5\", \"Topic5\", \"Topic5\", \"Topic5\", \"Topic5\", \"Topic5\", \"Topic5\", \"Topic5\", \"Topic5\", \"Topic5\", \"Topic5\", \"Topic5\", \"Topic5\", \"Topic5\", \"Topic5\", \"Topic5\", \"Topic5\", \"Topic5\", \"Topic5\", \"Topic5\", \"Topic5\", \"Topic5\", \"Topic5\", \"Topic5\", \"Topic5\", \"Topic5\", \"Topic5\", \"Topic5\", \"Topic5\", \"Topic5\", \"Topic5\", \"Topic5\", \"Topic5\", \"Topic5\", \"Topic5\", \"Topic5\", \"Topic5\", \"Topic5\", \"Topic5\", \"Topic5\", \"Topic5\", \"Topic5\", \"Topic5\", \"Topic5\", \"Topic5\", \"Topic5\", \"Topic5\", \"Topic5\", \"Topic5\", \"Topic5\", \"Topic5\", \"Topic5\", \"Topic5\", \"Topic5\", \"Topic5\", \"Topic5\", \"Topic5\", \"Topic5\", \"Topic5\", \"Topic5\", \"Topic5\", \"Topic5\", \"Topic5\", \"Topic5\", \"Topic5\", \"Topic5\", \"Topic5\", \"Topic5\", \"Topic5\", \"Topic5\", \"Topic5\"], \"Freq\": [38107.0, 72704.0, 12644.0, 8780.0, 8246.0, 13326.0, 12219.0, 11062.0, 16933.0, 16423.0, 8075.0, 20988.0, 22563.0, 8157.0, 10992.0, 5795.0, 7743.0, 3449.0, 13278.0, 20063.0, 12753.0, 5295.0, 8096.0, 2878.0, 4386.0, 9593.0, 10401.0, 14289.0, 5535.0, 33882.0, 1824.392333984375, 253.33029174804688, 406.07421875, 356.2948303222656, 304.6376953125, 292.34405517578125, 342.8670959472656, 172.9300079345703, 221.41085815429688, 357.7774963378906, 150.59230041503906, 183.94044494628906, 148.54034423828125, 232.37522888183594, 222.24624633789062, 774.3388671875, 178.706787109375, 334.14794921875, 229.15435791015625, 107.97787475585938, 105.93083953857422, 584.1411743164062, 253.2124786376953, 174.51991271972656, 97.8192367553711, 208.6309814453125, 487.8729553222656, 446.5930480957031, 158.2357940673828, 268.02960205078125, 1727.8653564453125, 395.74981689453125, 871.6849975585938, 576.4368286132812, 291.6813049316406, 4408.55712890625, 10358.3720703125, 1469.5771484375, 8947.037109375, 1161.0289306640625, 583.7218017578125, 454.3617858886719, 763.9654541015625, 8354.060546875, 3496.86279296875, 2540.626708984375, 900.79248046875, 563.0053100585938, 2334.882080078125, 1516.9271240234375, 1286.1995849609375, 977.1544799804688, 2532.743896484375, 1159.69873046875, 2758.083251953125, 3517.09521484375, 1363.3310546875, 1078.119140625, 7499.9697265625, 1357.49462890625, 2963.855224609375, 2012.6673583984375, 5878.37646484375, 10909.08203125, 19360.619140625, 3833.78271484375, 22516.603515625, 8230.6640625, 3539.641357421875, 5480.9443359375, 4782.650390625, 2999.30078125, 7294.06689453125, 5033.10693359375, 8483.416015625, 7049.56201171875, 7168.9033203125, 10681.748046875, 8211.1396484375, 6124.22802734375, 6972.72119140625, 7039.32763671875, 6885.041015625, 8881.541015625, 4545.412109375, 4037.968994140625, 5851.69970703125, 5916.92236328125, 9352.853515625, 5589.05419921875, 10976.240234375, 6294.138671875, 5868.36474609375, 5339.10888671875, 2589.437255859375, 1242.531494140625, 1461.98681640625, 545.44873046875, 484.2217712402344, 477.3771057128906, 215.6916961669922, 69.83535766601562, 109.05074310302734, 44.40289306640625, 41.471717834472656, 49.18309783935547, 45.238407135009766, 189.4227752685547, 50.00809860229492, 38.437076568603516, 37.4659309387207, 44.18732833862305, 99.88642883300781, 35.53340148925781, 93.12347412109375, 36.469505310058594, 39.33732986450195, 68.13566589355469, 46.99047088623047, 34.517059326171875, 70.97749328613281, 34.50767517089844, 111.19551849365234, 31.590354919433594, 2362.6015625, 436.4568176269531, 136.5403289794922, 302.4102478027344, 457.8533935546875, 128.4176483154297, 65.99977111816406, 70.75636291503906, 1955.3740234375, 576.2039184570312, 691.4048461914062, 1028.69384765625, 336.6461486816406, 563.5614013671875, 513.4595947265625, 112.07850646972656, 727.033935546875, 909.9612426757812, 1608.0850830078125, 1225.801025390625, 527.6187133789062, 1075.1280517578125, 2850.30615234375, 2705.994140625, 1405.409423828125, 2641.90087890625, 1180.515625, 1046.82177734375, 803.860107421875, 2955.330078125, 10527.873046875, 12651.83984375, 8793.732421875, 4903.55517578125, 2715.616455078125, 5465.947265625, 8794.341796875, 5863.5791015625, 2161.511474609375, 4705.74169921875, 3842.6865234375, 6056.1943359375, 5525.1845703125, 2538.8955078125, 2982.9375, 7089.54833984375, 4561.78955078125, 3128.01904296875, 4401.5478515625, 3150.6396484375, 7032.40625, 5131.62548828125, 3956.427734375, 5928.271484375, 5125.484375, 3930.04345703125, 4499.04345703125, 4174.0009765625, 4401.3466796875, 6786.3359375, 4263.162109375, 3472.510498046875, 3879.573486328125, 3753.235595703125, 3276.303955078125, 3290.780517578125, 3619.266845703125, 3430.39306640625, 2197.251953125, 37959.7734375, 229.0651092529297, 146.16697692871094, 204.59422302246094, 82.21409606933594, 70.45616149902344, 259.8807373046875, 267.9427795410156, 47.644779205322266, 47.64352798461914, 12402.0146484375, 39.452430725097656, 39.44944763183594, 39.40766143798828, 36.68626022338867, 35.77260971069336, 34.86501693725586, 104.5457992553711, 33.04065704345703, 31.215131759643555, 30.298534393310547, 29.388174057006836, 29.387149810791016, 29.364261627197266, 26.649097442626953, 26.647705078125, 26.639179229736328, 25.73310661315918, 58.5958251953125, 8421.5556640625, 51.26944351196289, 2660.59326171875, 2375.039306640625, 316.2671813964844, 171.73623657226562, 418.4048767089844, 1667.263671875, 67.73390197753906, 2730.23974609375, 238.5792999267578, 154.53533935546875, 165.18133544921875, 172.85719299316406, 6146.4091796875, 216.53233337402344, 101.4814224243164, 125.17568969726562, 1965.600830078125, 142.11502075195312, 1327.2315673828125, 1187.734619140625, 307.4095458984375, 498.68438720703125, 393.8434143066406, 227.51820373535156, 298.8636474609375, 309.027587890625, 1141.619384765625, 2080.3447265625, 422.40252685546875, 3992.101806640625, 634.5264282226562, 4022.70751953125, 1083.2386474609375, 568.0445556640625, 2800.294189453125, 1010.1736450195312, 1738.4676513671875, 541.369140625, 1545.5047607421875, 2136.165283203125, 3182.841064453125, 510.912841796875, 646.6263427734375, 1095.4334716796875, 763.5136108398438, 702.4742431640625, 1491.0858154296875, 2002.6881103515625, 923.6862182617188, 1965.8397216796875, 1723.6256103515625, 1161.187744140625, 1256.5155029296875, 1049.89697265625, 360.98297119140625, 1232.1700439453125, 218.87718200683594, 269.7646484375, 154.79405212402344, 178.8197021484375, 151.94688415527344, 139.87472534179688, 130.56288146972656, 240.75830078125, 130.51673889160156, 126.80790710449219, 145.2943572998047, 140.6625213623047, 108.22430419921875, 107.26919555664062, 212.68902587890625, 284.8119201660156, 114.5974349975586, 100.71876525878906, 108.11060333251953, 388.17657470703125, 145.86236572265625, 111.71317291259766, 87.7041244506836, 110.76834869384766, 221.54515075683594, 224.3312225341797, 100.57107543945312, 79.34869384765625, 1296.88427734375, 891.7288208007812, 1240.222900390625, 798.0488891601562, 748.2338256835938, 280.0987854003906, 461.3902893066406, 221.15823364257812, 1547.880615234375, 241.18649291992188, 4380.81005859375, 301.2784118652344, 2052.705078125, 1153.2447509765625, 677.781005859375, 1118.5789794921875, 391.2732238769531, 1468.0648193359375, 1185.19140625, 1122.0360107421875, 935.4909057617188, 775.671142578125, 1042.12451171875, 4498.36572265625, 495.62640380859375, 481.4529724121094, 1231.2119140625, 653.5715942382812, 384.3901062011719, 875.4924926757812, 772.0239868164062, 703.807861328125, 1333.67919921875, 2219.0048828125, 2133.57080078125, 696.4613647460938, 1768.1646728515625, 3306.89013671875, 1565.71337890625, 12807.8759765625, 2561.93212890625, 2180.319580078125, 2290.122802734375, 1684.714111328125, 2763.28857421875, 1855.839111328125, 7547.36767578125, 11024.083984375, 2309.48291015625, 2274.521240234375, 3845.5341796875, 3209.73095703125, 3438.332763671875, 4826.63427734375, 2929.7373046875, 2408.75, 6216.04052734375, 2428.246337890625, 2705.493408203125, 2831.70751953125, 2729.484375, 2267.02587890625, 2946.34765625, 2432.98486328125, 2876.183349609375, 2586.16259765625, 3963.418701171875, 2689.1083984375, 3041.58251953125, 2609.8623046875, 2416.75537109375, 2339.53759765625, 678.5072021484375, 683.2470703125, 412.1843566894531, 382.0250549316406, 616.5712280273438, 419.7218933105469, 361.5400695800781, 362.40338134765625, 521.2507934570312, 449.5406494140625, 337.1481628417969, 413.6648254394531, 292.5539245605469, 256.6955871582031, 2383.6328125, 700.27734375, 327.368408203125, 5270.85546875, 331.2098083496094, 311.8401794433594, 233.37850952148438, 453.20831298828125, 248.84556579589844, 335.98736572265625, 278.84954833984375, 293.3629455566406, 199.44131469726562, 318.5331726074219, 383.3965148925781, 380.4803771972656, 5759.2119140625, 4562.1884765625, 4519.318359375, 13029.5341796875, 2271.695556640625, 2233.049560546875, 1696.495361328125, 997.8203125, 829.4754638671875, 3758.585693359375, 684.1038208007812, 832.3854370117188, 961.2687377929688, 2530.118408203125, 399.76898193359375, 928.1380004882812, 5262.1875, 1131.6546630859375, 841.0657348632812, 1995.967041015625, 6996.95654296875, 1171.119384765625, 788.2210693359375, 954.009765625, 2652.327880859375, 2350.111083984375, 2886.905029296875, 6821.765625, 50939.68359375, 2843.41796875, 1889.83447265625, 1989.179931640625, 1959.9779052734375, 3764.039306640625, 3315.84033203125, 3602.949951171875, 2280.054443359375, 1685.72900390625, 2374.827392578125, 2156.00537109375, 6916.87646484375, 7870.73095703125, 5100.4765625, 3602.815185546875, 6331.3359375, 7231.8349609375, 9267.09765625, 3856.875, 5788.59814453125, 6917.8203125, 5770.81884765625, 4018.2353515625, 4859.14892578125, 3760.869140625, 4604.10791015625, 3765.970947265625, 5793.0712890625, 3924.313232421875, 4030.275634765625, 3924.79833984375], \"Term\": [\"workout\", \"trump\", \"exercise\", \"weight\", \"lose\", \"'breaking\", \"need\", \"good\", \"like\", \"get\", \"today\", \"people\", \"says\", \"got\", \"'man\", \"antifa\", \"breaking\", \"stocks\", \"time\", \"obama\", \"hillary\", \"realdonaldtrump\", \"cnn\", \"fitness\", \"loss\", \"'police\", \"want\", \"black\", \"potus\", \"police\", \"blotter\", \"'nbc10\", \"'akron\", \"phx\", \"cuyahoga\", \"parma\", \"'forecast\", \"henrico\", \"olmsted\", \"'wichita\", \"'henrico\", \"'arlington\", \"'sapd\", \"lorain\", \"'montini\", \"akron\", \"'phx\", \"'topeka\", \"'ksn\", \"'dekalb\", \"montco\", \"topeka\", \"'comment\", \"dps\", \"'gwinnett\", \"dekalb\", \"'milwaukee\", \"'philly\", \"gwinnett\", \"lakewood\", \"'kansas\", \"'fort\", \"newark\", \"wichita\", \"'albuquerque\", \"cleveland\", \"'man\", \"'cleveland\", \"'police\", \"'baltimore\", \"dade\", \"msu\", \"'pd\", \"county\", \"'woman\", \"robbery\", \"'driver\", \"'phoenix\", \"phoenix\", \"heights\", \"'suspect\", \"browns\", \"kansas\", \"'ohio\", \"miami\", \"ohio\", \"philly\", \"'teen\", \"crash\", \"homicide\", \"fatal\", \"fatally\", \"charged\", \"shooting\", \"man\", \"park\", \"police\", \"shot\", \"teen\", \"officer\", \"accused\", \"driver\", \"arrested\", \"suspect\", \"woman\", \"found\", \"school\", \"year\", \"old\", \"car\", \"home\", \"fire\", \"city\", \"killed\", \"dies\", \"injured\", \"death\", \"dead\", \"new\", \"say\", \"trump\", \"state\", \"says\", \"day\", \"hedgebz\", \"'curated\", \"'archived\", \"'wooow\", \"politicalhedge\", \"'sometimes\", \"'newsone\", \"xle\", \"'happiness\", \"newswire\", \"'hourly\", \"'amen\", \"vespasian85\", \"smth\", \"gopdebate\", \"schopenhauer\", \"vxx\", \"'ain\", \"'everybody\", \"guncontrol\", \"'yesterday\", \"amzn\", \"belive\", \"texasbaseballma\", \"qqq\", \"unsee\", \"'respect\", \"jcw\", \"beings\", \"pocatello\", \"'rr\", \"bostick\", \"phosphorus\", \"'rip\", \"https\", \"fucked\", \"landy\", \"robinbrentwood1\", \"rewind\", \"'never\", \"'omg\", \"'and\", \"'god\", \"'every\", \"'mt\", \"'fuck\", \"fuck\", \"'happy\", \"'that\", \"'there\", \"fucking\", \"'remember\", \"'if\", \"'we\", \"'my\", \"'you\", \"understand\", \"'so\", \"'to\", \"'it\", \"like\", \"people\", \"black\", \"think\", \"always\", \"love\", \"'the\", \"know\", \"'when\", \"never\", \"really\", \"make\", \"want\", \"god\", \"every\", \"one\", \"right\", \"'this\", \"would\", \"country\", \"obama\", \"need\", \"see\", \"get\", \"time\", \"life\", \"america\", \"good\", \"day\", \"trump\", \"president\", \"world\", \"hillary\", \"white\", \"stop\", \"got\", \"man\", \"new\", \"'foke\", \"workout\", \"weightloss\", \"sesh\", \"jess\", \"fitfam\", \"kaitlyn\", \"'workout\", \"cardio\", \"chlo\", \"boutta\", \"exercise\", \"assalam\", \"alaikum\", \"discerning\", \"soph\", \"abbie\", \"rach\", \"bouta\", \"leanne\", \"madi\", \"sammie\", \"suntory\", \"kenzie\", \"endorphins\", \"lina\", \"mads\", \"fitnessmotivation\", \"ashlee\", \"becca\", \"weight\", \"daniela\", \"fitness\", \"diet\", \"abs\", \"courtney\", \"emily\", \"gym\", \"hayley\", \"stocks\", \"hannah\", \"ima\", \"'diet\", \"finna\", \"lose\", \"stephanie\", \"bri\", \"needa\", \"fat\", \"chloe\", \"pre\", \"finance\", \"lauren\", \"sore\", \"motivation\", \"megan\", \"katie\", \"jessica\", \"tomorrow\", \"loss\", \"buddy\", \"good\", \"profile\", \"need\", \"eat\", \"partner\", \"today\", \"wan\", \"morning\", \"clothes\", \"lol\", \"got\", \"get\", \"lil\", \"feeling\", \"done\", \"ass\", \"sleep\", \"great\", \"time\", \"gon\", \"like\", \"day\", \"work\", \"want\", \"really\", \"rousseff\", \"'lsu\", \"'fifa\", \"'myanmar\", \"breakingviews\", \"'bangladesh\", \"pkk\", \"'tulane\", \"tammany\", \"warplanes\", \"'pizarro\", \"'congo\", \"hama\", \"fournette\", \"falluja\", \"'tunisia\", \"homs\", \"nopd\", \"idlib\", \"sirte\", \"'singapore\", \"'saints\", \"xinhua\", \"cessation\", \"nhc\", \"'peru\", \"deir\", \"'spain\", \"daraa\", \"deberry\", \"lsu\", \"'eu\", \"militants\", \"'brazil\", \"'turkish\", \"countryside\", \"'india\", \"ite\", \"reuters\", \"'yemen\", \"orleans\", \"myanmar\", \"'china\", \"aleppo\", \"kurdish\", \"'turkey\", \"baghdad\", \"saints\", \"rebels\", \"turkish\", \"yemen\", \"'islamic\", \"'syrian\", \"syria\", \"'syria\", \"militant\", \"'russia\", \"pelicans\", \"doping\", \"'louisiana\", \"'seattle\", \"afghan\", \"opposition\", \"louis\", \"jose\", \"'japan\", \"minister\", \"china\", \"louisiana\", \"says\", \"talks\", \"syrian\", \"forces\", \"turkey\", \"islamic\", \"seattle\", \"state\", \"new\", \"air\", \"kills\", \"attack\", \"deal\", \"court\", \"killed\", \"south\", \"government\", \"police\", \"california\", \"'new\", \"two\", \"san\", \"military\", \"dead\", \"near\", \"first\", \"may\", \"trump\", \"city\", \"man\", \"president\", \"clinton\", \"win\", \"barbmuenchen\", \"bfraser747\", \"teamtrumpaz\", \"terrebehlog\", \"realjameswoods\", \"usfreedomarmy\", \"kneelers\", \"thegreatfeather\", \"kwilli1046\", \"alozrast\", \"jojoh888\", \"georgiadirtroad\", \"zakzale\", \"theresamechele\", \"foxnews\", \"seanhannity\", \"voices4humanity\", \"realdonaldtrump\", \"gartrelllinda\", \"'traitor\", \"jimrobinson3rd\", \"dineshdsouza\", \"mikandynothem\", \"thomas1774paine\", \"rubysayzz\", \"steph93065\", \"charlie2749\", \"american1765\", \"614swat\", \"christiec733\", \"antifa\", \"enlist\", \"charlottesville\", \"'breaking\", \"debalwaystrump\", \"weinstein\", \"mcmaster\", \"mitchellvii\", \"awan\", \"mueller\", \"unmasking\", \"bolling\", \"backfires\", \"traitor\", \"jackposobiec\", \"irma\", \"potus\", \"daca\", \"acosta\", \"soros\", \"breaking\", \"bombshell\", \"tarmac\", \"repo\", \"dem\", \"'lol\", \"comey\", \"cnn\", \"trump\", \"mccain\", \"doj\", \"harvey\", \"retweet\", \"liberal\", \"dems\", \"liberals\", \"lynch\", \"exposes\", \"anthem\", \"patriot\", \"media\", \"hillary\", \"korea\", \"fake\", \"look\", \"video\", \"obama\", \"nfl\", \"america\", \"president\", \"white\", \"left\", \"news\", \"'video\", \"clinton\", \"gop\", \"new\", \"north\", \"one\", \"people\"], \"Total\": [38107.0, 72704.0, 12644.0, 8780.0, 8246.0, 13326.0, 12219.0, 11062.0, 16933.0, 16423.0, 8075.0, 20988.0, 22563.0, 8157.0, 10992.0, 5795.0, 7743.0, 3449.0, 13278.0, 20063.0, 12753.0, 5295.0, 8096.0, 2878.0, 4386.0, 9593.0, 10401.0, 14289.0, 5535.0, 33882.0, 1831.15380859375, 254.46495056152344, 408.1249694824219, 358.24456787109375, 306.3365478515625, 294.1123352050781, 344.9929504394531, 174.02684020996094, 222.8677215576172, 360.23419189453125, 151.6314697265625, 185.2121124267578, 149.59352111816406, 234.0510711669922, 223.87271118164062, 780.3806762695312, 180.10986328125, 336.79766845703125, 230.98245239257812, 108.8807373046875, 106.84393310546875, 589.18017578125, 255.40411376953125, 176.0430450439453, 98.70037841796875, 210.5858917236328, 492.4639892578125, 450.831298828125, 159.76219177246094, 270.6210021972656, 1759.6719970703125, 399.8939208984375, 889.5592651367188, 586.5906372070312, 294.9916687011719, 4588.13916015625, 10992.3134765625, 1518.3497314453125, 9593.521484375, 1195.2183837890625, 597.959228515625, 463.4680480957031, 787.9528198242188, 9066.1279296875, 3764.71875, 2715.02001953125, 935.7162475585938, 578.1113891601562, 2513.420166015625, 1612.8306884765625, 1361.03173828125, 1023.4006958007812, 2761.49853515625, 1231.9114990234375, 3082.037109375, 4040.09765625, 1476.8409423828125, 1153.3851318359375, 9187.703125, 1481.1763916015625, 3456.757568359375, 2277.489501953125, 7334.13232421875, 14777.9638671875, 28122.34765625, 4696.271484375, 33882.3515625, 11179.9658203125, 4348.576171875, 7268.00439453125, 6241.2763671875, 3660.82177734375, 10250.025390625, 6661.35888671875, 12375.9375, 10025.587890625, 10228.1630859375, 16459.498046875, 12102.3125, 8990.4580078125, 10659.908203125, 11040.634765625, 11277.513671875, 16242.630859375, 6301.072265625, 5669.908203125, 10639.9521484375, 11276.787109375, 30525.59765625, 12187.76171875, 72704.0625, 17450.25390625, 22563.078125, 14706.013671875, 2594.84765625, 1245.73583984375, 1467.146240234375, 548.9657592773438, 488.0318603515625, 482.9827880859375, 218.44674682617188, 70.82910919189453, 111.09310913085938, 45.245201110839844, 42.29383087158203, 50.16394805908203, 46.22935104370117, 193.6113739013672, 51.138065338134766, 39.336387634277344, 38.3557014465332, 45.24078369140625, 102.28633117675781, 36.3879508972168, 95.4051284790039, 37.37201690673828, 40.320289611816406, 69.83877563476562, 48.1719970703125, 35.40370559692383, 72.80648040771484, 35.40081787109375, 114.12860870361328, 32.45130157470703, 2441.572998046875, 449.55694580078125, 140.6175079345703, 314.8883361816406, 478.9631042480469, 132.7146453857422, 67.80626678466797, 72.78731536865234, 2107.22509765625, 606.5145874023438, 735.2791748046875, 1105.0648193359375, 353.6348571777344, 599.4498291015625, 545.9212646484375, 115.99275970458984, 787.6053466796875, 994.3452758789062, 1796.5469970703125, 1359.071044921875, 571.0965576171875, 1199.5706787109375, 3364.9912109375, 3187.21875, 1624.478515625, 3230.634033203125, 1382.6578369140625, 1218.8380126953125, 927.3486328125, 3979.13232421875, 16933.06640625, 20988.36328125, 14289.1572265625, 7578.1435546875, 3837.44970703125, 8783.9541015625, 15412.2685546875, 9770.4931640625, 2980.998046875, 7780.6728515625, 6401.3623046875, 11452.8662109375, 10401.74609375, 3891.033935546875, 4818.80224609375, 16265.091796875, 8960.005859375, 5401.2119140625, 8992.333984375, 5521.6025390625, 20063.66015625, 12219.890625, 8090.58837890625, 16423.142578125, 13278.2216796875, 8349.0361328125, 11533.384765625, 11062.5126953125, 14706.013671875, 72704.0625, 15661.7451171875, 8089.544921875, 12753.953125, 12113.81640625, 7441.4951171875, 8157.158203125, 28122.34765625, 30525.59765625, 2202.522705078125, 38107.578125, 230.35543823242188, 147.1846160888672, 206.68785095214844, 83.21939086914062, 71.33155059814453, 263.4737243652344, 272.59881591796875, 48.48469924926758, 48.4847526550293, 12644.111328125, 40.25825881958008, 40.258514404296875, 40.26002883911133, 37.51858901977539, 36.60504913330078, 35.69088363647461, 107.0875244140625, 33.86300277709961, 32.035518646240234, 31.121726989746094, 30.20757484436035, 30.207813262939453, 30.209665298461914, 27.466323852539062, 27.466350555419922, 27.466840744018555, 26.55271339416504, 60.468990325927734, 8780.1181640625, 53.152225494384766, 2878.377197265625, 2592.546630859375, 346.5420837402344, 186.41604614257812, 473.0476379394531, 2013.74755859375, 71.60211944580078, 3449.04150390625, 266.3977966308594, 169.1522674560547, 181.4661102294922, 190.39927673339844, 8246.0263671875, 243.5126495361328, 109.38256072998047, 136.98638916015625, 2657.450927734375, 157.35887145996094, 1856.210205078125, 1695.9515380859375, 376.0528869628906, 655.7560424804688, 505.78497314453125, 269.81170654296875, 372.1629638671875, 393.4422912597656, 1994.9461669921875, 4386.71630859375, 592.781494140625, 11062.5126953125, 1024.858642578125, 12219.890625, 2118.56689453125, 894.0285034179688, 8075.30517578125, 2006.959716796875, 4654.88232421875, 852.2806396484375, 4532.3447265625, 8157.158203125, 16423.142578125, 798.2409057617188, 1219.16796875, 3180.30859375, 1672.9732666015625, 1426.6180419921875, 7009.87158203125, 13278.2216796875, 2621.91943359375, 16933.06640625, 14706.013671875, 6303.13037109375, 10401.74609375, 6401.3623046875, 362.9136962890625, 1239.1177978515625, 220.18019104003906, 271.4931640625, 155.80221557617188, 180.05662536621094, 153.00718688964844, 140.88157653808594, 131.55255126953125, 242.58477783203125, 131.5591278076172, 127.82453918457031, 146.48402404785156, 141.82943725585938, 109.1649169921875, 108.23213195800781, 214.60472106933594, 287.4373474121094, 115.70014190673828, 101.70689392089844, 109.1728515625, 392.0052795410156, 147.3986053466797, 112.90697479248047, 88.64642333984375, 111.97664642333984, 223.9765625, 226.8035888671875, 101.71267700195312, 80.24943542480469, 1312.4586181640625, 907.4358520507812, 1270.1317138671875, 814.489990234375, 765.0233764648438, 283.6673889160156, 470.56683349609375, 223.94081115722656, 1598.7620849609375, 244.521728515625, 4574.8359375, 306.23931884765625, 2142.592529296875, 1190.4827880859375, 696.7550659179688, 1162.1873779296875, 399.69976806640625, 1542.443115234375, 1240.5283203125, 1182.556640625, 982.8853149414062, 814.6909790039062, 1104.700439453125, 5110.666015625, 514.2086181640625, 499.08233642578125, 1337.8428955078125, 687.3668212890625, 395.19512939453125, 946.654541015625, 830.8748168945312, 754.888427734375, 1514.8760986328125, 2634.977294921875, 2585.461669921875, 754.3812866210938, 2177.13134765625, 4541.9541015625, 1918.065673828125, 22563.078125, 3467.449462890625, 2875.816650390625, 3091.786376953125, 2131.57568359375, 4119.41455078125, 2533.52685546875, 17450.25390625, 30525.59765625, 3722.3154296875, 3761.2490234375, 8928.66796875, 6637.10205078125, 8018.201171875, 16242.630859375, 6527.56787109375, 4858.439453125, 33882.3515625, 5263.75048828125, 6691.392578125, 7766.07275390625, 7319.70947265625, 4705.31396484375, 11276.787109375, 6355.74755859375, 11827.5986328125, 8464.87109375, 72704.0625, 11277.513671875, 28122.34765625, 15661.7451171875, 12484.029296875, 6929.24951171875, 680.1259155273438, 685.0192260742188, 413.5334777832031, 383.36859130859375, 618.8495483398438, 421.3223876953125, 362.94012451171875, 363.9107666015625, 523.4970092773438, 451.48583984375, 338.61114501953125, 415.4837951660156, 293.8544921875, 257.8409423828125, 2394.63671875, 703.5140991210938, 328.8818054199219, 5295.443359375, 332.77386474609375, 313.3186340332031, 234.49758911132812, 455.38238525390625, 250.06234741210938, 337.6396789550781, 280.2276916503906, 294.8207702636719, 200.43890380859375, 320.1270751953125, 385.3209228515625, 382.4010925292969, 5795.78564453125, 4592.2060546875, 4568.66455078125, 13326.8251953125, 2284.72021484375, 2247.714111328125, 1707.8316650390625, 1003.2275390625, 833.9098510742188, 3844.831298828125, 687.9285888671875, 838.8984375, 973.190185546875, 2589.66064453125, 401.8648681640625, 942.1985473632812, 5535.5166015625, 1158.982421875, 857.601806640625, 2091.032958984375, 7743.0576171875, 1214.112548828125, 808.7232055664062, 991.5231323242188, 2921.46044921875, 2572.09033203125, 3215.472900390625, 8096.39111328125, 72704.0625, 3197.5595703125, 2053.4873046875, 2174.474609375, 2150.118896484375, 4395.58203125, 3885.35205078125, 4296.2587890625, 2579.361328125, 1844.090087890625, 2776.998046875, 2514.1982421875, 10744.4697265625, 12753.953125, 7537.0087890625, 4814.61962890625, 10405.79296875, 12835.537109375, 20063.66015625, 5902.53125, 11533.384765625, 15661.7451171875, 12113.81640625, 6441.3681640625, 10243.798828125, 6346.33984375, 12484.029296875, 7351.609375, 30525.59765625, 9016.529296875, 16265.091796875, 20988.36328125], \"loglift\": [30.0, 29.0, 28.0, 27.0, 26.0, 25.0, 24.0, 23.0, 22.0, 21.0, 20.0, 19.0, 18.0, 17.0, 16.0, 15.0, 14.0, 13.0, 12.0, 11.0, 10.0, 9.0, 8.0, 7.0, 6.0, 5.0, 4.0, 3.0, 2.0, 1.0, 1.151900053024292, 1.1512000560760498, 1.1505999565124512, 1.1502000093460083, 1.1500999927520752, 1.1496000289916992, 1.149399995803833, 1.1492999792099, 1.1490999460220337, 1.148800015449524, 1.1486999988555908, 1.1486999988555908, 1.1485999822616577, 1.1483999490737915, 1.148300051689148, 1.1478999853134155, 1.1477999687194824, 1.1476999521255493, 1.1476999521255493, 1.1473000049591064, 1.1469999551773071, 1.1469999551773071, 1.1469999551773071, 1.1469000577926636, 1.1467000246047974, 1.146299958229065, 1.146299958229065, 1.1461999416351318, 1.1460000276565552, 1.1460000276565552, 1.1374000310897827, 1.1452000141143799, 1.1353000402450562, 1.138200044631958, 1.1442999839782715, 1.1157000064849854, 1.0961999893188477, 1.1230000257492065, 1.0858999490737915, 1.1266000270843506, 1.131500005722046, 1.1358000040054321, 1.1246999502182007, 1.073799967765808, 1.0817999839782715, 1.0892000198364258, 1.1175999641418457, 1.12909996509552, 1.0819000005722046, 1.0943000316619873, 1.0990999937057495, 1.1094000339508057, 1.069200038909912, 1.0951999425888062, 1.044600009918213, 1.0169999599456787, 1.075700044631958, 1.0880999565124512, 0.9527000188827515, 1.0684000253677368, 1.0017999410629272, 1.031999945640564, 0.9344000220298767, 0.8521000146865845, 0.7822999954223633, 0.9527000188827515, 0.746999979019165, 0.849399983882904, 0.9498000144958496, 0.8733999729156494, 0.8894000053405762, 0.9563000202178955, 0.8154000043869019, 0.8752999901771545, 0.777999997138977, 0.8034999966621399, 0.8001999855041504, 0.7232999801635742, 0.7677000164985657, 0.7717000246047974, 0.7311000227928162, 0.7056000232696533, 0.6621999740600586, 0.5519999861717224, 0.8289999961853027, 0.8162000179290771, 0.557699978351593, 0.510699987411499, -0.027300000190734863, 0.37599998712539673, -0.7350000143051147, 0.13590000569820404, -0.19110000133514404, 0.14239999651908875, 1.6102999448776245, 1.6097999811172485, 1.6088000535964966, 1.6059000492095947, 1.6045000553131104, 1.6007000207901, 1.5996999740600586, 1.5981999635696411, 1.5937999486923218, 1.5936000347137451, 1.5927000045776367, 1.5925999879837036, 1.5907000303268433, 1.590499997138977, 1.590000033378601, 1.5892000198364258, 1.5888999700546265, 1.5887999534606934, 1.5886000394821167, 1.5886000394821167, 1.5881999731063843, 1.5879000425338745, 1.5877000093460083, 1.5877000093460083, 1.587499976158142, 1.5870000123977661, 1.586899995803833, 1.5867999792099, 1.586300015449524, 1.5855000019073486, 1.5794999599456787, 1.582800030708313, 1.582900047302246, 1.5719000101089478, 1.5672999620437622, 1.5793999433517456, 1.5853999853134155, 1.5841000080108643, 1.537600040435791, 1.5611000061035156, 1.5507999658584595, 1.5406999588012695, 1.563099980354309, 1.5506000518798828, 1.5511000156402588, 1.5779999494552612, 1.5322999954223633, 1.5236999988555908, 1.5015000104904175, 1.5091999769210815, 1.5332000255584717, 1.5027999877929688, 1.4464000463485718, 1.448699951171875, 1.4674999713897705, 1.4112000465393066, 1.454300045967102, 1.4601999521255493, 1.469499945640564, 1.3149000406265259, 1.1370999813079834, 1.1061999797821045, 1.1268999576568604, 1.1770999431610107, 1.2666000127792358, 1.1380000114440918, 1.051300048828125, 1.1017999649047852, 1.2908999919891357, 1.1095000505447388, 1.1019999980926514, 0.9751999974250793, 0.9797000288963318, 1.1854000091552734, 1.132699966430664, 0.7820000052452087, 0.9373000264167786, 1.066100001335144, 0.8978999853134155, 1.051300048828125, 0.5640000104904175, 0.744700014591217, 0.8970000147819519, 0.5934000015258789, 0.6604999899864197, 0.8589000105857849, 0.6710000038146973, 0.6377000212669373, 0.4059999883174896, -0.7591000199317932, 0.31119999289512634, 0.766700029373169, 0.4221999943256378, 0.4406000077724457, 0.7919999957084656, 0.7045999765396118, -0.43790000677108765, -0.5734999775886536, 2.799099922180176, 2.797600030899048, 2.7959001064300537, 2.794600009918213, 2.791300058364868, 2.789400100708008, 2.7892000675201416, 2.7878000736236572, 2.7843000888824463, 2.7839999198913574, 2.7839999198913574, 2.7822000980377197, 2.7813000679016113, 2.7811999320983887, 2.780100107192993, 2.779099941253662, 2.7785000801086426, 2.77810001373291, 2.7774999141693115, 2.776900053024292, 2.775599956512451, 2.7746999263763428, 2.7739999294281006, 2.7739999294281006, 2.773099899291992, 2.7713000774383545, 2.7713000774383545, 2.770900011062622, 2.77020001411438, 2.7701001167297363, 2.7597999572753906, 2.765500068664551, 2.7228000164031982, 2.713900089263916, 2.710099935531616, 2.7195000648498535, 2.678800106048584, 2.6126999855041504, 2.746000051498413, 2.5678000450134277, 2.691200017929077, 2.7111001014709473, 2.7074999809265137, 2.704900026321411, 2.507699966430664, 2.6840999126434326, 2.7265000343322754, 2.711400032043457, 2.5, 2.6995999813079834, 2.466099977493286, 2.4453001022338867, 2.5999999046325684, 2.5276999473571777, 2.5513999462127686, 2.63100004196167, 2.582200050354004, 2.559999942779541, 2.2434000968933105, 2.055500030517578, 2.4626998901367188, 1.7822999954223633, 2.3220999240875244, 1.6904000043869019, 2.13070011138916, 2.3480000495910645, 1.742400050163269, 2.115000009536743, 1.81659996509552, 2.3477001190185547, 1.725600004196167, 1.4615999460220337, 1.160599946975708, 2.355299949645996, 2.1673998832702637, 1.735700011253357, 2.0171000957489014, 2.093100070953369, 1.2537000179290771, 0.9099000096321106, 1.7582000494003296, 0.6481999754905701, 0.6577000021934509, 1.1098999977111816, 0.6879000067710876, 0.9937000274658203, 1.580199956893921, 1.5799000263214111, 1.5795999765396118, 1.5791000127792358, 1.5789999961853027, 1.5786000490188599, 1.5786000490188599, 1.5784000158309937, 1.5779999494552612, 1.5779999494552612, 1.5776000022888184, 1.5774999856948853, 1.5773999691009521, 1.577299952507019, 1.5769000053405762, 1.5765999555587769, 1.5765999555587769, 1.5764000415802002, 1.5759999752044678, 1.5757999420166016, 1.5757999420166016, 1.575700044631958, 1.5750999450683594, 1.5749000310897827, 1.5748000144958496, 1.5746999979019165, 1.5745999813079834, 1.5745999813079834, 1.5742000341415405, 1.5742000341415405, 1.5736000537872314, 1.5680999755859375, 1.5616999864578247, 1.5650999546051025, 1.5633000135421753, 1.5729000568389893, 1.5657999515533447, 1.5729999542236328, 1.5532000064849854, 1.5717999935150146, 1.542199969291687, 1.569200038909912, 1.5427000522613525, 1.5536999702453613, 1.5578999519348145, 1.5472999811172485, 1.5642000436782837, 1.5361000299453735, 1.5398999452590942, 1.5329999923706055, 1.5361000299453735, 1.5363999605178833, 1.5271999835968018, 1.457900047302246, 1.548699975013733, 1.5496000051498413, 1.502500057220459, 1.535099983215332, 1.557800054550171, 1.5074000358581543, 1.5120999813079834, 1.5154999494552612, 1.4580999612808228, 1.413699984550476, 1.393399953842163, 1.5055999755859375, 1.377500057220459, 1.2682000398635864, 1.382599949836731, 1.0192999839782715, 1.2828999757766724, 1.3086999654769897, 1.2854000329971313, 1.3502999544143677, 1.1862000226974487, 1.2742999792099, 0.7473999857902527, 0.5669999718666077, 1.108199954032898, 1.0824999809265137, 0.7432000041007996, 0.859000027179718, 0.7387999892234802, 0.3720000088214874, 0.7843999862670898, 0.883899986743927, -0.11020000278949738, 0.8119000196456909, 0.6800000071525574, 0.5766000151634216, 0.5990999937057495, 0.8553000092506409, 0.24330000579357147, 0.6252999901771545, 0.17159999907016754, 0.39980000257492065, -1.323799967765808, 0.15189999341964722, -0.638700008392334, -0.20640000700950623, -0.05649999901652336, 0.49970000982284546, 1.5110000371932983, 1.5108000040054321, 1.51010000705719, 1.5098999738693237, 1.5096999406814575, 1.509600043296814, 1.5095000267028809, 1.5091999769210815, 1.5090999603271484, 1.5090999603271484, 1.5089999437332153, 1.5089999437332153, 1.5089000463485718, 1.5089000463485718, 1.5088000297546387, 1.5088000297546387, 1.5088000297546387, 1.5087000131607056, 1.5087000131607056, 1.5085999965667725, 1.5085999965667725, 1.5085999965667725, 1.5084999799728394, 1.5084999799728394, 1.5083999633789062, 1.5083999633789062, 1.5083999633789062, 1.5083999633789062, 1.5083999633789062, 1.5082999467849731, 1.5069999694824219, 1.5068000555038452, 1.502500057220459, 1.4908000230789185, 1.507699966430664, 1.5068000555038452, 1.506700038909912, 1.5080000162124634, 1.5080000162124634, 1.4907000064849854, 1.5077999830245972, 1.5055999755859375, 1.5010000467300415, 1.4901000261306763, 1.5081000328063965, 1.4982999563217163, 1.4627000093460083, 1.4895000457763672, 1.493899941444397, 1.4667999744415283, 1.4119999408721924, 1.4773000478744507, 1.4876999855041504, 1.4747999906539917, 1.416700005531311, 1.4230999946594238, 1.4055999517440796, 1.3421000242233276, 1.1576000452041626, 1.3960000276565552, 1.430299997329712, 1.424299955368042, 1.420799970626831, 1.358299970626831, 1.3549000024795532, 1.337399959564209, 1.3899999856948853, 1.4235999584197998, 1.3568999767303467, 1.3596999645233154, 1.0729000568389893, 1.0306999683380127, 1.1229000091552734, 1.2233999967575073, 1.0164999961853027, 0.9395999908447266, 0.7408999800682068, 1.0878000259399414, 0.8240000009536743, 0.6963000297546387, 0.7717999815940857, 1.0414999723434448, 0.7675999999046326, 0.9901000261306763, 0.5159000158309937, 0.8445000052452087, -0.148499995470047, 0.6815000176429749, 0.11819999665021896, -0.16329999268054962], \"logprob\": [30.0, 29.0, 28.0, 27.0, 26.0, 25.0, 24.0, 23.0, 22.0, 21.0, 20.0, 19.0, 18.0, 17.0, 16.0, 15.0, 14.0, 13.0, 12.0, 11.0, 10.0, 9.0, 8.0, 7.0, 6.0, 5.0, 4.0, 3.0, 2.0, 1.0, -7.232600212097168, -9.206899642944336, -8.735099792480469, -8.865900039672852, -9.022500038146973, -9.063699722290039, -8.90429973602295, -9.588800430297852, -9.34160041809082, -8.861700057983398, -9.727100372314453, -9.527000427246094, -9.740799903869629, -9.293299674987793, -9.337900161743164, -8.089599609375, -9.555899620056152, -8.930100440979004, -9.30720043182373, -10.059700012207031, -10.078900337219238, -8.371500015258789, -9.20740032196045, -9.57960033416748, -10.158499717712402, -9.401100158691406, -8.551600456237793, -8.640000343322754, -9.677599906921387, -9.150500297546387, -7.2870001792907715, -8.760899543762207, -7.971199989318848, -8.38479995727539, -9.065999984741211, -6.350299835205078, -5.496099948883057, -7.44890022277832, -5.642600059509277, -7.684599876403809, -8.372200012207031, -8.622699737548828, -8.103099822998047, -5.711100101470947, -6.581999778747559, -6.901500225067139, -7.938399791717529, -8.408300399780273, -6.985899925231934, -7.417200088500977, -7.582200050354004, -7.85699987411499, -6.904600143432617, -7.685699939727783, -6.819300174713135, -6.576200008392334, -7.52400016784668, -7.758699893951416, -5.818999767303467, -7.528200149536133, -6.747399806976318, -7.134399890899658, -6.062600135803223, -5.444300174713135, -4.87060022354126, -6.489999771118164, -4.719600200653076, -5.72599983215332, -6.569900035858154, -6.132599830627441, -6.268899917602539, -6.735499858856201, -5.846799850463867, -6.217800140380859, -5.695799827575684, -5.880899906158447, -5.864099979400635, -5.4653000831604, -5.728400230407715, -6.021599769592285, -5.891900062561035, -5.882400035858154, -5.9045000076293945, -5.649899959564209, -6.319799900054932, -6.4380998611450195, -6.067200183868408, -6.056099891662598, -5.598199844360352, -6.113100051879883, -5.4380998611450195, -5.99429988861084, -6.064300060272217, -6.15880012512207, -6.4257001876831055, -7.159999847412109, -6.997399806976318, -7.98330020904541, -8.102399826049805, -8.116600036621094, -8.911100387573242, -10.038800239562988, -9.593099594116211, -10.491600036621094, -10.559900283813477, -10.389399528503418, -10.472999572753906, -9.040900230407715, -10.372699737548828, -10.635899543762207, -10.661499977111816, -10.496500015258789, -9.680899620056152, -10.714400291442871, -9.75100040435791, -10.688400268554688, -10.612700462341309, -10.063400268554688, -10.4350004196167, -10.743399620056152, -10.022500038146973, -10.74370002746582, -9.573599815368652, -10.831999778747559, -6.517399787902832, -8.206199645996094, -9.368300437927246, -8.573100090026855, -8.15839958190918, -9.42959976196289, -10.09529972076416, -10.025699615478516, -6.706600189208984, -7.928400039672852, -7.746200084686279, -7.348899841308594, -8.465900421142578, -7.9506001472473145, -8.043700218200684, -9.565699577331543, -7.695899963378906, -7.471499919891357, -6.902100086212158, -7.173600196838379, -8.016500473022461, -7.304699897766113, -6.329699993133545, -6.381700038909912, -7.036799907684326, -6.405600070953369, -7.21120023727417, -7.331399917602539, -7.5954999923706055, -6.293499946594238, -5.023099899291992, -4.839300155639648, -5.203100204467773, -5.787199974060059, -6.3780999183654785, -5.678599834442139, -5.203000068664551, -5.608399868011475, -6.606299877166748, -5.828400135040283, -6.031000137329102, -5.576099872589111, -5.667799949645996, -6.445400238037109, -6.284200191497803, -5.418499946594238, -5.859399795532227, -6.236700057983398, -5.895199775695801, -6.229499816894531, -5.426599979400635, -5.741700172424316, -6.001800060272217, -5.597400188446045, -5.7428998947143555, -6.008500099182129, -5.873300075531006, -5.948299884796143, -5.895199775695801, -5.462200164794922, -5.92710018157959, -6.132299900054932, -6.021399974822998, -6.054500102996826, -6.190400123596191, -6.185999870300293, -6.09089994430542, -6.144499778747559, -5.4008002281188965, -2.551500082015991, -7.6616997718811035, -8.111000061035156, -7.774700164794922, -8.686400413513184, -8.840700149536133, -7.5355000495910645, -7.505000114440918, -9.232000350952148, -9.232000350952148, -3.670099973678589, -9.420599937438965, -9.420700073242188, -9.421799659729004, -9.493300437927246, -9.518600463867188, -9.544300079345703, -8.446100234985352, -9.597999572753906, -9.654800415039062, -9.684599876403809, -9.715100288391113, -9.715200424194336, -9.715999603271484, -9.812999725341797, -9.812999725341797, -9.813400268554688, -9.847999572753906, -9.025099754333496, -4.057199954986572, -9.158599853515625, -5.209400177001953, -5.322999954223633, -7.339200019836426, -7.94980001449585, -7.059299945831299, -5.676799774169922, -8.880200386047363, -5.183599948883057, -7.620999813079834, -8.055299758911133, -7.988699913024902, -7.943299770355225, -4.372099876403809, -7.7179999351501465, -8.475899696350098, -8.265999794006348, -5.512199878692627, -8.139100074768066, -5.904900074005127, -6.015900135040283, -7.367599964141846, -6.883800029754639, -7.119800090789795, -7.668499946594238, -7.3958001136779785, -7.362299919128418, -6.055500030517578, -5.455399990081787, -7.049799919128418, -4.803699970245361, -6.642899990081787, -4.796000003814697, -6.107999801635742, -6.753499984741211, -5.158299922943115, -6.1778998374938965, -5.635000228881836, -6.801599979400635, -5.752600193023682, -5.428999900817871, -5.030200004577637, -6.859499931335449, -6.624000072479248, -6.096799850463867, -6.457799911499023, -6.541100025177002, -5.78849983215332, -5.493500232696533, -6.267399787902832, -5.5121002197265625, -5.643599987030029, -6.03849983215332, -5.95959997177124, -6.1392998695373535, -8.422900199890137, -7.195199966430664, -8.923199653625488, -8.714200019836426, -9.269599914550781, -9.125399589538574, -9.288200378417969, -9.371000289916992, -9.439900398254395, -8.827899932861328, -9.440199851989746, -9.469099998474121, -9.333000183105469, -9.365400314331055, -9.6274995803833, -9.63640022277832, -8.951899528503418, -8.659899711608887, -9.570300102233887, -9.699399948120117, -9.628600120544434, -8.350299835205078, -9.329099655151367, -9.595800399780273, -9.837800025939941, -9.604299545288086, -8.911100387573242, -8.898599624633789, -9.700900077819824, -9.937899589538574, -7.144000053405762, -7.518599987030029, -7.188700199127197, -7.6296000480651855, -7.693999767303467, -8.676600456237793, -8.177499771118164, -8.9128999710083, -6.967100143432617, -8.826199531555176, -5.926700115203857, -8.603699684143066, -6.684800148010254, -7.26140022277832, -7.792900085449219, -7.291900157928467, -8.342300415039062, -7.019999980926514, -7.234099864959717, -7.28879976272583, -7.470699787139893, -7.6579999923706055, -7.36269998550415, -5.900300025939941, -8.105899810791016, -8.134900093078613, -7.196000099182129, -7.8292999267578125, -8.360099792480469, -7.536900043487549, -7.662700176239014, -7.755199909210205, -7.116000175476074, -6.606900215148926, -6.646200180053711, -7.765699863433838, -6.834000110626221, -6.208000183105469, -6.955599784851074, -4.853899955749512, -6.463200092315674, -6.624499797821045, -6.575399875640869, -6.882400035858154, -6.387599945068359, -6.785600185394287, -5.382800102233887, -5.003900051116943, -6.566999912261963, -6.582200050354004, -6.05709981918335, -6.237800121307373, -6.169000148773193, -5.829800128936768, -6.329100131988525, -6.524899959564209, -5.5767998695373535, -6.5167999267578125, -6.408699989318848, -6.363100051879883, -6.399899959564209, -6.5854997634887695, -6.323400020599365, -6.514900207519531, -6.347499847412109, -6.453800201416016, -6.026899814605713, -6.41480016708374, -6.291600227355957, -6.444699764251709, -6.521599769592285, -6.553999900817871, -7.863999843597412, -7.85699987411499, -8.36240005493164, -8.438400268554688, -7.959700107574463, -8.344300270080566, -8.493499755859375, -8.491100311279297, -8.127699851989746, -8.275699615478516, -8.563400268554688, -8.358799934387207, -8.7052001953125, -8.836000442504883, -6.607500076293945, -7.832399845123291, -8.59280014038086, -5.813899993896484, -8.581100463867188, -8.641400337219238, -8.93120002746582, -8.267499923706055, -8.86709976196289, -8.566800117492676, -8.753199577331543, -8.702500343322754, -9.088399887084961, -8.620200157165527, -8.434800148010254, -8.442500114440918, -5.725299835205078, -5.9583001136779785, -5.967800140380859, -4.908899784088135, -6.655600070953369, -6.672800064086914, -6.9475998878479, -7.478300094604492, -7.663099765777588, -6.152100086212158, -7.855800151824951, -7.659599781036377, -7.515600204467773, -6.547900199890137, -8.392999649047852, -7.5507001876831055, -5.8155999183654785, -7.352499961853027, -7.649199962615967, -6.784999847412109, -5.530700206756592, -7.31820011138916, -7.714099884033203, -7.523200035095215, -6.500699996948242, -6.621699810028076, -6.415999889373779, -5.556000232696533, -3.5455000400543213, -6.431099891662598, -6.839600086212158, -6.788400173187256, -6.803199768066406, -6.150599956512451, -6.277400016784668, -6.194399833679199, -6.651899814605713, -6.95389986038208, -6.611199855804443, -6.707900047302246, -5.542200088500977, -5.413000106811523, -5.846799850463867, -6.194399833679199, -5.6305999755859375, -5.497600078582764, -5.24970006942749, -6.126299858093262, -5.720200061798096, -5.541999816894531, -5.723299980163574, -6.085299968719482, -5.895299911499023, -6.151500225067139, -5.94920015335083, -6.150100231170654, -5.7195000648498535, -6.10890007019043, -6.082300186157227, -6.108799934387207]}, \"token.table\": {\"Topic\": [2, 1, 4, 1, 4, 2, 1, 2, 3, 4, 5, 1, 2, 4, 5, 1, 4, 1, 2, 3, 4, 5, 4, 1, 2, 3, 4, 5, 1, 2, 3, 4, 5, 1, 2, 3, 4, 5, 1, 2, 3, 4, 5, 1, 2, 4, 4, 2, 4, 5, 1, 1, 2, 3, 4, 5, 1, 2, 3, 4, 5, 1, 2, 3, 4, 5, 1, 2, 3, 4, 5, 2, 5, 4, 1, 3, 4, 5, 1, 4, 1, 2, 4, 5, 2, 3, 5, 1, 2, 3, 4, 5, 1, 2, 3, 1, 2, 3, 4, 5, 1, 2, 1, 2, 3, 4, 5, 1, 2, 3, 4, 5, 1, 2, 3, 4, 5, 1, 2, 3, 4, 5, 1, 2, 3, 4, 5, 1, 2, 3, 4, 5, 1, 4, 1, 2, 3, 4, 5, 1, 2, 3, 4, 5, 1, 2, 3, 4, 5, 1, 2, 3, 4, 5, 1, 2, 4, 1, 4, 1, 2, 3, 4, 5, 1, 2, 3, 4, 5, 2, 4, 1, 1, 2, 3, 4, 5, 1, 2, 3, 4, 5, 1, 2, 3, 1, 2, 3, 4, 5, 1, 2, 3, 4, 5, 1, 4, 5, 4, 1, 2, 5, 1, 2, 3, 4, 5, 1, 4, 4, 1, 2, 3, 4, 5, 1, 2, 3, 4, 5, 1, 2, 1, 2, 3, 4, 5, 1, 2, 4, 5, 1, 2, 3, 4, 5, 1, 4, 1, 1, 2, 3, 4, 5, 4, 1, 2, 3, 4, 5, 1, 2, 3, 5, 1, 4, 1, 2, 3, 4, 5, 1, 2, 4, 5, 1, 2, 3, 4, 5, 1, 2, 3, 4, 5, 1, 2, 3, 4, 5, 1, 2, 3, 4, 5, 1, 2, 3, 4, 5, 1, 2, 3, 4, 5, 1, 2, 3, 4, 5, 1, 4, 5, 4, 4, 1, 2, 3, 4, 5, 1, 2, 4, 5, 1, 2, 3, 4, 5, 1, 2, 3, 4, 5, 1, 2, 3, 4, 5, 1, 4, 1, 2, 3, 4, 5, 2, 3, 4, 5, 1, 2, 3, 5, 2, 4, 5, 2, 5, 1, 2, 3, 4, 5, 2, 5, 3, 1, 2, 3, 4, 5, 1, 2, 3, 4, 5, 1, 2, 3, 4, 5, 1, 2, 3, 4, 5, 1, 2, 3, 4, 5, 1, 3, 4, 3, 1, 2, 3, 4, 5, 2, 5, 1, 2, 3, 4, 5, 1, 2, 3, 4, 5, 2, 5, 2, 1, 2, 3, 4, 5, 1, 2, 3, 4, 5, 1, 2, 3, 4, 5, 3, 1, 2, 3, 4, 5, 3, 1, 2, 3, 4, 5, 1, 2, 4, 5, 1, 2, 3, 4, 5, 1, 2, 4, 5, 3, 5, 1, 3, 1, 2, 3, 5, 2, 2, 5, 1, 2, 3, 4, 5, 1, 2, 3, 4, 5, 1, 2, 4, 5, 1, 2, 3, 4, 5, 2, 5, 2, 3, 3, 1, 2, 3, 4, 5, 4, 1, 3, 5, 1, 2, 3, 4, 5, 1, 2, 3, 4, 5, 1, 2, 3, 4, 5, 1, 2, 3, 4, 5, 1, 2, 3, 4, 4, 1, 2, 3, 4, 5, 5, 1, 2, 3, 4, 5, 1, 2, 3, 4, 5, 3, 1, 2, 3, 5, 2, 5, 1, 2, 3, 4, 5, 1, 2, 3, 4, 5, 1, 2, 3, 4, 5, 1, 2, 3, 4, 5, 1, 2, 3, 4, 5, 1, 2, 3, 4, 5, 1, 2, 3, 4, 5, 1, 3, 4, 5, 1, 2, 3, 4, 5, 1, 2, 3, 4, 5, 1, 2, 3, 4, 5, 1, 2, 3, 4, 5, 1, 4, 1, 2, 3, 4, 5, 1, 2, 3, 4, 5, 1, 3, 4, 1, 2, 3, 4, 5, 1, 2, 3, 4, 5, 1, 2, 3, 4, 5, 1, 2, 3, 4, 5, 2, 3, 4, 5, 4, 1, 4, 5, 1, 3, 1, 2, 3, 4, 5, 1, 2, 3, 4, 5, 1, 2, 3, 4, 5, 1, 2, 3, 4, 5, 2, 5, 3, 1, 2, 3, 4, 5, 1, 2, 3, 4, 5, 1, 2, 4, 1, 2, 1, 2, 3, 4, 5, 1, 2, 3, 4, 5, 1, 2, 3, 4, 5, 3, 1, 2, 3, 4, 5, 1, 2, 3, 4, 5, 1, 2, 3, 4, 5, 1, 2, 3, 4, 5, 1, 2, 3, 4, 5, 4, 1, 2, 3, 4, 5, 1, 2, 3, 4, 5, 1, 2, 3, 4, 5, 1, 2, 3, 4, 5, 1, 2, 3, 4, 5, 2, 3, 1, 2, 3, 4, 5, 1, 2, 3, 4, 5, 3, 1, 2, 3, 4, 5, 3, 1, 2, 3, 4, 5, 1, 2, 3, 4, 5, 4, 1, 2, 3, 4, 5, 1, 2, 3, 4, 5, 2, 3, 5, 1, 2, 3, 5, 2, 5, 2, 5, 1, 2, 3, 4, 5, 1, 2, 3, 4, 5, 1, 2, 3, 4, 5, 1, 2, 3, 4, 5, 1, 2, 3, 4, 5, 2, 1, 2, 3, 4, 5, 1, 2, 3, 4, 5, 1, 2, 3, 4, 5, 2, 1, 2, 1, 2, 3, 4, 5, 4, 1, 2, 3, 4, 1, 2, 3, 4, 5, 1, 3, 5, 1, 2, 3, 4, 5, 1, 2, 3, 4, 5, 1, 1, 2, 3, 4, 5, 1, 2, 3, 4, 5, 1, 2, 3, 4, 5, 2, 4, 5, 2, 3, 5, 4, 2, 3, 5, 1, 2, 3, 4, 5, 1, 2, 3, 5, 1, 2, 3, 4, 5, 1, 3, 4, 2, 5, 2, 1, 3, 1, 2, 3, 4, 5, 5, 2, 5, 1, 2, 3, 4, 5, 3, 1, 2, 3, 4, 5, 1, 2, 3, 4, 5, 3, 1, 2, 3, 4, 5, 1, 2, 3, 4, 5, 5, 1, 2, 3, 4, 5, 1, 2, 3, 4, 5, 1, 2, 3, 4, 5, 2, 5, 1, 4, 2, 3, 1, 2, 3, 4, 5, 3, 1, 2, 3, 4, 5, 1, 2, 3, 4, 5, 1, 2, 3, 4, 5, 1, 2, 3, 4, 5, 1, 2, 3, 4, 5, 1, 2, 3, 4, 5, 3, 1, 2, 3, 4, 5, 1, 2, 3, 4, 5, 1, 4, 1, 2, 3, 4, 5, 1, 2, 3, 4, 5, 1, 2, 3, 4, 5, 1, 2, 3, 4, 5, 1, 2, 3, 4, 5, 1, 2, 3, 4, 5, 1, 2, 3, 4, 5, 3, 3, 1, 2, 3, 4, 5, 1, 2, 3, 4, 5, 1, 2, 3, 4, 5, 1, 2, 3, 4, 5, 1, 2, 3, 4, 5, 1, 2, 3, 4, 5, 1, 2, 3, 4, 5, 1, 2, 3, 4, 5, 5, 1, 2, 3, 4, 5, 1, 2, 3, 4, 5, 1, 2, 3, 4, 5, 1, 2, 3, 4, 5, 1, 2, 3, 4, 5, 1, 1, 2, 3, 4, 5, 1, 2, 3, 4, 5, 1, 3, 4, 1, 2, 3, 4, 5, 1, 2, 4, 5, 1, 2, 3, 4, 5, 1, 2, 3, 4, 5, 2, 3, 5, 1, 2, 3, 4, 5, 1, 2, 3, 4, 5, 1, 2, 3, 4, 5, 1, 2, 3, 4, 5, 2, 1, 2, 3, 4, 5, 4, 1, 4, 1, 2, 3, 4, 5, 1, 2, 3, 4, 5, 1, 2, 3, 4, 5, 1, 2, 3, 4, 5, 1, 2, 3, 4, 5, 1, 4, 1, 2, 3, 4, 5, 1, 2, 3, 4, 5, 1, 2, 3, 4, 5, 1, 2, 3, 4, 5, 1, 4, 1, 2, 3, 4, 5, 1, 2, 3, 4, 5, 1, 3, 4, 1, 2, 3, 4, 5, 1, 2, 3, 4, 5, 1, 2, 3, 4, 5, 1, 2, 4, 1, 4, 4, 2, 1, 2, 3, 4, 5, 2, 4, 5, 1, 2, 3, 4, 5, 1, 2, 3, 4, 5, 1, 2, 3, 4, 5, 1, 2, 3, 4, 5, 2, 3, 3, 1, 2, 3, 4, 5, 2, 5, 1, 2, 3, 4, 5, 1, 2, 3, 4, 5, 1, 2, 3, 4, 5, 1, 2, 3, 4, 5, 1, 2, 3, 4, 5, 1, 2, 3, 4, 5, 1, 2, 3, 4, 5, 1, 2, 3, 4, 5, 2, 5, 1, 3, 4, 2, 5, 1, 2, 3, 4, 5, 3, 1, 2, 3, 4, 5, 1, 2, 3, 4, 5, 1, 2, 3, 4, 5, 1, 2, 3, 4, 5, 2, 2, 5, 1, 2, 3, 4, 5, 1, 2, 3, 4, 5, 3, 1, 2, 3, 4, 5, 1, 2, 3, 4, 5, 4, 1, 2, 3, 4, 5, 2, 3, 3, 1, 2, 3, 4, 5, 1, 2, 3, 4, 5, 1, 2, 3, 4, 5, 1, 2, 3, 4, 5, 2, 5, 1, 2, 3, 4, 5, 1, 2, 3, 4, 5, 1, 2, 3, 4, 5, 3, 1, 2, 3, 4, 5, 1, 2, 3, 4, 5, 1, 2, 3, 4, 5, 1, 2, 3, 4, 5, 4, 1, 2, 4, 5, 5, 1, 2, 3, 4, 5, 5, 2, 5, 5, 5, 1, 2, 3, 4, 5, 2, 5, 1, 2, 3, 4, 5, 1, 2, 3, 4, 5, 1, 2, 3, 4, 5, 1, 2, 4, 1, 2, 3, 4, 5, 1, 2, 3, 4, 5, 1, 2, 3, 4, 5, 1, 2, 3, 4, 5, 1, 2, 3, 4, 5, 1, 2, 3, 4, 5, 1, 2, 3, 4, 5, 2, 2, 5, 2, 1, 2, 3, 4, 5, 2, 5, 2, 1, 2, 3, 4, 5, 1, 2, 3, 4, 5, 4, 5, 1, 2, 3, 4, 5, 3, 1, 2, 3, 4, 5, 1, 2, 3, 4, 5, 1, 3, 4, 5, 1, 2, 3, 4, 5, 1, 2, 3, 4, 5, 1, 2, 3, 4, 5, 1, 2, 3, 4, 5, 1, 2, 3, 4, 5, 1, 2, 3, 4, 5, 3, 4, 2, 1, 2, 3, 4, 5, 1, 2, 3, 4, 5, 5], \"Freq\": [0.9725737571716309, 0.9947933554649353, 0.0024502298329025507, 0.9898584485054016, 0.01016977895051241, 0.9767971038818359, 0.0072393943555653095, 0.9311671257019043, 0.02352803200483322, 0.015383712947368622, 0.022623106837272644, 0.0006815952947363257, 0.996492326259613, 0.0013631905894726515, 0.0006815952947363257, 0.9934555292129517, 0.005399215035140514, 0.9713705778121948, 0.009203338995575905, 0.001673334394581616, 0.01004000660032034, 0.007530004717409611, 0.9941316843032837, 0.01473314594477415, 0.0036832864861935377, 0.0012277622008696198, 0.9797542095184326, 0.0012277622008696198, 0.008404102176427841, 0.011030384339392185, 0.0007503662491217256, 0.0021760622039437294, 0.9777272343635559, 0.0070008644834160805, 0.009334485977888107, 0.019602419808506966, 0.9581850171089172, 0.005600691772997379, 0.9681563973426819, 0.005927488207817078, 0.0006586097879335284, 0.008561926893889904, 0.017123853787779808, 0.9905869960784912, 0.003915363922715187, 0.003915363922715187, 0.9935494661331177, 0.997803807258606, 0.0008027384174056351, 0.0008027384174056351, 0.991910994052887, 0.06061737984418869, 0.016532013192772865, 0.9092606902122498, 0.0055106705985963345, 0.0055106705985963345, 0.9628987312316895, 0.003206100082024932, 0.0010687001049518585, 0.033129703253507614, 0.0010687001049518585, 0.0033060188870877028, 0.011020062491297722, 0.001102006295695901, 0.9829896092414856, 0.002204012591391802, 0.03670031949877739, 0.9408627152442932, 0.0033363925758749247, 0.011677374131977558, 0.008340981788933277, 0.9776477217674255, 0.009776477701961994, 0.9946398735046387, 0.00045402481919154525, 0.9974925518035889, 0.0009080496383830905, 0.0009080496383830905, 0.9942232370376587, 0.0028986099641770124, 0.9902626276016235, 0.005001326557248831, 0.0025006632786244154, 0.0025006632786244154, 0.9655774831771851, 0.00862122792750597, 0.01724245585501194, 0.008483326993882656, 0.9529603719711304, 0.016966653987765312, 0.011311101727187634, 0.011311101727187634, 0.992904007434845, 0.981158971786499, 0.009001458063721657, 0.05631846562027931, 0.9151750802993774, 0.006034121382981539, 0.01709667779505253, 0.0050284345634281635, 0.9958354830741882, 0.9694085121154785, 0.028529049828648567, 0.8469561338424683, 0.006240729708224535, 0.010698393918573856, 0.10698393732309341, 0.006375289987772703, 0.010625483468174934, 0.0021250967402011156, 0.9796695709228516, 0.0021250967402011156, 0.012274593114852905, 0.031913939863443375, 0.0012274592882022262, 0.9525083899497986, 0.0036823777481913567, 0.0693618580698967, 0.7426242232322693, 0.017591774463653564, 0.0203561969101429, 0.14978139102458954, 0.005302358418703079, 0.018558254465460777, 0.0026511792093515396, 0.9226104021072388, 0.0503724068403244, 0.9820011854171753, 0.0005682877381332219, 0.0005682877381332219, 0.0164803434163332, 0.0005682877381332219, 0.9914172887802124, 0.004329333081841469, 0.0007775776903145015, 0.06881562620401382, 0.01632913015782833, 0.00038878884515725076, 0.9136537313461304, 0.040141358971595764, 0.007394460961222649, 0.00105635158251971, 0.9243075847625732, 0.026408789679408073, 0.0040351287461817265, 0.0008070257608778775, 0.0008070257608778775, 0.994255781173706, 0.0008070257608778775, 0.9422948360443115, 0.010279910638928413, 0.0011826446279883385, 0.04202936962246895, 0.004184742458164692, 0.9909353852272034, 0.0020306052174419165, 0.006091815885156393, 0.9916349053382874, 0.004466824233531952, 0.053121212869882584, 0.9396959543228149, 0.003663531970232725, 0.0018317659851163626, 0.0018317659851163626, 0.04924657195806503, 0.8648929595947266, 0.07386986166238785, 0.004309074953198433, 0.007386986166238785, 0.003683333983644843, 0.9945001602172852, 0.9942430257797241, 0.021433943882584572, 0.9496886134147644, 0.01978517882525921, 0.006595059763640165, 0.0032975298818200827, 0.43369150161743164, 0.052903786301612854, 0.002988914493471384, 0.4042506814002991, 0.1062559112906456, 0.004577774554491043, 0.9887993335723877, 0.004577774554491043, 0.9416260719299316, 0.01867017149925232, 0.0008117466350086033, 0.03571685031056404, 0.0032469865400344133, 0.0013600275851786137, 0.9397791028022766, 0.005440110340714455, 0.0027200551703572273, 0.04896099492907524, 0.9696012139320374, 0.029189564287662506, 0.0012691115261986852, 0.9912781119346619, 0.9915016889572144, 0.004436249379068613, 0.0022181246895343065, 0.9738607406616211, 0.003459540894255042, 0.003459540894255042, 0.015567934140563011, 0.003459540894255042, 0.993837833404541, 0.005552166607230902, 0.9957500100135803, 0.9326085448265076, 0.01803300343453884, 0.0006254220497794449, 0.039714302867650986, 0.00896438304334879, 0.015838999301195145, 0.8961539268493652, 0.0008336315513588488, 0.0066690524108707905, 0.08086226135492325, 0.01373504102230072, 0.9751878976821899, 0.022230101749300957, 0.9590701460838318, 0.00635145790874958, 0.00317572895437479, 0.00635145790874958, 0.0004095720360055566, 0.9678186774253845, 0.0004095720360055566, 0.031537044793367386, 0.0216766856610775, 0.0216766856610775, 0.0007474719313904643, 0.9201379418373108, 0.03513117879629135, 0.007652957923710346, 0.9897825717926025, 0.9960324168205261, 0.05777043476700783, 0.0072213043458759785, 0.001203550724312663, 0.9291411638259888, 0.004814202897250652, 0.9892569184303284, 0.025434060022234917, 0.8590148687362671, 0.0549703910946846, 0.007384082302451134, 0.05250902846455574, 0.002070467220619321, 0.9876128435134888, 0.006211401429027319, 0.004140934441238642, 0.008818202652037144, 0.9876387119293213, 0.9448714256286621, 0.0058778938837349415, 0.0007347367354668677, 0.04775788635015488, 0.0007347367354668677, 0.017502624541521072, 0.015557887963950634, 0.9645890593528748, 0.0019447359954938293, 0.02625146135687828, 0.027156682685017586, 0.000905222783330828, 0.9432421326637268, 0.0027156684082001448, 0.934640109539032, 0.006069091614335775, 0.0008670130628161132, 0.03554753586649895, 0.02340935356914997, 0.018368570134043694, 0.8950503468513489, 0.07013454288244247, 0.0038963633123785257, 0.012802337296307087, 0.2581060528755188, 0.5705844163894653, 0.007007404696196318, 0.09226416051387787, 0.07202054560184479, 0.04709098860621452, 0.9020867347717285, 0.010301154106855392, 0.006622170563787222, 0.0338466502726078, 0.08349978178739548, 0.5791292786598206, 0.01110861822962761, 0.007220601662993431, 0.3190024793148041, 0.050682127475738525, 0.8669878244400024, 0.010783431120216846, 0.06470058858394623, 0.007548401597887278, 0.9916933178901672, 0.005938283167779446, 0.9957913756370544, 0.9937424063682556, 0.9886158108711243, 0.01634848304092884, 0.019790267571806908, 0.0008604464237578213, 0.9628396034240723, 0.0008604464237578213, 0.0117643466219306, 0.007842897437512875, 0.977747917175293, 0.001307149650529027, 0.362413614988327, 0.003151422832161188, 0.0006302845431491733, 0.041283637285232544, 0.592625081539154, 0.03137531876564026, 0.8490160703659058, 0.007530075963586569, 0.011295114643871784, 0.10071476548910141, 0.05736333876848221, 0.7252604365348816, 0.019456570968031883, 0.017108364030718803, 0.18114738166332245, 0.9937979578971863, 0.005551944021135569, 0.9288874268531799, 0.01593744568526745, 0.0005312481662258506, 0.046749841421842575, 0.007703098468482494, 0.9927759170532227, 0.0018216072348877788, 0.0036432144697755575, 0.0018216072348877788, 0.007590889930725098, 0.003795444965362549, 0.9868156909942627, 0.003795444965362549, 0.004089616239070892, 0.9855974912643433, 0.004089616239070892, 0.9747903943061829, 0.010481616482138634, 0.03373950719833374, 0.8177961111068726, 0.024143867194652557, 0.007738418877124786, 0.1166953593492508, 0.002595239318907261, 0.9939766526222229, 0.9834708571434021, 0.0028856524731963873, 0.05482739582657814, 0.9118661880493164, 0.0028856524731963873, 0.02597087249159813, 0.7663496732711792, 0.01586214080452919, 0.0008011182071641088, 0.1102338656783104, 0.1068691685795784, 0.011660423129796982, 0.0034981269855052233, 0.0011660422896966338, 0.0023320845793932676, 0.9806416034698486, 0.02649398148059845, 0.0211951844394207, 0.0013246990274637938, 0.9325881600379944, 0.018545787781476974, 0.20497994124889374, 0.08946044743061066, 0.0142384497448802, 0.6203128099441528, 0.07092359662055969, 0.9918236136436462, 0.0025628518778830767, 0.003844277700409293, 0.9687391519546509, 0.010079944506287575, 0.01679990626871586, 0.0008399953367188573, 0.968514621257782, 0.003359981346875429, 0.0022149088326841593, 0.9967089891433716, 0.022410716861486435, 0.7077617049217224, 0.1407184600830078, 0.008860050700604916, 0.12039245665073395, 0.06728293746709824, 0.3900849521160126, 0.0020809154957532883, 0.03867034614086151, 0.5019341707229614, 0.003123759524896741, 0.9964792728424072, 0.9632875919342041, 0.07130001485347748, 0.03276919946074486, 0.002520707668736577, 0.03853081539273262, 0.8552400469779968, 0.0005176175036467612, 0.00534871406853199, 0.00034507832606323063, 0.00034507832606323063, 0.9936530590057373, 0.7116079926490784, 0.030341388657689095, 0.0005853644106537104, 0.12858504056930542, 0.12887772917747498, 0.9791842699050903, 0.005977381952106953, 0.3694021999835968, 0.45667198300361633, 0.005379643756896257, 0.16258478164672852, 0.9687453508377075, 0.20663776993751526, 0.09385498613119125, 0.0014559843111783266, 0.4307473301887512, 0.26734110713005066, 0.001199170364998281, 0.003597511211410165, 0.001199170364998281, 0.9941122531890869, 0.006165290251374245, 0.0030826451256871223, 0.0010275483364239335, 0.0030826451256871223, 0.9874740242958069, 0.007505633402615786, 0.005003755912184715, 0.9782342314720154, 0.007505633402615786, 0.001470315968617797, 0.9983445405960083, 0.01653740182518959, 0.9757066965103149, 0.008762044832110405, 0.972586989402771, 0.008762044832110405, 0.008762044832110405, 0.9672549366950989, 0.0014598130946978927, 0.9970523118972778, 0.1753077507019043, 0.6154316663742065, 0.008467959240078926, 0.051157671958208084, 0.14962394535541534, 0.9960932731628418, 0.000546103750821203, 0.000546103750821203, 0.002184415003284812, 0.000546103750821203, 0.004768157843500376, 0.002384078921750188, 0.001192039460875094, 0.9917767643928528, 0.009883762337267399, 0.01153105590492487, 0.00658917473629117, 0.008236468769609928, 0.9644904732704163, 0.9698437452316284, 0.02669294737279415, 0.018676312640309334, 0.9805063605308533, 0.9900019764900208, 0.04403945058584213, 0.030866360291838646, 0.002582958899438381, 0.01885559968650341, 0.9036481976509094, 0.9948510527610779, 0.03656890243291855, 0.9233647584915161, 0.027426674962043762, 0.9546602964401245, 0.007817074656486511, 0.000977134332060814, 0.016611283645033836, 0.018565552309155464, 0.059043679386377335, 0.09278292208909988, 0.7118980884552002, 0.032052282243967056, 0.10290469974279404, 0.2811683416366577, 0.06098313257098198, 0.0018997860606759787, 0.4612680673599243, 0.1947280764579773, 0.6811666488647461, 0.07274378836154938, 0.009676926769316196, 0.14326299726963043, 0.09298747777938843, 0.0036683944053947926, 0.007336788810789585, 0.9831297397613525, 0.0036683944053947926, 0.9919670820236206, 0.8014581203460693, 0.0136348782107234, 0.0006817438988946378, 0.14521145820617676, 0.03899575024843216, 0.992821216583252, 0.00525317620486021, 0.004815411753952503, 0.00043776468373835087, 0.00021888234186917543, 0.9891293048858643, 0.025539668276906013, 0.06274832040071487, 0.016072377562522888, 0.7281007170677185, 0.1675490289926529, 0.9900030493736267, 0.0063549005426466465, 0.08261370658874512, 0.9023959040641785, 0.0063549005426466465, 0.002615055302157998, 0.9937210083007812, 0.6105068922042847, 0.04956766217947006, 0.003635553177446127, 0.23843908309936523, 0.09789391607046127, 0.9609560370445251, 0.007846318185329437, 0.0030513459350913763, 0.02026965469121933, 0.0080642718821764, 0.2176380604505539, 0.21867939829826355, 0.0012816374655812979, 0.193607360124588, 0.3687911927700043, 0.08682586252689362, 0.22527791559696198, 0.6347674131393433, 0.016426514834165573, 0.03637299686670303, 0.013833323493599892, 0.11968295276165009, 0.0003705354465637356, 0.02346724644303322, 0.8425976634025574, 0.07215113192796707, 0.023946711793541908, 0.0003109962563030422, 0.00590892881155014, 0.8978461623191833, 0.07914368808269501, 0.5706676840782166, 0.006519846152514219, 0.06628510355949402, 0.2774556875228882, 0.0035252554807811975, 0.0035252554807811975, 0.9870715141296387, 0.0035252554807811975, 0.9214518070220947, 0.014669989235699177, 0.0008824053802527487, 0.05305462330579758, 0.010037360712885857, 0.47641608119010925, 0.0330498069524765, 0.007482975255697966, 0.42877447605133057, 0.05437628552317619, 0.026821725070476532, 0.01609303615987301, 0.9226673245429993, 0.026821725070476532, 0.010728689841926098, 0.8163084983825684, 0.008163085207343102, 0.0031563928350806236, 0.15781964361667633, 0.014584711752831936, 0.9956369996070862, 0.0032643836457282305, 0.02157064713537693, 0.000862825836520642, 0.000862825836520642, 0.000862825836520642, 0.9767188429832458, 0.9766552448272705, 0.001672354876063764, 0.001672354876063764, 0.001672354876063764, 0.020068258047103882, 0.018813887611031532, 0.9595082998275757, 0.9929932355880737, 0.3630487620830536, 0.2992653250694275, 0.11723095178604126, 0.12348689883947372, 0.09696713089942932, 0.5247061848640442, 0.09053996950387955, 0.018977036699652672, 0.26124462485313416, 0.1045510545372963, 0.21771550178527832, 0.09537295252084732, 0.005876058712601662, 0.4836448132991791, 0.1975259631872177, 0.5500024557113647, 0.10385385155677795, 0.007048903964459896, 0.20244452357292175, 0.13674873113632202, 0.0043769036419689655, 0.00043769035255536437, 0.0008753807051107287, 0.9944325089454651, 0.9844306111335754, 0.004464752972126007, 0.99117511510849, 0.004464752972126007, 0.9924691319465637, 0.004748656414449215, 0.03149109706282616, 0.04518288001418114, 0.004449828993529081, 0.011295720003545284, 0.9077651500701904, 0.04941637068986893, 0.09214094281196594, 0.00025737693067640066, 0.0046327849850058556, 0.8534619212150574, 0.721305787563324, 0.022694550454616547, 0.0012696251505985856, 0.23773731291294098, 0.01698123663663864, 0.012343076057732105, 0.042429324239492416, 0.9160876870155334, 0.017743172124028206, 0.011185912415385246, 0.002195956651121378, 0.9947683811187744, 0.9687027335166931, 0.04967160150408745, 0.01314836461097002, 0.0004869764670729637, 0.016557199880480766, 0.9203855395317078, 0.05565497651696205, 0.31160497665405273, 0.34430620074272156, 0.028928009793162346, 0.2594088017940521, 0.010121582075953484, 0.015182373113930225, 0.9716718792915344, 0.9940750598907471, 0.005680428817868233, 0.819214940071106, 0.0234919935464859, 0.0008194881374947727, 0.11827945709228516, 0.038242779672145844, 0.05900214985013008, 0.3667573630809784, 0.51119464635849, 0.023128842934966087, 0.04012146219611168, 0.044392991811037064, 0.05919065698981285, 0.8836319446563721, 0.010569759644567966, 0.004227904137223959, 0.9599576592445374, 0.0026131232734769583, 0.002395362826064229, 0.0002177602582378313, 0.0010888013057410717, 0.9934223294258118, 0.046277061104774475, 0.6190335154533386, 0.06516142189502716, 0.020337004214525223, 0.24943958222866058, 0.006406144239008427, 0.005298909265547991, 0.9808518290519714, 0.006089791189879179, 0.0013444994110614061, 0.03416318818926811, 0.024402279406785965, 0.000542272871825844, 0.026571370661258698, 0.9142720103263855, 0.10031945258378983, 0.12565894424915314, 0.0049848174676299095, 0.020562371239066124, 0.7483457326889038, 0.9893288612365723, 0.028598835691809654, 0.18062421679496765, 0.7398067116737366, 0.00752600934356451, 0.043650854378938675, 0.8574509620666504, 0.009835806675255299, 0.0008678653393872082, 0.11513680219650269, 0.01677872985601425, 0.8838679790496826, 0.012294238433241844, 0.0008781599462963641, 0.10230562835931778, 0.0013172398321330547, 0.08366361260414124, 0.31168797612190247, 0.5306897759437561, 0.036090187728405, 0.03773064911365509, 0.06544998288154602, 0.07606349140405655, 0.700491726398468, 0.15153734385967255, 0.007075673900544643, 0.08928605169057846, 0.9086169004440308, 0.6375539302825928, 0.04175484552979469, 0.006702512968331575, 0.18268877267837524, 0.13124245405197144, 0.29946908354759216, 0.26750993728637695, 0.03779296204447746, 0.24316009879112244, 0.15210187435150146, 0.9853472709655762, 0.03786855936050415, 0.012159629724919796, 0.9244792461395264, 0.014938972890377045, 0.011117375455796719, 0.9830034971237183, 0.09088596701622009, 0.05627814307808876, 0.0029109385795891285, 0.7406721115112305, 0.10932191461324692, 0.70320063829422, 0.060445334762334824, 0.008378560654819012, 0.1262768805027008, 0.10163992643356323, 0.9941518902778625, 0.0004175998910795897, 0.0029231992084532976, 0.0008351997821591794, 0.0004175998910795897, 0.9955580830574036, 0.0038090143352746964, 0.923051118850708, 0.020314741879701614, 0.001269671367481351, 0.05205652862787247, 0.9644753336906433, 0.007534963544458151, 0.015069927088916302, 0.00350203481502831, 0.924537181854248, 0.00700406963005662, 0.06478764116764069, 0.003005043603479862, 0.9946694374084473, 0.0024068327620625496, 0.9964287281036377, 0.17310938239097595, 0.36095404624938965, 0.19381187856197357, 0.06527374684810638, 0.20690315961837769, 0.027242116630077362, 0.652525782585144, 0.05140021815896034, 0.016962071880698204, 0.2518610656261444, 0.010297799482941628, 0.5698115825653076, 0.3524135649204254, 0.002669799840077758, 0.06521939486265182, 0.07349143922328949, 0.37731030583381653, 0.36085835099220276, 0.03679091855883598, 0.15150265395641327, 0.2978939414024353, 0.08651167154312134, 0.0008161478326655924, 0.10256257653236389, 0.5122687816619873, 0.9777452349662781, 0.06644470989704132, 0.40344932675361633, 0.2618559002876282, 0.019614674150943756, 0.24849340319633484, 0.05722001940011978, 0.30071383714675903, 0.001440791878849268, 0.4958382248878479, 0.1446966677904129, 0.10057245939970016, 0.42240431904792786, 0.2127000391483307, 0.037946488708257675, 0.22625236213207245, 0.9893384575843811, 0.9889699220657349, 0.0062593030743300915, 0.07200505584478378, 0.03625081852078438, 0.8278098106384277, 0.008441971614956856, 0.05561769753694534, 0.9898690581321716, 0.04879920184612274, 0.04879920184612274, 0.8971545696258545, 0.007507569622248411, 0.051046814769506454, 0.009657504968345165, 0.004598812200129032, 0.019774891436100006, 0.9147037267684937, 0.02793213352560997, 0.9496925473213196, 0.013966066762804985, 0.0003853790694847703, 0.9977464079856873, 0.0003853790694847703, 0.0007707581389695406, 0.0007707581389695406, 0.940582275390625, 0.008680390194058418, 0.001860083662904799, 0.03596161678433418, 0.013020585291087627, 0.9940995573997498, 0.05370883643627167, 0.30421939492225647, 0.0020385836251080036, 0.022894863039255142, 0.6171419620513916, 0.6541332006454468, 0.09652990847826004, 0.04484091326594353, 0.14033891260623932, 0.06416565924882889, 0.9161636829376221, 0.005401112139225006, 0.0006751390174031258, 0.07088959962129593, 0.006751390174031258, 0.004659729544073343, 0.9925224184989929, 0.004659729544073343, 0.9562323093414307, 0.002087843604385853, 0.03966902568936348, 0.9939486384391785, 0.0709419995546341, 0.9163341522216797, 0.011823666281998158, 0.7121808528900146, 0.016578752547502518, 0.002998284762725234, 0.20211967825889587, 0.06596226990222931, 0.0010613474296405911, 0.0010613474296405911, 0.011674821376800537, 0.9849303960800171, 0.022090516984462738, 0.11385113000869751, 0.0009710117592476308, 0.6707263588905334, 0.19226032495498657, 0.004465465433895588, 0.004465465433895588, 0.9868679046630859, 0.002488398691639304, 0.995359480381012, 0.9886777400970459, 0.004838213790208101, 0.9918338060379028, 0.1347084492444992, 0.02033334970474243, 0.7853756546974182, 0.03304169327020645, 0.027958357706665993, 0.993613600730896, 0.0029532399494200945, 0.9952418804168701, 0.11912766098976135, 0.004254559520632029, 0.030555471777915955, 0.8253844976425171, 0.020886018872261047, 0.9813329577445984, 0.9172555804252625, 0.003983344417065382, 0.001086366712115705, 0.07604566961526871, 0.0018106111092492938, 0.02686994895339012, 0.03493093326687813, 0.8034114837646484, 0.010747979395091534, 0.1262887567281723, 0.9600165486335754, 0.5468326210975647, 0.07935906201601028, 0.017977382987737656, 0.2971809208393097, 0.05867275968194008, 0.2703889012336731, 0.0720505341887474, 0.007710204925388098, 0.6048522591590881, 0.04493188112974167, 0.9974097013473511, 0.12394461035728455, 0.6001744270324707, 0.05281207337975502, 0.03285402059555054, 0.19026675820350647, 0.03754805400967598, 0.02056518755853176, 0.0006633931770920753, 0.26456117630004883, 0.6766610145568848, 0.0014352245489135385, 0.020093144848942757, 0.0014352245489135385, 0.9730822443962097, 0.004305673763155937, 0.0019102306105196476, 0.9952301383018494, 0.9903148412704468, 0.007390409242361784, 0.9733613729476929, 0.014747899025678635, 0.07711680978536606, 0.0239328034222126, 0.8163745403289795, 0.026592005044221878, 0.055843207985162735, 0.974514901638031, 0.15617799758911133, 0.1411190927028656, 0.014282680116593838, 0.06458255648612976, 0.6237805485725403, 0.010237552225589752, 0.1237606331706047, 0.0006825034506618977, 0.009100046008825302, 0.8563143610954285, 0.003025888465344906, 0.15385478734970093, 0.000698281975928694, 0.003956931177526712, 0.8386366367340088, 0.2621859610080719, 0.4707130193710327, 0.06707361340522766, 0.09258554130792618, 0.10743755102157593, 0.058288320899009705, 0.6217420697212219, 0.11610419303178787, 0.02279563434422016, 0.18106584250926971, 0.047604676336050034, 0.2367706298828125, 0.6401576399803162, 0.013780301436781883, 0.06138497591018677, 0.9830219745635986, 0.0015444544842466712, 0.22438716888427734, 0.34110379219055176, 0.0006619090563617647, 0.43222659826278687, 0.1269485205411911, 0.1925850361585617, 0.030079398304224014, 0.04199583828449249, 0.6084111332893372, 0.9912366271018982, 0.004272571764886379, 0.05893747881054878, 0.0971376970410347, 0.7453286647796631, 0.04693169519305229, 0.05166124552488327, 0.2350277304649353, 0.03123064897954464, 0.47415876388549805, 0.1417917013168335, 0.11762785166501999, 0.08994384855031967, 0.024288633838295937, 0.016698436811566353, 0.8421325087547302, 0.02694520354270935, 0.10792122781276703, 0.020854342728853226, 0.0010427171364426613, 0.8164475560188293, 0.053699932992458344, 0.08583833277225494, 0.6222710013389587, 0.11213628947734833, 0.019125783815979958, 0.16063380241394043, 0.006857358850538731, 0.0038096439093351364, 0.0007619287935085595, 0.9882216453552246, 0.0007619287935085595, 0.028689272701740265, 0.024036958813667297, 0.0011630785884335637, 0.0620308592915535, 0.8839397430419922, 0.9676759243011475, 0.9830210208892822, 0.14860908687114716, 0.5287759304046631, 0.0496818870306015, 0.09298982471227646, 0.17995494604110718, 0.6884560585021973, 0.12868769466876984, 0.014543593861162663, 0.10817020386457443, 0.06016567349433899, 0.2934480607509613, 0.18299156427383423, 0.017365887761116028, 0.3054978549480438, 0.20071186125278473, 0.07912284135818481, 0.017200617119669914, 0.0003127384989056736, 0.013760494068264961, 0.889115571975708, 0.0017566133756190538, 0.0035132267512381077, 0.0005855378112755716, 0.0005855378112755716, 0.9930720925331116, 0.07669061422348022, 0.13392935693264008, 0.002233707346022129, 0.14342261850833893, 0.6437730193138123, 0.06300690025091171, 0.033356595784425735, 0.8450337648391724, 0.037062883377075195, 0.025944018736481667, 0.894862711429596, 0.011356125585734844, 0.005191371776163578, 0.04088205099105835, 0.04769572615623474, 0.995751678943634, 0.010018386878073215, 0.018033096566796303, 0.002003677422180772, 0.9637688398361206, 0.006011032033711672, 0.0055112396366894245, 0.013384439051151276, 0.0007873199065215886, 0.976276695728302, 0.004723919555544853, 0.07332135736942291, 0.11986447870731354, 0.005950718652456999, 0.48179569840431213, 0.3190010190010071, 0.025721920654177666, 0.04822860285639763, 0.04685064032673836, 0.8120777606964111, 0.06706072390079498, 0.0009967827936634421, 0.0039871311746537685, 0.0009967827936634421, 0.0009967827936634421, 0.9947893023490906, 0.99210125207901, 0.27025386691093445, 0.1768036037683487, 0.373371422290802, 0.03909873217344284, 0.14049763977527618, 0.04151961952447891, 0.12851311266422272, 0.7789871692657471, 0.029656872153282166, 0.023725496605038643, 0.9795712828636169, 0.0021576459985226393, 0.015103522688150406, 0.011443935334682465, 0.005982057191431522, 0.0007802682812325656, 0.004421520512551069, 0.9776762127876282, 0.006530839949846268, 0.006530839949846268, 0.9828914403915405, 0.003265419974923134, 0.5566614866256714, 0.03319829702377319, 0.004090785514563322, 0.3828031122684479, 0.023286009207367897, 0.08044261485338211, 0.4199710190296173, 0.3292173445224762, 0.03756171092391014, 0.13281624019145966, 0.08029995113611221, 0.9124994277954102, 0.007299995515495539, 0.04318392649292946, 0.6048319935798645, 0.07145911455154419, 0.021206391975283623, 0.2593606114387512, 0.3063986003398895, 0.11236470937728882, 0.030302437022328377, 0.36113953590393066, 0.18977515399456024, 0.9802607297897339, 0.0044966088607907295, 0.0011241522151976824, 0.01236567460000515, 0.0011241522151976824, 0.16898028552532196, 0.15111581981182098, 0.007126262411475182, 0.19836391508579254, 0.47433575987815857, 0.9724788069725037, 0.17128244042396545, 0.012536994181573391, 0.0018636072054505348, 0.16094790399074554, 0.6534484624862671, 0.9927078485488892, 0.006958038080483675, 0.9915204048156738, 0.30200091004371643, 0.021737854927778244, 0.002550870645791292, 0.23834004998207092, 0.4352007210254669, 0.0724693313241005, 0.3504844009876251, 0.0006479375879280269, 0.11448559165000916, 0.46187981963157654, 0.7541272044181824, 0.05998895689845085, 0.0008255360880866647, 0.1330489069223404, 0.052008774131536484, 0.8705235123634338, 0.02178165130317211, 0.003217743942514062, 0.08564149588346481, 0.018811427056789398, 0.6784653663635254, 0.14807087182998657, 0.01024597603827715, 0.06122796609997749, 0.10204661637544632, 0.9916195869445801, 0.004486966412514448, 0.16341745853424072, 0.435902863740921, 0.048939164727926254, 0.10390350222587585, 0.24776989221572876, 0.05346972122788429, 0.028385160490870476, 0.0006601199856959283, 0.880600094795227, 0.0369667187333107, 0.01792413927614689, 0.014208159409463406, 0.0008743482758291066, 0.9576299786567688, 0.00939924456179142, 0.8163923025131226, 0.0361989289522171, 0.01362783182412386, 0.11966940015554428, 0.014266637153923512, 0.9928179383277893, 0.0034000615123659372, 0.1599501520395279, 0.07717874646186829, 0.6353265047073364, 0.1174459233880043, 0.01006679330021143, 0.008352563716471195, 0.12687940895557404, 0.0003977410960942507, 0.006761598866432905, 0.8575298190116882, 0.04655447229743004, 0.0014548272592946887, 0.9514570236206055, 0.11434908211231232, 0.6028102040290833, 0.023584498092532158, 0.07227814942598343, 0.18700839579105377, 0.9229159355163574, 0.011511056683957577, 0.0027084839530289173, 0.00406272616237402, 0.058909524232149124, 0.9290130138397217, 0.009548741392791271, 0.008753012865781784, 0.027850497514009476, 0.024667583405971527, 0.007111489772796631, 0.9742740988731384, 0.014222979545593262, 0.9937345385551453, 0.002791389124467969, 0.9934173822402954, 0.9860929846763611, 0.6645642518997192, 0.07797569781541824, 0.0009739583474583924, 0.1834583431482315, 0.07304687798023224, 0.9917385578155518, 0.002049046568572521, 0.006147139705717564, 0.0018065160838887095, 0.04588551074266434, 0.0009032580419443548, 0.0009032580419443548, 0.9505887627601624, 0.0969717726111412, 0.05495067313313484, 0.7148974537849426, 0.06410911679267883, 0.06895770877599716, 0.11837761104106903, 0.2721918821334839, 0.0010854473803192377, 0.16664808988571167, 0.44171321392059326, 0.08098677545785904, 0.09269571304321289, 0.6195976734161377, 0.07318082451820374, 0.13367697596549988, 0.975670576095581, 0.02075894922018051, 0.980642557144165, 0.0003776832018047571, 0.003587990300729871, 0.0003776832018047571, 0.0003776832018047571, 0.9953840970993042, 0.0016159015940502286, 0.9970113039016724, 0.044990424066782, 0.6003409624099731, 0.16402758657932281, 0.013122206553816795, 0.17761844396591187, 0.004836649168282747, 0.028213785961270332, 0.0016122163506224751, 0.9552381634712219, 0.009673298336565495, 0.026222283020615578, 0.006051295902580023, 0.0020170987118035555, 0.0030256479512900114, 0.9621560573577881, 0.005115996114909649, 0.07162394374608994, 0.011162173002958298, 0.0004650905611924827, 0.9115775227546692, 0.001250967849045992, 0.013760646805167198, 0.005003871396183968, 0.9682491421699524, 0.012509678490459919, 0.003796461969614029, 0.9277604222297668, 0.0004745577462017536, 0.06691264361143112, 0.0009491154924035072, 0.07120531052350998, 0.5091514587402344, 0.07812494784593582, 0.07723209261894226, 0.26428553462028503, 0.9359046816825867, 0.01215460617095232, 0.00036832140176557004, 0.04825010523200035, 0.0036832140758633614, 0.9754446744918823, 0.013738657347857952, 0.002755476161837578, 0.002755476161837578, 0.994726836681366, 0.003568526590242982, 0.9956189393997192, 0.020097985863685608, 0.00907650962471962, 0.0019449663814157248, 0.9517368674278259, 0.017504697665572166, 0.9639567732810974, 0.508216917514801, 0.029372749850153923, 0.006557637359946966, 0.37282899022102356, 0.08292678743600845, 0.4585747718811035, 0.25468170642852783, 0.01747654750943184, 0.1622939556837082, 0.10699257254600525, 0.26007089018821716, 0.07366016507148743, 0.004254738800227642, 0.5676530599594116, 0.0943576917052269, 0.7009078860282898, 0.08789457380771637, 0.013394389301538467, 0.11517219245433807, 0.08261503279209137, 0.9660266637802124, 0.0028428712394088507, 0.9950049519538879, 0.0544695220887661, 0.005525893531739712, 0.0019735335372388363, 0.7325755953788757, 0.20564217865467072, 0.11259996891021729, 0.48896321654319763, 0.10407154262065887, 0.06204740330576897, 0.23236876726150513, 0.9919514656066895, 0.738193690776825, 0.05481133982539177, 0.0010826931102201343, 0.1506296843290329, 0.0552850179374218, 0.7362276315689087, 0.07477661222219467, 0.002415034221485257, 0.1413242220878601, 0.04525953158736229, 0.993049681186676, 0.0883207693696022, 0.33716103434562683, 0.49207285046577454, 0.036449842154979706, 0.046263258904218674, 0.9761823415756226, 0.015494957566261292, 0.9861778020858765, 0.021349402144551277, 0.024399317800998688, 0.7609537243843079, 0.022874360904097557, 0.17079521715641022, 0.004782325588166714, 0.036345671862363815, 0.0004782325413543731, 0.0038258603308349848, 0.954552173614502, 0.4788919985294342, 0.04320139065384865, 0.002604339038953185, 0.44886550307273865, 0.026502979919314384, 0.3606824278831482, 0.05317974090576172, 0.0013180323876440525, 0.43248653411865234, 0.15231870114803314, 0.0033918912522494793, 0.9938241243362427, 0.05338531732559204, 0.03695906698703766, 0.8911241292953491, 0.004106563050299883, 0.01642625220119953, 0.03276272490620613, 0.058277059346437454, 0.7915242314338684, 0.10350701957941055, 0.01391690969467163, 0.19861599802970886, 0.44023412466049194, 0.029026424512267113, 0.08197277784347534, 0.25008416175842285, 0.9600241184234619, 0.7555515170097351, 0.017864223569631577, 0.0006004780880175531, 0.1977074146270752, 0.028222469612956047, 0.02817636728286743, 0.08120272308588028, 0.0005870076129212976, 0.8801200985908508, 0.009783460758626461, 0.03268636763095856, 0.18812048435211182, 0.0010431819828227162, 0.7580455541610718, 0.020168183371424675, 0.16957709193229675, 0.06171683222055435, 0.004037549719214439, 0.7388716340065002, 0.025667281821370125, 0.9957997798919678, 0.012365169823169708, 0.0037095509469509125, 0.008655618876218796, 0.9743754267692566, 0.9962917566299438, 0.8140595555305481, 0.03219444677233696, 0.001609722268767655, 0.12072917073965073, 0.031504563987255096, 0.9964300990104675, 0.9736711382865906, 0.014318693429231644, 0.9947493672370911, 0.9967384934425354, 0.03219785913825035, 0.647124171257019, 0.07917506247758865, 0.013459760695695877, 0.2280241847038269, 0.0029617371037602425, 0.995143711566925, 0.16410329937934875, 0.3859703540802002, 0.15084850788116455, 0.11153601855039597, 0.18760041892528534, 0.1504587084054947, 0.3033941090106964, 0.3467361330986023, 0.030463244765996933, 0.16903385519981384, 0.042607665061950684, 0.27168652415275574, 0.5724465250968933, 0.009524066932499409, 0.1037622019648552, 0.9912078380584717, 0.0033945473842322826, 0.0033945473842322826, 0.0038615097291767597, 0.015059888362884521, 0.0007723019807599485, 0.0034753589425235987, 0.9769619703292847, 0.15096817910671234, 0.0933372899889946, 0.0005226667854003608, 0.054508645087480545, 0.7006486058235168, 0.043160561472177505, 0.1487162709236145, 0.0028148191049695015, 0.7904950380325317, 0.015012368559837341, 0.016912508755922318, 0.021986261010169983, 0.0008456254727207124, 0.9487917423248291, 0.010993130505084991, 0.34727978706359863, 0.15683603286743164, 0.02691192924976349, 0.3646630644798279, 0.10429982095956802, 0.019527608528733253, 0.8541520237922668, 0.017357872799038887, 0.005062713287770748, 0.10414724051952362, 0.0014536392409354448, 0.0029072784818708897, 0.0014536392409354448, 0.0014536392409354448, 0.994289219379425, 0.9885970950126648, 0.0023734793066978455, 0.9968613386154175, 0.9734075665473938, 0.21627454459667206, 0.1061895564198494, 0.010907217860221863, 0.10322902351617813, 0.5634357333183289, 0.0030406059231609106, 0.9942781925201416, 0.9646545052528381, 0.003986128605902195, 0.4598996043205261, 0.5032487511634827, 0.0009965321514755487, 0.032387297600507736, 0.07623720169067383, 0.531160831451416, 0.12084509432315826, 0.035090263932943344, 0.23669102787971497, 0.9934670925140381, 0.00412227027118206, 0.008997601456940174, 0.01936192624270916, 0.959212601184845, 0.007289195898920298, 0.005239109508693218, 0.9941158890724182, 0.0017795857274904847, 0.0017795857274904847, 0.0004448964318726212, 0.0022244821302592754, 0.9934537410736084, 0.1380242109298706, 0.309811532497406, 0.0050355722196400166, 0.07074566185474396, 0.47639816999435425, 0.9819454550743103, 0.0051142992451786995, 0.008523832075297832, 0.003409532830119133, 0.39787858724594116, 0.17952881753444672, 0.00606126245111227, 0.33769890666007996, 0.07879640907049179, 0.6854430437088013, 0.1299295574426651, 0.002908870577812195, 0.08702371269464493, 0.09469989687204361, 0.20815053582191467, 0.3122258186340332, 0.1841941922903061, 0.1332671195268631, 0.16214165091514587, 0.0016532144509255886, 0.0009971769759431481, 0.9961273074150085, 0.00047234699013642967, 0.0007610034663230181, 0.17862562835216522, 0.4293195903301239, 0.018047986552119255, 0.20446144044399261, 0.169725239276886, 0.14445637166500092, 0.489528089761734, 0.05449085682630539, 0.09218963980674744, 0.21940910816192627, 0.006784324534237385, 0.990511417388916, 0.988294243812561, 0.6489869952201843, 0.13378293812274933, 0.011786507442593575, 0.1390686333179474, 0.06646618247032166, 0.010174127295613289, 0.03153979405760765, 0.0020348255056887865, 0.9512808918952942, 0.004069651011377573, 0.9970921277999878], \"Term\": [\"'ain\", \"'akron\", \"'akron\", \"'albuquerque\", \"'albuquerque\", \"'amen\", \"'and\", \"'and\", \"'and\", \"'and\", \"'and\", \"'archived\", \"'archived\", \"'archived\", \"'archived\", \"'arlington\", \"'arlington\", \"'baltimore\", \"'baltimore\", \"'baltimore\", \"'baltimore\", \"'baltimore\", \"'bangladesh\", \"'brazil\", \"'brazil\", \"'brazil\", \"'brazil\", \"'brazil\", \"'breaking\", \"'breaking\", \"'breaking\", \"'breaking\", \"'breaking\", \"'china\", \"'china\", \"'china\", \"'china\", \"'china\", \"'cleveland\", \"'cleveland\", \"'cleveland\", \"'cleveland\", \"'cleveland\", \"'comment\", \"'comment\", \"'comment\", \"'congo\", \"'curated\", \"'curated\", \"'curated\", \"'dekalb\", \"'diet\", \"'diet\", \"'diet\", \"'diet\", \"'diet\", \"'driver\", \"'driver\", \"'driver\", \"'driver\", \"'driver\", \"'eu\", \"'eu\", \"'eu\", \"'eu\", \"'eu\", \"'every\", \"'every\", \"'every\", \"'every\", \"'every\", \"'everybody\", \"'everybody\", \"'fifa\", \"'foke\", \"'foke\", \"'foke\", \"'foke\", \"'forecast\", \"'forecast\", \"'fort\", \"'fort\", \"'fort\", \"'fort\", \"'fuck\", \"'fuck\", \"'fuck\", \"'god\", \"'god\", \"'god\", \"'god\", \"'god\", \"'gwinnett\", \"'happiness\", \"'happiness\", \"'happy\", \"'happy\", \"'happy\", \"'happy\", \"'happy\", \"'henrico\", \"'hourly\", \"'if\", \"'if\", \"'if\", \"'if\", \"'if\", \"'india\", \"'india\", \"'india\", \"'india\", \"'india\", \"'islamic\", \"'islamic\", \"'islamic\", \"'islamic\", \"'islamic\", \"'it\", \"'it\", \"'it\", \"'it\", \"'it\", \"'japan\", \"'japan\", \"'japan\", \"'japan\", \"'japan\", \"'kansas\", \"'kansas\", \"'kansas\", \"'kansas\", \"'kansas\", \"'ksn\", \"'ksn\", \"'lol\", \"'lol\", \"'lol\", \"'lol\", \"'lol\", \"'louisiana\", \"'louisiana\", \"'louisiana\", \"'louisiana\", \"'louisiana\", \"'lsu\", \"'lsu\", \"'lsu\", \"'lsu\", \"'lsu\", \"'man\", \"'man\", \"'man\", \"'man\", \"'man\", \"'milwaukee\", \"'milwaukee\", \"'milwaukee\", \"'montini\", \"'montini\", \"'mt\", \"'mt\", \"'mt\", \"'mt\", \"'mt\", \"'my\", \"'my\", \"'my\", \"'my\", \"'my\", \"'myanmar\", \"'myanmar\", \"'nbc10\", \"'never\", \"'never\", \"'never\", \"'never\", \"'never\", \"'new\", \"'new\", \"'new\", \"'new\", \"'new\", \"'newsone\", \"'newsone\", \"'newsone\", \"'ohio\", \"'ohio\", \"'ohio\", \"'ohio\", \"'ohio\", \"'omg\", \"'omg\", \"'omg\", \"'omg\", \"'omg\", \"'pd\", \"'pd\", \"'pd\", \"'peru\", \"'philly\", \"'philly\", \"'philly\", \"'phoenix\", \"'phoenix\", \"'phoenix\", \"'phoenix\", \"'phoenix\", \"'phx\", \"'phx\", \"'pizarro\", \"'police\", \"'police\", \"'police\", \"'police\", \"'police\", \"'remember\", \"'remember\", \"'remember\", \"'remember\", \"'remember\", \"'respect\", \"'respect\", \"'rip\", \"'rip\", \"'rip\", \"'rip\", \"'rip\", \"'rr\", \"'rr\", \"'rr\", \"'rr\", \"'russia\", \"'russia\", \"'russia\", \"'russia\", \"'russia\", \"'saints\", \"'saints\", \"'sapd\", \"'seattle\", \"'seattle\", \"'seattle\", \"'seattle\", \"'seattle\", \"'singapore\", \"'so\", \"'so\", \"'so\", \"'so\", \"'so\", \"'sometimes\", \"'sometimes\", \"'sometimes\", \"'sometimes\", \"'spain\", \"'spain\", \"'suspect\", \"'suspect\", \"'suspect\", \"'suspect\", \"'suspect\", \"'syria\", \"'syria\", \"'syria\", \"'syria\", \"'syrian\", \"'syrian\", \"'syrian\", \"'syrian\", \"'syrian\", \"'teen\", \"'teen\", \"'teen\", \"'teen\", \"'teen\", \"'that\", \"'that\", \"'that\", \"'that\", \"'that\", \"'the\", \"'the\", \"'the\", \"'the\", \"'the\", \"'there\", \"'there\", \"'there\", \"'there\", \"'there\", \"'this\", \"'this\", \"'this\", \"'this\", \"'this\", \"'to\", \"'to\", \"'to\", \"'to\", \"'to\", \"'topeka\", \"'topeka\", \"'traitor\", \"'tulane\", \"'tunisia\", \"'turkey\", \"'turkey\", \"'turkey\", \"'turkey\", \"'turkey\", \"'turkish\", \"'turkish\", \"'turkish\", \"'turkish\", \"'video\", \"'video\", \"'video\", \"'video\", \"'video\", \"'we\", \"'we\", \"'we\", \"'we\", \"'we\", \"'when\", \"'when\", \"'when\", \"'when\", \"'when\", \"'wichita\", \"'wichita\", \"'woman\", \"'woman\", \"'woman\", \"'woman\", \"'woman\", \"'wooow\", \"'wooow\", \"'wooow\", \"'wooow\", \"'workout\", \"'workout\", \"'workout\", \"'workout\", \"'yemen\", \"'yemen\", \"'yemen\", \"'yesterday\", \"'yesterday\", \"'you\", \"'you\", \"'you\", \"'you\", \"'you\", \"614swat\", \"614swat\", \"abbie\", \"abs\", \"abs\", \"abs\", \"abs\", \"abs\", \"accused\", \"accused\", \"accused\", \"accused\", \"accused\", \"acosta\", \"acosta\", \"acosta\", \"acosta\", \"acosta\", \"afghan\", \"afghan\", \"afghan\", \"afghan\", \"afghan\", \"air\", \"air\", \"air\", \"air\", \"air\", \"akron\", \"akron\", \"akron\", \"alaikum\", \"aleppo\", \"aleppo\", \"aleppo\", \"aleppo\", \"aleppo\", \"alozrast\", \"alozrast\", \"always\", \"always\", \"always\", \"always\", \"always\", \"america\", \"america\", \"america\", \"america\", \"america\", \"american1765\", \"american1765\", \"amzn\", \"anthem\", \"anthem\", \"anthem\", \"anthem\", \"anthem\", \"antifa\", \"antifa\", \"antifa\", \"antifa\", \"antifa\", \"arrested\", \"arrested\", \"arrested\", \"arrested\", \"arrested\", \"ashlee\", \"ass\", \"ass\", \"ass\", \"ass\", \"ass\", \"assalam\", \"attack\", \"attack\", \"attack\", \"attack\", \"attack\", \"awan\", \"awan\", \"awan\", \"awan\", \"backfires\", \"backfires\", \"backfires\", \"backfires\", \"backfires\", \"baghdad\", \"baghdad\", \"baghdad\", \"baghdad\", \"barbmuenchen\", \"barbmuenchen\", \"becca\", \"becca\", \"beings\", \"beings\", \"beings\", \"beings\", \"belive\", \"bfraser747\", \"bfraser747\", \"black\", \"black\", \"black\", \"black\", \"black\", \"blotter\", \"blotter\", \"blotter\", \"blotter\", \"blotter\", \"bolling\", \"bolling\", \"bolling\", \"bolling\", \"bombshell\", \"bombshell\", \"bombshell\", \"bombshell\", \"bombshell\", \"bostick\", \"bostick\", \"bouta\", \"bouta\", \"boutta\", \"breaking\", \"breaking\", \"breaking\", \"breaking\", \"breaking\", \"breakingviews\", \"bri\", \"bri\", \"bri\", \"browns\", \"browns\", \"browns\", \"browns\", \"browns\", \"buddy\", \"buddy\", \"buddy\", \"buddy\", \"buddy\", \"california\", \"california\", \"california\", \"california\", \"california\", \"car\", \"car\", \"car\", \"car\", \"car\", \"cardio\", \"cardio\", \"cardio\", \"cardio\", \"cessation\", \"charged\", \"charged\", \"charged\", \"charged\", \"charged\", \"charlie2749\", \"charlottesville\", \"charlottesville\", \"charlottesville\", \"charlottesville\", \"charlottesville\", \"china\", \"china\", \"china\", \"china\", \"china\", \"chlo\", \"chloe\", \"chloe\", \"chloe\", \"chloe\", \"christiec733\", \"christiec733\", \"city\", \"city\", \"city\", \"city\", \"city\", \"cleveland\", \"cleveland\", \"cleveland\", \"cleveland\", \"cleveland\", \"clinton\", \"clinton\", \"clinton\", \"clinton\", \"clinton\", \"clothes\", \"clothes\", \"clothes\", \"clothes\", \"clothes\", \"cnn\", \"cnn\", \"cnn\", \"cnn\", \"cnn\", \"comey\", \"comey\", \"comey\", \"comey\", \"comey\", \"country\", \"country\", \"country\", \"country\", \"country\", \"countryside\", \"countryside\", \"countryside\", \"countryside\", \"county\", \"county\", \"county\", \"county\", \"county\", \"court\", \"court\", \"court\", \"court\", \"court\", \"courtney\", \"courtney\", \"courtney\", \"courtney\", \"courtney\", \"crash\", \"crash\", \"crash\", \"crash\", \"crash\", \"cuyahoga\", \"cuyahoga\", \"daca\", \"daca\", \"daca\", \"daca\", \"daca\", \"dade\", \"dade\", \"dade\", \"dade\", \"dade\", \"daniela\", \"daniela\", \"daraa\", \"day\", \"day\", \"day\", \"day\", \"day\", \"dead\", \"dead\", \"dead\", \"dead\", \"dead\", \"deal\", \"deal\", \"deal\", \"deal\", \"deal\", \"death\", \"death\", \"death\", \"death\", \"death\", \"debalwaystrump\", \"debalwaystrump\", \"debalwaystrump\", \"debalwaystrump\", \"deberry\", \"deir\", \"deir\", \"deir\", \"dekalb\", \"dekalb\", \"dem\", \"dem\", \"dem\", \"dem\", \"dem\", \"dems\", \"dems\", \"dems\", \"dems\", \"dems\", \"dies\", \"dies\", \"dies\", \"dies\", \"dies\", \"diet\", \"diet\", \"diet\", \"diet\", \"diet\", \"dineshdsouza\", \"dineshdsouza\", \"discerning\", \"doj\", \"doj\", \"doj\", \"doj\", \"doj\", \"done\", \"done\", \"done\", \"done\", \"done\", \"doping\", \"doping\", \"doping\", \"dps\", \"dps\", \"driver\", \"driver\", \"driver\", \"driver\", \"driver\", \"eat\", \"eat\", \"eat\", \"eat\", \"eat\", \"emily\", \"emily\", \"emily\", \"emily\", \"emily\", \"endorphins\", \"enlist\", \"enlist\", \"enlist\", \"enlist\", \"enlist\", \"every\", \"every\", \"every\", \"every\", \"every\", \"exercise\", \"exercise\", \"exercise\", \"exercise\", \"exercise\", \"exposes\", \"exposes\", \"exposes\", \"exposes\", \"exposes\", \"fake\", \"fake\", \"fake\", \"fake\", \"fake\", \"falluja\", \"fat\", \"fat\", \"fat\", \"fat\", \"fat\", \"fatal\", \"fatal\", \"fatal\", \"fatal\", \"fatal\", \"fatally\", \"fatally\", \"fatally\", \"fatally\", \"fatally\", \"feeling\", \"feeling\", \"feeling\", \"feeling\", \"feeling\", \"finance\", \"finance\", \"finance\", \"finance\", \"finance\", \"finna\", \"finna\", \"fire\", \"fire\", \"fire\", \"fire\", \"fire\", \"first\", \"first\", \"first\", \"first\", \"first\", \"fitfam\", \"fitness\", \"fitness\", \"fitness\", \"fitness\", \"fitness\", \"fitnessmotivation\", \"forces\", \"forces\", \"forces\", \"forces\", \"forces\", \"found\", \"found\", \"found\", \"found\", \"found\", \"fournette\", \"foxnews\", \"foxnews\", \"foxnews\", \"foxnews\", \"foxnews\", \"fuck\", \"fuck\", \"fuck\", \"fuck\", \"fuck\", \"fucked\", \"fucked\", \"fucked\", \"fucking\", \"fucking\", \"fucking\", \"fucking\", \"gartrelllinda\", \"gartrelllinda\", \"georgiadirtroad\", \"georgiadirtroad\", \"get\", \"get\", \"get\", \"get\", \"get\", \"god\", \"god\", \"god\", \"god\", \"god\", \"gon\", \"gon\", \"gon\", \"gon\", \"gon\", \"good\", \"good\", \"good\", \"good\", \"good\", \"gop\", \"gop\", \"gop\", \"gop\", \"gop\", \"gopdebate\", \"got\", \"got\", \"got\", \"got\", \"got\", \"government\", \"government\", \"government\", \"government\", \"government\", \"great\", \"great\", \"great\", \"great\", \"great\", \"guncontrol\", \"gwinnett\", \"gwinnett\", \"gym\", \"gym\", \"gym\", \"gym\", \"gym\", \"hama\", \"hannah\", \"hannah\", \"hannah\", \"hannah\", \"harvey\", \"harvey\", \"harvey\", \"harvey\", \"harvey\", \"hayley\", \"hayley\", \"hayley\", \"hedgebz\", \"hedgebz\", \"hedgebz\", \"hedgebz\", \"hedgebz\", \"heights\", \"heights\", \"heights\", \"heights\", \"heights\", \"henrico\", \"hillary\", \"hillary\", \"hillary\", \"hillary\", \"hillary\", \"home\", \"home\", \"home\", \"home\", \"home\", \"homicide\", \"homicide\", \"homicide\", \"homicide\", \"homicide\", \"homs\", \"homs\", \"homs\", \"https\", \"https\", \"https\", \"idlib\", \"ima\", \"ima\", \"ima\", \"injured\", \"injured\", \"injured\", \"injured\", \"injured\", \"irma\", \"irma\", \"irma\", \"irma\", \"islamic\", \"islamic\", \"islamic\", \"islamic\", \"islamic\", \"ite\", \"ite\", \"ite\", \"jackposobiec\", \"jackposobiec\", \"jcw\", \"jess\", \"jess\", \"jessica\", \"jessica\", \"jessica\", \"jessica\", \"jessica\", \"jimrobinson3rd\", \"jojoh888\", \"jojoh888\", \"jose\", \"jose\", \"jose\", \"jose\", \"jose\", \"kaitlyn\", \"kansas\", \"kansas\", \"kansas\", \"kansas\", \"kansas\", \"katie\", \"katie\", \"katie\", \"katie\", \"katie\", \"kenzie\", \"killed\", \"killed\", \"killed\", \"killed\", \"killed\", \"kills\", \"kills\", \"kills\", \"kills\", \"kills\", \"kneelers\", \"know\", \"know\", \"know\", \"know\", \"know\", \"korea\", \"korea\", \"korea\", \"korea\", \"korea\", \"kurdish\", \"kurdish\", \"kurdish\", \"kurdish\", \"kurdish\", \"kwilli1046\", \"kwilli1046\", \"lakewood\", \"lakewood\", \"landy\", \"landy\", \"lauren\", \"lauren\", \"lauren\", \"lauren\", \"lauren\", \"leanne\", \"left\", \"left\", \"left\", \"left\", \"left\", \"liberal\", \"liberal\", \"liberal\", \"liberal\", \"liberal\", \"liberals\", \"liberals\", \"liberals\", \"liberals\", \"liberals\", \"life\", \"life\", \"life\", \"life\", \"life\", \"like\", \"like\", \"like\", \"like\", \"like\", \"lil\", \"lil\", \"lil\", \"lil\", \"lil\", \"lina\", \"lol\", \"lol\", \"lol\", \"lol\", \"lol\", \"look\", \"look\", \"look\", \"look\", \"look\", \"lorain\", \"lorain\", \"lose\", \"lose\", \"lose\", \"lose\", \"lose\", \"loss\", \"loss\", \"loss\", \"loss\", \"loss\", \"louis\", \"louis\", \"louis\", \"louis\", \"louis\", \"louisiana\", \"louisiana\", \"louisiana\", \"louisiana\", \"louisiana\", \"love\", \"love\", \"love\", \"love\", \"love\", \"lsu\", \"lsu\", \"lsu\", \"lsu\", \"lsu\", \"lynch\", \"lynch\", \"lynch\", \"lynch\", \"lynch\", \"madi\", \"mads\", \"make\", \"make\", \"make\", \"make\", \"make\", \"man\", \"man\", \"man\", \"man\", \"man\", \"may\", \"may\", \"may\", \"may\", \"may\", \"mccain\", \"mccain\", \"mccain\", \"mccain\", \"mccain\", \"mcmaster\", \"mcmaster\", \"mcmaster\", \"mcmaster\", \"mcmaster\", \"media\", \"media\", \"media\", \"media\", \"media\", \"megan\", \"megan\", \"megan\", \"megan\", \"megan\", \"miami\", \"miami\", \"miami\", \"miami\", \"miami\", \"mikandynothem\", \"militant\", \"militant\", \"militant\", \"militant\", \"militant\", \"militants\", \"militants\", \"militants\", \"militants\", \"militants\", \"military\", \"military\", \"military\", \"military\", \"military\", \"minister\", \"minister\", \"minister\", \"minister\", \"minister\", \"mitchellvii\", \"mitchellvii\", \"mitchellvii\", \"mitchellvii\", \"mitchellvii\", \"montco\", \"morning\", \"morning\", \"morning\", \"morning\", \"morning\", \"motivation\", \"motivation\", \"motivation\", \"motivation\", \"motivation\", \"msu\", \"msu\", \"msu\", \"mueller\", \"mueller\", \"mueller\", \"mueller\", \"mueller\", \"myanmar\", \"myanmar\", \"myanmar\", \"myanmar\", \"near\", \"near\", \"near\", \"near\", \"near\", \"need\", \"need\", \"need\", \"need\", \"need\", \"needa\", \"needa\", \"needa\", \"never\", \"never\", \"never\", \"never\", \"never\", \"new\", \"new\", \"new\", \"new\", \"new\", \"newark\", \"newark\", \"newark\", \"newark\", \"newark\", \"news\", \"news\", \"news\", \"news\", \"news\", \"newswire\", \"nfl\", \"nfl\", \"nfl\", \"nfl\", \"nfl\", \"nhc\", \"nopd\", \"nopd\", \"north\", \"north\", \"north\", \"north\", \"north\", \"obama\", \"obama\", \"obama\", \"obama\", \"obama\", \"officer\", \"officer\", \"officer\", \"officer\", \"officer\", \"ohio\", \"ohio\", \"ohio\", \"ohio\", \"ohio\", \"old\", \"old\", \"old\", \"old\", \"old\", \"olmsted\", \"olmsted\", \"one\", \"one\", \"one\", \"one\", \"one\", \"opposition\", \"opposition\", \"opposition\", \"opposition\", \"opposition\", \"orleans\", \"orleans\", \"orleans\", \"orleans\", \"orleans\", \"park\", \"park\", \"park\", \"park\", \"park\", \"parma\", \"parma\", \"partner\", \"partner\", \"partner\", \"partner\", \"partner\", \"patriot\", \"patriot\", \"patriot\", \"patriot\", \"patriot\", \"pelicans\", \"pelicans\", \"pelicans\", \"people\", \"people\", \"people\", \"people\", \"people\", \"philly\", \"philly\", \"philly\", \"philly\", \"philly\", \"phoenix\", \"phoenix\", \"phoenix\", \"phoenix\", \"phoenix\", \"phosphorus\", \"phosphorus\", \"phosphorus\", \"phx\", \"phx\", \"pkk\", \"pocatello\", \"police\", \"police\", \"police\", \"police\", \"police\", \"politicalhedge\", \"politicalhedge\", \"politicalhedge\", \"potus\", \"potus\", \"potus\", \"potus\", \"potus\", \"pre\", \"pre\", \"pre\", \"pre\", \"pre\", \"president\", \"president\", \"president\", \"president\", \"president\", \"profile\", \"profile\", \"profile\", \"profile\", \"profile\", \"qqq\", \"qqq\", \"rach\", \"realdonaldtrump\", \"realdonaldtrump\", \"realdonaldtrump\", \"realdonaldtrump\", \"realdonaldtrump\", \"realjameswoods\", \"realjameswoods\", \"really\", \"really\", \"really\", \"really\", \"really\", \"rebels\", \"rebels\", \"rebels\", \"rebels\", \"rebels\", \"repo\", \"repo\", \"repo\", \"repo\", \"repo\", \"retweet\", \"retweet\", \"retweet\", \"retweet\", \"retweet\", \"reuters\", \"reuters\", \"reuters\", \"reuters\", \"reuters\", \"rewind\", \"rewind\", \"rewind\", \"rewind\", \"rewind\", \"right\", \"right\", \"right\", \"right\", \"right\", \"robbery\", \"robbery\", \"robbery\", \"robbery\", \"robbery\", \"robinbrentwood1\", \"robinbrentwood1\", \"rousseff\", \"rousseff\", \"rousseff\", \"rubysayzz\", \"rubysayzz\", \"saints\", \"saints\", \"saints\", \"saints\", \"saints\", \"sammie\", \"san\", \"san\", \"san\", \"san\", \"san\", \"say\", \"say\", \"say\", \"say\", \"say\", \"says\", \"says\", \"says\", \"says\", \"says\", \"school\", \"school\", \"school\", \"school\", \"school\", \"schopenhauer\", \"seanhannity\", \"seanhannity\", \"seattle\", \"seattle\", \"seattle\", \"seattle\", \"seattle\", \"see\", \"see\", \"see\", \"see\", \"see\", \"sesh\", \"shooting\", \"shooting\", \"shooting\", \"shooting\", \"shooting\", \"shot\", \"shot\", \"shot\", \"shot\", \"shot\", \"sirte\", \"sleep\", \"sleep\", \"sleep\", \"sleep\", \"sleep\", \"smth\", \"smth\", \"soph\", \"sore\", \"sore\", \"sore\", \"sore\", \"sore\", \"soros\", \"soros\", \"soros\", \"soros\", \"soros\", \"south\", \"south\", \"south\", \"south\", \"south\", \"state\", \"state\", \"state\", \"state\", \"state\", \"steph93065\", \"steph93065\", \"stephanie\", \"stephanie\", \"stephanie\", \"stephanie\", \"stephanie\", \"stocks\", \"stocks\", \"stocks\", \"stocks\", \"stocks\", \"stop\", \"stop\", \"stop\", \"stop\", \"stop\", \"suntory\", \"suspect\", \"suspect\", \"suspect\", \"suspect\", \"suspect\", \"syria\", \"syria\", \"syria\", \"syria\", \"syria\", \"syrian\", \"syrian\", \"syrian\", \"syrian\", \"syrian\", \"talks\", \"talks\", \"talks\", \"talks\", \"talks\", \"tammany\", \"tarmac\", \"tarmac\", \"tarmac\", \"tarmac\", \"teamtrumpaz\", \"teen\", \"teen\", \"teen\", \"teen\", \"teen\", \"terrebehlog\", \"texasbaseballma\", \"texasbaseballma\", \"thegreatfeather\", \"theresamechele\", \"think\", \"think\", \"think\", \"think\", \"think\", \"thomas1774paine\", \"thomas1774paine\", \"time\", \"time\", \"time\", \"time\", \"time\", \"today\", \"today\", \"today\", \"today\", \"today\", \"tomorrow\", \"tomorrow\", \"tomorrow\", \"tomorrow\", \"tomorrow\", \"topeka\", \"topeka\", \"topeka\", \"traitor\", \"traitor\", \"traitor\", \"traitor\", \"traitor\", \"trump\", \"trump\", \"trump\", \"trump\", \"trump\", \"turkey\", \"turkey\", \"turkey\", \"turkey\", \"turkey\", \"turkish\", \"turkish\", \"turkish\", \"turkish\", \"turkish\", \"two\", \"two\", \"two\", \"two\", \"two\", \"understand\", \"understand\", \"understand\", \"understand\", \"understand\", \"unmasking\", \"unmasking\", \"unmasking\", \"unmasking\", \"unmasking\", \"unsee\", \"usfreedomarmy\", \"usfreedomarmy\", \"vespasian85\", \"video\", \"video\", \"video\", \"video\", \"video\", \"voices4humanity\", \"voices4humanity\", \"vxx\", \"wan\", \"wan\", \"wan\", \"wan\", \"wan\", \"want\", \"want\", \"want\", \"want\", \"want\", \"warplanes\", \"warplanes\", \"weight\", \"weight\", \"weight\", \"weight\", \"weight\", \"weightloss\", \"weinstein\", \"weinstein\", \"weinstein\", \"weinstein\", \"weinstein\", \"white\", \"white\", \"white\", \"white\", \"white\", \"wichita\", \"wichita\", \"wichita\", \"wichita\", \"win\", \"win\", \"win\", \"win\", \"win\", \"woman\", \"woman\", \"woman\", \"woman\", \"woman\", \"work\", \"work\", \"work\", \"work\", \"work\", \"workout\", \"workout\", \"workout\", \"workout\", \"workout\", \"world\", \"world\", \"world\", \"world\", \"world\", \"would\", \"would\", \"would\", \"would\", \"would\", \"xinhua\", \"xinhua\", \"xle\", \"year\", \"year\", \"year\", \"year\", \"year\", \"yemen\", \"yemen\", \"yemen\", \"yemen\", \"yemen\", \"zakzale\"]}, \"R\": 30, \"lambda.step\": 0.01, \"plot.opts\": {\"xlab\": \"PC1\", \"ylab\": \"PC2\"}, \"topic.order\": [1, 2, 3, 4, 5]};\n",
       "\n",
       "function LDAvis_load_lib(url, callback){\n",
       "  var s = document.createElement('script');\n",
       "  s.src = url;\n",
       "  s.async = true;\n",
       "  s.onreadystatechange = s.onload = callback;\n",
       "  s.onerror = function(){console.warn(\"failed to load library \" + url);};\n",
       "  document.getElementsByTagName(\"head\")[0].appendChild(s);\n",
       "}\n",
       "\n",
       "if(typeof(LDAvis) !== \"undefined\"){\n",
       "   // already loaded: just create the visualization\n",
       "   !function(LDAvis){\n",
       "       new LDAvis(\"#\" + \"ldavis_el978931164170496081961634844\", ldavis_el978931164170496081961634844_data);\n",
       "   }(LDAvis);\n",
       "}else if(typeof define === \"function\" && define.amd){\n",
       "   // require.js is available: use it to load d3/LDAvis\n",
       "   require.config({paths: {d3: \"https://cdnjs.cloudflare.com/ajax/libs/d3/3.5.5/d3.min\"}});\n",
       "   require([\"d3\"], function(d3){\n",
       "      window.d3 = d3;\n",
       "      LDAvis_load_lib(\"https://cdn.rawgit.com/bmabey/pyLDAvis/files/ldavis.v1.0.0.js\", function(){\n",
       "        new LDAvis(\"#\" + \"ldavis_el978931164170496081961634844\", ldavis_el978931164170496081961634844_data);\n",
       "      });\n",
       "    });\n",
       "}else{\n",
       "    // require.js not available: dynamically load d3 & LDAvis\n",
       "    LDAvis_load_lib(\"https://cdnjs.cloudflare.com/ajax/libs/d3/3.5.5/d3.min.js\", function(){\n",
       "         LDAvis_load_lib(\"https://cdn.rawgit.com/bmabey/pyLDAvis/files/ldavis.v1.0.0.js\", function(){\n",
       "                 new LDAvis(\"#\" + \"ldavis_el978931164170496081961634844\", ldavis_el978931164170496081961634844_data);\n",
       "            })\n",
       "         });\n",
       "}\n",
       "</script>"
      ],
      "text/plain": [
       "<IPython.core.display.HTML object>"
      ]
     },
     "execution_count": 103,
     "metadata": {},
     "output_type": "execute_result"
    }
   ],
   "source": [
    "#dictionary = gensim.corpora.Dictionary.load('dictionary.gensim')\n",
    "#corpus = pickle.load(open('corpus.pkl', 'rb'))\n",
    "lda = gensim.models.ldamodel.LdaModel.load('model5.gensim')\n",
    "\n",
    "lda_display = pyLDAvis.gensim.prepare(lda, corpus, dictionary, sort_topics=False)\n",
    "pyLDAvis.display(lda_display)"
   ]
  },
  {
   "cell_type": "code",
   "execution_count": null,
   "metadata": {},
   "outputs": [],
   "source": [
    "# the vectorizer object will be used to transform text to vector form\n",
    "# reject tokens in more than 90% or less than 25% of documents\n",
    "vectorizer = CountVectorizer(max_df=0.9, min_df=25, token_pattern='\\w+|\\$[\\d\\.]+|\\S+')\n",
    "\n",
    "# apply transformation\n",
    "tf = vectorizer.fit_transform(user_original['content']).toarray()\n",
    "\n",
    "# tf_feature_names tells us what word each column in the matrix represents\n",
    "tf_feature_names = vectorizer.get_feature_names()"
   ]
  },
  {
   "cell_type": "code",
   "execution_count": null,
   "metadata": {},
   "outputs": [],
   "source": [
    "number_of_topics = 10\n",
    "\n",
    "model = LatentDirichletAllocation(n_components=number_of_topics, random_state=0)"
   ]
  },
  {
   "cell_type": "code",
   "execution_count": null,
   "metadata": {},
   "outputs": [],
   "source": [
    "model.fit(tf)"
   ]
  },
  {
   "cell_type": "code",
   "execution_count": null,
   "metadata": {},
   "outputs": [],
   "source": []
  },
  {
   "cell_type": "code",
   "execution_count": null,
   "metadata": {},
   "outputs": [],
   "source": []
  },
  {
   "cell_type": "code",
   "execution_count": null,
   "metadata": {},
   "outputs": [],
   "source": []
  },
  {
   "cell_type": "code",
   "execution_count": null,
   "metadata": {},
   "outputs": [],
   "source": []
  },
  {
   "cell_type": "code",
   "execution_count": null,
   "metadata": {},
   "outputs": [],
   "source": []
  },
  {
   "cell_type": "code",
   "execution_count": null,
   "metadata": {},
   "outputs": [],
   "source": [
    "#use nlp.pipe to efficiently process many docs\n",
    "original_docs = list(nlp.pipe(user_original_docs.tweet_text))\n",
    "retweet_docs = list(nlp.pipe(user_rt_docs.tweet_text))"
   ]
  },
  {
   "cell_type": "code",
   "execution_count": null,
   "metadata": {},
   "outputs": [],
   "source": [
    "nlp = English()\n",
    "# nlp = spacy.load('en_core_web_lg')\n",
    "matcher = Matcher(nlp.vocab)"
   ]
  },
  {
   "cell_type": "code",
   "execution_count": null,
   "metadata": {},
   "outputs": [],
   "source": [
    "doc = nlp('some text')\n",
    "print(doc.text)"
   ]
  },
  {
   "cell_type": "code",
   "execution_count": null,
   "metadata": {},
   "outputs": [],
   "source": [
    "#part-of-speech tags -- token.pos_\n",
    "for token in doc:\n",
    "    # Get the token text, part-of-speech tag and dependency label\n",
    "    token_text = token.text\n",
    "    token_pos = token.pos_\n",
    "    token_dep = token.dep_\n",
    "    # This is for formatting only\n",
    "    print('{:<12}{:<10}{:<10}'.format(token_text, token_pos, token_dep))\n",
    "#syntactic dependencies -- token.dep_\n",
    "#Named entites -- doc.ents\n",
    "# Iterate over the entities\n",
    "for ent in doc.ents:\n",
    "    # print the entity text and label\n",
    "    print(ent.text, ent.label_)"
   ]
  },
  {
   "cell_type": "code",
   "execution_count": null,
   "metadata": {},
   "outputs": [],
   "source": [
    "matches = matcher(doc)"
   ]
  },
  {
   "cell_type": "code",
   "execution_count": null,
   "metadata": {},
   "outputs": [],
   "source": [
    "for matchid, start, end in matches:\n",
    "    matched_span = doc[start:end]\n",
    "    print(matched_span.text)"
   ]
  },
  {
   "cell_type": "code",
   "execution_count": null,
   "metadata": {},
   "outputs": [],
   "source": [
    "# hash table storage, lexemes\n",
    "coffee_hash = nlp.vocab.strings['coffee']\n",
    "coffee_string = nlp.vocab.strings[coffee_hash]\n",
    "lexeme = nlp.vocab['coffee']"
   ]
  },
  {
   "cell_type": "code",
   "execution_count": null,
   "metadata": {},
   "outputs": [],
   "source": [
    "# create a doc manually\n",
    "doc = Doc(nlp.vocab, words=words, spaces=spaces)\n",
    "print(doc.text)"
   ]
  },
  {
   "cell_type": "markdown",
   "metadata": {},
   "source": [
    "### Pipelines\n",
    "Text-->tokenizer->tagger->parser->ner....-->Doc"
   ]
  },
  {
   "cell_type": "code",
   "execution_count": null,
   "metadata": {},
   "outputs": [],
   "source": [
    "def custom_component(doc):\n",
    "    # do something\n",
    "    return doc\n",
    "\n",
    "nlp.add_pipeline(custom_component, first=True)"
   ]
  },
  {
   "cell_type": "code",
   "execution_count": null,
   "metadata": {},
   "outputs": [],
   "source": [
    "#attribute extensions\n",
    "#property extensions\n",
    "#method extensions"
   ]
  },
  {
   "cell_type": "code",
   "execution_count": null,
   "metadata": {},
   "outputs": [],
   "source": [
    "#use nlp.pipe to efficiently process many docs\n",
    "docs = list(nlp.pipe(my_series_of_tweet_docs))"
   ]
  },
  {
   "cell_type": "markdown",
   "metadata": {},
   "source": [
    "### Training and updating a model\n",
    "Initialize --> Predict --> Compare --> Calculate --> Update\n",
    "* Training data: Examples and their annotations\n",
    "* Text: The input text the model should predict a label for\n",
    "* Label: The label the model should predict.\n",
    "* Gradient: How to change the weights.\n",
    "Problems:\n",
    "* Models can forget  A. Mix in previously correct predictions\n",
    "* Models can't learn everything  A. Plan label scheme carefully"
   ]
  },
  {
   "cell_type": "code",
   "execution_count": null,
   "metadata": {},
   "outputs": [],
   "source": [
    "# to save your model\n",
    "nlp.to_disk(path_to_model)"
   ]
  }
 ],
 "metadata": {
  "kernelspec": {
   "display_name": "Python 3",
   "language": "python",
   "name": "python3"
  },
  "language_info": {
   "codemirror_mode": {
    "name": "ipython",
    "version": 3
   },
   "file_extension": ".py",
   "mimetype": "text/x-python",
   "name": "python",
   "nbconvert_exporter": "python",
   "pygments_lexer": "ipython3",
   "version": "3.6.8"
  }
 },
 "nbformat": 4,
 "nbformat_minor": 2
}
