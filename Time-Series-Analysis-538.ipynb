{
 "cells": [
  {
   "cell_type": "code",
   "execution_count": null,
   "metadata": {},
   "outputs": [],
   "source": [
    "import os\n",
    "import sqlite3 as sql\n",
    "import datetime\n",
    "import pandas as pd\n",
    "import numpy as np\n",
    "from matplotlib import pyplot as plt\n",
    "from pytz import all_timezones\n",
    "\n",
    "plt.style.use('fivethirtyeight')\n",
    "#%matplotlib inline"
   ]
  },
  {
   "cell_type": "code",
   "execution_count": null,
   "metadata": {},
   "outputs": [],
   "source": [
    "with sql.connect('../data/eng_tweets.db') as conn:\n",
    "    eng_tweets = pd.read_sql_query('select * from eng_tweets', conn)\n",
    "eng_tweets.head()"
   ]
  },
  {
   "cell_type": "code",
   "execution_count": null,
   "metadata": {},
   "outputs": [],
   "source": [
    "eng_tweets['publish_date'] = pd.to_datetime(eng_tweets['publish_date'])"
   ]
  },
  {
   "cell_type": "code",
   "execution_count": null,
   "metadata": {},
   "outputs": [],
   "source": [
    "time_series = eng_tweets.groupby(eng_tweets.publish_date.dt.date)['author'].agg('count')\n",
    "right_trolls = eng_tweets[eng_tweets.account_category=='RightTroll']\n",
    "right_ts = right_trolls.groupby(right_trolls.publish_date.dt.date)['author'].agg('count')\n",
    "left_trolls = eng_tweets[eng_tweets.account_category=='LeftTroll']\n",
    "left_ts = left_trolls.groupby(left_trolls.publish_date.dt.date)['author'].agg('count')\n",
    "fake_news = eng_tweets[eng_tweets.account_category=='Newsfeed']\n",
    "news_ts = fake_news.groupby(fake_news.publish_date.dt.date)['author'].agg('count')"
   ]
  },
  {
   "cell_type": "code",
   "execution_count": null,
   "metadata": {},
   "outputs": [],
   "source": [
    "fig, ax = plt.subplots(figsize=(15,9))\n",
    "ax.xaxis.set_tick_params(labelsize=16)\n",
    "ax.yaxis.set_tick_params(labelsize=16)\n",
    "\n",
    "ax.plot(time_series.index, time_series.values, label='All')\n",
    "ax.plot(right_ts.index, right_ts.values,'--', label='Right Troll')\n",
    "ax.plot(left_ts.index, left_ts.values,'-.', label='Left Troll')\n",
    "ax.plot(news_ts.index, news_ts.values, label='Newsfeed')\n",
    "\n",
    "ax.set_xlabel('Date', fontsize=18)\n",
    "ax.set_ylabel('Number of tweets per day', fontsize=18)\n",
    "ax.set_xlim(datetime.date(2014, 4, 1), datetime.date(2018, 4, 1))\n",
    "ax.legend()"
   ]
  }
 ],
 "metadata": {
  "kernelspec": {
   "display_name": "Python 3",
   "language": "python",
   "name": "python3"
  },
  "language_info": {
   "codemirror_mode": {
    "name": "ipython",
    "version": 3
   },
   "file_extension": ".py",
   "mimetype": "text/x-python",
   "name": "python",
   "nbconvert_exporter": "python",
   "pygments_lexer": "ipython3",
   "version": "3.6.8"
  }
 },
 "nbformat": 4,
 "nbformat_minor": 2
}
